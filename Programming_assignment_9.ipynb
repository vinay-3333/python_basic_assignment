{
  "nbformat": 4,
  "nbformat_minor": 0,
  "metadata": {
    "colab": {
      "provenance": []
    },
    "kernelspec": {
      "name": "python3",
      "display_name": "Python 3"
    },
    "language_info": {
      "name": "python"
    }
  },
  "cells": [
    {
      "cell_type": "markdown",
      "source": [
        "1. Write a Python program to check if the given number is a Disarium Number?\n",
        "answer:-\n",
        "\n",
        "import math\n",
        "\n",
        "def check(n) :\n",
        "\n",
        "\tcount_digits = len(str(n))\n",
        "\n",
        "\tsum = 0 # Initialize sum of terms\n",
        "\tx = n\n",
        "\twhile (x!=0) :\n",
        "\n",
        "\n",
        "\t\tr = x % 10\n",
        "\n",
        "\n",
        "\t\tsum = (int) (sum + math.pow(r, count_digits))\n",
        "\t\tcount_digits = count_digits - 1\n",
        "\t\tx = x//10\n",
        "\n",
        "\n",
        "\tif sum == n :\n",
        "\t\treturn 1\n",
        "\telse :\n",
        "\t\treturn 0\n",
        "\n",
        "\n",
        "n = 135\n",
        "if (check(n) == 1) :\n",
        "\tprint (\"Disarium Number\")\n",
        "else :\n",
        "\tprint (\"Not a Disarium Number\")\n",
        "\n",
        "\n"
      ],
      "metadata": {
        "id": "F6006q66hH2G"
      }
    },
    {
      "cell_type": "code",
      "source": [],
      "metadata": {
        "id": "wk8_C217kwdn"
      },
      "execution_count": 27,
      "outputs": []
    },
    {
      "cell_type": "markdown",
      "source": [
        "2. Write a Python program to print all disarium numbers between 1 to 100?\n",
        "answer:-\n",
        "def calculateLength(n):    \n",
        "    length = 0;    \n",
        "    while(n != 0):    \n",
        "        length = length + 1;    \n",
        "        n = n//10;    \n",
        "    return length;    \n",
        "     \n",
        "#sumOfDigits() will calculates the sum of digits powered with their respective position    \n",
        "def sumOfDigits(num):    \n",
        "    rem = sum = 0;    \n",
        "    len = calculateLength(num);    \n",
        "        \n",
        "    while(num > 0):    \n",
        "        rem = num%10;    \n",
        "        sum = sum + (rem**len);    \n",
        "        num = num//10;    \n",
        "        len = len - 1;    \n",
        "    return sum;    \n",
        "      \n",
        "result = 0;    \n",
        "     \n",
        "#Displays all disarium numbers between 1 and 100    \n",
        "print(\"Disarium numbers between 1 and 100 are\");    \n",
        "for i in range(1, 101):    \n",
        "    result = sumOfDigits(i);    \n",
        "        \n",
        "    if(result == i):    \n",
        "        print(i),  "
      ],
      "metadata": {
        "id": "bTxdYug_rnuL"
      }
    },
    {
      "cell_type": "code",
      "source": [],
      "metadata": {
        "id": "UDkTLGKYkxJP"
      },
      "execution_count": 27,
      "outputs": []
    },
    {
      "cell_type": "markdown",
      "source": [
        "3. Write a Python program to check if the given number is Happy Number?\n",
        "answer:-\n",
        "def is_Happy_num(n):\n",
        "  past = set()\n",
        "  while n != 1:\n",
        "        n = sum(int(i)**2 for i in str(n))\n",
        "        if n in past:\n",
        "            return False\n",
        "        past.add(n)\n",
        "  return True\n",
        "print(is_Happy_num(7))\n",
        "print(is_Happy_num(932))\n",
        "print(is_Happy_num(6))"
      ],
      "metadata": {
        "id": "klHBr4_Ish2s"
      }
    },
    {
      "cell_type": "code",
      "source": [],
      "metadata": {
        "id": "5Aw-kcNroQVj"
      },
      "execution_count": null,
      "outputs": []
    },
    {
      "cell_type": "markdown",
      "source": [
        "4. Write a Python program to print all happy numbers between 1 and 100?\n",
        "answer:-\n",
        "def isHappyNumber(num):    \n",
        "    rem = sum = 0;    \n",
        "        \n",
        "    #Calculates the sum of squares of digits    \n",
        "    while(num > 0):    \n",
        "        rem = num%10;    \n",
        "        sum = sum + (rem*rem);    \n",
        "        num = num//10;    \n",
        "    return sum;    \n",
        "            \n",
        "#Displays all happy numbers between 1 and 100    \n",
        "print(\"List of happy numbers between 1 and 100: \");    \n",
        "for i in range(1, 101):    \n",
        "    result = i;    \n",
        "        \n",
        "    #Happy number always ends with 1 and     \n",
        "    #unhappy number ends in a cycle of repeating numbers which contains 4    \n",
        "    while(result != 1 and result != 4):    \n",
        "        result = isHappyNumber(result);    \n",
        "        \n",
        "    if(result == 1):    \n",
        "        print(i),    \n",
        "        print(\" \"),    "
      ],
      "metadata": {
        "id": "Tp2HylOkszSN"
      }
    },
    {
      "cell_type": "code",
      "source": [],
      "metadata": {
        "id": "l46yOnQ3s8J7"
      },
      "execution_count": null,
      "outputs": []
    },
    {
      "cell_type": "markdown",
      "source": [
        "5. Write a Python program to determine whether the given number is a Harshad Number?\n",
        "answer:-\n",
        "\n",
        "\n",
        "num = 156;    \n",
        "rem = sum = 0;    \n",
        "     \n",
        "#Make a copy of num and store it in variable n    \n",
        "n = num;    \n",
        "     \n",
        "#Calculates sum of digits    \n",
        "while(num > 0):    \n",
        "    rem = num%10;    \n",
        "    sum = sum + rem;    \n",
        "    num = num//10;    \n",
        "     \n",
        "#Checks whether the number is divisible by the sum of digits    \n",
        "if(n%sum == 0):    \n",
        "    print(str(n) + \" is a harshad number\");    \n",
        "else:    \n",
        "    print(str(n) + \" is not a harshad number\");   "
      ],
      "metadata": {
        "id": "GmdzZ-Grs83b"
      }
    },
    {
      "cell_type": "code",
      "source": [],
      "metadata": {
        "id": "BaQXztWrtKM7"
      },
      "execution_count": null,
      "outputs": []
    },
    {
      "cell_type": "markdown",
      "source": [
        "6. Write a Python program to print all pronic numbers between 1 and 100?\n",
        "\n",
        "\n",
        "def isPronicNumber(num):    \n",
        "    flag = False;    \n",
        "        \n",
        "    for j in range(1, num+1):    \n",
        "        #Checks for pronic number by multiplying consecutive numbers    \n",
        "        if((j*(j+1)) == num):    \n",
        "            flag = True;    \n",
        "            break;    \n",
        "    return flag;    \n",
        "     \n",
        "#Displays pronic numbers between 1 and 100    \n",
        "print(\"Pronic numbers between 1 and 100: \");    \n",
        "for i in range(1, 101):    \n",
        "    if(isPronicNumber(i)):    \n",
        "        print(i),    \n",
        "        print(\" \"),    "
      ],
      "metadata": {
        "id": "QzXh_jXjtVZb"
      }
    },
    {
      "cell_type": "code",
      "source": [],
      "metadata": {
        "id": "Zk41eigrtZ0r"
      },
      "execution_count": null,
      "outputs": []
    }
  ]
}