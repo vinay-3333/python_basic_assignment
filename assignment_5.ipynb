{
  "nbformat": 4,
  "nbformat_minor": 0,
  "metadata": {
    "colab": {
      "provenance": []
    },
    "kernelspec": {
      "name": "python3",
      "display_name": "Python 3"
    },
    "language_info": {
      "name": "python"
    }
  },
  "cells": [
    {
      "cell_type": "code",
      "execution_count": null,
      "metadata": {
        "id": "RuBUiZBznVzP"
      },
      "outputs": [],
      "source": []
    },
    {
      "cell_type": "markdown",
      "source": [
        "1. What does an empty dictionarys code look like?\n",
        "answer:- Dict = {\"name\":\"vinay\",\"age\":23,\"phone\":8529767819}\n",
        "dictionary is a combination of key and value pair ,each key is unique in every dictionary value may be same value is list,int,float,tuple etc;\n"
      ],
      "metadata": {
        "id": "VtFuxemknqgj"
      }
    },
    {
      "cell_type": "code",
      "source": [],
      "metadata": {
        "colab": {
          "base_uri": "https://localhost:8080/"
        },
        "id": "dVe603aIo0kP",
        "outputId": "b39918c5-9753-40a0-ecd9-824ba8e35608"
      },
      "execution_count": 3,
      "outputs": [
        {
          "output_type": "execute_result",
          "data": {
            "text/plain": [
              "42"
            ]
          },
          "metadata": {},
          "execution_count": 3
        }
      ]
    },
    {
      "cell_type": "markdown",
      "source": [
        "2. What is the value of a dictionary value with the key &foo and the value 42?\n",
        "answer:- dict={\"foo\":42}\n",
        "value = dict['foo']\n",
        "value"
      ],
      "metadata": {
        "id": "nDO79ZgXo20T"
      }
    },
    {
      "cell_type": "code",
      "source": [],
      "metadata": {
        "id": "0iV-mu1yp5kR"
      },
      "execution_count": null,
      "outputs": []
    },
    {
      "cell_type": "markdown",
      "source": [
        "3. What is the most significant distinction between a dictionary and a list?\n",
        "answer:-\n",
        "dictionary is unordered collection of key-value pair.list is ordered collection elements\n",
        "dictionary is combination of key and value pair in dict key is uniqure but value may be same ,list contain same or different datatype its value same or different\n",
        "access in element or value in dictionary we use key,access in element or value in list we use index,index start  with 0\n"
      ],
      "metadata": {
        "id": "uFGh7Ledp78H"
      }
    },
    {
      "cell_type": "code",
      "source": [],
      "metadata": {
        "id": "1Ueknmj6rXd4"
      },
      "execution_count": null,
      "outputs": []
    },
    {
      "cell_type": "markdown",
      "source": [
        "4. What happens if you try to access spam['foo'] if spam is {'bar': 100}?\n",
        "answer:- if you can access 'foo' key then python interpreter get the keyerror because spam only contain 'bar' key with 100 value 'foo' key is not avaiable in spam"
      ],
      "metadata": {
        "id": "ZsiguK91rg-A"
      }
    },
    {
      "cell_type": "code",
      "source": [],
      "metadata": {
        "id": "mae_YWtSsSbS"
      },
      "execution_count": null,
      "outputs": []
    },
    {
      "cell_type": "markdown",
      "source": [
        "5. If a dictionary is stored in spam, what is the difference between the expressions 'cat' in spam and\n",
        "'cat' in spam.keys()?\n",
        "answer:-\n",
        "The expressions 'cat' in spam and 'cat' in spam.keys() both check if the key cat exists in the dictionary spam. However, they do so in slightly different ways.\n",
        "\n",
        "The expression 'cat' in spam uses the in operator, which checks if the value cat is present in the dictionary spam. This includes checking if cat is a key in the dictionary, as well as checking if cat is a value in the dictionary.\n"
      ],
      "metadata": {
        "id": "PFDU8ARvsV61"
      }
    },
    {
      "cell_type": "code",
      "source": [],
      "metadata": {
        "id": "Yz3qtU7ftkZL"
      },
      "execution_count": null,
      "outputs": []
    },
    {
      "cell_type": "markdown",
      "source": [
        "6. If a dictionary is stored in spam, what is the difference between the expressions 'cat' in spam and\n",
        "'cat' in spam.values()?\n",
        "answer:-\n",
        "The expressions 'cat' in spam and 'cat' in spam.values() both check if the value cat exists in the dictionary spam. However, they do so in slightly different ways.\n",
        "\n",
        "The expression 'cat' in spam uses the in operator, which checks if the value cat is present in the dictionary spam. This includes checking if cat is a key in the dictionary, as well as checking if cat is a value in the dictionary."
      ],
      "metadata": {
        "id": "_79xmJEptk6N"
      }
    },
    {
      "cell_type": "code",
      "source": [],
      "metadata": {
        "id": "gkB0_mnwuaGw"
      },
      "execution_count": null,
      "outputs": []
    },
    {
      "cell_type": "markdown",
      "source": [
        "7. What is a shortcut for the following code?\n",
        "if 'color' not in spam:\n",
        "spam['color'] = 'black'\n",
        "anser:-spam.setdefault(\"key\":\"value\")\n",
        "this is shortcut\n",
        "if spam dictionary contain color then it return value with those are associated with key\n",
        "if spam dictionary does not contain color then it insert key and default value then return the value those are associated with key"
      ],
      "metadata": {
        "id": "gLcjmqFtua3w"
      }
    },
    {
      "cell_type": "code",
      "source": [],
      "metadata": {
        "id": "OeuuZhG6wOMy"
      },
      "execution_count": null,
      "outputs": []
    },
    {
      "cell_type": "markdown",
      "source": [
        "8. How do you 'pretty print' dictionary values using which module and function?\n",
        "answer:- we use pprint module then we use pprint() method use\n",
        "import pprint   ----module\n",
        "pprint() ----method"
      ],
      "metadata": {
        "id": "OaiI6B29wQux"
      }
    },
    {
      "cell_type": "code",
      "source": [],
      "metadata": {
        "id": "phIerWQ-xeoi"
      },
      "execution_count": null,
      "outputs": []
    }
  ]
}