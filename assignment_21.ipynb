{
  "nbformat": 4,
  "nbformat_minor": 0,
  "metadata": {
    "colab": {
      "provenance": []
    },
    "kernelspec": {
      "name": "python3",
      "display_name": "Python 3"
    },
    "language_info": {
      "name": "python"
    }
  },
  "cells": [
    {
      "cell_type": "code",
      "execution_count": null,
      "metadata": {
        "id": "lfNZ7y_IWA9C"
      },
      "outputs": [],
      "source": []
    },
    {
      "cell_type": "markdown",
      "source": [
        "1. Add the current date to the text file today.txt as a string.\n",
        "answer:-\n",
        "import datetime\n",
        "\n",
        "today = datetime.date.today()\n",
        "with open(\"today.txt\",\"a\") as f:\n",
        "  f.write(str(today))"
      ],
      "metadata": {
        "id": "4VP3LKPPWc5Q"
      }
    },
    {
      "cell_type": "code",
      "source": [],
      "metadata": {
        "id": "CHSvCITPW3dz"
      },
      "execution_count": null,
      "outputs": []
    },
    {
      "cell_type": "markdown",
      "source": [
        "2. Read the text file today.txt into the string today_string\n",
        "answer:-\n",
        "with open(\"today.txt\", \"r\") as f:\n",
        "  today_string = f.read()"
      ],
      "metadata": {
        "id": "Ze11y9iuW32I"
      }
    },
    {
      "cell_type": "code",
      "source": [],
      "metadata": {
        "id": "LdYL18evXEOy"
      },
      "execution_count": null,
      "outputs": []
    },
    {
      "cell_type": "markdown",
      "source": [
        "3. Parse the date from today_string.\n",
        "answer:-\n",
        "import datetime\n",
        "\n",
        "# Parse the date from today_string\n",
        "today_date = datetime.datetime.strptime(today_string, \"%Y-%m-%d\")\n",
        "\n",
        "# Print the parsed date\n",
        "print(today_date)"
      ],
      "metadata": {
        "id": "ugDKItXhXEzG"
      }
    },
    {
      "cell_type": "code",
      "source": [],
      "metadata": {
        "id": "mvCFWRCcXYq5"
      },
      "execution_count": null,
      "outputs": []
    },
    {
      "cell_type": "markdown",
      "source": [
        "4. List the files in your current directory\n",
        "answer|:-\n",
        "import os\n",
        "\n",
        "# Get the current directory\n",
        "current_directory = os.getcwd()\n",
        "\n",
        "# List the files in the current directory\n",
        "files = os.listdir(current_directory)\n",
        "\n",
        "# Print the files\n",
        "for file in files:\n",
        "  print(file)"
      ],
      "metadata": {
        "id": "xuoENvdzXbiH"
      }
    },
    {
      "cell_type": "code",
      "source": [],
      "metadata": {
        "id": "DDDF9riIXtJx"
      },
      "execution_count": null,
      "outputs": []
    },
    {
      "cell_type": "markdown",
      "source": [
        "5. Create a list of all of the files in your parent directory (minimum five files should be available).\n",
        "answer:-\n",
        "import os\n",
        "file_dir = os.path.dirname(os.getswd())\n",
        "file = os.listdir(file_dir)\n",
        "for i in file:\n",
        "  print(i)|"
      ],
      "metadata": {
        "id": "hNZaUxpBXvm6"
      }
    },
    {
      "cell_type": "code",
      "source": [],
      "metadata": {
        "id": "aV3_9GLCYVSg"
      },
      "execution_count": null,
      "outputs": []
    },
    {
      "cell_type": "markdown",
      "source": [
        "6. Use multiprocessing to create three separate processes. Make each one wait a random number of\n",
        "seconds between one and five, print the current time, and then exit.\n",
        "answer:-\n",
        "import multiprocessing\n",
        "import time\n",
        "import random\n",
        "\n",
        "def process_function():\n",
        "  \"\"\"Wait a random number of seconds between one and five, print the current time, and then exit.\"\"\"\n",
        "\n",
        "  # Wait a random number of seconds between one and five\n",
        "  time.sleep(random.randint(1, 5))\n",
        "\n",
        "  # Print the current time\n",
        "  print(time.strftime(\"%Y-%m-%d %H:%M:%S\"))\n",
        "\n",
        "if __name__ == '__main__':\n",
        "  # Create a pool of three processes\n",
        "  pool = multiprocessing.Pool(3)\n",
        "\n",
        "  # Submit the process function to the pool\n",
        "  pool.apply_async(process_function)\n",
        "  pool.apply_async(process_function)\n",
        "  pool.apply_async(process_function)\n",
        "\n",
        "  # Close the pool\n",
        "  pool.close()\n",
        "\n",
        "  # Wait for all of the processes to finish\n",
        "  pool.join()"
      ],
      "metadata": {
        "id": "XXRHgJf_YXHk"
      }
    },
    {
      "cell_type": "code",
      "source": [],
      "metadata": {
        "id": "CNWwJXttYwJa"
      },
      "execution_count": null,
      "outputs": []
    },
    {
      "cell_type": "markdown",
      "source": [
        "7. Create a date object of your day of birth.\n",
        "answer:-\n",
        "import datetime\n",
        "\n",
        "my_birth_date = datetime.date(1983, 9, 16)"
      ],
      "metadata": {
        "id": "fPfXz00NYyhp"
      }
    },
    {
      "cell_type": "code",
      "source": [],
      "metadata": {
        "id": "EIOcaIEEZFJq"
      },
      "execution_count": null,
      "outputs": []
    },
    {
      "cell_type": "markdown",
      "source": [
        "8. What day of the week was your day of birth?\n",
        "answer:-\n",
        "import datetime\n",
        "\n",
        "my_birth_date = datetime.date(1983, 9, 16)\n",
        "\n",
        "day_of_week = my_birth_date.weekday()\n",
        "\n",
        "# Convert the day number to a string\n",
        "if day_of_week == 0:\n",
        "  day_of_week_string = \"Monday\"\n",
        "elif day_of_week == 1:\n",
        "  day_of_week_string = \"Tuesday\"\n",
        "elif day_of_week == 2:\n",
        "  day_of_week_string = \"Wednesday\"\n",
        "elif day_of_week == 3:\n",
        "  day_of_week_string = \"Thursday\"\n",
        "elif day_of_week == 4:\n",
        "  day_of_week_string = \"Friday\"\n",
        "elif day_of_week == 5:\n",
        "  day_of_week_string = \"Saturday\"\n",
        "else:\n",
        "  day_of_week_string = \"Sunday\"\n",
        "\n",
        "# Print the day of the week\n",
        "print(day_of_week_string)"
      ],
      "metadata": {
        "id": "B5ylRwn0ZHob"
      }
    },
    {
      "cell_type": "code",
      "source": [],
      "metadata": {
        "id": "mnlqHXs0ZXoC"
      },
      "execution_count": null,
      "outputs": []
    },
    {
      "cell_type": "markdown",
      "source": [
        "9. When will you be (or when were you) 10,000 days old?\n",
        "answer:-\n",
        "import datetime\n",
        "\n",
        "my_birth_date = datetime.date(2023, 3, 8)\n",
        "ten_thousand_days = datetime.timedelta(days=10000)\n",
        "\n",
        "ten_thousand_days_old_date = my_birth_date + ten_thousand_days\n",
        "\n",
        "# Print the date when I will be 10,000 days old\n",
        "print(ten_thousand_days_old_date)\n"
      ],
      "metadata": {
        "id": "V1FpDERJZcT3"
      }
    },
    {
      "cell_type": "code",
      "source": [],
      "metadata": {
        "id": "i3o61wIaZnYz"
      },
      "execution_count": null,
      "outputs": []
    }
  ]
}