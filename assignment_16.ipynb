{
  "nbformat": 4,
  "nbformat_minor": 0,
  "metadata": {
    "colab": {
      "provenance": []
    },
    "kernelspec": {
      "name": "python3",
      "display_name": "Python 3"
    },
    "language_info": {
      "name": "python"
    }
  },
  "cells": [
    {
      "cell_type": "code",
      "execution_count": null,
      "metadata": {
        "id": "6mu-O3TE8rhG"
      },
      "outputs": [],
      "source": []
    },
    {
      "cell_type": "markdown",
      "source": [
        "\n",
        "1. Create a list called years_list, starting with the year of your birth, and each year thereafter until\n",
        "the year of your fifth birthday. For example, if you were born in 1980. the list would be years_list =\n",
        "[1980, 1981, 1982, 1983, 1984, 1985].\n",
        "answer:-\n",
        "year_of_birth = 1980\n",
        "year_list  = [year_of_birth+i for i in range(5)]\n",
        "print(year_list)"
      ],
      "metadata": {
        "id": "jrtqxnKH9BfG"
      }
    },
    {
      "cell_type": "markdown",
      "source": [
        "2. In which year in years_list was your third birthday? Remember, you were 0 years of age for your\n",
        "first year.\n",
        "answer:-\n",
        "print(year_list[2])"
      ],
      "metadata": {
        "id": "gxZFrdhh98KW"
      }
    },
    {
      "cell_type": "code",
      "source": [],
      "metadata": {
        "id": "RcsZ8nAh98ed"
      },
      "execution_count": 1,
      "outputs": []
    },
    {
      "cell_type": "markdown",
      "source": [
        "3.In the years list, which year were you the oldest?\n",
        "answer:-\n",
        "print(year_list[4])"
      ],
      "metadata": {
        "id": "UnE8fG9L-V4v"
      }
    },
    {
      "cell_type": "code",
      "source": [],
      "metadata": {
        "id": "ANwUkZbm-oG2"
      },
      "execution_count": null,
      "outputs": []
    },
    {
      "cell_type": "markdown",
      "source": [
        "4. Make a list called things with these three strings as elements: 'mozzarella', 'cinderella',\n",
        "'salmonella'.\n",
        "answer:-\n",
        "\n",
        "Python\n",
        "things = [\"mozzarella\", \"cinderella\", \"salmonella\"]"
      ],
      "metadata": {
        "id": "2KeJBSkk-oqI"
      }
    },
    {
      "cell_type": "code",
      "source": [],
      "metadata": {
        "id": "l0Ftdtwz--3X"
      },
      "execution_count": null,
      "outputs": []
    },
    {
      "cell_type": "markdown",
      "source": [
        "5. Capitalize the element in things that refers to a person and then print the list. Did it change the\n",
        "element in the list?\n",
        "answer:-\n",
        "thinks[1].capitalize()"
      ],
      "metadata": {
        "id": "Zq_yYf4F-_Qm"
      }
    },
    {
      "cell_type": "code",
      "source": [],
      "metadata": {
        "id": "XqotrtV2_XKP"
      },
      "execution_count": null,
      "outputs": []
    },
    {
      "cell_type": "markdown",
      "source": [
        "6. Make a surprise list with the elements 'Groucho,' 'Chico,' and 'Harpo.'\n",
        "answer:-\n",
        "surprise =['Groucho,' 'Chico,','Harpo.']"
      ],
      "metadata": {
        "id": "r8xaO7C6_ZTl"
      }
    },
    {
      "cell_type": "code",
      "source": [],
      "metadata": {
        "id": "Paa2OvM7_9GW"
      },
      "execution_count": null,
      "outputs": []
    },
    {
      "cell_type": "markdown",
      "source": [
        "7. Lowercase the last element of the surprise list, reverse it, and then capitalize it.\n",
        "answer:-\n",
        "surprise =['Groucho', 'Chico,','Harpo.']\n",
        "surprise[2] = surprise[2].lower()\n",
        "surprise.reverse()\n",
        "surprise = [i.capitalize() for i in surprise]"
      ],
      "metadata": {
        "id": "hnMWq7ce__FQ"
      }
    },
    {
      "cell_type": "markdown",
      "source": [
        "8. Make an English-to-French dictionary called e2f and print it. Here are your starter words: dog is\n",
        "chien, cat is chat, and walrus is morse.\n",
        "answer:-\n",
        "e2f = {\n",
        "    \"dog\": \"chien\",\n",
        "    \"cat\": \"chat\",\n",
        "    \"walrus\": \"morse\"\n",
        "}\n",
        "\n",
        "# Print the dictionary\n",
        "print(e2f)"
      ],
      "metadata": {
        "id": "Z2GfJJrpADKv"
      }
    },
    {
      "cell_type": "code",
      "source": [],
      "metadata": {
        "id": "kKn-bcslAJ8_"
      },
      "execution_count": 26,
      "outputs": []
    },
    {
      "cell_type": "markdown",
      "source": [
        "9. Write the French word for walrus in your three-word dictionary e2f.\n",
        "answer:-\n",
        "print(e2f[\"walrus\"])"
      ],
      "metadata": {
        "id": "ub2y91AhEdzb"
      }
    },
    {
      "cell_type": "code",
      "source": [],
      "metadata": {
        "id": "CJcI_Wl0AM0J"
      },
      "execution_count": null,
      "outputs": []
    },
    {
      "cell_type": "markdown",
      "source": [
        "10. Make a French-to-English dictionary called f2e from e2f. Use the items method.\n",
        "answer:-\n",
        "e2f = {\n",
        "    \"dog\": \"chien\",\n",
        "    \"cat\": \"chat\",\n",
        "    \"walrus\": \"morse\"\n",
        "}\n",
        "f2e = {}\n",
        "\n",
        "for key,value in e2f.items():\n",
        "  f2e[value]=key\n",
        "print(f2e)\n"
      ],
      "metadata": {
        "id": "CY21jBLQEwhW"
      }
    },
    {
      "cell_type": "code",
      "source": [],
      "metadata": {
        "id": "U3MIFxI8FTDY"
      },
      "execution_count": 28,
      "outputs": []
    },
    {
      "cell_type": "code",
      "source": [],
      "metadata": {
        "id": "FPnQ5edXFWAJ"
      },
      "execution_count": 28,
      "outputs": []
    },
    {
      "cell_type": "markdown",
      "source": [
        "11. Print the English version of the French word chien using f2e.\n",
        "answer:-\n",
        "f2e = {\n",
        "    \"chien\": \"dog\",\n",
        "    \"chat\": \"cat\",\n",
        "    \"morse\": \"walrus\"\n",
        "}\n",
        "\n",
        "# Get the English translation of the French word \"chien\"\n",
        "english_translation = f2e[\"chien\"]\n",
        "\n",
        "# Print the English translation\n",
        "print(english_translation)"
      ],
      "metadata": {
        "id": "ZMssm-dkFhxh"
      }
    },
    {
      "cell_type": "code",
      "source": [],
      "metadata": {
        "id": "abxRRL8wFYMB"
      },
      "execution_count": null,
      "outputs": []
    },
    {
      "cell_type": "markdown",
      "source": [
        "12. Make and print a set of English words from the keys in e2f.\n",
        "answer:-\n",
        "e2f = {\n",
        "    \"dog\": \"chien\",\n",
        "    \"cat\": \"chat\",\n",
        "    \"walrus\": \"morse\"\n",
        "}\n",
        "\n",
        "english_word = set(e2f.key())\n",
        "print(english_word)"
      ],
      "metadata": {
        "id": "N2aSadiCF13g"
      }
    },
    {
      "cell_type": "code",
      "source": [],
      "metadata": {
        "id": "cyqbYjvbGR9q"
      },
      "execution_count": null,
      "outputs": []
    },
    {
      "cell_type": "markdown",
      "source": [
        "13. Make a multilevel dictionary called life. Use these strings for the topmost keys: &#39;animals&#39;, &#39;plants&#39;,\n",
        "and &#39;other&#39;. Make the &#39;animals&#39; key refer to another dictionary with the keys &#39;cats&#39;, &#39;octopi&#39;, and\n",
        "&#39;emus&#39;. Make the &#39;cats&#39; key refer to a list of strings with the values &#39;Henri&#39;, &#39;Grumpy&#39;, and &#39;Lucy&#39;.\n",
        "Make all the other keys refer to empty dictionaries.\n",
        "answer:-\n",
        "life = {\n",
        "    \"animals\": {\n",
        "        \"cats\": [\"Henri\", \"Grumpy\", \"Lucy\"],\n",
        "        \"octopi\": [],\n",
        "        \"emus\": []\n",
        "    },\n",
        "    \"plants\": {},\n",
        "    \"other\": {}\n",
        "}\n",
        "\n",
        "# Print the life dictionary\n",
        "print(life)"
      ],
      "metadata": {
        "id": "f4i6ff7aGUti"
      }
    },
    {
      "cell_type": "code",
      "source": [],
      "metadata": {
        "id": "hhQ3laIDGnKH"
      },
      "execution_count": null,
      "outputs": []
    },
    {
      "cell_type": "markdown",
      "source": [
        "14. Print the top-level keys of life.\n",
        "answer:-\n",
        "life = {\n",
        "    \"animals\": {\n",
        "        \"cats\": [\"Henri\", \"Grumpy\", \"Lucy\"],\n",
        "        \"octopi\": [],\n",
        "        \"emus\": []\n",
        "    },\n",
        "    \"plants\": {},\n",
        "    \"other\": {}\n",
        "}\n",
        "\n",
        "# Print the top-level keys of life\n",
        "print(life.keys())"
      ],
      "metadata": {
        "id": "4KLTN0f1GpF3"
      }
    },
    {
      "cell_type": "code",
      "source": [],
      "metadata": {
        "id": "iYT0Z-7BGzIo"
      },
      "execution_count": null,
      "outputs": []
    },
    {
      "cell_type": "markdown",
      "source": [
        "15. Print the keys for life[&#39;animals&#39;].\n",
        "answer:-\n",
        "life = {\n",
        "    \"animals\": {\n",
        "        \"cats\": [\"Henri\", \"Grumpy\", \"Lucy\"],\n",
        "        \"octopi\": [],\n",
        "        \"emus\": []\n",
        "    },\n",
        "    \"plants\": {},\n",
        "    \"other\": {}\n",
        "}\n",
        "\n",
        "# Print the keys for life['animals']\n",
        "print(life['animals'].keys())"
      ],
      "metadata": {
        "id": "u4M9XH4CG1t2"
      }
    },
    {
      "cell_type": "code",
      "source": [],
      "metadata": {
        "id": "Rlz5sZkJG9zW"
      },
      "execution_count": null,
      "outputs": []
    },
    {
      "cell_type": "markdown",
      "source": [
        "16. Print the values for life[&#39;animals&#39;][&#39;cats&#39;]\n",
        "answer:-\n",
        "life = {\n",
        "    \"animals\": {\n",
        "        \"cats\": [\"Henri\", \"Grumpy\", \"Lucy\"],\n",
        "        \"octopi\": [],\n",
        "        \"emus\": []\n",
        "    },\n",
        "    \"plants\": {},\n",
        "    \"other\": {}\n",
        "}\n",
        "\n",
        "# Print the values for life['animals']['cats']\n",
        "print(life['animals']['cats'])"
      ],
      "metadata": {
        "id": "7O9jcMZSHBcn"
      }
    },
    {
      "cell_type": "code",
      "source": [],
      "metadata": {
        "id": "XWKepLqVHJwP"
      },
      "execution_count": null,
      "outputs": []
    }
  ]
}