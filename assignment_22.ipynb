{
  "nbformat": 4,
  "nbformat_minor": 0,
  "metadata": {
    "colab": {
      "provenance": []
    },
    "kernelspec": {
      "name": "python3",
      "display_name": "Python 3"
    },
    "language_info": {
      "name": "python"
    }
  },
  "cells": [
    {
      "cell_type": "code",
      "execution_count": 2,
      "metadata": {
        "colab": {
          "base_uri": "https://localhost:8080/"
        },
        "id": "vHXXDTEFYAJZ",
        "outputId": "3f2454ab-ac2d-41a8-d530-27f572188446"
      },
      "outputs": [
        {
          "output_type": "stream",
          "name": "stdout",
          "text": [
            "iNeuron\n"
          ]
        }
      ],
      "source": [
        "X = 'iNeuron'\n",
        "def func():\n",
        "  print(X)\n",
        "\n",
        "func()"
      ]
    },
    {
      "cell_type": "markdown",
      "source": [
        "1. What is the result of the code, and explain?\n",
        "\n",
        "X = 'iNeuron'\n",
        "def func():\n",
        "  print(X)\n",
        "\n",
        "func()\n",
        "answer:-\n",
        "func() is defined and out side function variable x is also defined when we called func() those variable x value pass into fuction then print"
      ],
      "metadata": {
        "id": "b3_sS2OaYD-f"
      }
    },
    {
      "cell_type": "code",
      "source": [
        "X = 'iNeuron'\n",
        "def func():\n",
        "  X = 'NI!'\n",
        "\n",
        "func()\n",
        "print(X)"
      ],
      "metadata": {
        "colab": {
          "base_uri": "https://localhost:8080/"
        },
        "id": "cdlomtybY5OI",
        "outputId": "6814305a-61d6-4ab8-9975-80067d23cec6"
      },
      "execution_count": 3,
      "outputs": [
        {
          "output_type": "stream",
          "name": "stdout",
          "text": [
            "iNeuron\n"
          ]
        }
      ]
    },
    {
      "cell_type": "markdown",
      "source": [
        "2. What is the result of the code, and explain?\n",
        "\n",
        "X = 'iNeuron'\n",
        "def func():\n",
        "  X = 'NI!'\n",
        "\n",
        "func()\n",
        "print(X)\n",
        "answer:-\n",
        "in variable x we assign value out side the we defind func() function then inside the func we change the value of variable x then out side the function we are print value of x get ineuron"
      ],
      "metadata": {
        "id": "-HiPeR1hY7RP"
      }
    },
    {
      "cell_type": "code",
      "source": [],
      "metadata": {
        "id": "ygVJ9zQ4ZkEx"
      },
      "execution_count": null,
      "outputs": []
    },
    {
      "cell_type": "markdown",
      "source": [
        "3. What does this code print, and why?\n",
        "\n",
        "X = 'iNeuron'\n",
        "def func():\n",
        "  X = 'NI'\n",
        "  print(X)\n",
        "\n",
        "func()\n",
        "print(X)\n",
        "answer:-\n",
        "inside function print ni\n",
        "outside print ineuron"
      ],
      "metadata": {
        "id": "P8XA5W7oZmsQ"
      }
    },
    {
      "cell_type": "code",
      "source": [],
      "metadata": {
        "id": "-MieKYllaPmY"
      },
      "execution_count": null,
      "outputs": []
    },
    {
      "cell_type": "markdown",
      "source": [
        "4. What output does this code produce? Why?\n",
        "\n",
        "&gt;&gt;&gt; X = &#39;iNeuron&#39;\n",
        "&gt;&gt;&gt; def func():\n",
        "global X\n",
        "X = &#39;NI&#39;\n",
        "\n",
        "&gt;&gt;&gt; func()\n",
        "&gt;&gt;&gt; print(X)\n",
        "answer:-\n",
        "assign value into variable x then we define func() then we change the vlaue of x the print inside the func then we called function then out side the function we are print variable x value"
      ],
      "metadata": {
        "id": "IglnUfyvaQSP"
      }
    },
    {
      "cell_type": "code",
      "source": [],
      "metadata": {
        "id": "p2CiAfE3aiP3"
      },
      "execution_count": null,
      "outputs": []
    },
    {
      "cell_type": "markdown",
      "source": [
        "5. What about this code—what’s the output, and why?\n",
        "\n",
        "X ='iNeuron'\n",
        "def func():\n",
        "  X ='NI'\n",
        "def nested():\n",
        "  print(X)\n",
        "  nested()\n",
        "\n",
        "func()\n",
        "X\n",
        "answer:-\n",
        "The code snippet you provided is in Python. It defines a function called func() which prints the value of the variable X. The variable X is initialized to the string \"iNeuron\" outside of the function.\n",
        "\n",
        "When the function func() is called, it prints the value of the variable X to the console. Since the variable X is defined outside of the function, it is accessible to the function.\n",
        "\n",
        "Therefore, the output of the code snippet is:\n",
        "\n",
        "iNeuron"
      ],
      "metadata": {
        "id": "aGLIIhm3alkX"
      }
    },
    {
      "cell_type": "code",
      "source": [
        "X ='iNeuron'\n",
        "def func():\n",
        "  X ='NI'\n",
        "def nested():\n",
        "  print(X)\n",
        "nested()\n",
        "\n",
        "func()\n",
        "X"
      ],
      "metadata": {
        "colab": {
          "base_uri": "https://localhost:8080/",
          "height": 53
        },
        "id": "hga1ClIBa4Uf",
        "outputId": "499dc4b7-32a6-4285-f36e-cdc1dda95a62"
      },
      "execution_count": 5,
      "outputs": [
        {
          "output_type": "stream",
          "name": "stdout",
          "text": [
            "iNeuron\n"
          ]
        },
        {
          "output_type": "execute_result",
          "data": {
            "text/plain": [
              "'iNeuron'"
            ],
            "application/vnd.google.colaboratory.intrinsic+json": {
              "type": "string"
            }
          },
          "metadata": {},
          "execution_count": 5
        }
      ]
    },
    {
      "cell_type": "markdown",
      "source": [
        "6. How about this code: what is its output in Python 3, and explain?\n",
        "\n",
        "def func():\n",
        "X = 'NI'\n",
        "def nested():\n",
        "nonlocal X\n",
        "X = 'Spam'\n",
        "nested()\n",
        "print(X)\n",
        "\n",
        "func()\n",
        "answer:-\n",
        "\n",
        "The output of the code snippet you provided is:\n",
        "\n",
        "Spam\n",
        "This is because the function nested() uses the nonlocal keyword to modify the value of the variable X that is defined outside of the function nested().\n",
        "\n",
        "The nonlocal keyword tells Python to look for the variable X in the nearest enclosing scope, which is the function func(). Once the variable X is found, the nonlocal keyword allows the function nested() to modify its value.\n",
        "\n",
        "In the code snippet you provided, the function nested() assigns the string \"Spam\" to the variable X. Therefore, when the function func() prints the value of the variable X, it prints the string \"Spam\"."
      ],
      "metadata": {
        "id": "punhwSmAbrgo"
      }
    },
    {
      "cell_type": "code",
      "source": [
        "\n"
      ],
      "metadata": {
        "id": "vth1sRzsa43R"
      },
      "execution_count": 7,
      "outputs": []
    },
    {
      "cell_type": "code",
      "source": [],
      "metadata": {
        "id": "dqVgMgvlb2aw"
      },
      "execution_count": null,
      "outputs": []
    }
  ]
}