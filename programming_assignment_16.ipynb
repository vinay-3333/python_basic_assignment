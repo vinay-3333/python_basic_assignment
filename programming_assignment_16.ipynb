{
  "nbformat": 4,
  "nbformat_minor": 0,
  "metadata": {
    "colab": {
      "provenance": []
    },
    "kernelspec": {
      "name": "python3",
      "display_name": "Python 3"
    },
    "language_info": {
      "name": "python"
    }
  },
  "cells": [
    {
      "cell_type": "code",
      "execution_count": null,
      "metadata": {
        "id": "M5yNnUdarUcx"
      },
      "outputs": [],
      "source": []
    },
    {
      "cell_type": "markdown",
      "source": [
        "Question1. Write a function that stutters a word as if someone is struggling to read it. The\n",
        "first two letters are repeated twice with an ellipsis ... and space after each, and then the\n",
        "word is pronounced with a question mark ?.\n",
        "Examples\n",
        "stutter(&quot;incredible&quot;) ➞ &quot;in... in... incredible?&quot;\n",
        "stutter(&quot;enthusiastic&quot;) ➞ &quot;en... en... enthusiastic?&quot;\n",
        "stutter(&quot;outstanding&quot;) ➞ &quot;ou... ou... outstanding?&quot;\n",
        "\n",
        "Hint :- Assume all input is in lower case and at least two characters long.\n",
        "answer:-\n",
        "def stutter(word):\n",
        "  \"\"\"Stutters a word as if someone is struggling to read it.\n",
        "\n",
        "  Args:\n",
        "    word: A string representing the word to stutter.\n",
        "\n",
        "  Returns:\n",
        "    A string representing the stuttered word.\n",
        "  \"\"\"\n",
        "\n",
        "  stuttered_word = word[:2] + \"...\" + word[:2] + \" \" + word + \"?\"\n",
        "  return stuttered_word\n",
        "\n"
      ],
      "metadata": {
        "id": "nE2BFubPrfpM"
      }
    },
    {
      "cell_type": "code",
      "source": [],
      "metadata": {
        "id": "9sAklreRrqJ5"
      },
      "execution_count": null,
      "outputs": []
    },
    {
      "cell_type": "markdown",
      "source": [
        "Question 2.Create a function that takes an angle in radians and returns the corresponding\n",
        "angle in degrees rounded to one decimal place.\n",
        "Examples\n",
        "radians_to_degrees(1) ➞ 57.3\n",
        "radians_to_degrees(20) ➞ 1145.9\n",
        "radians_to_degrees(50) ➞ 2864.8\n",
        "answer:-\n",
        "import math\n",
        "\n",
        "def radians_to_degrees(radians):\n",
        "  \"\"\"Converts radians to degrees rounded to one decimal place.\n",
        "\n",
        "  Args:\n",
        "    radians: A float representing the angle in radians.\n",
        "\n",
        "  Returns:\n",
        "    A float representing the angle in degrees rounded to one decimal place.\n",
        "  \"\"\"\n",
        "\n",
        "  degrees = math.degrees(radians)\n",
        "  return round(degrees, 1)\n",
        "\n"
      ],
      "metadata": {
        "id": "-Fck-CmYrwB7"
      }
    },
    {
      "cell_type": "code",
      "source": [],
      "metadata": {
        "id": "0O_f1wysr5RJ"
      },
      "execution_count": null,
      "outputs": []
    },
    {
      "cell_type": "markdown",
      "source": [],
      "metadata": {
        "id": "0ymeMp62r9_b"
      }
    },
    {
      "cell_type": "markdown",
      "source": [
        "Question 3. In this challenge, establish if a given integer num is a Curzon number. If 1 plus\n",
        "2 elevated to num is exactly divisible by 1 plus 2 multiplied by num, then num is a Curzon\n",
        "number.\n",
        "Given a non-negative integer num, implement a function that returns True if num is a Curzon\n",
        "number, or False otherwise.\n",
        "Examples\n",
        "is_curzon(5) ➞ True\n",
        "# 2 ** 5 + 1 = 33\n",
        "# 2 * 5 + 1 = 11\n",
        "# 33 is a multiple of 11\n",
        "is_curzon(10) ➞ False\n",
        "# 2 ** 10 + 1 = 1025\n",
        "# 2 * 10 + 1 = 21\n",
        "# 1025 is not a multiple of 21\n",
        "is_curzon(14) ➞ True\n",
        "# 2 ** 14 + 1 = 16385\n",
        "# 2 * 14 + 1 = 29\n",
        "# 16385 is a multiple of 29\n",
        "answer:-\n",
        "def is_curzon(num):\n",
        "  \"\"\"Returns True if num is a Curzon number, False otherwise.\n",
        "\n",
        "  Args:\n",
        "    num: A non-negative integer.\n",
        "\n",
        "  Returns:\n",
        "    A boolean value indicating whether num is a Curzon number.\n",
        "  \"\"\"\n",
        "\n",
        "  return (2 ** num + 1) % (2 * num + 1) == 0\n",
        "\n"
      ],
      "metadata": {
        "id": "JB7EMUv7r-Gr"
      }
    },
    {
      "cell_type": "code",
      "source": [],
      "metadata": {
        "id": "-zXF7hr3sKV3"
      },
      "execution_count": null,
      "outputs": []
    },
    {
      "cell_type": "markdown",
      "source": [
        "Question 4.Given the side length x find the area of a hexagon.\n",
        "\n",
        "Examples\n",
        "area_of_hexagon(1) ➞ 2.6\n",
        "area_of_hexagon(2) ➞ 10.4\n",
        "area_of_hexagon(3) ➞ 23.4\n",
        "answer:-\n",
        "import math\n",
        "\n",
        "def area_of_hexagon(x):\n",
        "  \"\"\"Calculates the area of a hexagon given the side length x.\n",
        "\n",
        "  Args:\n",
        "    x: A float representing the side length of the hexagon.\n",
        "\n",
        "  Returns:\n",
        "    A float representing the area of the hexagon.\n",
        "  \"\"\"\n",
        "\n",
        "  area = (3 * math.sqrt(3) * x * x) / 2\n",
        "  return area\n",
        "\n"
      ],
      "metadata": {
        "id": "DE9lw6F-sPEL"
      }
    },
    {
      "cell_type": "markdown",
      "source": [
        "Question 5. Create a function that returns a base-2 (binary) representation of a base-10\n",
        "(decimal) string number. To convert is simple: ((2) means base-2 and (10) means base-10)\n",
        "010101001(2) = 1 + 8 + 32 + 128.\n",
        "Going from right to left, the value of the most right bit is 1, now from that every bit to the left\n",
        "will be x2 the value, value of an 8 bit binary numbers are (256, 128, 64, 32, 16, 8, 4, 2, 1).\n",
        "Examples\n",
        "binary(1) ➞ &quot;1&quot;\n",
        "# 1*1 = 1\n",
        "binary(5) ➞ &quot;101&quot;\n",
        "# 1*1 + 1*4 = 5\n",
        "binary(10) ➞ &quot;1010&quot;\n",
        "# 1*2 + 1*8 = 10\n",
        "answer:-\n",
        "def binary(number):\n",
        "  \"\"\"Converts a base-10 (decimal) string number to a base-2 (binary) representation.\n",
        "\n",
        "  Args:\n",
        "    number: A string representing the base-10 (decimal) number to convert.\n",
        "\n",
        "  Returns:\n",
        "    A string representing the base-2 (binary) representation of the number.\n",
        "  \"\"\"\n",
        "\n",
        "  binary_number = \"\"\n",
        "  while number > 0:\n",
        "    remainder = number % 2\n",
        "    binary_number = str(remainder) + binary_number\n",
        "    number //= 2\n",
        "\n",
        "  return binary_number\n",
        "\n"
      ],
      "metadata": {
        "id": "zQzCUDzpsdab"
      }
    }
  ]
}