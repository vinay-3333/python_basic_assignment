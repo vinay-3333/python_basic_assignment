{
  "nbformat": 4,
  "nbformat_minor": 0,
  "metadata": {
    "colab": {
      "provenance": []
    },
    "kernelspec": {
      "name": "python3",
      "display_name": "Python 3"
    },
    "language_info": {
      "name": "python"
    }
  },
  "cells": [
    {
      "cell_type": "code",
      "execution_count": null,
      "metadata": {
        "id": "RH2wpcpSur0C"
      },
      "outputs": [],
      "source": []
    },
    {
      "cell_type": "markdown",
      "source": [
        "1. What advantages do Excel spreadsheets have over CSV spreadsheets?\n",
        "answer:-\n",
        "Excel spreadsheets are more powerful. Excel spreadsheets can be used to perform calculations, create charts and graphs, and automate tasks. CSV spreadsheets are simply a way to store data, and they do not have the same level of functionality.\n",
        "Excel spreadsheets are more versatile. Excel spreadsheets can be used for a variety of tasks, such as data entry, analysis, and reporting. CSV spreadsheets are typically used for data transfer and import/export."
      ],
      "metadata": {
        "id": "G2XxrXDauwRx"
      }
    },
    {
      "cell_type": "code",
      "source": [],
      "metadata": {
        "id": "EpJgU43UvCRD"
      },
      "execution_count": null,
      "outputs": []
    },
    {
      "cell_type": "markdown",
      "source": [
        "2.What do you pass to csv.reader() and csv.writer() to create reader and writer objects?\n",
        "answer:-\n",
        "\n",
        "To create a reader object, you pass the open file object to the csv.reader() function. The csv.reader() function returns an iterator that yields a list of rows. Each row is a list of strings, one for each field in the CSV file.\n",
        "\n",
        "For example, the following code creates a reader object for the file data.csv:\n",
        "\n",
        "Python\n",
        "import csv\n",
        "\n",
        "with open(\"data.csv\", \"r\") as csvfile:\n",
        "    reader = csv.reader(csvfile)\n",
        "Use code with caution. Learn more\n",
        "To create a writer object, you pass the open file object and the delimiter to the csv.writer() function. The delimiter is the character that separates the fields in the CSV file. The default delimiter is the comma (,).\n",
        "\n",
        "For example, the following code creates a writer object for the file output.csv and uses the tab character (\\t) as the delimiter:\n",
        "\n",
        "Python\n",
        "import csv\n",
        "\n",
        "with open(\"output.csv\", \"w\") as csvfile:\n",
        "    writer = csv.writer(csvfile, delimiter=\"\\t\")"
      ],
      "metadata": {
        "id": "OMnhr24MvCtB"
      }
    },
    {
      "cell_type": "code",
      "source": [],
      "metadata": {
        "id": "4c866FndvksS"
      },
      "execution_count": null,
      "outputs": []
    },
    {
      "cell_type": "markdown",
      "source": [
        "3. What modes do File objects for reader and writer objects need to be opened in?\n",
        "answer:-\n",
        "\n",
        "The file objects for reader and writer objects need to be opened in the following modes:\n",
        "\n",
        "Reader object: The file object for a reader object needs to be opened in read mode ('r'). This mode allows the file to be read only.\n",
        "Writer object: The file object for a writer object needs to be opened in write mode ('w') or append mode ('a'). The 'w' mode overwrites the contents of the file if it exists. The 'a' mode appends the data to the end of the file if it exists.\n",
        "Here are some examples of how to open file objects in the correct modes:\n",
        "\n",
        "Python\n",
        "import csv\n",
        "\n",
        "# Open a file in read mode for a reader object\n",
        "with open(\"data.csv\", \"r\") as csvfile:\n",
        "    reader = csv.reader(csvfile)\n",
        "\n",
        "# Open a file in write mode for a writer object\n",
        "with open(\"output.csv\", \"w\") as csvfile:\n",
        "    writer = csv.writer(csvfile)\n",
        "\n",
        "# Open a file in append mode for a writer object\n",
        "with open(\"output.csv\", \"a\") as csvfile:\n",
        "    writer = csv.writer(csvfile)"
      ],
      "metadata": {
        "id": "DWkEMQOKvlNg"
      }
    },
    {
      "cell_type": "code",
      "source": [],
      "metadata": {
        "id": "Jrk-8Yj4v49D"
      },
      "execution_count": null,
      "outputs": []
    },
    {
      "cell_type": "markdown",
      "source": [
        "4. What method takes a list argument and writes it to a CSV file?\n",
        "answer:-\n",
        "row in the CSV file.\n",
        "\n",
        "For example, the following code writes a list of names to a CSV file:\n",
        "\n",
        "Python\n",
        "import csv\n",
        "\n",
        "# Create a list of names\n",
        "names = [\"John Doe\", \"Jane Doe\", \"Peter Smith\"]\n",
        "\n",
        "# Open a file in write mode\n",
        "with open(\"names.csv\", \"w\") as csvfile:\n",
        "\n",
        "    # Create a writer object\n",
        "    writer = csv.writer(csvfile)\n",
        "\n",
        "    # Write the list of names to the file\n",
        "    writer.writerow(names)\n",
        "Use code with caution. Learn more\n",
        "The csv.writer() method also has a writerows() method that can be used to write multiple lists to a CSV file. The writerows() method takes a list of lists as its argument.\n",
        "\n",
        "For example, the following code writes a list of names and ages to a CSV file:\n",
        "\n",
        "Python\n",
        "import csv\n",
        "\n",
        "# Create a list of names and ages\n",
        "data = [[\"John Doe\", 30], [\"Jane Doe\", 25], [\"Peter Smith\", 40]]\n",
        "\n",
        "# Open a file in write mode\n",
        "with open(\"data.csv\", \"w\") as csvfile:\n",
        "\n",
        "    # Create a writer object\n",
        "    writer = csv.writer(csvfile)\n",
        "\n",
        "    # Write the list of names and ages to the file\n",
        "    writer.writerows(data)"
      ],
      "metadata": {
        "id": "y9okJZBSv7W4"
      }
    },
    {
      "cell_type": "code",
      "source": [],
      "metadata": {
        "id": "ToV0zeQBwTJp"
      },
      "execution_count": null,
      "outputs": []
    },
    {
      "cell_type": "markdown",
      "source": [
        "5. What do the keyword arguments delimiter and line terminator do?\n",
        "answer:-\n",
        "\n",
        "The delimiter keyword argument specifies the character that separates the fields in the CSV file. The default delimiter is the comma (,).\n",
        "\n",
        "The lineterminator keyword argument specifies the character that terminates the rows in the CSV file. The default line terminator is the newline character (\\n).\n",
        "\n",
        "For example, the following code creates a writer object that uses the tab character (\\t) as the delimiter and the newline character (\\n) as the line terminator:\n",
        "\n",
        "Python\n",
        "import csv\n",
        "\n",
        "with open(\"output.csv\", \"w\") as csvfile:\n",
        "    writer = csv.writer(csvfile, delimiter=\"\\t\", lineterminator=\"\\n\")"
      ],
      "metadata": {
        "id": "pSuFCDeWwTsx"
      }
    },
    {
      "cell_type": "code",
      "source": [],
      "metadata": {
        "id": "MOQC6upIwkyC"
      },
      "execution_count": null,
      "outputs": []
    },
    {
      "cell_type": "markdown",
      "source": [
        "6. What function takes a string of JSON data and returns a Python data structure?\n",
        "answer:-\n",
        "\n",
        "The json.loads() function in Python takes a string of JSON data and returns a Python data structure. The Python data structure can be a dictionary, list, or tuple, depending on the structure of the JSON data.\n",
        "\n",
        "For example, the following code takes a string of JSON data and returns a Python dictionary:\n",
        "\n",
        "Python\n",
        "import json\n",
        "\n",
        "json_string = \"\"\"\n",
        "{\n",
        "    \"name\": \"John Doe\",\n",
        "    \"age\": 30,\n",
        "    \"address\": {\n",
        "        \"street\": \"123 Main Street\",\n",
        "        \"city\": \"Anytown\",\n",
        "        \"state\": \"CA\"\n",
        "    }\n",
        "}\n",
        "\"\"\"\n",
        "\n",
        "python_data = json.loads(json_string)\n",
        "\n",
        "print(python_data)"
      ],
      "metadata": {
        "id": "f_7rkjcLwmxp"
      }
    },
    {
      "cell_type": "code",
      "source": [],
      "metadata": {
        "id": "slukwKJlw2-S"
      },
      "execution_count": null,
      "outputs": []
    },
    {
      "cell_type": "markdown",
      "source": [
        "7. What function takes a Python data structure and returns a string of JSON data?\n",
        "answer:-\n",
        "\n",
        "The json.dumps() function in Python takes a Python data structure and returns a string of JSON data. The Python data structure can be a dictionary, list, or tuple, depending on the structure of the JSON data.\n",
        "\n",
        "For example, the following code takes a Python dictionary and returns a string of JSON data:\n",
        "\n",
        "Python\n",
        "import json\n",
        "\n",
        "python_data = {\n",
        "    \"name\": \"John Doe\",\n",
        "    \"age\": 30,\n",
        "    \"address\": {\n",
        "        \"street\": \"123 Main Street\",\n",
        "        \"city\": \"Anytown\",\n",
        "        \"state\": \"CA\"\n",
        "    }\n",
        "}\n",
        "\n",
        "json_string = json.dumps(python_data)\n",
        "\n",
        "print(json_string)"
      ],
      "metadata": {
        "id": "8qXvoxndw5ZZ"
      }
    },
    {
      "cell_type": "code",
      "source": [],
      "metadata": {
        "id": "wyTnEpSvxH8c"
      },
      "execution_count": null,
      "outputs": []
    }
  ]
}