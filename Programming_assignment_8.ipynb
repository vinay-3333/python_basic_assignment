{
  "nbformat": 4,
  "nbformat_minor": 0,
  "metadata": {
    "colab": {
      "provenance": []
    },
    "kernelspec": {
      "name": "python3",
      "display_name": "Python 3"
    },
    "language_info": {
      "name": "python"
    }
  },
  "cells": [
    {
      "cell_type": "code",
      "execution_count": 5,
      "metadata": {
        "colab": {
          "base_uri": "https://localhost:8080/"
        },
        "id": "adh69DM3Miey",
        "outputId": "0fd082b8-5399-4dcb-b71b-d3237a795e80"
      },
      "outputs": [
        {
          "output_type": "execute_result",
          "data": {
            "text/plain": [
              "[6, 8, 10, 12]"
            ]
          },
          "metadata": {},
          "execution_count": 5
        }
      ],
      "source": [
        "matrix_1 = [[1, 2], [3, 4]]\n",
        "matrix_2 = [[5, 6], [7, 8]]\n",
        "add_matrix=[]\n",
        "\n",
        "def add_matrices(matrix_1,matrix_2):\n",
        "  if len(matrix_1)==len(matrix_2):\n",
        "     for i in range(len(matrix_1)):\n",
        "      for j in range(len(matrix_1)):\n",
        "        add_matrix.append(matrix_1[i][j]+matrix_2[i][j])\n",
        "  return add_matrix\n",
        "add_matrices(matrix_1,matrix_2)"
      ]
    },
    {
      "cell_type": "code",
      "source": [],
      "metadata": {
        "id": "pAsLSb47PNAE"
      },
      "execution_count": null,
      "outputs": []
    },
    {
      "cell_type": "markdown",
      "source": [
        "1. Write a Python Program to Add Two Matrices?\n",
        "answer:-\n",
        "matrix_1 = [[1, 2], [3, 4]]\n",
        "matrix_2 = [[5, 6], [7, 8]]\n",
        "add_matrix=[]\n",
        "\n",
        "def add_matrices(matrix_1,matrix_2):\n",
        "  if len(matrix_1)==len(matrix_2):\n",
        "     for i in range(len(matrix_1)):\n",
        "      for j in range(len(matrix_1)):\n",
        "        add_matrix.append(matrix_1[i][j]+matrix_2[i][j])\n",
        "  return add_matrix\n",
        "add_matrices(matrix_1,matrix_2)"
      ],
      "metadata": {
        "id": "MH5k0hIqMpEl"
      }
    },
    {
      "cell_type": "code",
      "source": [
        "matrix_1 = [[1, 2], [3, 4]]\n",
        "matrix_2 = [[5, 6], [7, 8]]\n",
        "add_matrix=[]\n",
        "\n",
        "def add_matrices(matrix_1,matrix_2):\n",
        "  if len(matrix_1)==len(matrix_2):\n",
        "     for i in range(len(matrix_1)):\n",
        "      for j in range(len(matrix_1)):\n",
        "        add_matrix.append(matrix_1[i][j]*matrix_2[i][j])\n",
        "  return add_matrix\n",
        "add_matrices(matrix_1,matrix_2)"
      ],
      "metadata": {
        "colab": {
          "base_uri": "https://localhost:8080/"
        },
        "id": "nkWSdHMOO9-t",
        "outputId": "44882b4e-91f5-435a-b741-c3491702e2de"
      },
      "execution_count": 6,
      "outputs": [
        {
          "output_type": "execute_result",
          "data": {
            "text/plain": [
              "[5, 12, 21, 32]"
            ]
          },
          "metadata": {},
          "execution_count": 6
        }
      ]
    },
    {
      "cell_type": "markdown",
      "source": [
        "2. Write a Python Program to Multiply Two Matrices?\n",
        "answer:-\n",
        "def multiply_matrices(matrix_1, matrix_2):\n",
        "  if len(matrix_1[0]) != len(matrix_2):\n",
        "    raise ValueError(\"The two matrices must have compatible dimensions.\")\n",
        "\n",
        "  product_matrix = []\n",
        "  for i in range(len(matrix_1)):\n",
        "    row = []\n",
        "    for j in range(len(matrix_2[0])):\n",
        "      sum = 0\n",
        "      for k in range(len(matrix_1[0])):\n",
        "        sum += matrix_1[i][k] * matrix_2[k][j]\n",
        "      row.append(sum)\n",
        "    product_matrix.append(row)\n",
        "\n",
        "  return product_matrix\n",
        "matrix_1 = [[1, 2], [3, 4]]\n",
        "matrix_2 = [[5, 6], [7, 8]]\n",
        "\n",
        "product_matrix = multiply_matrices(matrix_1, matrix_2)\n",
        "\n",
        "print(\"The product of the two matrices is:\", product_matrix)\n"
      ],
      "metadata": {
        "id": "gn1AZdOIPDYF"
      }
    },
    {
      "cell_type": "code",
      "source": [],
      "metadata": {
        "id": "wXH7JL46Qh5I"
      },
      "execution_count": null,
      "outputs": []
    },
    {
      "cell_type": "markdown",
      "source": [
        "3. Write a Python Program to Transpose a Matrix?\n",
        "answer:-\n",
        "def transpose_matrix(matrix):\n",
        "  transposed_matrix = []\n",
        "  for i in range(len(matrix[0])):\n",
        "    row = []\n",
        "    for j in range(len(matrix)):\n",
        "      row.append(matrix[j][i])\n",
        "    transposed_matrix.append(row)\n",
        "\n",
        "  return transposed_matrix\n",
        "matrix = [[1, 2], [3, 4]]\n",
        "\n",
        "transposed_matrix = transpose_matrix(matrix)\n",
        "\n",
        "print(\"The transposed matrix is:\", transposed_matrix)\n"
      ],
      "metadata": {
        "id": "YqQ-tpSJQkuo"
      }
    },
    {
      "cell_type": "code",
      "source": [],
      "metadata": {
        "id": "u1R5GUb5Qz7R"
      },
      "execution_count": null,
      "outputs": []
    },
    {
      "cell_type": "markdown",
      "source": [
        "4. Write a Python Program to Sort Words in Alphabetic Order?\n",
        "answer:-\n",
        "def sort_words_alphabetically(words):\n",
        "  sorted_words = sorted(words)\n",
        "  return sorted_words\n",
        "words = [\"hello\", \"world\", \"I\", \"am\", \"Bard\"]\n",
        "\n",
        "sorted_words = sort_words_alphabetically(words)\n",
        "\n",
        "print(\"The sorted words are:\", sorted_words)"
      ],
      "metadata": {
        "id": "B9JvqG9MQ2X3"
      }
    },
    {
      "cell_type": "code",
      "source": [],
      "metadata": {
        "id": "DwcGISo2RKvP"
      },
      "execution_count": null,
      "outputs": []
    },
    {
      "cell_type": "markdown",
      "source": [
        "5. Write a Python Program to Remove Punctuation From a String?\n",
        "answer:-\n",
        "import string\n",
        "\n",
        "def remove_punctuation(string):\n",
        "  new_string = \"\"\n",
        "  for character in string:\n",
        "    if character not in string.punctuation:\n",
        "      new_string += character\n",
        "  return new_string\n",
        "\n",
        "string = \"This is a string with punctuation!\"\n",
        "\n",
        "new_string = remove_punctuation(string)\n",
        "\n",
        "print(\"The string with punctuation removed is:\", new_string)"
      ],
      "metadata": {
        "id": "0096RalVRNiq"
      }
    },
    {
      "cell_type": "code",
      "source": [],
      "metadata": {
        "id": "p0qzMJ32RdOh"
      },
      "execution_count": null,
      "outputs": []
    }
  ]
}