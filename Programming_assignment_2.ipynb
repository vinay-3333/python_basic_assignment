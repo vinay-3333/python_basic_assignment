{
  "nbformat": 4,
  "nbformat_minor": 0,
  "metadata": {
    "colab": {
      "provenance": []
    },
    "kernelspec": {
      "name": "python3",
      "display_name": "Python 3"
    },
    "language_info": {
      "name": "python"
    }
  },
  "cells": [
    {
      "cell_type": "code",
      "execution_count": null,
      "metadata": {
        "id": "WOZclm_akxBh"
      },
      "outputs": [],
      "source": []
    },
    {
      "cell_type": "markdown",
      "source": [
        "1. Write a Python program to convert kilometers to miles?\n",
        "def kilometer_miles(kilometer):\n",
        "  miles = kilometer *0.621\n",
        "  return miles\n",
        "print(kilometer_miles(10))"
      ],
      "metadata": {
        "id": "OqjlSwBKk11g"
      }
    },
    {
      "cell_type": "code",
      "source": [],
      "metadata": {
        "id": "zA53EPRClZqI"
      },
      "execution_count": null,
      "outputs": []
    },
    {
      "cell_type": "markdown",
      "source": [
        "2. Write a Python program to convert Celsius to Fahrenheit?\n",
        "answer:-\n",
        "fahrenheit = (celsius*9/5)+32\n",
        "def fahrenheit(celsius):\n",
        "  fahremheit = (celsuis *9/5)+32\n",
        "  return fahrenheit\n",
        "print(fahrenheit(56))\n"
      ],
      "metadata": {
        "id": "zsiSqik3lc-x"
      }
    },
    {
      "cell_type": "code",
      "source": [
        "import calendar\n",
        "print(calendar.month(2023,9))"
      ],
      "metadata": {
        "colab": {
          "base_uri": "https://localhost:8080/"
        },
        "id": "9mQnvoRimEQ4",
        "outputId": "82d36f6d-828f-4313-863a-5ad2665c68ba"
      },
      "execution_count": 1,
      "outputs": [
        {
          "output_type": "stream",
          "name": "stdout",
          "text": [
            "   September 2023\n",
            "Mo Tu We Th Fr Sa Su\n",
            "             1  2  3\n",
            " 4  5  6  7  8  9 10\n",
            "11 12 13 14 15 16 17\n",
            "18 19 20 21 22 23 24\n",
            "25 26 27 28 29 30\n",
            "\n"
          ]
        }
      ]
    },
    {
      "cell_type": "markdown",
      "source": [
        "3. Write a Python program to display calendar?\n",
        "answer:-\n",
        "import calendar\n",
        "print(calendar.month(2023,9))"
      ],
      "metadata": {
        "id": "_dCbpJCsmGCP"
      }
    },
    {
      "cell_type": "code",
      "source": [],
      "metadata": {
        "id": "ts3dpDJEnGI4"
      },
      "execution_count": null,
      "outputs": []
    },
    {
      "cell_type": "markdown",
      "source": [
        "4. Write a Python program to solve quadratic equation?\n",
        "answer:-\n",
        "\n",
        "import math\n",
        "\n",
        "def solve_quadratic_equation(a, b, c):\n",
        " discriminant = b**2 - 4 * a * c\n",
        "  if discriminant < 0:\n",
        "    return None, None\n",
        "  elif discriminant == 0:\n",
        "    return -b / (2 * a), -b / (2 * a)\n",
        "  else:\n",
        "    return (-b + math.sqrt(discriminant)) / (2 * a), (-b - math.sqrt(discriminant)) / (2 * a)\n",
        "\n",
        "# Example usage:\n",
        "\n",
        "print(solve_quadratic_equation(1, 2, 3))\n",
        "print(solve_quadratic_equation(1, -2, 1))\n",
        "print(solve_quadratic_equation(1, 0, -1))"
      ],
      "metadata": {
        "id": "kpQEE5ROnIk3"
      }
    },
    {
      "cell_type": "code",
      "source": [],
      "metadata": {
        "id": "9AZZhZDfoYNw"
      },
      "execution_count": 2,
      "outputs": []
    },
    {
      "cell_type": "markdown",
      "source": [
        "5. Write a Python program to swap two variables without temp variable?\n",
        "answer:-\n",
        "x = 5\n",
        "y = 10 # y = 1010\n",
        "\n",
        "print (\"Before swapping: \")\n",
        "print(\"Value of x : \", x, \" and y : \", y)\n",
        "\n",
        "# Swap code\n",
        "x ^= y\n",
        "y ^= x\n",
        "x ^= y\n",
        "\n",
        "print (\"After swapping: \")\n",
        "print(\"Value of x : \", x, \" and y : \", y)"
      ],
      "metadata": {
        "id": "zfKXXgseoZ9_"
      }
    },
    {
      "cell_type": "code",
      "source": [
        "x = 5\n",
        "y = 10 # y = 1010\n",
        "\n",
        "print (\"Before swapping: \")\n",
        "print(\"Value of x : \", x, \" and y : \", y)\n",
        "\n",
        "# Swap code\n",
        "x ^= y\n",
        "y ^= x\n",
        "x ^= y\n",
        "\n",
        "print (\"After swapping: \")\n",
        "print(\"Value of x : \", x, \" and y : \", y)"
      ],
      "metadata": {
        "colab": {
          "base_uri": "https://localhost:8080/"
        },
        "id": "iMqWYGj-qRdB",
        "outputId": "4d696aba-98fd-466f-c9e2-c4ca2b0dc636"
      },
      "execution_count": 10,
      "outputs": [
        {
          "output_type": "stream",
          "name": "stdout",
          "text": [
            "Before swapping: \n",
            "Value of x :  5  and y :  10\n",
            "After swapping: \n",
            "Value of x :  10  and y :  5\n"
          ]
        }
      ]
    },
    {
      "cell_type": "code",
      "source": [],
      "metadata": {
        "id": "qlsdcrGuqSCo"
      },
      "execution_count": 10,
      "outputs": []
    },
    {
      "cell_type": "code",
      "source": [],
      "metadata": {
        "id": "bv10qvE0rDso"
      },
      "execution_count": null,
      "outputs": []
    }
  ]
}