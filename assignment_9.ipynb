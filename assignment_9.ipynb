{
  "nbformat": 4,
  "nbformat_minor": 0,
  "metadata": {
    "colab": {
      "provenance": []
    },
    "kernelspec": {
      "name": "python3",
      "display_name": "Python 3"
    },
    "language_info": {
      "name": "python"
    }
  },
  "cells": [
    {
      "cell_type": "code",
      "execution_count": null,
      "metadata": {
        "id": "SYU6Ndxm01te"
      },
      "outputs": [],
      "source": []
    },
    {
      "cell_type": "markdown",
      "source": [
        "1. To what does a relative path refer?\n",
        "answer:-\n",
        "\n",
        "A relative path in Python refers to a location that is relative to the current working directory. The current working directory is the directory where the Python script is being executed.\n",
        "\n",
        "For example, if the current working directory is /home/user/project, then the relative path ./file.txt refers to the file file.txt in the current directory. The ./ prefix indicates that the path is relative to the current directory.\n",
        "\n",
        "Another example, if the current working directory is /home/user/project, then the relative path ../other_project refers to the directory other_project in the parent directory. The ../ prefix indicates that the path is one level up from the current directory.\n",
        "\n",
        "Relative paths are often used in Python because they are more portable than absolute paths. Absolute paths are paths that start with a forward slash (/) and refer to a specific location on the file system. Relative paths are not tied to a specific location on the file system, so they can be used to access files and directories regardless of where the Python script is being executed."
      ],
      "metadata": {
        "id": "sMS75ykE05AM"
      }
    },
    {
      "cell_type": "markdown",
      "source": [
        "2. What does an absolute path start with your operating system?\n",
        "answer:-\n",
        "\n",
        "An absolute path in Python starts with a forward slash (/) and refers to a specific location on the file system. The forward slash is a special character that indicates that the path is absolute.\n",
        "\n",
        "The specific location that the absolute path refers to depends on the operating system. In Windows, an absolute path starts with the drive letter, followed by a colon (:), followed by the path to the file or directory. For example, the absolute path to the file C:\\Users\\user\\Desktop\\file.txt on Windows is C:\\Users\\user\\Desktop\\file.txt."
      ],
      "metadata": {
        "id": "2l1_uHSE15kA"
      }
    },
    {
      "cell_type": "code",
      "source": [],
      "metadata": {
        "id": "G7dQNWSf2VCT"
      },
      "execution_count": null,
      "outputs": []
    },
    {
      "cell_type": "markdown",
      "source": [
        "3. What do the functions os.getcwd() and os.chdir() do?\n",
        "answer:-\n",
        "\n",
        "Sure. The os.getcwd() and os.chdir() functions are used to get and change the current working directory in Python.\n",
        "\n",
        "The os.getcwd() function returns the absolute path of the current working directory. The os.chdir() function changes the current working directory to the specified path.\n",
        "\n",
        "Here is an example of how to use the os.getcwd() function:\n",
        "\n",
        "Python\n",
        "import os\n",
        "\n",
        "current_directory = os.getcwd()\n",
        "\n",
        "print(\"The current working directory is: {}\".format(current_directory))\n",
        "Use code with caution. Learn more\n",
        "This code will print the absolute path of the current working directory to the console.\n",
        "\n",
        "Here is an example of how to use the os.chdir() function:\n",
        "\n",
        "Python\n",
        "import os\n",
        "\n",
        "new_directory = \"/home/user/project\"\n",
        "\n",
        "os.chdir(new_directory)\n",
        "\n",
        "print(\"The current working directory is now: {}\".format(os.getcwd()))"
      ],
      "metadata": {
        "id": "AVzgtPtB2VuD"
      }
    },
    {
      "cell_type": "code",
      "source": [],
      "metadata": {
        "id": "7GWE_UTO2s3v"
      },
      "execution_count": null,
      "outputs": []
    },
    {
      "cell_type": "markdown",
      "source": [
        "4. What are the . and .. folders?\n",
        "answer:-\n",
        "\n",
        "The . and .. folders are special folders in a filesystem that refer to the current directory and the parent directory, respectively.\n",
        "\n",
        "The . folder refers to the current directory, which is the directory where the Python script is being executed. The .. folder refers to the parent directory, which is the directory that contains the current directory.\n",
        "\n",
        "For example, if the current working directory is /home/user/project, then the . folder refers to the directory /home/user/project, and the .. folder refers to the directory /home/user."
      ],
      "metadata": {
        "id": "GBYyk2eU2tbF"
      }
    },
    {
      "cell_type": "code",
      "source": [],
      "metadata": {
        "id": "_khN0C6K2_cc"
      },
      "execution_count": null,
      "outputs": []
    },
    {
      "cell_type": "markdown",
      "source": [
        "5. In C:\\bacon\\eggs\\spam.txt, which part is the dir name, and which part is the base name?\n",
        "answer:-\n",
        "\n",
        "In C:\\bacon\\eggs\\spam.txt, the C:\\bacon\\eggs part is the dir name, and the spam.txt part is the base name."
      ],
      "metadata": {
        "id": "pRQkuyrc3CZe"
      }
    },
    {
      "cell_type": "code",
      "source": [],
      "metadata": {
        "id": "5J0ySPfQ3OW8"
      },
      "execution_count": null,
      "outputs": []
    },
    {
      "cell_type": "markdown",
      "source": [
        "6. What are the three “mode” arguments that can be passed to the open() function?\n",
        "\n",
        "answer:-\n",
        "r - Read mode. This is the default mode. It opens the file for reading.\n",
        "w - Write mode. This opens the file for writing. If the file exists, it will be overwritten. If the file does not exist, it will be created.\n",
        "a - Append mode. This opens the file for appending. Any data written to the file will be appended to the end of the file.\n",
        "The mode argument can also be a combination of these modes. For example, the mode r+ opens the file for both reading and writing.\n",
        "\n",
        "Here is a table that summarizes the different modes that can be passed to the open() function:\n",
        "\n",
        "Mode\tDescription\n",
        "r\tRead mode\n",
        "w\tWrite mode\n",
        "a\tAppend mode\n",
        "r+\tRead and write mode\n",
        "w+\tRead and write mode, overwriting the file if it exists\n",
        "a+\tRead and write mode, appending to the file if it exists"
      ],
      "metadata": {
        "id": "3E--DVEi3PQ0"
      }
    },
    {
      "cell_type": "code",
      "source": [],
      "metadata": {
        "id": "H8d4BtR3744U"
      },
      "execution_count": null,
      "outputs": []
    },
    {
      "cell_type": "markdown",
      "source": [
        "7. What happens if an existing file is opened in write mode?\n",
        "answer:-\n",
        "\n",
        "If an existing file is opened in write mode, the contents of the file will be overwritten. This is because the w mode indicates that the file should be opened for writing, and if the file already exists, it should be overwritten."
      ],
      "metadata": {
        "id": "rRFnmFd575p4"
      }
    },
    {
      "cell_type": "code",
      "source": [],
      "metadata": {
        "id": "xz6R33uW8MAt"
      },
      "execution_count": null,
      "outputs": []
    },
    {
      "cell_type": "markdown",
      "source": [
        "8. How do you tell the difference between read() and readlines()?\n",
        "answer:-\n",
        "read() method read enteier content of python file and return string\n",
        "readlines() method read also python file but line by line and return into string"
      ],
      "metadata": {
        "id": "H9smCycm8Mlx"
      }
    },
    {
      "cell_type": "code",
      "source": [],
      "metadata": {
        "id": "vVA8cJ0x8s1-"
      },
      "execution_count": null,
      "outputs": []
    },
    {
      "cell_type": "markdown",
      "source": [
        "9. What data structure does a shelf value resemble?\n",
        "answer:-\n",
        " shelf is same as dictionary it return key and value of into list\n",
        " we use key() method those return all key and values() method those return all value into string"
      ],
      "metadata": {
        "id": "i1eWSLGS8tUZ"
      }
    },
    {
      "cell_type": "code",
      "source": [],
      "metadata": {
        "id": "Qu6Wkgrs91KT"
      },
      "execution_count": null,
      "outputs": []
    }
  ]
}