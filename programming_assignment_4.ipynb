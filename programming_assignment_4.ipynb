{
  "nbformat": 4,
  "nbformat_minor": 0,
  "metadata": {
    "colab": {
      "provenance": []
    },
    "kernelspec": {
      "name": "python3",
      "display_name": "Python 3"
    },
    "language_info": {
      "name": "python"
    }
  },
  "cells": [
    {
      "cell_type": "code",
      "execution_count": 3,
      "metadata": {
        "colab": {
          "base_uri": "https://localhost:8080/"
        },
        "id": "3q26r5Ie0TTm",
        "outputId": "4175c694-81b5-46a3-aa38-26cd6c84921a"
      },
      "outputs": [
        {
          "output_type": "execute_result",
          "data": {
            "text/plain": [
              "2"
            ]
          },
          "metadata": {},
          "execution_count": 3
        }
      ],
      "source": [
        "def factorial(a):\n",
        "  if a<0:\n",
        "   raise ValueError(\"Factorial is not defined for negative numbers.\")\n",
        "  elif (a==0) or (a==1):\n",
        "    return 1\n",
        "  else:\n",
        "    return a*factorial(a-1)\n",
        "factorial(2)"
      ]
    },
    {
      "cell_type": "markdown",
      "source": [
        "1. Write a Python Program to Find the Factorial of a Number?\n",
        "answer:-\n",
        "def factorial(a):\n",
        "  if a<0:\n",
        "   raise ValueError(\"Factorial is not defined for negative numbers.\")\n",
        "  elif (a==0) or (a==1):\n",
        "    return 1\n",
        "  else:\n",
        "    return a*factorial(a-1)\n",
        "factorial(2)"
      ],
      "metadata": {
        "id": "Wzhi0EGG0Xxx"
      }
    },
    {
      "cell_type": "code",
      "source": [
        "def table(a):\n",
        "  if a<=0:\n",
        "    return 0\n",
        "  elif a==1:\n",
        "    return 1\n",
        "  else:\n",
        "    for i in range(1,11):\n",
        "      print(a*i)\n",
        "table(10)"
      ],
      "metadata": {
        "colab": {
          "base_uri": "https://localhost:8080/"
        },
        "id": "FslzxybE1-ci",
        "outputId": "b065b10d-2f3c-4e44-c9c7-1f5dfad82273"
      },
      "execution_count": 5,
      "outputs": [
        {
          "output_type": "stream",
          "name": "stdout",
          "text": [
            "10\n",
            "20\n",
            "30\n",
            "40\n",
            "50\n",
            "60\n",
            "70\n",
            "80\n",
            "90\n",
            "100\n"
          ]
        }
      ]
    },
    {
      "cell_type": "markdown",
      "source": [
        "2. Write a Python Program to Display the multiplication Table?\n",
        "answer:-\n",
        "def table(a):\n",
        "  if a<=0:\n",
        "    return 0\n",
        "  elif a==1:\n",
        "    return 1\n",
        "  else:\n",
        "    for i in range(1,11):\n",
        "      print(a*i)\n",
        "table(10)"
      ],
      "metadata": {
        "id": "FfQ68a5B2ABy"
      }
    },
    {
      "cell_type": "code",
      "source": [
        "def fibonocci(a):\n",
        "  if a<=0:\n",
        "    return 0\n",
        "  elif a==1:\n",
        "    return 1\n",
        "  else:\n",
        "    return fibonocci(a-1)+fibonocci(a-2)\n",
        "print(fibonocci(10))"
      ],
      "metadata": {
        "colab": {
          "base_uri": "https://localhost:8080/"
        },
        "id": "pjEHdYRK2kST",
        "outputId": "29a44263-39af-49a4-a072-757ffd13fc86"
      },
      "execution_count": 8,
      "outputs": [
        {
          "output_type": "stream",
          "name": "stdout",
          "text": [
            "55\n"
          ]
        }
      ]
    },
    {
      "cell_type": "markdown",
      "source": [
        "3. Write a Python Program to Print the Fibonacci sequence?\n",
        "answer:-\n",
        "def fibonocci(a):\n",
        "  if a<=0:\n",
        "    return 0\n",
        "  elif a==1:\n",
        "    return 1\n",
        "  else:\n",
        "    return fibonocci(a-1)+fibonocci(a-2)\n",
        "print(fibonocci(10))\n"
      ],
      "metadata": {
        "id": "a2yTGnkG2oKS"
      }
    },
    {
      "cell_type": "code",
      "source": [],
      "metadata": {
        "id": "5Kb6gW5C3vXa"
      },
      "execution_count": null,
      "outputs": []
    },
    {
      "cell_type": "markdown",
      "source": [
        "4. Write a Python Program to Check Armstrong Number?\n",
        "answer:-\n",
        "def is_armstrong_number(number):\n",
        "  \"\"\"Checks if a number is an Armstrong number.\n",
        "\n",
        "  Args:\n",
        "    number: An integer representing the number to check.\n",
        "\n",
        "  Returns:\n",
        "    True if the number is an Armstrong number, False otherwise.\n",
        "  \"\"\"\n",
        "\n",
        "  number_of_digits = len(str(number))\n",
        "  sum_of_digits = 0\n",
        "\n",
        "  for digit in str(number):\n",
        "    sum_of_digits += int(digit)**number_of_digits\n",
        "\n",
        "  return number == sum_of_digits\n",
        "\n",
        "# Example usage:\n",
        "\n",
        "print(is_armstrong_number(153))\n",
        "print(is_armstrong_number(370))\n",
        "print(is_armstrong_number(1634))"
      ],
      "metadata": {
        "id": "nV7WqBWS3xMI"
      }
    },
    {
      "cell_type": "code",
      "source": [],
      "metadata": {
        "id": "0O8N24xY4HQR"
      },
      "execution_count": null,
      "outputs": []
    },
    {
      "cell_type": "markdown",
      "source": [
        "5. Write a Python Program to Find Armstrong Number in an Interval?\n",
        "answer:-\n",
        "def is_armstrong_number(number):\n",
        "  \"\"\"Checks if a number is an Armstrong number.\n",
        "\n",
        "  Args:\n",
        "    number: An integer representing the number to check.\n",
        "\n",
        "  Returns:\n",
        "    True if the number is an Armstrong number, False otherwise.\n",
        "  \"\"\"\n",
        "\n",
        "  number_of_digits = len(str(number))\n",
        "  sum_of_digits = 0\n",
        "\n",
        "  for digit in str(number):\n",
        "    sum_of_digits += int(digit)**number_of_digits\n",
        "\n",
        "  return number == sum_of_digits\n",
        "\n",
        "def find_armstrong_numbers_in_interval(lower_bound, upper_bound):\n",
        "  \"\"\"Finds all Armstrong numbers in an interval.\n",
        "\n",
        "  Args:\n",
        "    lower_bound: An integer representing the lower bound of the interval.\n",
        "    upper_bound: An integer representing the upper bound of the interval.\n",
        "\n",
        "  Returns:\n",
        "    A list of integers representing all Armstrong numbers in the interval.\n",
        "  \"\"\"\n",
        "\n",
        "  armstrong_numbers = []\n",
        "\n",
        "  for number in range(lower_bound, upper_bound + 1):\n",
        "    if is_armstrong_number(number):\n",
        "      armstrong_numbers.append(number)\n",
        "\n",
        "  return armstrong_numbers\n",
        "\n",
        "# Example usage:\n",
        "\n",
        "print(find_armstrong_numbers_in_interval(100, 2000))\n"
      ],
      "metadata": {
        "id": "4_FTHPKl4LUo"
      }
    },
    {
      "cell_type": "code",
      "source": [
        "def natural_num(a):\n",
        "  if a>0:\n",
        "    sum=0\n",
        "    for i in range(1,a+1):\n",
        "      sum+=i\n",
        "    return sum\n",
        "natural_num(5)"
      ],
      "metadata": {
        "colab": {
          "base_uri": "https://localhost:8080/"
        },
        "id": "Y0IyhB-X4SI3",
        "outputId": "de6d674c-bae6-423c-9ba0-58b6b2561b1c"
      },
      "execution_count": 9,
      "outputs": [
        {
          "output_type": "execute_result",
          "data": {
            "text/plain": [
              "15"
            ]
          },
          "metadata": {},
          "execution_count": 9
        }
      ]
    },
    {
      "cell_type": "markdown",
      "source": [
        "6. Write a Python Program to Find the Sum of Natural Numbers?\n",
        "answer:-\n",
        "def natural_num(a):\n",
        "  if a>0:\n",
        "    sum=0\n",
        "    for i in range(1,a+1):\n",
        "      sum+=i\n",
        "    return sum\n",
        "natural_num(5)"
      ],
      "metadata": {
        "id": "hNSZmfPs4WRf"
      }
    },
    {
      "cell_type": "code",
      "source": [],
      "metadata": {
        "id": "5sYweyp-472f"
      },
      "execution_count": null,
      "outputs": []
    }
  ]
}