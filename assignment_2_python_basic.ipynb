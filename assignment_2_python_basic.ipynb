{
  "nbformat": 4,
  "nbformat_minor": 0,
  "metadata": {
    "colab": {
      "provenance": []
    },
    "kernelspec": {
      "name": "python3",
      "display_name": "Python 3"
    },
    "language_info": {
      "name": "python"
    }
  },
  "cells": [
    {
      "cell_type": "code",
      "execution_count": null,
      "metadata": {
        "id": "iFi8q3lWmQdp"
      },
      "outputs": [],
      "source": []
    },
    {
      "cell_type": "markdown",
      "source": [
        "1.What are the two values of the Boolean data type? How do you write them?\n"
      ],
      "metadata": {
        "id": "xFWjHNC_mWMz"
      }
    },
    {
      "cell_type": "markdown",
      "source": [
        "answer:-the value of bolean data types is True and False\n",
        "        those are written title vise and we can also write in 1 ==True and 0==False we and python programming language consider\n",
        "        boolean data type use for truth condition checking condition is True or False"
      ],
      "metadata": {
        "id": "ZahEsXcJnk9M"
      }
    },
    {
      "cell_type": "code",
      "source": [],
      "metadata": {
        "id": "Al83C5EancfR"
      },
      "execution_count": null,
      "outputs": []
    },
    {
      "cell_type": "markdown",
      "source": [
        "2. What are the three different types of Boolean operators?"
      ],
      "metadata": {
        "id": "Dgal-8TAnmoy"
      }
    },
    {
      "cell_type": "markdown",
      "source": [
        "answer:- in python programming language where is mainly\n",
        "        three types of boolean operator AND,OR,NOT\n",
        "        AND:- AND operator check for both condition if both condition is True then follow instruction\n",
        "        if condition is False then terminate inside the instructions\n",
        "        OR:- OR operator check one condition from both if one condition is True does not check second conditon if 1st is false then check second condtion\n",
        "        NOT:- NOT operator check condition if condition is False then Not operator give True"
      ],
      "metadata": {
        "id": "Lo7HBR8yoDID"
      }
    },
    {
      "cell_type": "code",
      "source": [],
      "metadata": {
        "id": "nqS2QPHTno_A"
      },
      "execution_count": null,
      "outputs": []
    },
    {
      "cell_type": "markdown",
      "source": [
        "3. Make a list of each Boolean operator&#39;s truth tables (i.e. every possible combination of Boolean\n",
        "values for the operator and what it evaluate )."
      ],
      "metadata": {
        "id": "hipHGqgvpKPW"
      }
    },
    {
      "cell_type": "markdown",
      "source": [
        "answer:-Operator\tTruth Table\n",
        "        AND\t      P AND Q\n",
        "        OR\t      P OR Q\n",
        "        NOT\t      P NOT P\n",
        "m\n",
        "\n"
      ],
      "metadata": {
        "id": "oU59W11ipsfV"
      }
    },
    {
      "cell_type": "code",
      "source": [],
      "metadata": {
        "id": "u7vmnqgvqKwI"
      },
      "execution_count": null,
      "outputs": []
    },
    {
      "cell_type": "markdown",
      "source": [
        "4. What are the values of the following expressions?\n",
        "(5 &gt; 4) and (3 == 5)\n",
        "not (5 &gt; 4)\n",
        "(5 &gt; 4) or (3 == 5)\n",
        "not ((5 &gt; 4) or (3 == 5))\n",
        "(True and True) and (True == False)\n",
        "(not False) or (not True)"
      ],
      "metadata": {
        "id": "A1PxggCOqNrZ"
      }
    },
    {
      "cell_type": "markdown",
      "source": [
        "answer:-\n",
        "1.(5 > 4) and (3 == 5)                False\n",
        "2.not (5> 4)                          False\n",
        "3.(5> 4) or (3 == 5)                  True\n",
        "4.not((5 > 4)or(3 == 5))              False\n",
        "5.(True and True)and(True==False)     False\n",
        "6.(not False) or (not True)           True"
      ],
      "metadata": {
        "id": "WxdpBtwLqUZY"
      }
    },
    {
      "cell_type": "markdown",
      "source": [
        "5. What are the six comparison operators?"
      ],
      "metadata": {
        "id": "tczb0kHWrnzy"
      }
    },
    {
      "cell_type": "markdown",
      "source": [
        "answer:-\n",
        "1. greater than (>)\n",
        "2.less then(<)\n",
        "3.greater than and equal to(>=)\n",
        "4.less than and equal to (<=)\n",
        "5.equal to(==)\n",
        "6.not equal to(!=)"
      ],
      "metadata": {
        "id": "ElsmW5NQrpmK"
      }
    },
    {
      "cell_type": "code",
      "source": [],
      "metadata": {
        "id": "4C10Hmdurowk"
      },
      "execution_count": null,
      "outputs": []
    },
    {
      "cell_type": "markdown",
      "source": [
        "6. How do you tell the difference between the equal to and assignment operators?Describe a\n",
        "condition and when you would use one."
      ],
      "metadata": {
        "id": "MjigM99NsVEF"
      }
    },
    {
      "cell_type": "markdown",
      "source": [
        "answer:-\n",
        "1.equal to operator use for both operand value  are equal or not,equal to operator is part of reational operator\n",
        "2.assignment operator use for assign the value in the variable ,(=) operator is part of assignemt operator\n",
        "\n",
        "\n",
        "<!-- assignment operator-->\n",
        "a =10     assignment operator\n",
        "\n",
        "<!-- relational operator -->\n",
        "if a==10:     relational operator\n",
        "  print(\"this is a relational operator\")"
      ],
      "metadata": {
        "id": "vNc5BZ8dscxU"
      }
    },
    {
      "cell_type": "code",
      "source": [],
      "metadata": {
        "id": "E3lSbYFGsZWq"
      },
      "execution_count": null,
      "outputs": []
    },
    {
      "cell_type": "markdown",
      "source": [
        "7. Identify the three blocks in this code:\n",
        "spam = 0\n",
        "if spam == 10:\n",
        "print('eggs')\n",
        "if spam > 5:\n",
        "print(\"bacon\")\n",
        "else:\n",
        "print('ham')\n",
        "print('spam')\n",
        "print('spam')\n",
        "\n",
        "answer:- the upper following condition give the result is\n",
        "          ham,spam,spam"
      ],
      "metadata": {
        "id": "GBKft0UFtpcd"
      }
    },
    {
      "cell_type": "code",
      "source": [],
      "metadata": {
        "id": "UhOgbRpUuWwO"
      },
      "execution_count": null,
      "outputs": []
    },
    {
      "cell_type": "markdown",
      "source": [
        "8. Write code that prints Hello if 1 is stored in spam, prints Howdy if 2 is stored in spam, and prints\n",
        "Greetings! if anything else is stored in spam."
      ],
      "metadata": {
        "id": "dUJw3ZX_uZTO"
      }
    },
    {
      "cell_type": "markdown",
      "source": [
        "spam=1\n",
        "if spam==1:\n",
        "  print('Hello')\n",
        "elif spam==2:\n",
        "  print('Greeting')\n",
        "else:\n",
        "  print('if anything else is stored in spam.')"
      ],
      "metadata": {
        "id": "8PJ-FRlkuqnD"
      }
    },
    {
      "cell_type": "code",
      "source": [],
      "metadata": {
        "id": "7avU_5aUuptC"
      },
      "execution_count": null,
      "outputs": []
    },
    {
      "cell_type": "markdown",
      "source": [
        "9.If your programme is stuck in an endless loop, what keys you’ll press?\n",
        "\n",
        "answer:-\n",
        "ctrl+c for windows this signal give program to give instruction to stop\n",
        "ctrl+break for windows this signal give program to give instruction to stop\n",
        "quit or exit for windows this signal give program to give instruction to stop"
      ],
      "metadata": {
        "id": "N2hvhHI1u989"
      }
    },
    {
      "cell_type": "code",
      "source": [],
      "metadata": {
        "id": "xDRmol4pv5Jm"
      },
      "execution_count": null,
      "outputs": []
    },
    {
      "cell_type": "markdown",
      "source": [
        "10. How can you tell the difference between break and continue?\n",
        "\n",
        "\n",
        "answer:-\n",
        "1.break:- break is keyword in python programming language\n",
        "          those are break the loop or instruction of future condition\n",
        "2.continue:- continue is keyword in python programming\n",
        "              those are skip a perticular iteration of loop or instuction"
      ],
      "metadata": {
        "id": "rLpT2k4Nv8BK"
      }
    },
    {
      "cell_type": "code",
      "source": [],
      "metadata": {
        "id": "ojAfejx-wo21"
      },
      "execution_count": null,
      "outputs": []
    },
    {
      "cell_type": "markdown",
      "source": [
        "11. In a for loop, what is the difference between range(10), range(0, 10), and range(0, 10, 1)?\n",
        "\n",
        "\n",
        "answer:-\n",
        "1.range(10) :- in for loop iterator goes to 0 to 9 and there is 10 is excudling\n",
        "2.range(0,10):- in for loop iterator goes to 0 to 9 and there is 10 excudling\n",
        "3.range(0,10,1):- in for loop iterator goes to 0 to 9 there is 10 exculding and there is 1 is skip of iteration or jump of iteration by default is 1"
      ],
      "metadata": {
        "id": "8LZ7zBVawuq7"
      }
    },
    {
      "cell_type": "code",
      "source": [],
      "metadata": {
        "id": "jCwOGtWYyLXl"
      },
      "execution_count": null,
      "outputs": []
    },
    {
      "cell_type": "markdown",
      "source": [
        "12. Write a short program that prints the numbers 1 to 10 using a for loop. Then write an equivalent\n",
        "program that prints the numbers 1 to 10 using a while loop."
      ],
      "metadata": {
        "id": "ZAhMhSVUyPZv"
      }
    },
    {
      "cell_type": "markdown",
      "source": [
        "answer:-\n",
        "using for loop:-\n",
        "for i in range(1,11):\n",
        "  print(i)\n",
        "using while loop:-\n",
        "i=1\n",
        "while i<=10\n",
        "  print(i)\n",
        "  i+=1"
      ],
      "metadata": {
        "id": "MZ3wPJkSy1BK"
      }
    },
    {
      "cell_type": "code",
      "source": [],
      "metadata": {
        "id": "AfNpYYhOy0JH"
      },
      "execution_count": null,
      "outputs": []
    },
    {
      "cell_type": "markdown",
      "source": [],
      "metadata": {
        "id": "54-cz4oTy0Y6"
      }
    },
    {
      "cell_type": "code",
      "source": [],
      "metadata": {
        "id": "IF6sZne6yU3c"
      },
      "execution_count": 3,
      "outputs": []
    },
    {
      "cell_type": "markdown",
      "source": [
        "13. If you had a function named bacon() inside a module named spam, how would you call it after\n",
        "importing spam?\n",
        "answer:- import spam\n",
        "          spam.bacon()"
      ],
      "metadata": {
        "id": "R37l3jyczFxz"
      }
    },
    {
      "cell_type": "code",
      "source": [],
      "metadata": {
        "id": "sk5RRDpzyciV"
      },
      "execution_count": 3,
      "outputs": []
    },
    {
      "cell_type": "code",
      "source": [],
      "metadata": {
        "id": "dPziI-GvytrE"
      },
      "execution_count": null,
      "outputs": []
    }
  ]
}