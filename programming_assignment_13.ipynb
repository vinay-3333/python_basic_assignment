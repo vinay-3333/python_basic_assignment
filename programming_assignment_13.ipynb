{
  "nbformat": 4,
  "nbformat_minor": 0,
  "metadata": {
    "colab": {
      "provenance": []
    },
    "kernelspec": {
      "name": "python3",
      "display_name": "Python 3"
    },
    "language_info": {
      "name": "python"
    }
  },
  "cells": [
    {
      "cell_type": "code",
      "execution_count": null,
      "metadata": {
        "colab": {
          "base_uri": "https://localhost:8080/"
        },
        "id": "pcnznCIk1Ja5",
        "outputId": "1d01fd9b-422e-403e-d28b-a7066d39fbe8"
      },
      "outputs": [
        {
          "output_type": "stream",
          "name": "stdout",
          "text": [
            "[18.257418583505537, 22.360679774997898, 24.49489742783178]\n"
          ]
        }
      ],
      "source": [
        "import math\n",
        "def square_root(D):\n",
        "  C=50\n",
        "  H=30\n",
        "  Q=math.sqrt(((2*C*D)/H))\n",
        "  return Q\n",
        "input_string=\"100,150,180\"\n",
        "data =[]\n",
        "d_value = input_string.split(',')\n",
        "for i in d_value:\n",
        "  p = square_root(float(i))\n",
        "  data.append(p)\n",
        "print(data)"
      ]
    },
    {
      "cell_type": "markdown",
      "source": [
        "Question 1:\n",
        "Write a program that calculates and prints the value according to the given formula:\n",
        "Q = Square root of [(2 * C * D)/H]\n",
        "Following are the fixed values of C and H:\n",
        "C is 50. H is 30.\n",
        "D is the variable whose values should be input to your program in a comma-separated\n",
        "sequence.\n",
        "Example\n",
        "Let us assume the following comma separated input sequence is given to the program:\n",
        "100,150,180\n",
        "The output of the program should be:\n",
        "18,22,24\n",
        "answer:-\n",
        "import math\n",
        "def square_root(D):\n",
        "  C=50\n",
        "  H=30\n",
        "  Q=math.sqrt(((2*C*D)/H))\n",
        "  return Q\n",
        "input_string=\"100,150,180\"\n",
        "data =[]\n",
        "d_value = input_string.split(',')\n",
        "for i in d_value:\n",
        "  p = square_root(float(i))\n",
        "  data.append(p)\n",
        "print(data)"
      ],
      "metadata": {
        "id": "g1WRRvPg1aDP"
      }
    },
    {
      "cell_type": "code",
      "source": [],
      "metadata": {
        "id": "dFMZQCj-8kbo"
      },
      "execution_count": null,
      "outputs": []
    },
    {
      "cell_type": "markdown",
      "source": [
        "Question 2:\n",
        "Write a program which takes 2 digits, X,Y as input and generates a 2-dimensional array. The\n",
        "element value in the i-th row and j-th column of the array should be i*j.\n",
        "Note: i=0,1.., X-1; j=0,1,¡Y-1.\n",
        "Example\n",
        "Suppose the following inputs are given to the program:\n",
        "3,5\n",
        "Then, the output of the program should be:\n",
        "[[0, 0, 0, 0, 0], [0, 1, 2, 3, 4], [0, 2, 4, 6, 8]]\n",
        "answer:-\n",
        "def generate_2d_array(x, y):\n",
        "  \"\"\"Generates a 2-dimensional array with the given dimensions.\n",
        "\n",
        "  Args:\n",
        "    x: The number of rows in the array.\n",
        "    y: The number of columns in the array.\n",
        "\n",
        "  Returns:\n",
        "    A 2-dimensional array with the given dimensions.\n",
        "  \"\"\"\n",
        "\n",
        "  array = [[0 for _ in range(y)] for _ in range(x)]\n",
        "  for i in range(x):\n",
        "    for j in range(y):\n",
        "      array[i][j] = i * j\n",
        "  return array\n",
        "\n",
        "# Get the input values.\n",
        "x = 3\n",
        "y = 5\n",
        "\n",
        "# Generate the 2-dimensional array.\n",
        "array = generate_2d_array(x, y)\n",
        "\n",
        "# Print the array.\n",
        "print(array)\n"
      ],
      "metadata": {
        "id": "e9h6Hmef8r62"
      }
    },
    {
      "cell_type": "code",
      "source": [
        "import numpy as np\n",
        "input_word =\"without,hello,bag,world\"\n",
        "new_data =[]\n",
        "data = input_word.split(\",\")\n",
        "\n",
        "new_data.append(np.sort(data))\n",
        "print(data)\n",
        "\n"
      ],
      "metadata": {
        "id": "q31DFFnh9DKm",
        "colab": {
          "base_uri": "https://localhost:8080/"
        },
        "outputId": "23b1b882-8cc9-4e4e-86c1-2fde6e89e00a"
      },
      "execution_count": 19,
      "outputs": [
        {
          "output_type": "stream",
          "name": "stdout",
          "text": [
            "['without', 'hello', 'bag', 'world']\n"
          ]
        }
      ]
    },
    {
      "cell_type": "markdown",
      "source": [
        "Question 3:\n",
        "Write a program that accepts a comma separated sequence of words as input and prints the\n",
        "words in a comma-separated sequence after sorting them alphabetically.\n",
        "Suppose the following input is supplied to the program:\n",
        "without,hello,bag,world\n",
        "Then, the output should be:\n",
        "bag,hello,without,world\n",
        "answer:-\n",
        "import numpy as np\n",
        "input_word =\"without,hello,bag,world\"\n",
        "new_data =[]\n",
        "data = input_word.split(\",\")\n",
        "\n",
        "new_data.append(np.sort(data))\n",
        "print(new_data)"
      ],
      "metadata": {
        "id": "O7-K8ssw9F5d"
      }
    },
    {
      "cell_type": "code",
      "source": [
        "import numpy as np\n",
        "data =\"hello world and practice makes perfect and hello\"\n",
        "data2=data.replace(\" \",\",\")\n",
        "data3 = data2.split(\",\")\n",
        "data4=np.sort(data3)\n",
        "print(data4)\n",
        "\n",
        "\n"
      ],
      "metadata": {
        "colab": {
          "base_uri": "https://localhost:8080/"
        },
        "id": "dhB3mCoTU1MC",
        "outputId": "537b6c79-9556-4863-8ec7-480db205ab28"
      },
      "execution_count": 30,
      "outputs": [
        {
          "output_type": "stream",
          "name": "stdout",
          "text": [
            "['and' 'and' 'hello' 'hello' 'makes' 'perfect' 'practice' 'world']\n"
          ]
        }
      ]
    },
    {
      "cell_type": "markdown",
      "source": [
        "Question 4:\n",
        "Write a program that accepts a sequence of whitespace separated words as input and prints\n",
        "the words after removing all duplicate words and sorting them alphanumerically.\n",
        "Suppose the following input is supplied to the program:\n",
        "hello world and practice makes perfect and hello world again\n",
        "Then, the output should be:\n",
        "again and hello makes perfect practice world\n",
        "answer:-\n",
        "import numpy as np\n",
        "data =\"hello world and practice makes perfect and hello\"\n",
        "data2=data.replace(\" \",\",\")\n",
        "data3 = data2.split(\",\")\n",
        "data4=np.sort(data3)\n",
        "print(data4)\n"
      ],
      "metadata": {
        "id": "-H6WZhFPU4QO"
      }
    },
    {
      "cell_type": "code",
      "source": [],
      "metadata": {
        "colab": {
          "base_uri": "https://localhost:8080/"
        },
        "id": "yV5eVJwMZGBQ",
        "outputId": "0ab62268-0a40-452f-ff02-0ad5a29bc77d"
      },
      "execution_count": 36,
      "outputs": [
        {
          "output_type": "execute_result",
          "data": {
            "text/plain": [
              "(3, 10)"
            ]
          },
          "metadata": {},
          "execution_count": 36
        }
      ]
    },
    {
      "cell_type": "markdown",
      "source": [
        "Question 5:\n",
        "Write a program that accepts a sentence and calculate the number of letters and digits.\n",
        "Suppose the following input is supplied to the program:\n",
        "hello world! 123\n",
        "Then, the output should be:\n",
        "LETTERS 10\n",
        "answer:-\n",
        "def count(a):\n",
        "  num=0\n",
        "  letter=0\n",
        "  for i in a:  \n",
        "    if i.isalpha():\n",
        "      letter+=1\n",
        "    elif i.isnumeric():\n",
        "      num+=1\n",
        "  return num,letter\n",
        "count(\"hello world! 123\")\n",
        "\n",
        "DIGITS 3"
      ],
      "metadata": {
        "id": "2gM08tjqZKxe"
      }
    },
    {
      "cell_type": "code",
      "source": [],
      "metadata": {
        "id": "B8NabUL9aPd-"
      },
      "execution_count": 33,
      "outputs": []
    },
    {
      "cell_type": "markdown",
      "source": [
        "Question 6:\n",
        "A website requires the users to input username and password to register. Write a program to\n",
        "check the validity of password input by users.\n",
        "Following are the criteria for checking the password:\n",
        "1. At least 1 letter between [a-z]\n",
        "2. At least 1 number between [0-9]\n",
        "1. At least 1 letter between [A-Z]\n",
        "3. At least 1 character from [$#@]\n",
        "4. Minimum length of transaction password: 6\n",
        "5. Maximum length of transaction password: 12\n",
        "Your program should accept a sequence of comma separated passwords and will check them\n",
        "according to the above criteria. Passwords that match the criteria are to be printed, each\n",
        "separated by a comma.\n",
        "Example\n",
        "If the following passwords are given as input to the program:\n",
        "ABd1234@1,a F1#,2w3E*,2We3345\n",
        "Then, the output of the program should be:\n",
        "ABd1234@1\n",
        "answer:-\n",
        "import re\n",
        "\n",
        "def is_valid_password(password):\n",
        "  \"\"\"Checks if the given password is valid.\n",
        "\n",
        "  Args:\n",
        "    password: A string representing the password to check.\n",
        "\n",
        "  Returns:\n",
        "    A boolean value indicating whether the password is valid or not.\n",
        "  \"\"\"\n",
        "\n",
        "  # Check if the password has at least one letter between [a-z].\n",
        "  if not re.search(\"[a-z]\", password):\n",
        "    return False\n",
        "\n",
        "  # Check if the password has at least one number between [0-9].\n",
        "  if not re.search(\"[0-9]\", password):\n",
        "    return False\n",
        "\n",
        "  # Check if the password has at least one letter between [A-Z].\n",
        "  if not re.search(\"[A-Z]\", password):\n",
        "    return False\n",
        "\n",
        "  # Check if the password has at least one character from [$#@].\n",
        "  if not re.search(\"[#@]\", password):\n",
        "    return False\n",
        "\n",
        "  # Check if the password is at least 6 characters long.\n",
        "  if len(password) < 6:\n",
        "    return False\n",
        "\n",
        "  # Check if the password is at most 12 characters long.\n",
        "  if len(password) > 12:\n",
        "    return False\n",
        "\n",
        "  return True\n",
        "\n",
        "# Get the comma-separated password sequence.\n",
        "password_sequence = \"ABd1234@1,a F1#,2w3E*,2We3345\"\n",
        "\n",
        "# Split the password sequence into a list of passwords.\n",
        "passwords = password_sequence.split(\",\")\n",
        "\n",
        "# Check the validity of each password.\n",
        "valid_passwords = []\n",
        "for password in passwords:\n",
        "  if is_valid_password(password):\n",
        "    valid_passwords.append(password)\n",
        "\n",
        "# Print the valid passwords.\n",
        "print(\",\".join(valid_passwords))\n"
      ],
      "metadata": {
        "id": "VJI8keSrbahG"
      }
    },
    {
      "cell_type": "code",
      "source": [],
      "metadata": {
        "id": "nXquyEhhbm2l"
      },
      "execution_count": null,
      "outputs": []
    }
  ]
}