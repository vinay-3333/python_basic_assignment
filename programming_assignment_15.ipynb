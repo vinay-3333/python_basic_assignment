{
  "nbformat": 4,
  "nbformat_minor": 0,
  "metadata": {
    "colab": {
      "provenance": []
    },
    "kernelspec": {
      "name": "python3",
      "display_name": "Python 3"
    },
    "language_info": {
      "name": "python"
    }
  },
  "cells": [
    {
      "cell_type": "code",
      "execution_count": null,
      "metadata": {
        "id": "jtP42UqmpX_a"
      },
      "outputs": [],
      "source": []
    },
    {
      "cell_type": "markdown",
      "source": [
        "Question 1:\n",
        "Please write a program using generator to print the numbers which can be divisible by 5 and\n",
        "7 between 0 and n in comma separated form while n is input by console.\n",
        "Example:\n",
        "If the following n is given as input to the program:\n",
        "100\n",
        "Then, the output of the program should be:\n",
        "0,35,70\n",
        "answer:-\n",
        "def divisible_by_5_and_7_generator(n):\n",
        "  \"\"\"Generates a sequence of numbers which are divisible by 5 and 7 between 0 and n.\n",
        "\n",
        "  Args:\n",
        "    n: The upper bound of the sequence.\n",
        "\n",
        "  Yields:\n",
        "    A number which is divisible by 5 and 7.\n",
        "  \"\"\"\n",
        "\n",
        "  for i in range(n + 1):\n",
        "    if i % 5 == 0 and i % 7 == 0:\n",
        "      yield i\n",
        "\n",
        "\n",
        "def main():\n",
        "  \"\"\"Prints the numbers which can be divisible by 5 and 7 between 0 and n in comma-separated form while n is input by the console.\"\"\"\n",
        "\n",
        "  n = int(input(\"Enter a value for n: \"))\n",
        "\n",
        "  # Generate a sequence of numbers which are divisible by 5 and 7 between 0 and n.\n",
        "  sequence = divisible_by_5_and_7_generator(n)\n",
        "\n",
        "  # Print the sequence in comma-separated form.\n",
        "  print(\",\".join([str(number) for number in sequence]))\n",
        "\n",
        "\n",
        "if __name__ == \"__main__\":\n",
        "  main()\n"
      ],
      "metadata": {
        "id": "1EVnwoHSpt2d"
      }
    },
    {
      "cell_type": "code",
      "source": [],
      "metadata": {
        "id": "hQeOAkzGqMXp"
      },
      "execution_count": null,
      "outputs": []
    },
    {
      "cell_type": "markdown",
      "source": [
        "Question 2:\n",
        "Please write a program using generator to print the even numbers between 0 and n in comma\n",
        "separated form while n is input by console.\n",
        "Example:\n",
        "If the following n is given as input to the program:\n",
        "10\n",
        "Then, the output of the program should be:\n",
        "0,2,4,6,8,10\n",
        "answer:-\n",
        "def even_numbers_generator(n):\n",
        "  \"\"\"Generates a sequence of even numbers between 0 and n.\n",
        "\n",
        "  Args:\n",
        "    n: The upper bound of the sequence.\n",
        "\n",
        "  Yields:\n",
        "    An even number.\n",
        "  \"\"\"\n",
        "\n",
        "  for i in range(n + 1):\n",
        "    if i % 2 == 0:\n",
        "      yield i\n",
        "\n",
        "\n",
        "def main():\n",
        "  \"\"\"Prints the even numbers between 0 and n in comma-separated form while n is input by the console.\"\"\"\n",
        "\n",
        "  n = int(input(\"Enter a value for n: \"))\n",
        "\n",
        "  # Generate a sequence of even numbers between 0 and n.\n",
        "  sequence = even_numbers_generator(n)\n",
        "\n",
        "  # Print the sequence in comma-separated form.\n",
        "  print(\",\".join([str(number) for number in sequence]))\n",
        "\n",
        "\n",
        "if __name__ == \"__main__\":\n",
        "  main()\n"
      ],
      "metadata": {
        "id": "iL6eGZ__qRe6"
      }
    },
    {
      "cell_type": "code",
      "source": [],
      "metadata": {
        "id": "30HwFWG4qcN9"
      },
      "execution_count": null,
      "outputs": []
    },
    {
      "cell_type": "markdown",
      "source": [
        "Question 3:\n",
        "The Fibonacci Sequence is computed based on the following formula:\n",
        "f(n)=0 if n=0\n",
        "f(n)=1 if n=1\n",
        "f(n)=f(n-1)+f(n-2) if n&gt;1\n",
        "Please write a program using list comprehension to print the Fibonacci Sequence in comma\n",
        "separated form with a given n input by console.\n",
        "Example:\n",
        "If the following n is given as input to the program:\n",
        "7\n",
        "\n",
        "Then, the output of the program should be:\n",
        "0,1,1,2,3,5,8,13\n",
        "answer:-\n",
        "def fibonacci_sequence(n):\n",
        "  \"\"\"Generates a list of the Fibonacci Sequence up to the given n.\n",
        "\n",
        "  Args:\n",
        "    n: The upper bound of the Fibonacci Sequence.\n",
        "\n",
        "  Returns:\n",
        "    A list of the Fibonacci Sequence up to the given n.\n",
        "  \"\"\"\n",
        "\n",
        "  fibonacci_sequence = [0, 1]\n",
        "  for i in range(2, n + 1):\n",
        "    fibonacci_sequence.append(fibonacci_sequence[i - 1] + fibonacci_sequence[i - 2])\n",
        "  return fibonacci_sequence\n",
        "\n",
        "\n",
        "def main():\n",
        "  \"\"\"Prints the Fibonacci Sequence in comma-separated form with a given n input by the console.\"\"\"\n",
        "\n",
        "  n = int(input(\"Enter a value for n: \"))\n",
        "\n",
        "  # Generate the Fibonacci Sequence up to the given n.\n",
        "  fibonacci_sequence = fibonacci_sequence(n)\n",
        "\n",
        "  # Print the Fibonacci Sequence in comma-separated form.\n",
        "  print(\",\".join([str(number) for number in fibonacci_sequence]))\n",
        "\n",
        "\n",
        "if __name__ == \"__main__\":\n",
        "  main()\n"
      ],
      "metadata": {
        "id": "jeOLD9r4qctL"
      }
    },
    {
      "cell_type": "code",
      "source": [],
      "metadata": {
        "id": "PZ3pWnnrqn_e"
      },
      "execution_count": null,
      "outputs": []
    },
    {
      "cell_type": "markdown",
      "source": [
        "Question 4:\n",
        "Assuming that we have some email addresses in the &quot;username@companyname.com&quot; format,\n",
        "please write program to print the user name of a given email address. Both user names and\n",
        "company names are composed of letters only.\n",
        "Example:\n",
        "If the following email address is given as input to the program:\n",
        "john@google.com\n",
        "Then, the output of the program should be:\n",
        "john\n",
        "answer:-\n",
        "import re\n",
        "\n",
        "def get_username_from_email_address(email_address):\n",
        "  \"\"\"Extracts the username from the given email address.\n",
        "\n",
        "  Args:\n",
        "    email_address: A string representing the email address to extract the username from.\n",
        "\n",
        "  Returns:\n",
        "    A string representing the username.\n",
        "  \"\"\"\n",
        "\n",
        "  # Split the email address into the username and the company name.\n",
        "  username, company_name = email_address.split(\"@\")\n",
        "\n",
        "  # Check if the username and the company name are composed of letters only.\n",
        "  if not re.match(\"^[a-zA-Z]+$\", username) or not re.match(\"^[a-zA-Z]+$\", company_name):\n",
        "    raise ValueError(\"Email address is not in the username@companyname.com format.\")\n",
        "\n",
        "  # Return the username.\n",
        "  return username\n",
        "\n",
        "\n",
        "def main():\n",
        "  \"\"\"Prints the username of the given email address.\"\"\"\n",
        "\n",
        "  email_address = input(\"Enter an email address: \")\n",
        "\n",
        "  # Get the username from the email address.\n",
        "  username = get_username_from_email_address(email_address)\n",
        "\n",
        "  # Print the username.\n",
        "  print(username)\n",
        "\n",
        "\n",
        "if __name__ == \"__main__\":\n",
        "  main()\n"
      ],
      "metadata": {
        "id": "Zgxa6yXMqwmF"
      }
    },
    {
      "cell_type": "code",
      "source": [],
      "metadata": {
        "id": "GIcFzzbZq3Ni"
      },
      "execution_count": null,
      "outputs": []
    },
    {
      "cell_type": "markdown",
      "source": [
        "Question 5:\n",
        "Define a class named Shape and its subclass Square. The Square class has an init function\n",
        "which takes a length as argument. Both classes have a area function which can print the area\n",
        "of the shape where Shape&#39;s area is 0 by default.\n",
        "answer:-\n",
        "class Shape:\n",
        "  def __init__(self):\n",
        "    self.area = 0\n",
        "\n",
        "  def area(self):\n",
        "    print(self.area)\n",
        "\n",
        "class Square(Shape):\n",
        "  def __init__(self, length):\n",
        "    super().__init__()\n",
        "    self.length = length\n",
        "\n",
        "  def area(self):\n",
        "    self.area = self.length * self.length\n",
        "    super().area()\n",
        "\n",
        "# Create a Square object.\n",
        "square = Square(10)\n",
        "\n",
        "# Call the area() function.\n",
        "square.area()\n"
      ],
      "metadata": {
        "id": "gNjyPbaEq5IE"
      }
    },
    {
      "cell_type": "code",
      "source": [],
      "metadata": {
        "id": "tTTctI-VrBdX"
      },
      "execution_count": null,
      "outputs": []
    }
  ]
}