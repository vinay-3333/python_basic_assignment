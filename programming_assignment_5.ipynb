{
  "nbformat": 4,
  "nbformat_minor": 0,
  "metadata": {
    "colab": {
      "provenance": []
    },
    "kernelspec": {
      "name": "python3",
      "display_name": "Python 3"
    },
    "language_info": {
      "name": "python"
    }
  },
  "cells": [
    {
      "cell_type": "code",
      "execution_count": null,
      "metadata": {
        "id": "P_ym-yE-9JDe"
      },
      "outputs": [],
      "source": []
    },
    {
      "cell_type": "markdown",
      "source": [
        "1. Write a Python Program to Find LCM?\n",
        "answer:-\n",
        "def lcm(a, b):\n",
        "  gcd = a // a.gcd(b)\n",
        "  lcm = a * b // gcd\n",
        "  return lcm\n",
        "\n",
        "\n",
        "\n",
        "print(lcm(10, 15))\n",
        "print(lcm(24, 36))"
      ],
      "metadata": {
        "id": "89GCR__r9Zes"
      }
    },
    {
      "cell_type": "markdown",
      "source": [
        "2. Write a Python Program to Find HCF?\n",
        "answer:-\n",
        "def hcf(a, b):\n",
        "  if a <= 0 or b <= 0:\n",
        "    return 0\n",
        "  elif a == b:\n",
        "    return a\n",
        "  else:\n",
        "    return hcf(min(a, b), a % b)\n",
        "\n",
        "print(hcf(10, 15))\n",
        "print(hcf(24, 36))"
      ],
      "metadata": {
        "id": "DQWRVej39tKB"
      }
    },
    {
      "cell_type": "code",
      "source": [],
      "metadata": {
        "id": "ldY0BHDd99tt"
      },
      "execution_count": null,
      "outputs": []
    },
    {
      "cell_type": "markdown",
      "source": [
        "3. Write a Python Program to Convert Decimal to Binary, Octal and Hexadecimal?\n",
        "answer:-\n",
        "def decimal_to_binary(decimal_number):\n",
        "  binary_number = bin(decimal_number)\n",
        "  return binary_number\n",
        "\n",
        "def decimal_to_octal(decimal_number):\n",
        "  octal_number = oct(decimal_number)\n",
        "  return octal_number\n",
        "\n",
        "def decimal_to_hexadecimal(decimal_number):\n",
        "  hexadecimal_number = hex(decimal_number)\n",
        "  return hexadecimal_number\n",
        "decimal_number = 10\n",
        "\n",
        "print(decimal_to_binary(decimal_number))\n",
        "print(decimal_to_octal(decimal_number))\n",
        "print(decimal_to_hexadecimal(decimal_number))"
      ],
      "metadata": {
        "id": "Yj9iIqe79_yC"
      }
    },
    {
      "cell_type": "code",
      "source": [],
      "metadata": {
        "id": "-p_x_w8k-bYL"
      },
      "execution_count": null,
      "outputs": []
    },
    {
      "cell_type": "markdown",
      "source": [
        "4. Write a Python Program To Find ASCII value of a character?\n",
        "answer:-\n",
        "def ascii_value(character):\n",
        "  ascii_value = ord(character)\n",
        "  return ascii_value\n",
        "\n",
        "character = 'A'\n",
        "\n",
        "print(ascii_value(character))"
      ],
      "metadata": {
        "id": "CoUC_WpH-dx8"
      }
    },
    {
      "cell_type": "code",
      "source": [
        "def calculator(operation,a,b):\n",
        "  if operation =='add':\n",
        "    c = a+b\n",
        "    return c\n",
        "  elif operation =='subtract':\n",
        "    c = a-b\n",
        "    return c\n",
        "  elif operation =='multiply':\n",
        "    c = a*b\n",
        "    return c\n",
        "  elif operation =='divide':\n",
        "    c = a/b\n",
        "    return c\n",
        "\n",
        "calculator('add',10,20)"
      ],
      "metadata": {
        "colab": {
          "base_uri": "https://localhost:8080/"
        },
        "id": "sGU8-7Vo-vL8",
        "outputId": "7c591121-d893-451a-cf28-22b173e64b10"
      },
      "execution_count": 1,
      "outputs": [
        {
          "output_type": "execute_result",
          "data": {
            "text/plain": [
              "30"
            ]
          },
          "metadata": {},
          "execution_count": 1
        }
      ]
    },
    {
      "cell_type": "markdown",
      "source": [
        "5. Write a Python Program to Make a Simple Calculator with 4 basic mathematical operations?\n",
        "answer:-\n",
        "def calculator(operation,a,b):\n",
        "  if operation =='add':\n",
        "    c = a+b\n",
        "    return c\n",
        "  elif operation =='subtract':\n",
        "    c = a-b\n",
        "    return c\n",
        "  elif operation =='multiply':\n",
        "    c = a*b\n",
        "    return c\n",
        "  elif operation =='divide':\n",
        "    c = a/b\n",
        "    return c\n",
        "\n",
        "calculator('add',10,20)"
      ],
      "metadata": {
        "id": "VmEfPGi2-xK5"
      }
    },
    {
      "cell_type": "code",
      "source": [],
      "metadata": {
        "id": "b0PfniWE_qdk"
      },
      "execution_count": null,
      "outputs": []
    }
  ]
}