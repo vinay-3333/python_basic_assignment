{
  "nbformat": 4,
  "nbformat_minor": 0,
  "metadata": {
    "colab": {
      "provenance": []
    },
    "kernelspec": {
      "name": "python3",
      "display_name": "Python 3"
    },
    "language_info": {
      "name": "python"
    }
  },
  "cells": [
    {
      "cell_type": "code",
      "execution_count": null,
      "metadata": {
        "id": "vxiV7Pi-Y65p"
      },
      "outputs": [],
      "source": []
    },
    {
      "cell_type": "markdown",
      "source": [
        "Question1\n",
        "Create a function that takes an integer and returns a list from 1 to the given number, where:\n",
        "1. If the number can be divided evenly by 4, amplify it by 10 (i.e. return 10 times the\n",
        "number).\n",
        "2. If the number cannot be divided evenly by 4, simply return the number.\n",
        "Examples\n",
        "amplify(4) ➞ [1, 2, 3, 40]\n",
        "amplify(3) ➞ [1, 2, 3]\n",
        "amplify(25) ➞ [1, 2, 3, 40, 5, 6, 7, 80, 9, 10, 11, 120, 13, 14, 15, 160,\n",
        "17, 18, 19, 200, 21, 22, 23, 240, 25]\n",
        "Notes\n",
        " The given integer will always be equal to or greater than 1.\n",
        " Include the number (see example above).\n",
        " To perform this problem with its intended purpose, try doing it with list\n",
        "comprehensions. If that&#39;s too difficult, just solve the challenge any way you can.\n",
        "answer:-\n",
        "def amplify(num):\n",
        "    # Use list comprehension to generate the list\n",
        "    return [x * 10 if x % 4 == 0 else x for x in range(1, num + 1)]\n",
        "\n",
        "# Test cases\n",
        "print(amplify(4))   # [1, 2, 3, 40]\n",
        "print(amplify(3))   # [1, 2, 3]\n",
        "print(amplify(25))  # [1, 2, 3, 40, 5, 6, 7, 80, 9, 10, 11, 120, 13, 14, 15, 160, 17, 18, 19, 200, 21, 22, 23, 240, 25]\n"
      ],
      "metadata": {
        "id": "J1vv7F2bZDZg"
      }
    },
    {
      "cell_type": "code",
      "source": [],
      "metadata": {
        "id": "zRlatd-EZQU0"
      },
      "execution_count": null,
      "outputs": []
    },
    {
      "cell_type": "markdown",
      "source": [
        "Question2\n",
        "Create a function that takes a list of numbers and return the number that&#39;s unique.\n",
        "Examples\n",
        "unique([3, 3, 3, 7, 3, 3]) ➞ 7\n",
        "unique([0, 0, 0.77, 0, 0]) ➞ 0.77\n",
        "unique([0, 1, 1, 1, 1, 1, 1, 1]) ➞ 0\n",
        "Notes\n",
        "Test cases will always have exactly one unique number while all others are the same.\n",
        "answer:-\n",
        "def unique(numbers):\n",
        "    # Create a dictionary to count the occurrences of each number\n",
        "    count_dict = {}\n",
        "    \n",
        "    # Count the occurrences of each number in the list\n",
        "    for num in numbers:\n",
        "        if num in count_dict:\n",
        "            count_dict[num] += 1\n",
        "        else:\n",
        "            count_dict[num] = 1\n",
        "    \n",
        "    # Iterate through the dictionary to find the unique number\n",
        "    for num, count in count_dict.items():\n",
        "        if count == 1:\n",
        "            return num\n",
        "\n",
        "# Test cases\n",
        "print(unique([3, 3, 3, 7, 3, 3]))        # 7\n",
        "print(unique([0,\n"
      ],
      "metadata": {
        "id": "imDrfab0ZTHB"
      }
    },
    {
      "cell_type": "code",
      "source": [],
      "metadata": {
        "id": "UWpYwsdKZZL7"
      },
      "execution_count": null,
      "outputs": []
    },
    {
      "cell_type": "markdown",
      "source": [
        "Question3\n",
        "Your task is to create a Circle constructor that creates a circle with a radius provided by an\n",
        "argument. The circles constructed must have two getters getArea() (PIr^2) and\n",
        "getPerimeter() (2PI*r) which give both respective areas and perimeter (circumference).\n",
        "\n",
        "For help with this class, I have provided you with a Rectangle constructor which you can use\n",
        "as a base example.\n",
        "Examples\n",
        "circy = Circle(11)\n",
        "circy.getArea()\n",
        "# Should return 380.132711084365\n",
        "circy = Circle(4.44)\n",
        "circy.getPerimeter()\n",
        "# Should return 27.897342763877365\n",
        "Notes\n",
        "Round results up to the nearest integer.\n",
        "answer:-\n",
        "import math\n",
        "\n",
        "class Circle:\n",
        "    def __init__(self, radius):\n",
        "        self.radius = radius\n",
        "\n",
        "    def getArea(self):\n",
        "        area = math.pi * (self.radius ** 2)\n",
        "        return round(area)\n",
        "\n",
        "    def getPerimeter(self):\n",
        "        perimeter = 2 * math.pi * self.radius\n",
        "        return round(perimeter)\n",
        "\n",
        "# Examples\n",
        "circy = Circle(11)\n",
        "print(circy.getArea())        # Should return 380\n",
        "circy = Circle(4.44)\n",
        "print(circy.getPerimeter())   # Should return\n"
      ],
      "metadata": {
        "id": "y2coZ-9zZcgR"
      }
    },
    {
      "cell_type": "code",
      "source": [],
      "metadata": {
        "id": "8YBNCNwPZttJ"
      },
      "execution_count": null,
      "outputs": []
    },
    {
      "cell_type": "markdown",
      "source": [
        "Question4\n",
        "Create a function that takes a list of strings and return a list, sorted from shortest to longest.\n",
        "Examples\n",
        "sort_by_length([&quot;Google&quot;, &quot;Apple&quot;, &quot;Microsoft&quot;])\n",
        "➞ [&quot;Apple&quot;, &quot;Google&quot;, &quot;Microsoft&quot;]\n",
        "sort_by_length([&quot;Leonardo&quot;, &quot;Michelangelo&quot;, &quot;Raphael&quot;, &quot;Donatello&quot;])\n",
        "➞ [&quot;Raphael&quot;, &quot;Leonardo&quot;, &quot;Donatello&quot;, &quot;Michelangelo&quot;]\n",
        "sort_by_length([&quot;Turing&quot;, &quot;Einstein&quot;, &quot;Jung&quot;])\n",
        "➞ [&quot;Jung&quot;, &quot;Turing&quot;, &quot;Einstein&quot;]\n",
        "Notes\n",
        "All test cases contain lists with strings of different lengths, so you won&#39;t have to deal with\n",
        "multiple strings of the same length.\n",
        "answer:-\n",
        "def sort_by_length(lst):\n",
        "    return sorted(lst, key=len)\n",
        "\n",
        "# Examples\n",
        "result1 = sort_by_length([\"Google\", \"Apple\", \"Microsoft\"])\n",
        "print(result1)  # Should return [\"Apple\", \"Google\", \"Microsoft\"]\n",
        "\n",
        "result2 = sort_by_length([\"Leonardo\", \"Michelangelo\", \"Raphael\", \"Donatello\"])\n",
        "print(result2)  # Should return [\"Raphael\", \"Leonardo\", \"Donatello\", \"Michelangelo\"]\n",
        "\n",
        "result3 = sort_by_length([\"Turing\", \"Einstein\", \"Jung\"])\n",
        "print(result3)  # Should return [\"Jung\", \"Turing\", \"Einstein\"]\n",
        "\n"
      ],
      "metadata": {
        "id": "mEh_1aXPZwM3"
      }
    },
    {
      "cell_type": "code",
      "source": [],
      "metadata": {
        "id": "MTUctGY3Z2P6"
      },
      "execution_count": null,
      "outputs": []
    },
    {
      "cell_type": "markdown",
      "source": [
        "Question5\n",
        "Create a function that validates whether three given integers form a Pythagorean triplet. The\n",
        "sum of the squares of the two smallest integers must equal the square of the largest number to\n",
        "be validated.\n",
        "\n",
        "Examples\n",
        "is_triplet(3, 4, 5) ➞ True\n",
        "# 3² + 4² = 25\n",
        "# 5² = 25\n",
        "is_triplet(13, 5, 12) ➞ True\n",
        "# 5² + 12² = 169\n",
        "# 13² = 169\n",
        "is_triplet(1, 2, 3) ➞ False\n",
        "# 1² + 2² = 5\n",
        "# 3² = 9\n",
        "Notes\n",
        "Numbers may not be given in a sorted order..\n",
        "answer\"-\n",
        "def is_triplet(a, b, c):\n",
        "    # Sort the numbers to ensure we are comparing the squares of the smallest and largest\n",
        "    a, b, c = sorted([a, b, c])\n",
        "    \n",
        "    # Check if it's a Pythagorean triplet\n",
        "    return a**2 + b**2 == c**2\n",
        "\n",
        "# Examples\n",
        "print(is_triplet(3, 4, 5))     # Should return True\n",
        "print(is_triplet(13, 5, 12))   # Should return True\n",
        "print(is_triplet(1, 2, 3))     # Should return False\n"
      ],
      "metadata": {
        "id": "tDVDEqE5Z5I3"
      }
    }
  ]
}