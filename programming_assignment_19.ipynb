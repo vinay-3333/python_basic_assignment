{
  "nbformat": 4,
  "nbformat_minor": 0,
  "metadata": {
    "colab": {
      "provenance": []
    },
    "kernelspec": {
      "name": "python3",
      "display_name": "Python 3"
    },
    "language_info": {
      "name": "python"
    }
  },
  "cells": [
    {
      "cell_type": "code",
      "execution_count": 13,
      "metadata": {
        "colab": {
          "base_uri": "https://localhost:8080/",
          "height": 36
        },
        "id": "z1h4pYMihueJ",
        "outputId": "a3adb436-e9b2-4e4b-e530-02cf81727032"
      },
      "outputs": [
        {
          "output_type": "execute_result",
          "data": {
            "text/plain": [
              "'aabbccdd'"
            ],
            "application/vnd.google.colaboratory.intrinsic+json": {
              "type": "string"
            }
          },
          "metadata": {},
          "execution_count": 13
        }
      ],
      "source": []
    },
    {
      "cell_type": "markdown",
      "source": [
        "Question1\n",
        "Create a function that takes a string and returns a string in which each character is repeated\n",
        "once.\n",
        "Examples\n",
        "double_char(&quot;String&quot;) ➞ &quot;SSttrriinngg&quot;\n",
        "double_char(&quot;Hello World!&quot;) ➞ &quot;HHeelllloo WWoorrlldd!!&quot;\n",
        "double_char(&quot;1234!_ &quot;) ➞ &quot;11223344!!__ &quot;\n",
        "answer:-\n",
        "def double_char(a):\n",
        "  c=''\n",
        "  for i in a:\n",
        "    c += i*2\n",
        "  return c\n",
        "a = \"abcd\"\n",
        "double_char(a)\n",
        "\n",
        "# print(b)|"
      ],
      "metadata": {
        "id": "l-pIdeWYh1cc"
      }
    },
    {
      "cell_type": "code",
      "source": [
        "def reverse(a):\n",
        "  if a==True:\n",
        "    return False\n",
        "  elif a==False:\n",
        "    return True\n",
        "  else:\n",
        "    return \"boolean expected\"\n",
        "\n",
        "\n",
        "print(reverse(True))\n",
        "print(reverse(False) )\n",
        "print(reverse(0))\n",
        "print(reverse(None) )"
      ],
      "metadata": {
        "colab": {
          "base_uri": "https://localhost:8080/"
        },
        "id": "u2zTTlgKkJQX",
        "outputId": "1da0589b-9a39-4550-fcc7-c46d8784544d"
      },
      "execution_count": 15,
      "outputs": [
        {
          "output_type": "stream",
          "name": "stdout",
          "text": [
            "False\n",
            "True\n",
            "True\n",
            "boolean expected\n"
          ]
        }
      ]
    },
    {
      "cell_type": "code",
      "source": [],
      "metadata": {
        "id": "D4QVGzetk5vN"
      },
      "execution_count": null,
      "outputs": []
    },
    {
      "cell_type": "markdown",
      "source": [
        "Question2\n",
        "Create a function that reverses a boolean value and returns the string &quot;boolean expected&quot;\n",
        "if another variable type is given.\n",
        "Examples\n",
        "reverse(True) ➞ False\n",
        "reverse(False) ➞ True\n",
        "reverse(0) ➞ &quot;boolean expected&quot;\n",
        "reverse(None) ➞ &quot;boolean expected&quot;\n",
        "answer:-\n",
        "def reverse(a):\n",
        "  if a==True:\n",
        "    return False\n",
        "  elif a==False:\n",
        "    return True\n",
        "  else:\n",
        "    return \"boolean expected\"\n",
        "\n",
        "\n",
        "reverse(True)\n",
        "reverse(False)\n",
        "reverse(0)\n",
        "reverse(None)"
      ],
      "metadata": {
        "id": "r1aYPIiskXXV"
      }
    },
    {
      "cell_type": "markdown",
      "source": [
        "Question3\n",
        "Create a function that returns the thickness (in meters) of a piece of paper after folding it n\n",
        "number of times. The paper starts off with a thickness of 0.5mm.\n",
        "Examples\n",
        "num_layers(1) ➞ &quot;0.001m&quot;\n",
        "# Paper folded once is 1mm (equal to 0.001m)\n",
        "num_layers(4) ➞ &quot;0.008m&quot;\n",
        "# Paper folded 4 times is 8mm (equal to 0.008m)\n",
        "num_layers(21) ➞ &quot;1048.576m&quot;\n",
        "# Paper folded 21 times is 1048576mm (equal to 1048.576m)\n",
        "answer:-\n",
        "def num_layers(n):\n",
        "    # Initial thickness in millimeters\n",
        "    initial_thickness_mm = 0.5\n",
        "    \n",
        "    # Calculate the thickness in meters\n",
        "    thickness_m = initial_thickness_mm * 2 ** n / 1000\n",
        "    \n",
        "    # Format the result as a string with 3 decimal places\n",
        "    return \"{:.3f}m\".format(thickness_m)\n",
        "\n",
        "# Test cases\n",
        "print(num_layers(1))  # Should print \"0.001m\"\n",
        "print(num_layers(4))  # Should print \"0.008m\"\n",
        "print(num_layers(21)) # Should print \"1048.576m\"\n"
      ],
      "metadata": {
        "id": "CDMpdd6ilIce"
      }
    },
    {
      "cell_type": "code",
      "source": [],
      "metadata": {
        "id": "-8JZqrGKlcxt"
      },
      "execution_count": null,
      "outputs": []
    },
    {
      "cell_type": "markdown",
      "source": [
        "Question4\n",
        "\n",
        "Create a function that takes a single string as argument and returns an ordered list containing\n",
        "the indices of all capital letters in the string.\n",
        "Examples\n",
        "index_of_caps(&quot;eDaBiT&quot;) ➞ [1, 3, 5]\n",
        "index_of_caps(&quot;eQuINoX&quot;) ➞ [1, 3, 4, 6]\n",
        "index_of_caps(&quot;determine&quot;) ➞ []\n",
        "index_of_caps(&quot;STRIKE&quot;) ➞ [0, 1, 2, 3, 4, 5]\n",
        "index_of_caps(&quot;sUn&quot;) ➞ [1]\n",
        "answer:-\n",
        "def index_of_caps(word):\n",
        "    # Initialize an empty list to store the indices of capital letters\n",
        "    cap_indices = []\n",
        "    \n",
        "    # Iterate through each character and its index in the string\n",
        "    for index, char in enumerate(word):\n",
        "        # Check if the character is a capital letter\n",
        "        if char.isupper():\n",
        "            # If it is, add its index to the list\n",
        "            cap_indices.append(index)\n",
        "    \n",
        "    return cap_indices\n",
        "\n",
        "# Test cases\n",
        "print(index_of_caps(\"eDaBiT\"))   # Should print [1, 3, 5]\n",
        "print(index_of_caps(\"eQuINoX\"))  # Should print [1, 3, 4, 6]\n",
        "print(index_of_caps(\"determine\")) # Should print []\n",
        "print(index_of_caps(\"STRIKE\"))    # Should print [0, 1, 2, 3, 4, 5]\n",
        "print(index_of_caps(\"sUn\"))       # Should print [1]\n"
      ],
      "metadata": {
        "id": "IC6RapNileHE"
      }
    },
    {
      "cell_type": "code",
      "source": [],
      "metadata": {
        "colab": {
          "base_uri": "https://localhost:8080/"
        },
        "id": "TW5nnfy4l1VN",
        "outputId": "797c078c-6ca5-4c77-b5f9-dc259bd7aab3"
      },
      "execution_count": 22,
      "outputs": [
        {
          "output_type": "execute_result",
          "data": {
            "text/plain": [
              "[2, 4, 6, 8]"
            ]
          },
          "metadata": {},
          "execution_count": 22
        }
      ]
    },
    {
      "cell_type": "markdown",
      "source": [
        "Question5\n",
        "Using list comprehensions, create a function that finds all even numbers from 1 to the given\n",
        "number.\n",
        "Examples\n",
        "answer:-\n",
        "def even_num(a):\n",
        "  if type(a)==str:\n",
        "    return \"put only int value\"\n",
        "  else:\n",
        "    b =[]\n",
        "    for i in range(1,a+1):\n",
        "      if i%2==0:\n",
        "        b.append(i)\n",
        "    return b\n",
        "        \n",
        "even_num(8)\n",
        "even_nums(4)\n",
        "even_nums(2)"
      ],
      "metadata": {
        "id": "R9hDx5dKl5jU"
      }
    },
    {
      "cell_type": "code",
      "source": [],
      "metadata": {
        "id": "1eL-aCdkm_BO"
      },
      "execution_count": null,
      "outputs": []
    }
  ]
}