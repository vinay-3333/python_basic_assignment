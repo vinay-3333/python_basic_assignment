{
  "nbformat": 4,
  "nbformat_minor": 0,
  "metadata": {
    "colab": {
      "provenance": []
    },
    "kernelspec": {
      "name": "python3",
      "display_name": "Python 3"
    },
    "language_info": {
      "name": "python"
    }
  },
  "cells": [
    {
      "cell_type": "code",
      "execution_count": null,
      "metadata": {
        "id": "BQ9dTAR3N3sT"
      },
      "outputs": [],
      "source": []
    },
    {
      "cell_type": "markdown",
      "source": [
        "1. What exactly is []?"
      ],
      "metadata": {
        "id": "Y7CD4iGpOAxr"
      }
    },
    {
      "cell_type": "markdown",
      "source": [
        "answer:-it is empty list we can put inside float,int,string,complex etc values"
      ],
      "metadata": {
        "id": "o_TPObjlOBqz"
      }
    },
    {
      "cell_type": "code",
      "source": [],
      "metadata": {
        "id": "ERCt9yvlOfId"
      },
      "execution_count": null,
      "outputs": []
    },
    {
      "cell_type": "markdown",
      "source": [
        "2. In a list of values stored in a variable called spam, how would you assign the value &#39;hello&#39; as the\n",
        "third value? (Assume [2, 4, 6, 8, 10] are in spam.)\n",
        "answer:- we assign value inside list we use list name with index value which position we assign\n",
        "spam[2]=\"hello\""
      ],
      "metadata": {
        "id": "4ECU0JZJOhPR"
      }
    },
    {
      "cell_type": "code",
      "source": [
        "spam = ['a','b','c','d']\n",
        "spam[int(int('3'*2)/11)]\n"
      ],
      "metadata": {
        "colab": {
          "base_uri": "https://localhost:8080/",
          "height": 36
        },
        "id": "3EJ-Dao-O_se",
        "outputId": "304228ef-0df8-4c25-ac37-8c7424094ec7"
      },
      "execution_count": 6,
      "outputs": [
        {
          "output_type": "execute_result",
          "data": {
            "text/plain": [
              "'d'"
            ],
            "application/vnd.google.colaboratory.intrinsic+json": {
              "type": "string"
            }
          },
          "metadata": {},
          "execution_count": 6
        }
      ]
    },
    {
      "cell_type": "markdown",
      "source": [
        "3. What is the value of spam[int(int(&#39;3&#39; * 2) / 11)]?\n",
        "answer:-spam = [2, 4, 'hello', 8, 10]\n",
        "spam[int(int('3'*2)/11)]\n",
        "return value 'd'"
      ],
      "metadata": {
        "id": "edPW7HqSPAOh"
      }
    },
    {
      "cell_type": "code",
      "source": [],
      "metadata": {
        "id": "VebeRM9CP_K2"
      },
      "execution_count": 4,
      "outputs": []
    },
    {
      "cell_type": "markdown",
      "source": [
        "4. What is the value of spam[-1]?\n",
        "answer:-'d'"
      ],
      "metadata": {
        "id": "2yLfdipTQBrZ"
      }
    },
    {
      "cell_type": "code",
      "source": [],
      "metadata": {
        "id": "WalTlvj1QGKE"
      },
      "execution_count": null,
      "outputs": []
    },
    {
      "cell_type": "code",
      "source": [],
      "metadata": {
        "id": "Hr1khxrERBEU"
      },
      "execution_count": null,
      "outputs": []
    },
    {
      "cell_type": "markdown",
      "source": [
        "5. What is the value of spam[:2]?\n",
        "answer:-value is 'a' and 'b'"
      ],
      "metadata": {
        "id": "Qs4HfDBfQIzw"
      }
    },
    {
      "cell_type": "code",
      "source": [
        "bacon =[3.14, 'cat', 11, 'cat', True]"
      ],
      "metadata": {
        "id": "D7g94UA7QgKd"
      },
      "execution_count": 10,
      "outputs": []
    },
    {
      "cell_type": "markdown",
      "source": [
        "bacon =[3.14, 'cat' 11, 'cat'; True]"
      ],
      "metadata": {
        "id": "sT9u6FHpRIn8"
      }
    },
    {
      "cell_type": "markdown",
      "source": [
        "6. What is the value of bacon.index('cat')?\n",
        "answer:-index value is 1"
      ],
      "metadata": {
        "id": "K0w1cdNuRcjU"
      }
    },
    {
      "cell_type": "code",
      "source": [
        "bacon.append(99)\n",
        "bacon"
      ],
      "metadata": {
        "colab": {
          "base_uri": "https://localhost:8080/"
        },
        "id": "d8dFpGkhRifF",
        "outputId": "470ce25c-709e-4cc5-94df-243e240a3dd6"
      },
      "execution_count": 11,
      "outputs": [
        {
          "output_type": "execute_result",
          "data": {
            "text/plain": [
              "[3.14, 'cat', 11, 'cat', True, 99]"
            ]
          },
          "metadata": {},
          "execution_count": 11
        }
      ]
    },
    {
      "cell_type": "markdown",
      "source": [
        "7. How does bacon.append(99) change the look of the list value in bacon?"
      ],
      "metadata": {
        "id": "zNLWDDTgRk9h"
      }
    },
    {
      "cell_type": "markdown",
      "source": [
        "answer:- it add the value in into last and increase the size of list\n",
        "[3.14, 'cat', 11, 'cat', True, 99]"
      ],
      "metadata": {
        "id": "8Cn9cyT6Rl3h"
      }
    },
    {
      "cell_type": "code",
      "source": [
        "bacon.remove('cat')\n",
        "bacon"
      ],
      "metadata": {
        "colab": {
          "base_uri": "https://localhost:8080/"
        },
        "id": "-bm4KFwPSNT2",
        "outputId": "855eded2-0d11-4918-d0d1-a6b675104f39"
      },
      "execution_count": 12,
      "outputs": [
        {
          "output_type": "execute_result",
          "data": {
            "text/plain": [
              "[3.14, 11, 'cat', True, 99]"
            ]
          },
          "metadata": {},
          "execution_count": 12
        }
      ]
    },
    {
      "cell_type": "markdown",
      "source": [
        "8. How does bacon.remove('cat') change the look of the list in bacon?\n",
        "answer:- it remove 'cat' from list starting\n",
        "[3.14, 11, 'cat', True, 99]"
      ],
      "metadata": {
        "id": "uTruBd2NSNtp"
      }
    },
    {
      "cell_type": "code",
      "source": [],
      "metadata": {
        "id": "QfBNSj0HStIu"
      },
      "execution_count": null,
      "outputs": []
    },
    {
      "cell_type": "markdown",
      "source": [
        "9. What are the list concatenation and list replication operators?\n",
        "answer:- list concatenation mean we can addition two list into new variable\n",
        "list replication mean we can multiply list in number of times those all elements are number of time add into new list"
      ],
      "metadata": {
        "id": "f7ZfQd3vStvN"
      }
    },
    {
      "cell_type": "code",
      "source": [],
      "metadata": {
        "id": "FeiSJ9BUTlfe"
      },
      "execution_count": null,
      "outputs": []
    },
    {
      "cell_type": "markdown",
      "source": [
        "10. What is difference between the list methods append() and insert()?\n",
        "\n",
        "answer:- append() add the value into last index of list\n",
        "and insert() add value with specific index"
      ],
      "metadata": {
        "id": "Szk3ph4ITn7Z"
      }
    },
    {
      "cell_type": "code",
      "source": [],
      "metadata": {
        "id": "bA9r7mnFUtol"
      },
      "execution_count": null,
      "outputs": []
    },
    {
      "cell_type": "markdown",
      "source": [
        "11. What are the two methods for removing items from a list?\n",
        "answer:- remove() method remove the element form the list of first occurence of element\n",
        "del method delete the element from the list with specific index value"
      ],
      "metadata": {
        "id": "O6k_yW3bUvei"
      }
    },
    {
      "cell_type": "code",
      "source": [],
      "metadata": {
        "id": "h1EJHWR5Vy6-"
      },
      "execution_count": null,
      "outputs": []
    },
    {
      "cell_type": "markdown",
      "source": [
        "12. Describe how list values and string values are identical.\n",
        "answer:- list value and string value we can identiocal with index wise or slicing wise"
      ],
      "metadata": {
        "id": "_uc8Z1y1V079"
      }
    },
    {
      "cell_type": "code",
      "source": [],
      "metadata": {
        "id": "ZJejI48CWXYm"
      },
      "execution_count": null,
      "outputs": []
    },
    {
      "cell_type": "markdown",
      "source": [
        "13. What's the difference between tuples and lists?\n",
        "answer:- list and tuples both are data structure list is mutable and tuple are immutable ,we can change value inside the list and we can not change the value inside the tuple, tuple are generlly faster then list becasue it is immutable,and tuple cunsome less memory then list"
      ],
      "metadata": {
        "id": "9ZBTPEp-WaAC"
      }
    },
    {
      "cell_type": "code",
      "source": [],
      "metadata": {
        "id": "JBdh9dZ5XfMv"
      },
      "execution_count": null,
      "outputs": []
    },
    {
      "cell_type": "markdown",
      "source": [
        "14. How do you type a tuple value that only contains the integer 42?\n",
        "answer:- tuple1 = (42)"
      ],
      "metadata": {
        "id": "07ZI-6YhXhfK"
      }
    },
    {
      "cell_type": "code",
      "source": [],
      "metadata": {
        "id": "pibJKf-PXttg"
      },
      "execution_count": null,
      "outputs": []
    },
    {
      "cell_type": "markdown",
      "source": [
        "15. How do you get a list value's tuple form? How do you get a tuple value's list form?\n",
        "answer:- we use tuple() function it take arguments as list and return tuple\n",
        "we use list() function it takes arguments as tuple and return list"
      ],
      "metadata": {
        "id": "fjVZ1axYXuSK"
      }
    },
    {
      "cell_type": "code",
      "source": [],
      "metadata": {
        "id": "Wh_GhfyFYrrY"
      },
      "execution_count": null,
      "outputs": []
    },
    {
      "cell_type": "markdown",
      "source": [
        "16. Variables that 'contain' list values are not necessarily lists themselves. Instead, what do they\n",
        "contain?\n",
        "answer:- when we assign list2 into list1 ,when we change value inside the list1 then automatically changes are reflected inside the list2 becase this time we pass list1 as a reference into list2 ,those time not copy operation done into list2 <-list1"
      ],
      "metadata": {
        "id": "ijDVWw3QYt7n"
      }
    },
    {
      "cell_type": "code",
      "source": [],
      "metadata": {
        "id": "PlNKnsK2aBdc"
      },
      "execution_count": null,
      "outputs": []
    },
    {
      "cell_type": "markdown",
      "source": [
        "17. How do you distinguish between copy.copy() and copy.deepcopy()?\n",
        "answer:- when we use copy.copy() that time same reference is use and when we can change into original copy those\n",
        "changes are reflected inside the copy\n",
        "when we use copy.deepcopy() that time new refernce is use when we can change into original copy those cannot be\n",
        "reflected into copy variable"
      ],
      "metadata": {
        "id": "IqPXSO9zbBZW"
      }
    },
    {
      "cell_type": "code",
      "source": [],
      "metadata": {
        "id": "wQ290t3sbCKo"
      },
      "execution_count": null,
      "outputs": []
    }
  ]
}