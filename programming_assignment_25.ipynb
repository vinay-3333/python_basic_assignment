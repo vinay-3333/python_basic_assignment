{
  "nbformat": 4,
  "nbformat_minor": 0,
  "metadata": {
    "colab": {
      "provenance": []
    },
    "kernelspec": {
      "name": "python3",
      "display_name": "Python 3"
    },
    "language_info": {
      "name": "python"
    }
  },
  "cells": [
    {
      "cell_type": "code",
      "execution_count": 6,
      "metadata": {
        "colab": {
          "base_uri": "https://localhost:8080/"
        },
        "id": "cvQ6GukkkCnl",
        "outputId": "32624b5a-b9cf-4553-b260-371740dc4933"
      },
      "outputs": [
        {
          "output_type": "stream",
          "name": "stdout",
          "text": [
            "1\n",
            "3\n",
            "0\n"
          ]
        }
      ],
      "source": []
    },
    {
      "cell_type": "code",
      "source": [
        "def equal(a, b, c):\n",
        "    if a == b == c:\n",
        "        return 3\n",
        "    elif a == b or b == c or a == c:\n",
        "        return 2\n",
        "    else:\n",
        "        return 0\n",
        "\n",
        "# Test cases\n",
        "print(equal(3, 4, 3))  # Output: 2\n",
        "print(equal(1, 1, 1))  # Output: 3\n",
        "print(equal(3, 4, 1))  # Output: 0\n"
      ],
      "metadata": {
        "colab": {
          "base_uri": "https://localhost:8080/"
        },
        "id": "Wg5zBEWNmbVQ",
        "outputId": "6d7c3412-98d4-4180-951c-606ec2a5c34c"
      },
      "execution_count": 7,
      "outputs": [
        {
          "output_type": "stream",
          "name": "stdout",
          "text": [
            "2\n",
            "3\n",
            "0\n"
          ]
        }
      ]
    },
    {
      "cell_type": "markdown",
      "source": [
        "Question1\n",
        "Create a function that takes three integer arguments (a, b, c) and returns the amount of\n",
        "integers which are of equal value.\n",
        "Examples\n",
        "equal(3, 4, 3) ➞ 2\n",
        "equal(1, 1, 1) ➞ 3\n",
        "equal(3, 4, 1) ➞ 0\n",
        "Notes\n",
        "Your function must return 0, 2 or 3.\n",
        "answer:-\n",
        "def equal(a, b, c):\n",
        "    if a == b == c:\n",
        "        return 3\n",
        "    elif a == b or b == c or a == c:\n",
        "        return 2\n",
        "    else:\n",
        "        return 0\n",
        "\n",
        "# Test cases\n",
        "print(equal(3, 4, 3))  # Output: 2\n",
        "print(equal(1, 1, 1))  # Output: 3\n",
        "print(equal(3, 4, 1))  # Output: 0\n"
      ],
      "metadata": {
        "id": "VDwVDmAekQGH"
      }
    },
    {
      "cell_type": "code",
      "source": [],
      "metadata": {
        "id": "OJ8EZdQcmo9X"
      },
      "execution_count": null,
      "outputs": []
    },
    {
      "cell_type": "markdown",
      "source": [
        "Question2\n",
        "Write a function that converts a dictionary into a list of keys-values tuples.\n",
        "Examples\n",
        "dict_to_list({\n",
        "&quot;D&quot;: 1,\n",
        "&quot;B&quot;: 2,\n",
        "&quot;C&quot;: 3\n",
        "}) ➞ [(&quot;B&quot;, 2), (&quot;C&quot;, 3), (&quot;D&quot;, 1)]\n",
        "dict_to_list({\n",
        "&quot;likes&quot;: 2,\n",
        "&quot;dislikes&quot;: 3,\n",
        "&quot;followers&quot;: 10\n",
        "}) ➞ [(&quot;dislikes&quot;, 3), (&quot;followers&quot;, 10), (&quot;likes&quot;, 2)]\n",
        "Notes\n",
        "Return the elements in the list in alphabetical order.\n",
        "answer:-\n",
        "def dict_to_list(input_dict):\n",
        "    # Convert the dictionary items to a list of tuples\n",
        "    items = input_dict.items()\n",
        "    \n",
        "    # Sort the list of tuples alphabetically by keys\n",
        "    sorted_items = sorted(items, key=lambda x: x[0])\n",
        "    \n",
        "    return sorted_items\n",
        "\n",
        "# Test cases\n",
        "print(dict_to_list({\"D\": 1, \"B\": 2, \"C\": 3}))\n",
        "# Output: [('B', 2), ('C', 3), ('D', 1)]\n",
        "\n",
        "print(dict_to_list({\"likes\": 2, \"dislikes\": 3, \"followers\": 10}))\n",
        "# Output: [('dislikes', 3), ('followers', 10), ('likes', 2)]\n"
      ],
      "metadata": {
        "id": "iOqTWuYHmsCV"
      }
    },
    {
      "cell_type": "code",
      "source": [],
      "metadata": {
        "id": "tQ2ptO0gm8mz"
      },
      "execution_count": null,
      "outputs": []
    },
    {
      "cell_type": "markdown",
      "source": [
        "Question3\n",
        "Write a function that creates a dictionary with each (key, value) pair being the (lower case,\n",
        "upper case) versions of a letter, respectively.\n",
        "Examples\n",
        "mapping([&quot;p&quot;, &quot;s&quot;]) ➞ { &quot;p&quot;: &quot;P&quot;, &quot;s&quot;: &quot;S&quot; }\n",
        "\n",
        "mapping([&quot;a&quot;, &quot;b&quot;, &quot;c&quot;]) ➞ { &quot;a&quot;: &quot;A&quot;, &quot;b&quot;: &quot;B&quot;, &quot;c&quot;: &quot;C&quot; }\n",
        "mapping([&quot;a&quot;, &quot;v&quot;, &quot;y&quot;, &quot;z&quot;]) ➞ { &quot;a&quot;: &quot;A&quot;, &quot;v&quot;: &quot;V&quot;, &quot;y&quot;: &quot;Y&quot;, &quot;z&quot;: &quot;Z&quot; }\n",
        "Notes\n",
        "All of the letters in the input list will always be lowercase.\n",
        "answer:-\n",
        "def mapping(letters):\n",
        "    mapping_dict = {}\n",
        "    for letter in letters:\n",
        "        mapping_dict[letter] = letter.upper()\n",
        "    return mapping_dict\n",
        "\n",
        "# Test cases\n",
        "print(mapping(['p', 's']))  # Output: {'p': 'P', 's': 'S'}\n",
        "print(mapping(['a', 'b', 'c']))  # Output: {'a': 'A', 'b': 'B', 'c': 'C'}\n",
        "print(mapping(['a', 'v', 'y', 'z']))  # Output: {'a': 'A', 'v': 'V', 'y': 'Y', 'z': 'Z'}\n"
      ],
      "metadata": {
        "id": "PMv8yOggnDd9"
      }
    },
    {
      "cell_type": "code",
      "source": [],
      "metadata": {
        "id": "xHApm2DWoByF"
      },
      "execution_count": null,
      "outputs": []
    },
    {
      "cell_type": "markdown",
      "source": [
        "Question4\n",
        "Write a function, that replaces all vowels in a string with a specified vowel.\n",
        "Examples\n",
        "vow_replace(&quot;apples and bananas&quot;, &quot;u&quot;) ➞ &quot;upplus und bununus&quot;\n",
        "vow_replace(&quot;cheese casserole&quot;, &quot;o&quot;) ➞ &quot;chooso cossorolo&quot;\n",
        "vow_replace(&quot;stuffed jalapeno poppers&quot;, &quot;e&quot;) ➞ &quot;steffed jelepene peppers&quot;\n",
        "Notes\n",
        "All words will be lowercase. Y is not considered a vowel.\n",
        "answer:-\n",
        "def vow_replace(string, new_vowel):\n",
        "    vowels = \"aeiou\"  # Define the vowels to be replaced\n",
        "    \n",
        "    # Use a list comprehension to create a new string with vowels replaced\n",
        "    new_string = ''.join([new_vowel if char in vowels else char for char in string])\n",
        "    \n",
        "    return new_string\n",
        "\n",
        "# Test cases\n",
        "print(vow_replace(\"apples and bananas\", \"u\"))  # Output: \"upplus und bununus\"\n",
        "print(vow_replace(\"cheese casserole\", \"o\"))  # Output: \"chooso cossorolo\"\n",
        "print(vow_replace(\"stuffed jalapeno poppers\", \"e\"))  # Output: \"steffed jelepene peppers\"\n"
      ],
      "metadata": {
        "id": "1X52bBZuoGmd"
      }
    },
    {
      "cell_type": "code",
      "source": [],
      "metadata": {
        "id": "OM9_ivcnobLt"
      },
      "execution_count": null,
      "outputs": []
    },
    {
      "cell_type": "markdown",
      "source": [
        "Question5\n",
        "Create a function that takes a string as input and capitalizes a letter if its ASCII code is even\n",
        "and returns its lower case version if its ASCII code is odd.\n",
        "Examples\n",
        "ascii_capitalize(&quot;to be or not to be!&quot;) ➞ &quot;To Be oR NoT To Be!&quot;\n",
        "ascii_capitalize(&quot;THE LITTLE MERMAID&quot;) ➞ &quot;THe LiTTLe meRmaiD&quot;\n",
        "ascii_capitalize(&quot;Oh what a beautiful morning.&quot;) ➞ &quot;oH wHaT a BeauTiFuL\n",
        "answer:-\n",
        "def ascii_capitalize(input_string):\n",
        "    result = \"\"\n",
        "    for char in input_string:\n",
        "        if ord(char) % 2 == 0:\n",
        "            result += char.upper()\n",
        "        else:\n",
        "            result += char.lower()\n",
        "    return result\n",
        "\n",
        "# Test cases\n",
        "print(ascii_capitalize(\"to be or not to be!\"))  # Output: \"To Be oR NoT To Be!\"\n",
        "print(ascii_capitalize(\"THE LITTLE MERMAID\"))  # Output: \"THe LiTTLe meRmaiD\"\n",
        "print(ascii_capitalize(\"Oh what a beautiful morning.\"))  # Output: \"oH wHaT a BeauTiFuL MoRNiNg.\"\n"
      ],
      "metadata": {
        "id": "HGbdgVO3odu2"
      }
    },
    {
      "cell_type": "code",
      "source": [],
      "metadata": {
        "id": "r3ZDMR6SojYM"
      },
      "execution_count": null,
      "outputs": []
    }
  ]
}