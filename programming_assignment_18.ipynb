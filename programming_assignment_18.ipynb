{
  "nbformat": 4,
  "nbformat_minor": 0,
  "metadata": {
    "colab": {
      "provenance": []
    },
    "kernelspec": {
      "name": "python3",
      "display_name": "Python 3"
    },
    "language_info": {
      "name": "python"
    }
  },
  "cells": [
    {
      "cell_type": "code",
      "execution_count": 3,
      "metadata": {
        "colab": {
          "base_uri": "https://localhost:8080/"
        },
        "id": "PIbQDasXOlWt",
        "outputId": "67de735e-5d4c-4c9f-86c8-1358f07acd04"
      },
      "outputs": [
        {
          "output_type": "stream",
          "name": "stdout",
          "text": [
            "[1, 2]\n",
            "[1, 0, 15]\n",
            "[1, 2, 123]\n"
          ]
        }
      ],
      "source": [
        "def filter_list(b):\n",
        "  a=[]\n",
        "  for i in b:\n",
        "    if type(i)==int:\n",
        "      a.append(i)\n",
        "  return a\n",
        "print(filter_list([1, 2, 'a','b']))\n",
        "print(filter_list([1, 'a','b', 0, 15]))\n",
        "print(filter_list([1, 2, 'aasf', '1', '123', 123]))\n"
      ]
    },
    {
      "cell_type": "markdown",
      "source": [
        "Question 1\n",
        "Create a function that takes a list of non-negative integers and strings and return a new list\n",
        "without the strings.\n",
        "Examples\n",
        "filter_list([1, 2, &quot;a&quot;, &quot;b&quot;]) ➞ [1, 2]\n",
        "filter_list([1, &quot;a&quot;, &quot;b&quot;, 0, 15]) ➞ [1, 0, 15]\n",
        "filter_list([1, 2, &quot;aasf&quot;, &quot;1&quot;, &quot;123&quot;, 123]) ➞ [1, 2, 123]\n",
        "answer:-\n",
        "def filter_list(b):\n",
        "  a=[]\n",
        "  for i in b:\n",
        "    if type(i)==int:\n",
        "      a.append(i)\n",
        "  return a\n",
        "print(filter_list([1, 2, 'a','b']))\n",
        "print(filter_list([1, 'a','b', 0, 15]))\n",
        "print(filter_list([1, 2, 'aasf', '1', '123', 123]))\n"
      ],
      "metadata": {
        "id": "ervNIU_XOqyO"
      }
    },
    {
      "cell_type": "code",
      "source": [],
      "metadata": {
        "colab": {
          "base_uri": "https://localhost:8080/",
          "height": 339
        },
        "id": "hO1IRMg5QTGS",
        "outputId": "12d44339-8f4c-4508-b572-feb763359190"
      },
      "execution_count": 7,
      "outputs": [
        {
          "output_type": "error",
          "ename": "AttributeError",
          "evalue": "ignored",
          "traceback": [
            "\u001b[0;31m---------------------------------------------------------------------------\u001b[0m",
            "\u001b[0;31mAttributeError\u001b[0m                            Traceback (most recent call last)",
            "\u001b[0;32m<ipython-input-7-9f909f25810f>\u001b[0m in \u001b[0;36m<cell line: 5>\u001b[0;34m()\u001b[0m\n\u001b[1;32m      3\u001b[0m \u001b[0;34m\u001b[0m\u001b[0m\n\u001b[1;32m      4\u001b[0m   \u001b[0;32mreturn\u001b[0m \u001b[0ma\u001b[0m\u001b[0;34m\u001b[0m\u001b[0;34m\u001b[0m\u001b[0m\n\u001b[0;32m----> 5\u001b[0;31m \u001b[0mreversee\u001b[0m\u001b[0;34m(\u001b[0m\u001b[0;34m'abcd'\u001b[0m\u001b[0;34m)\u001b[0m\u001b[0;34m\u001b[0m\u001b[0;34m\u001b[0m\u001b[0m\n\u001b[0m",
            "\u001b[0;32m<ipython-input-7-9f909f25810f>\u001b[0m in \u001b[0;36mreversee\u001b[0;34m(a)\u001b[0m\n\u001b[1;32m      1\u001b[0m \u001b[0;32mdef\u001b[0m \u001b[0mreversee\u001b[0m\u001b[0;34m(\u001b[0m\u001b[0ma\u001b[0m\u001b[0;34m)\u001b[0m\u001b[0;34m:\u001b[0m\u001b[0;34m\u001b[0m\u001b[0;34m\u001b[0m\u001b[0m\n\u001b[0;32m----> 2\u001b[0;31m   \u001b[0ma\u001b[0m\u001b[0;34m.\u001b[0m\u001b[0mreverse\u001b[0m\u001b[0;34m(\u001b[0m\u001b[0;34m)\u001b[0m\u001b[0;34m\u001b[0m\u001b[0;34m\u001b[0m\u001b[0m\n\u001b[0m\u001b[1;32m      3\u001b[0m \u001b[0;34m\u001b[0m\u001b[0m\n\u001b[1;32m      4\u001b[0m   \u001b[0;32mreturn\u001b[0m \u001b[0ma\u001b[0m\u001b[0;34m\u001b[0m\u001b[0;34m\u001b[0m\u001b[0m\n\u001b[1;32m      5\u001b[0m \u001b[0mreversee\u001b[0m\u001b[0;34m(\u001b[0m\u001b[0;34m'abcd'\u001b[0m\u001b[0;34m)\u001b[0m\u001b[0;34m\u001b[0m\u001b[0;34m\u001b[0m\u001b[0m\n",
            "\u001b[0;31mAttributeError\u001b[0m: 'str' object has no attribute 'reverse'"
          ]
        }
      ]
    },
    {
      "cell_type": "markdown",
      "source": [
        "Question 2\n",
        "The &quot;Reverser&quot; takes a string as input and returns that string in reverse order, with the\n",
        "opposite case.\n",
        "Examples\n",
        "reverse(&quot;Hello World&quot;) ➞ &quot;DLROw OLLEh&quot;\n",
        "reverse(&quot;ReVeRsE&quot;) ➞ &quot;eSrEvEr&quot;\n",
        "reverse(&quot;Radar&quot;) ➞ &quot;RADAr&quot;\n",
        "answer:-\n",
        "def reverse(string):\n",
        "  \"\"\"Reverses a string and changes the case of the letters.\n",
        "\n",
        "  Args:\n",
        "    string: A string representing the string to reverse.\n",
        "\n",
        "  Returns:\n",
        "    A string representing the reversed string with the opposite case.\n",
        "  \"\"\"\n",
        "\n",
        "  reversed_string = \"\"\n",
        "  for char in string:\n",
        "    if char.isupper():\n",
        "      reversed_string += char.lower()\n",
        "    else:\n",
        "      reversed_string += char.upper()\n",
        "\n",
        "  return reversed_string\n",
        "\n"
      ],
      "metadata": {
        "id": "BaZVJ0yyQW1Y"
      }
    },
    {
      "cell_type": "code",
      "source": [],
      "metadata": {
        "id": "o6SuvWatRiQv"
      },
      "execution_count": null,
      "outputs": []
    },
    {
      "cell_type": "markdown",
      "source": [
        "Question 3\n",
        "You can assign variables from lists like this:\n",
        "lst = [1, 2, 3, 4, 5, 6]\n",
        "first = lst[0]\n",
        "middle = lst[1:-1]\n",
        "last = lst[-1]\n",
        "print(first) ➞ outputs 1\n",
        "print(middle) ➞ outputs [2, 3, 4, 5]\n",
        "print(last) ➞ outputs 6\n",
        "With Python 3, you can assign variables from lists in a much more succinct way. Create\n",
        "variables first, middle and last from the given list using destructuring assignment\n",
        "(check the Resources tab for some examples), where:\n",
        "first ➞ 1\n",
        "middle ➞ [2, 3, 4, 5]\n",
        "last ➞ 6\n",
        "\n",
        "Your task is to unpack the list writeyourcodehere into three variables, being first,\n",
        "middle, and last, with middle being everything in between the first and last element. Then\n",
        "print all three variables.\n",
        "answer:-\n",
        "writeyourcodehere = [1, 2, 3, 4, 5, 6]\n",
        "\n",
        "first, *middle, last = writeyourcodehere\n",
        "\n",
        "print(first)\n",
        "print(middle)\n",
        "print(last)\n"
      ],
      "metadata": {
        "id": "Kj-kVIjzRn7i"
      }
    },
    {
      "cell_type": "code",
      "source": [],
      "metadata": {
        "id": "zRTaa67BRtRL"
      },
      "execution_count": null,
      "outputs": []
    },
    {
      "cell_type": "markdown",
      "source": [
        "Question 4\n",
        "Write a function that calculates the factorial of a number recursively.\n",
        "Examples\n",
        "factorial(5) ➞ 120\n",
        "factorial(3) ➞ 6\n",
        "factorial(1) ➞ 1\n",
        "factorial(0) ➞ 1\n",
        "answer:-\n",
        "def factorial(n):\n",
        "  \"\"\"Calculates the factorial of a number recursively.\n",
        "\n",
        "  Args:\n",
        "    n: A non-negative integer.\n",
        "\n",
        "  Returns:\n",
        "    The factorial of n.\n",
        "  \"\"\"\n",
        "\n",
        "  if n == 0 or n == 1:\n",
        "    return 1\n",
        "  else:\n",
        "    return n * factorial(n - 1)\n"
      ],
      "metadata": {
        "id": "SW6lITVfRwQn"
      }
    },
    {
      "cell_type": "code",
      "source": [],
      "metadata": {
        "id": "9xROCyJhR4_F"
      },
      "execution_count": null,
      "outputs": []
    },
    {
      "cell_type": "markdown",
      "source": [
        "Question 5\n",
        "Write a function that moves all elements of one type to the end of the list.\n",
        "Examples\n",
        "move_to_end([1, 3, 2, 4, 4, 1], 1) ➞ [3, 2, 4, 4, 1, 1]\n",
        "# Move all the 1s to the end of the array.\n",
        "move_to_end([7, 8, 9, 1, 2, 3, 4], 9) ➞ [7, 8, 1, 2, 3, 4, 9]\n",
        "move_to_end([&quot;a&quot;, &quot;a&quot;, &quot;a&quot;, &quot;b&quot;], &quot;a&quot;) ➞ [&quot;b&quot;, &quot;a&quot;, &quot;a&quot;, &quot;a&quot;]\n",
        "answer:-\n",
        "def move_to_end(list1, to_move):\n",
        "  \"\"\"Moves all elements of one type to the end of the list.\n",
        "\n",
        "  Args:\n",
        "    list1: A list of elements.\n",
        "    to_move: The element to move to the end of the list.\n",
        "\n",
        "  Returns:\n",
        "    A list with all elements of type `to_move` at the end.\n",
        "  \"\"\"\n",
        "\n",
        "  l1 = [x for x in list1 if x != to_move]\n",
        "  l2 = [x for x in list1 if x == to_move]\n",
        "  list1 = l1 + l2\n",
        "  return list1\n"
      ],
      "metadata": {
        "id": "Mb0omkPNR8JG"
      }
    },
    {
      "cell_type": "code",
      "source": [],
      "metadata": {
        "id": "A-Q06AZHSAsb"
      },
      "execution_count": null,
      "outputs": []
    }
  ]
}