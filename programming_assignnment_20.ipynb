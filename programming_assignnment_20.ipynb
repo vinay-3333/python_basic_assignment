{
  "nbformat": 4,
  "nbformat_minor": 0,
  "metadata": {
    "colab": {
      "provenance": []
    },
    "kernelspec": {
      "name": "python3",
      "display_name": "Python 3"
    },
    "language_info": {
      "name": "python"
    }
  },
  "cells": [
    {
      "cell_type": "code",
      "execution_count": 2,
      "metadata": {
        "colab": {
          "base_uri": "https://localhost:8080/"
        },
        "id": "Zxpo22kAnMis",
        "outputId": "94221f5c-1fed-46c9-bde9-e01f78316395"
      },
      "outputs": [
        {
          "output_type": "stream",
          "name": "stdout",
          "text": [
            "[1, 2, 3, 4]\n",
            "[0, 1729]\n",
            "[]\n"
          ]
        }
      ],
      "source": []
    },
    {
      "cell_type": "markdown",
      "source": [
        "\n",
        "Question1\n",
        "Create a function that takes a list of strings and integers, and filters out the list so that it\n",
        "returns a list of integers only.\n",
        "Examples\n",
        "filter_list([1, 2, 3, &quot;a&quot;, &quot;b&quot;, 4]) ➞ [1, 2, 3, 4]\n",
        "filter_list([&quot;A&quot;, 0, &quot;Edabit&quot;, 1729, &quot;Python&quot;, &quot;1729&quot;]) ➞ [0, 1729]\n",
        "filter_list([&quot;Nothing&quot;, &quot;here&quot;]) ➞ []\n",
        "answer:-\n",
        "def filter_list(a):\n",
        "  b=[]\n",
        "  for i in a:\n",
        "    if type(i)==int:\n",
        "      b.append(i)\n",
        "  return b\n",
        "print(filter_list([1, 2, 3, 'a', 'b', 4]))\n",
        "print(filter_list(['A', 0, 'Edabit', 1729, 'Python', '1729']))\n",
        "print(filter_list(['Nothing', 'here']))"
      ],
      "metadata": {
        "id": "xcn9Jm48nQ2z"
      }
    },
    {
      "cell_type": "code",
      "source": [],
      "metadata": {
        "colab": {
          "base_uri": "https://localhost:8080/"
        },
        "id": "oTpMBEbzoRMF",
        "outputId": "41657f23-f4e2-440f-e5a9-46d4c24e0769"
      },
      "execution_count": 4,
      "outputs": [
        {
          "output_type": "stream",
          "name": "stdout",
          "text": [
            "[1, 3, 5, 7, 9]\n"
          ]
        }
      ]
    },
    {
      "cell_type": "markdown",
      "source": [
        "Question2\n",
        "Given a list of numbers, create a function which returns the list but with each element&#39;s\n",
        "index in the list added to itself. This means you add 0 to the number at index 0, add 1 to the\n",
        "number at index 1, etc...\n",
        "Examples\n",
        "add_indexes([0, 0, 0, 0, 0]) ➞ [0, 1, 2, 3, 4]\n",
        "add_indexes([1, 2, 3, 4, 5]) ➞ [1, 3, 5, 7, 9]\n",
        "add_indexes([5, 4, 3, 2, 1]) ➞ [5, 5, 5, 5, 5]\n",
        "answer:-\n",
        "def add_index(a):\n",
        "  b=[]\n",
        "  for i in range(len(a)):\n",
        "    b.append(a[i]+i)\n",
        "  return b\n",
        "a=[0, 0, 0, 0, 0]\n",
        "a=[1, 2, 3, 4, 5]\n",
        "print(add_index(a))"
      ],
      "metadata": {
        "id": "3KC240-Dogyl"
      }
    },
    {
      "cell_type": "code",
      "source": [],
      "metadata": {
        "colab": {
          "base_uri": "https://localhost:8080/"
        },
        "id": "9Ddn9eUjpS4e",
        "outputId": "ce0e0857-31ab-4d53-9cef-98c874e49f9a"
      },
      "execution_count": 6,
      "outputs": [
        {
          "output_type": "execute_result",
          "data": {
            "text/plain": [
              "12.56"
            ]
          },
          "metadata": {},
          "execution_count": 6
        }
      ]
    },
    {
      "cell_type": "markdown",
      "source": [
        "Question3\n",
        "Create a function that takes the height and radius of a cone as arguments and returns the\n",
        "volume of the cone rounded to the nearest hundredth. See the resources tab for the formula.\n",
        "\n",
        "Examples\n",
        "cone_volume(3, 2) ➞ 12.57\n",
        "\n",
        "cone_volume(15, 6) ➞ 565.49\n",
        "cone_volume(18, 0) ➞ 0\n",
        "answer:-\n",
        "# V=πr**2 h/3\n",
        "def cone_volume(a,b):\n",
        "  volume = (3.14)*(b**2)*(a/3)\n",
        "  return volume\n",
        "cone_volume(3,2)"
      ],
      "metadata": {
        "id": "sRASZhgjpV-0"
      }
    },
    {
      "cell_type": "code",
      "source": [],
      "metadata": {
        "id": "t8zOljVJqdUV"
      },
      "execution_count": null,
      "outputs": []
    },
    {
      "cell_type": "markdown",
      "source": [
        "Question4\n",
        "This Triangular Number Sequence is generated from a pattern of dots that form a triangle.\n",
        "The first 5 numbers of the sequence, or dots, are:\n",
        "1, 3, 6, 10, 15\n",
        "This means that the first triangle has just one dot, the second one has three dots, the third one\n",
        "has 6 dots and so on.\n",
        "Write a function that gives the number of dots with its corresponding triangle number of the\n",
        "sequence.\n",
        "Examples\n",
        "triangle(1) ➞ 1\n",
        "triangle(6) ➞ 21\n",
        "triangle(215) ➞ 23220\n",
        "answer:-\n",
        "def triangle(n):\n",
        "    # Calculate the nth triangular number using the formula\n",
        "    dots = (n * (n + 1)) // 2\n",
        "    return dots\n",
        "\n",
        "# Test cases\n",
        "print(triangle(1))   # Should print 1\n",
        "print(triangle(6))   # Should print 21\n",
        "print(triangle\n"
      ],
      "metadata": {
        "id": "vvsmT9tdqhS8"
      }
    },
    {
      "cell_type": "code",
      "source": [],
      "metadata": {
        "colab": {
          "base_uri": "https://localhost:8080/"
        },
        "id": "XKmrEafoqm51",
        "outputId": "6923d16f-2814-4936-f166-8394fb11d497"
      },
      "execution_count": 8,
      "outputs": [
        {
          "output_type": "stream",
          "name": "stdout",
          "text": [
            "1\n",
            "1\n",
            "1\n"
          ]
        }
      ]
    },
    {
      "cell_type": "markdown",
      "source": [
        "Question5\n",
        "Create a function that takes a list of numbers between 1 and 10 (excluding one number) and\n",
        "returns the missing number.\n",
        "Examples\n",
        "missing_num([1, 2, 3, 4, 6, 7, 8, 9, 10]) ➞ 5\n",
        "missing_num([7, 2, 3, 6, 5, 9, 1, 4, 8]) ➞ 10\n",
        "missing_num([10, 5, 1, 2, 4, 6, 8, 3, 9]) ➞ 7\n",
        "answer:-\n",
        "def missing_num(numbers):\n",
        "    # Calculate the sum of all numbers from 1 to 10\n",
        "    expected_sum = sum(range(1, 11))\n",
        "    \n",
        "    # Calculate the sum of the given list\n",
        "    actual_sum = sum(numbers)\n",
        "    \n",
        "    # Find the missing number by subtracting the actual sum from the expected sum\n",
        "    missing_number = expected_sum - actual_sum\n",
        "    \n",
        "    return missing_number\n",
        "\n",
        "# Test cases\n",
        "print(missing_num([1, 2, 3, 4, 6, 7, 8, 9, 10])) # Should print 5\n",
        "print(missing_num([7, 2, 3, 6, 5, 9, 1, 4, 8]))   # Should print 10\n",
        "print(missing_num([10, 5, 1, 2, 4, 6, 8, 3, 9]))  # Should print 7\n"
      ],
      "metadata": {
        "id": "9QHQncMxqsac"
      }
    },
    {
      "cell_type": "code",
      "source": [],
      "metadata": {
        "id": "OKo3PJZKrlYc"
      },
      "execution_count": null,
      "outputs": []
    }
  ]
}