{
  "nbformat": 4,
  "nbformat_minor": 0,
  "metadata": {
    "colab": {
      "provenance": []
    },
    "kernelspec": {
      "name": "python3",
      "display_name": "Python 3"
    },
    "language_info": {
      "name": "python"
    }
  },
  "cells": [
    {
      "cell_type": "code",
      "execution_count": null,
      "metadata": {
        "id": "JzKhG31aMzOZ"
      },
      "outputs": [],
      "source": []
    },
    {
      "cell_type": "markdown",
      "source": [
        "1. Make a class called Thing with no contents and print it. Then, create an object called example\n",
        "from this class and also print it. Are the printed values the same or different?\n",
        "answer:-\n",
        "class Thing:\n",
        "  pass\n",
        "print(Think)\n",
        "here printed value of class object\n",
        "\n",
        "example =Thing()\n",
        "print(example)\n",
        "here printed instace of a class"
      ],
      "metadata": {
        "id": "WJWlrOInM4ZR"
      }
    },
    {
      "cell_type": "code",
      "source": [],
      "metadata": {
        "id": "EJDc4lZSNpkr"
      },
      "execution_count": null,
      "outputs": []
    },
    {
      "cell_type": "markdown",
      "source": [
        "2. Create a new class called Thing2 and add the value 'abc' to the letters class attribute. Letters\n",
        "should be printed.\n",
        "answer:-\n",
        "class Thing2:\n",
        "  letters = 'abc'\n",
        "  print(Thing2.letters)"
      ],
      "metadata": {
        "id": "lXTG9MOVNv3X"
      }
    },
    {
      "cell_type": "code",
      "source": [],
      "metadata": {
        "id": "ODDoRO3kOOCC"
      },
      "execution_count": null,
      "outputs": []
    },
    {
      "cell_type": "markdown",
      "source": [
        "3. Make yet another class called, of course, Thing3. This time, assign the value 'xyz' to an instance\n",
        "(object) attribute called letters. Print letters. Do you need to make an object from the class to do\n",
        "this?\n",
        "answer:-\n",
        "class Thing3:\n",
        "  pass\n",
        "t2 = Thing3()\n",
        "t2.letters = 'abc'"
      ],
      "metadata": {
        "id": "_WaWR6k4OQIU"
      }
    },
    {
      "cell_type": "code",
      "source": [],
      "metadata": {
        "id": "BG2MSNHdOo_G"
      },
      "execution_count": null,
      "outputs": []
    },
    {
      "cell_type": "markdown",
      "source": [
        "4. Create an Element class with the instance attributes name, symbol, and number. Create a class\n",
        "object with the values 'Hydrogen','H', and 1.\n",
        "answer:-\n",
        "class Element:\n",
        "  def __init__(self,name,symbol,number):\n",
        "    self.name = name\n",
        "    self.symbol = symbol\n",
        "    self.number = number\n",
        "\n",
        "element = Element(\"Hydrogen\",\"H\",1)"
      ],
      "metadata": {
        "id": "MRlKz6qyOrDm"
      }
    },
    {
      "cell_type": "code",
      "source": [],
      "metadata": {
        "id": "uoS-nTeqPnsc"
      },
      "execution_count": null,
      "outputs": []
    },
    {
      "cell_type": "markdown",
      "source": [
        "5. Make a dictionary with these keys and values: 'name': 'Hydrogen', 'symbol': 'H', 'number': 1. Then,\n",
        "create an object called hydrogen from class Element using this dictionary.\n",
        "answer:-\n",
        "class Element:\n",
        "  sy = {'name': 'Hydrogen', 'symbol': 'H', 'number': 1}\n",
        "\n",
        "hydrogen = Element()\n",
        "hydrogen.sy()\n"
      ],
      "metadata": {
        "id": "_YQx8wVDPrEi"
      }
    },
    {
      "cell_type": "markdown",
      "source": [
        "class Element:\n",
        "  sy = {'name': 'Hydrogen', 'symbol': 'H', 'number': 1}\n",
        "\n",
        "hydrogen = Element()\n",
        "hydrogen.sy"
      ],
      "metadata": {
        "id": "e34LM_u9QjJX"
      }
    },
    {
      "cell_type": "code",
      "source": [],
      "metadata": {
        "colab": {
          "base_uri": "https://localhost:8080/"
        },
        "id": "IKhDwL8uQlG7",
        "outputId": "0188e0b7-1de0-4c7c-d22c-58c2b849a39c"
      },
      "execution_count": 2,
      "outputs": [
        {
          "output_type": "execute_result",
          "data": {
            "text/plain": [
              "{'name': 'Hydrogen', 'symbol': 'H', 'number': 1}"
            ]
          },
          "metadata": {},
          "execution_count": 2
        }
      ]
    },
    {
      "cell_type": "markdown",
      "source": [
        "6. For the Element class, define a method called dump() that prints the values of the object’s\n",
        "attributes (name, symbol, and number). Create the hydrogen object from this new definition and\n",
        "use dump() to print its attributes.\n",
        "answer:-\n",
        "\n",
        "class Element:\n",
        "  def __init__(self,name,symbol,number):\n",
        "    self.name = name\n",
        "    self.symbol = symbol\n",
        "    self.number = number\n",
        "  def dump(self):\n",
        "    print(self.name)\n",
        "    print(self.symbol)\n",
        "    print(self.number)\n",
        "hydrogen = Element('Hydrogen', 'H', 1)\n",
        "\n",
        "hydrogen.dump()"
      ],
      "metadata": {
        "id": "6el5AEvdQ9L1"
      }
    },
    {
      "cell_type": "code",
      "source": [],
      "metadata": {
        "id": "WO_Md2J3Qmrs"
      },
      "execution_count": null,
      "outputs": []
    },
    {
      "cell_type": "markdown",
      "source": [
        "7. Call print(hydrogen). In the definition of Element, change the name of method dump to __str__,\n",
        "create a new hydrogen object, and call print(hydrogen) again.\n",
        "answer:-\n",
        "class Element:\n",
        "  def __init__(self, name, symbol, number):\n",
        "    self.name = name\n",
        "    self.symbol = symbol\n",
        "    self.number = number\n",
        "\n",
        "  def __str__(self):\n",
        "    return f'Name: {self.name}, Symbol: {self.symbol}, Number: {self.number}'\n",
        "hydrogen = Element('Hydrogen', 'H', 1)\n",
        "\n",
        "print(hydrogen)"
      ],
      "metadata": {
        "id": "thDF8IvmRwRY"
      }
    },
    {
      "cell_type": "code",
      "source": [],
      "metadata": {
        "id": "7K_ZOD4kSIAy"
      },
      "execution_count": null,
      "outputs": []
    },
    {
      "cell_type": "markdown",
      "source": [
        "8. Modify Element to make the attributes name, symbol, and number private. Define a getter\n",
        "property for each to return its value.\n",
        "answer:-\n",
        "class Element:\n",
        "  def __init__(self, name, symbol, number):\n",
        "    self.__name = name\n",
        "    self.__symbol = symbol\n",
        "    self.__number = number\n",
        "\n",
        "  def __str__(self):\n",
        "    return f'Name: {self.__name}, Symbol: {self.__symbol}, Number: {self.__number}'\n",
        "hydrogen = Element('Hydrogen', 'H', 1)\n",
        "\n",
        "print(hydrogen)"
      ],
      "metadata": {
        "id": "rZ0Wj9CHSKfX"
      }
    },
    {
      "cell_type": "code",
      "source": [],
      "metadata": {
        "colab": {
          "base_uri": "https://localhost:8080/"
        },
        "id": "8I6kgkVuSkDA",
        "outputId": "4a3fdbb0-bd92-418d-a863-894aaf91b439"
      },
      "execution_count": 3,
      "outputs": [
        {
          "output_type": "stream",
          "name": "stdout",
          "text": [
            "Name: Hydrogen, Symbol: H, Number: 1\n"
          ]
        }
      ]
    },
    {
      "cell_type": "markdown",
      "source": [
        "9. Define three classes: Bear, Rabbit, and Octothorpe. For each, define only one method: eats(). This\n",
        "should return &#39;berries&#39; (Bear), &#39;clover&#39; (Rabbit), or &#39;campers&#39; (Octothorpe). Create one object from\n",
        "each and print what it eats.\n",
        "answer:-\n",
        "class Bear:\n",
        "  def eats(self):\n",
        "    return 'berries'\n",
        "\n",
        "class Rabbit:\n",
        "  def eats(self):\n",
        "    return 'clover'\n",
        "\n",
        "class Octothorpe:\n",
        "  def eats(self):\n",
        "    return 'campers'\n",
        "bear = Bear()\n",
        "rabbit = Rabbit()\n",
        "octothorpe = Octothorpe()\n",
        "\n",
        "print(bear.eats())\n",
        "print(rabbit.eats())\n",
        "print(octothorpe.eats())"
      ],
      "metadata": {
        "id": "RYaKR1QXSuMx"
      }
    },
    {
      "cell_type": "code",
      "source": [],
      "metadata": {
        "id": "6H23z4I0Skwq"
      },
      "execution_count": null,
      "outputs": []
    },
    {
      "cell_type": "markdown",
      "source": [
        "10. Define these classes: Laser, Claw, and SmartPhone. Each has only one method: does(). This\n",
        "returns &#39;disintegrate&#39; (Laser), &#39;crush&#39; (Claw), or &#39;ring&#39; (SmartPhone). Then, define the class Robot that\n",
        "has one instance (object) of each of these. Define a does() method for the Robot that prints what its\n",
        "component objects do.\n",
        "answer:-\n",
        "class Laser:\n",
        "  def does(self):\n",
        "    return 'disintegrate'\n",
        "\n",
        "class Claw:\n",
        "  def does(self):\n",
        "    return 'crush'\n",
        "\n",
        "class SmartPhone:\n",
        "  def does(self):\n",
        "    return 'ring'\n",
        "\n",
        "class Robot:\n",
        "  def __init__(self):\n",
        "    self.laser = Laser()\n",
        "    self.claw = Claw()\n",
        "    self.smartphone = SmartPhone()\n",
        "\n",
        "  def does(self):\n",
        "    print(f'The laser {self.laser.does()}')\n",
        "    print(f'The claw {self.claw.does()}')\n",
        "    print(f'The smartphone {self.smartphone.does()}'\n",
        "\n",
        "robot = Robot()\n",
        "\n",
        "robot.does()\n"
      ],
      "metadata": {
        "id": "qJb18kR-S-CH"
      }
    },
    {
      "cell_type": "code",
      "source": [],
      "metadata": {
        "id": "8Qtv8cnNTSoz"
      },
      "execution_count": null,
      "outputs": []
    }
  ]
}