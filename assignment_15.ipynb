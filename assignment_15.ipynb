{
  "nbformat": 4,
  "nbformat_minor": 0,
  "metadata": {
    "colab": {
      "provenance": []
    },
    "kernelspec": {
      "name": "python3",
      "display_name": "Python 3"
    },
    "language_info": {
      "name": "python"
    }
  },
  "cells": [
    {
      "cell_type": "code",
      "execution_count": null,
      "metadata": {
        "id": "N9rNmV2vp8ZH"
      },
      "outputs": [],
      "source": []
    },
    {
      "cell_type": "markdown",
      "source": [
        "1.How many seconds are in an hour? Use the interactive interpreter as a calculator and multiply the\n",
        "number of seconds in a minute (60) by the number of minutes in an hour (also 60).\n",
        "sol. 60\n",
        "answer:-\n",
        "seconds_in_minute = 60\n",
        "minutes_in_hour = 60\n",
        "\n",
        "seconds_in_hour = seconds_in_minute * minutes_in_hour\n",
        "\n",
        "print(seconds_in_hour)"
      ],
      "metadata": {
        "id": "mHc7V57EqLPS"
      }
    },
    {
      "cell_type": "code",
      "source": [],
      "metadata": {
        "id": "1OWGbOYmqarL"
      },
      "execution_count": null,
      "outputs": []
    },
    {
      "cell_type": "markdown",
      "source": [
        "2. Assign the result from the previous task (seconds in an hour) to a variable called\n",
        "seconds_per_hour.\n",
        "answer:-\n",
        "seconds_in_minute = 60\n",
        "minutes_in_hour = 60\n",
        "\n",
        "seconds_per_hour = seconds_in_minute * minutes_in_hour\n",
        "\n",
        "# Assign the result to the variable seconds_per_hour\n",
        "seconds_per_hour = seconds_in_hour"
      ],
      "metadata": {
        "id": "3Q3BB9OhqcgC"
      }
    },
    {
      "cell_type": "code",
      "source": [],
      "metadata": {
        "id": "IVTmBYm2qscq"
      },
      "execution_count": null,
      "outputs": []
    },
    {
      "cell_type": "markdown",
      "source": [
        "3. How many seconds do you think there are in a day? Make use of the variables seconds per hour\n",
        "and minutes per hour.\n",
        "answer:-\n",
        "seconds_in_minute = 60\n",
        "minutes_in_hour = 60\n",
        "seconds_per_hour = seconds_in_minute * minutes_in_hour\n",
        "\n",
        "\n",
        "seconds_in_day = seconds_per_hour * 24\n",
        "\n",
        "print(seconds_in_day)"
      ],
      "metadata": {
        "id": "m8fToTy1qvOq"
      }
    },
    {
      "cell_type": "code",
      "source": [],
      "metadata": {
        "id": "498iK5l8q-ta"
      },
      "execution_count": null,
      "outputs": []
    },
    {
      "cell_type": "markdown",
      "source": [
        "4. Calculate seconds per day again, but this time save the result in a variable called seconds_per_day\n",
        "answer:-\n",
        "seconds_in_minute = 60\n",
        "minutes_in_hour = 60\n",
        "\n",
        "# Calculate the number of seconds in an hour\n",
        "seconds_per_hour = seconds_in_minute * minutes_in_hour\n",
        "\n",
        "# Calculate the number of seconds in a day and store the result in the variable seconds_per_day\n",
        "seconds_per_day = seconds_per_hour * 24\n",
        "\n",
        "print(seconds_per_day)\n"
      ],
      "metadata": {
        "id": "eFwV8FnOq_qy"
      }
    },
    {
      "cell_type": "code",
      "source": [],
      "metadata": {
        "id": "wDGHkQZ4rNz7"
      },
      "execution_count": null,
      "outputs": []
    },
    {
      "cell_type": "markdown",
      "source": [
        "5. Divide seconds_per_day by seconds_per_hour. Use floating-point (/) division.\n",
        "answer:-\n",
        "seconds_in_minute = 60\n",
        "minutes_in_hour = 60\n",
        "\n",
        "# Calculate the number of seconds in an hour\n",
        "seconds_per_hour = seconds_in_minute * minutes_in_hour\n",
        "\n",
        "# Calculate the number of seconds in a day\n",
        "seconds_per_day = seconds_per_hour * 24\n",
        "\n",
        "# Divide the number of seconds in a day by the number of seconds in an hour\n",
        "division_result = seconds_per_day / seconds_per_hour\n",
        "\n",
        "print(division_result)"
      ],
      "metadata": {
        "id": "nDzRWdjIrQCK"
      }
    },
    {
      "cell_type": "code",
      "source": [],
      "metadata": {
        "id": "p4GR2PjIrvAT"
      },
      "execution_count": null,
      "outputs": []
    },
    {
      "cell_type": "markdown",
      "source": [
        "6. Divide seconds_per_day by seconds_per_hour, using integer (//) division. Did this number agree\n",
        "with the floating-point value from the previous question, aside from the final .0?\n",
        "answer:-\n",
        "seconds_in_minute = 60\n",
        "minutes_in_hour = 60\n",
        "\n",
        "# Calculate the number of seconds in an hour\n",
        "seconds_per_hour = seconds_in_minute * minutes_in_hour\n",
        "\n",
        "# Calculate the number of seconds in a day\n",
        "seconds_per_day = seconds_per_hour * 24\n",
        "\n",
        "# Divide the number of seconds in a day by the number of seconds in an hour using integer division\n",
        "division_result = seconds_per_day // seconds_per_hour\n",
        "\n",
        "print(division_result)"
      ],
      "metadata": {
        "id": "17polJSYrxcy"
      }
    },
    {
      "cell_type": "code",
      "source": [],
      "metadata": {
        "id": "3DRhas3Hr_RS"
      },
      "execution_count": null,
      "outputs": []
    },
    {
      "cell_type": "markdown",
      "source": [
        "7. Write a generator, genPrimes, that returns the sequence of prime numbers on successive calls to\n",
        "its next() method: 2, 3, 5, 7, 11, ...\n",
        "answer:-\n",
        "def genPrimes():\n",
        "  \"\"\"Generator function that returns the sequence of prime numbers.\"\"\"\n",
        "  primes = [2]\n",
        "  current = 3\n",
        "\n",
        "  while True:\n",
        "    for prime in primes:\n",
        "      if current % prime == 0:\n",
        "        break\n",
        "    else:\n",
        "      primes.append(current)\n",
        "      yield current\n",
        "\n",
        "    current += 1"
      ],
      "metadata": {
        "id": "8xr7pN4yr_7i"
      }
    },
    {
      "cell_type": "code",
      "source": [],
      "metadata": {
        "id": "olzBubMpsQzT"
      },
      "execution_count": null,
      "outputs": []
    }
  ]
}