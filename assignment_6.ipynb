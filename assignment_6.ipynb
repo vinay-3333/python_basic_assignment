{
  "nbformat": 4,
  "nbformat_minor": 0,
  "metadata": {
    "colab": {
      "provenance": []
    },
    "kernelspec": {
      "name": "python3",
      "display_name": "Python 3"
    },
    "language_info": {
      "name": "python"
    }
  },
  "cells": [
    {
      "cell_type": "code",
      "execution_count": null,
      "metadata": {
        "id": "4yfFO1aypx7H"
      },
      "outputs": [],
      "source": []
    },
    {
      "cell_type": "markdown",
      "source": [
        "1. What are escape characters, and how do you use them?\n",
        "answer:- \\n for new line\n",
        "\\t for tab\n",
        "\\' for single quote\n",
        "\\\" for double quote"
      ],
      "metadata": {
        "id": "S7vlkOaMqA5u"
      }
    },
    {
      "cell_type": "code",
      "source": [],
      "metadata": {
        "id": "CWYoZNnWqjNZ"
      },
      "execution_count": null,
      "outputs": []
    },
    {
      "cell_type": "markdown",
      "source": [
        "2. What do the escape characters n and t stand for?\n",
        "answer:- escape character n for new line and t for tab"
      ],
      "metadata": {
        "id": "-E5DNfgYqk_r"
      }
    },
    {
      "cell_type": "code",
      "source": [],
      "metadata": {
        "id": "6_VDz9Ynqz3A"
      },
      "execution_count": null,
      "outputs": []
    },
    {
      "cell_type": "markdown",
      "source": [
        "3. What is the way to include backslash characters in a string?\n",
        "answer:- we use double backslash characters in string those give a single backslash"
      ],
      "metadata": {
        "id": "wQ2ezdP-q0Wt"
      }
    },
    {
      "cell_type": "code",
      "source": [],
      "metadata": {
        "id": "r9EE8U_trNTd"
      },
      "execution_count": null,
      "outputs": []
    },
    {
      "cell_type": "markdown",
      "source": [
        "4. The string \"Howl's Moving Castl\". is a correct value. Why isnt the single quote character in the\n",
        "word Howls not escaped a problem?\n",
        "answer:-print(\"This is a string with double quotes: \\\"Howl's Moving Castle\\\".\")\n"
      ],
      "metadata": {
        "id": "MqKbom47rPZN"
      }
    },
    {
      "cell_type": "code",
      "source": [],
      "metadata": {
        "id": "wqYwo7u4sA_P"
      },
      "execution_count": null,
      "outputs": []
    },
    {
      "cell_type": "markdown",
      "source": [
        "5. How do you write a string of newlines if you dont want to use the n character?\n",
        "answer:- we use three quote inside put into string and another approch is we use \\ charcater for new line"
      ],
      "metadata": {
        "id": "KobY_2ODsDuC"
      }
    },
    {
      "cell_type": "code",
      "source": [
        "'Hello, world!'[1]\n",
        "'Hello, world!'[0:5]\n",
        "'Hello, world!'[:5]\n",
        "'Hello, world'[3:]"
      ],
      "metadata": {
        "id": "ngt_Bs3uspc2",
        "colab": {
          "base_uri": "https://localhost:8080/",
          "height": 36
        },
        "outputId": "5b22219a-ae33-4f57-8cbf-b6459b53ce62"
      },
      "execution_count": 2,
      "outputs": [
        {
          "output_type": "execute_result",
          "data": {
            "text/plain": [
              "'lo, world'"
            ],
            "application/vnd.google.colaboratory.intrinsic+json": {
              "type": "string"
            }
          },
          "metadata": {},
          "execution_count": 2
        }
      ]
    },
    {
      "cell_type": "markdown",
      "source": [
        "6. What are the values of the given expressions?\n",
        "'Hello, world!'[1]\n",
        "'Hello, world!'[0:5]\n",
        "'Hello, world!'[:5]\n",
        "'Hello, world'[3:]\n",
        "answer:-\n",
        "'Hello, world!'[1]--->e\n",
        "'Hello, world!'[0:5]--->hell\n",
        "'Hello, world!'[:5]--->hell\n",
        "'Hello, world'[3:]--->lo, world"
      ],
      "metadata": {
        "id": "2WboArgPsqBt"
      }
    },
    {
      "cell_type": "code",
      "source": [
        "\n"
      ],
      "metadata": {
        "colab": {
          "base_uri": "https://localhost:8080/"
        },
        "id": "_dhcQ_oiuOdH",
        "outputId": "dbc8a8df-3fd5-4105-a3f8-4dd1e791b847"
      },
      "execution_count": 3,
      "outputs": [
        {
          "output_type": "execute_result",
          "data": {
            "text/plain": [
              "True"
            ]
          },
          "metadata": {},
          "execution_count": 3
        }
      ]
    },
    {
      "cell_type": "markdown",
      "source": [
        "7. What are the values of the following expressions?\n",
        "'Hello'.upper()\n",
        "'Hello'.upper().isupper()\n",
        "'Hello'.upper().lower()\n",
        "answer:-\n",
        "'Hello'.upper()->HELLO\n",
        "'Hello'.upper().isupper()->True\n",
        "'Hello'.upper().lower()->hello\n",
        "\n",
        "\n"
      ],
      "metadata": {
        "id": "mmaumUHLuRcu"
      }
    },
    {
      "cell_type": "code",
      "source": [
        "'Remember, remember, the fifth of July.'.split()\n",
        "'-'.join('There can only one.'.split())"
      ],
      "metadata": {
        "id": "q4M69d7guwyx",
        "outputId": "9a4fd2ba-3687-4663-df0a-f8177b212bf9",
        "colab": {
          "base_uri": "https://localhost:8080/",
          "height": 36
        }
      },
      "execution_count": 6,
      "outputs": [
        {
          "output_type": "execute_result",
          "data": {
            "text/plain": [
              "'There-can-only-one.'"
            ],
            "application/vnd.google.colaboratory.intrinsic+json": {
              "type": "string"
            }
          },
          "metadata": {},
          "execution_count": 6
        }
      ]
    },
    {
      "cell_type": "markdown",
      "source": [
        "8. What are the values of the following expressions?\n",
        "'Remember, remember, the fifth of July.'.split()\n",
        "'-'.join('There can only one.'.split())\n",
        "answer:-\n",
        "'Remember, remember, the fifth of July.'.split() python interpreter split each word and put into list\n",
        "'-'.join('There can only one.'.split()) python interpreter each word join with -"
      ],
      "metadata": {
        "id": "P5GGRH8uuzvG"
      }
    },
    {
      "cell_type": "code",
      "source": [],
      "metadata": {
        "id": "mXSVB_S8vt5e"
      },
      "execution_count": null,
      "outputs": []
    },
    {
      "cell_type": "markdown",
      "source": [
        "9. What are the methods for right-justifying, left-justifying, and centering a string?\n",
        "answer:-by padding the string s with the character fillchar (default is a space) until the given width on the right.\n",
        "ljust() : This method left-justifies a string in a field of given width. It returns a string that is at least width characters wide, created by padding the string s with the character fillchar (default is a space) until the given width on the left.\n",
        "center() : This method centers a string in a field of given width. It returns a string that is at least width characters wide, created by padding the string s with the character fillchar (default is a space) until the given width on both the left and right sides."
      ],
      "metadata": {
        "id": "EOMVPwGJvwTW"
      }
    },
    {
      "cell_type": "code",
      "source": [],
      "metadata": {
        "id": "wb4UwHuzwc3I"
      },
      "execution_count": null,
      "outputs": []
    },
    {
      "cell_type": "markdown",
      "source": [
        "10. What is the best way to remove whitespace characters from the start or end?\n",
        "answer:-\n",
        "lstrip() this method remove all whitespace from left side\n",
        "rstrip() this method remove all whitespace from right side\n",
        "strip() this method remove all whitespace from string"
      ],
      "metadata": {
        "id": "mV3GMCx2wfHm"
      }
    },
    {
      "cell_type": "code",
      "source": [],
      "metadata": {
        "id": "fnYNrf65xBOw"
      },
      "execution_count": null,
      "outputs": []
    }
  ]
}