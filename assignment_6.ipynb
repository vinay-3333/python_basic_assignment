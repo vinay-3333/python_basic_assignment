{
  "cells": [
    {
      "cell_type": "code",
      "execution_count": null,
      "metadata": {
        "id": "4yfFO1aypx7H"
      },
      "outputs": [],
      "source": []
    },
    {
      "cell_type": "markdown",
      "metadata": {
        "id": "S7vlkOaMqA5u"
      },
      "source": [
        "1. What are escape characters, and how do you use them?\n",
        "answer:- \\n for new line\n",
        "\\t for tab\n",
        "\\' for single quote\n",
        "\\\" for double quote"
      ]
    },
    {
      "cell_type": "code",
      "execution_count": null,
      "metadata": {
        "id": "CWYoZNnWqjNZ"
      },
      "outputs": [],
      "source": []
    },
    {
      "cell_type": "markdown",
      "metadata": {
        "id": "-E5DNfgYqk_r"
      },
      "source": [
        "2. What do the escape characters n and t stand for?\n",
        "answer:- escape character n for new line and t for tab"
      ]
    },
    {
      "cell_type": "code",
      "execution_count": null,
      "metadata": {
        "id": "6_VDz9Ynqz3A"
      },
      "outputs": [],
      "source": []
    },
    {
      "cell_type": "markdown",
      "metadata": {
        "id": "wQ2ezdP-q0Wt"
      },
      "source": [
        "3. What is the way to include backslash characters in a string?\n",
        "answer:- we use double backslash characters in string those give a single backslash"
      ]
    },
    {
      "cell_type": "code",
      "execution_count": null,
      "metadata": {
        "id": "r9EE8U_trNTd"
      },
      "outputs": [],
      "source": []
    },
    {
      "cell_type": "markdown",
      "metadata": {
        "id": "MqKbom47rPZN"
      },
      "source": [
        "4. The string \"Howl's Moving Castl\". is a correct value. Why isnt the single quote character in the\n",
        "word Howls not escaped a problem?\n",
        "answer:-print(\"This is a string with double quotes: \\\"Howl's Moving Castle\\\".\")\n"
      ]
    },
    {
      "cell_type": "code",
      "execution_count": null,
      "metadata": {
        "id": "wqYwo7u4sA_P"
      },
      "outputs": [],
      "source": []
    },
    {
      "cell_type": "markdown",
      "metadata": {
        "id": "KobY_2ODsDuC"
      },
      "source": [
        "5. How do you write a string of newlines if you dont want to use the n character?\n",
        "answer:- we use three quote inside put into string and another approch is we use \\ charcater for new line"
      ]
    },
    {
      "cell_type": "code",
      "execution_count": null,
      "metadata": {
        "colab": {
          "background_save": true
        },
        "id": "ngt_Bs3uspc2",
        "outputId": "558b785a-8468-464e-8b24-329e6cbd9956"
      },
      "outputs": [
        {
          "data": {
            "application/vnd.google.colaboratory.intrinsic+json": {
              "type": "string"
            },
            "text/plain": [
              "'lo, world!'"
            ]
          },
          "execution_count": 1,
          "metadata": {},
          "output_type": "execute_result"
        }
      ],
      "source": []
    },
    {
      "cell_type": "markdown",
      "metadata": {
        "id": "2WboArgPsqBt"
      },
      "source": [
        "6. What are the values of the given expressions?\n",
        "'Hello, world!'[1]\n",
        "'Hello, world!'[0:5]\n",
        "'Hello, world!'[:5]\n",
        "'Hello, world!'[3:]\n",
        "answer:-\n",
        "'Hello, world!'[1]--->e\n",
        "'Hello, world!'[0:5]--->Hell\n",
        "'Hello, world!'[:5]--->Hell\n",
        "'Hello, world!'[3:]--->lo, world!\n"
      ]
    },
    {
      "cell_type": "markdown",
      "source": [
        "7. What are the values of the following expressions?\n",
        "Hello.upper()\n",
        "Hello.upper().isupper()\n",
        "Hello.upper().lower()\n",
        "answer:-\n",
        "Hello.upper()--->HELLO\n",
        "Hello.upper().isupper()--->True\n",
        "Hello.upper().lower()--->False"
      ],
      "metadata": {
        "id": "rIFrqK4avFOw"
      }
    },
    {
      "cell_type": "code",
      "source": [],
      "metadata": {
        "id": "CeaaYCYzusPm"
      },
      "execution_count": null,
      "outputs": []
    },
    {
      "cell_type": "markdown",
      "source": [
        "8. What are the values of the following expressions?\n",
        "'Remember, remember, the fifth of July.'.split()\n",
        "'-'.join('There can only one.'.split())\n",
        "\n",
        "answer:-\n",
        "'Remember, remember, the fifth of July.'.split()-->each word put into list and sperate from each other\n",
        "\n",
        "'-'.join('There can only one.'.split())-->each word are connect with -\n"
      ],
      "metadata": {
        "id": "6lcrSzhvvex3"
      }
    },
    {
      "cell_type": "code",
      "source": [],
      "metadata": {
        "id": "U4zv5iSjv6pI"
      },
      "execution_count": null,
      "outputs": []
    },
    {
      "cell_type": "markdown",
      "source": [
        "9. What are the methods for right-justifying, left-justifying, and centering a string?\n",
        "answer:-\n",
        "\n",
        "\n",
        "Sure, here are the methods for right-justifying, left-justifying, and centering a string in Python:\n",
        "\n",
        "rjust() : This method right-justifies the string, meaning that it pads the left side of the string with spaces until the string is the specified width. The default fill character is a space, but you can specify a different fill character by passing it as an argument to the method.\n",
        "ljust() : This method left-justifies the string, meaning that it pads the right side of the string with spaces until the string is the specified width. The default fill character is a space, but you can specify a different fill character by passing it as an argument to the method.\n",
        "center() : This method centers the string, meaning that it pads the left and right sides of the string with spaces until the string is the specified width. The default fill character is a space, but you can specify a different fill character by passing it as an argument to the method."
      ],
      "metadata": {
        "id": "AVW3NuUfv7Qg"
      }
    },
    {
      "cell_type": "markdown",
      "source": [
        "10. What is the best way to remove whitespace characters from the start or end?\n",
        "answer:-\n",
        "There are three built-in methods in Python to remove whitespace characters from the start or end of a string:\n",
        "\n",
        "lstrip() : This method removes all leading whitespace characters from the string.\n",
        "rstrip() : This method removes all trailing whitespace characters from the string.\n",
        "strip() : This method removes all leading and trailing whitespace characters from the string."
      ],
      "metadata": {
        "id": "tmcRFA3vwTQo"
      }
    },
    {
      "cell_type": "code",
      "source": [],
      "metadata": {
        "id": "qT6CELh9wbPs"
      },
      "execution_count": null,
      "outputs": []
    }
  ],
  "metadata": {
    "colab": {
      "provenance": []
    },
    "kernelspec": {
      "display_name": "Python 3",
      "name": "python3"
    },
    "language_info": {
      "name": "python"
    }
  },
  "nbformat": 4,
  "nbformat_minor": 0
}