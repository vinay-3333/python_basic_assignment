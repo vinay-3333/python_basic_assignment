{
  "nbformat": 4,
  "nbformat_minor": 0,
  "metadata": {
    "colab": {
      "provenance": []
    },
    "kernelspec": {
      "name": "python3",
      "display_name": "Python 3"
    },
    "language_info": {
      "name": "python"
    }
  },
  "cells": [
    {
      "cell_type": "code",
      "execution_count": null,
      "metadata": {
        "id": "JwO2ALN8TMY9"
      },
      "outputs": [],
      "source": []
    },
    {
      "cell_type": "markdown",
      "source": [
        "1. In the below elements which of them are values or an expression? eg:- values can be\n",
        "integer or string and expressions will be mathematical operators.\n",
        "*\n",
        "&#39;hello&#39;\n",
        "-87.8\n",
        "-\n",
        "/\n",
        "+\n",
        "6"
      ],
      "metadata": {
        "id": "_GeHw54kTQ_3"
      }
    },
    {
      "cell_type": "markdown",
      "source": [
        "ans:- * is arithematic operator that's multipy two     \n",
        "         operand and give the answer in numeric form\n",
        "         example:- 5*6 = 30\n",
        "      'hello' is string datatype\n",
        "      -87.8 is numeric datatype that's hold a pointing  \n",
        "        value\n",
        "      - is a arithematic operator that's work subtract a\n",
        "        value from one operand to another operand\n",
        "        example:- 10-5=5\n",
        "      / is a arithematic operator thats work divide a value from one operand to another operand and give floating value\n",
        "    + is arithematic operator thats work addition a value both operand and give the value as numeric\n",
        "    6 is a numeric value those work as operand when we  \n",
        "       perform some operation through operator\n"
      ],
      "metadata": {
        "id": "JE8LOrXtTXcX"
      }
    },
    {
      "cell_type": "code",
      "source": [],
      "metadata": {
        "id": "ufTZZRhgTSba"
      },
      "execution_count": null,
      "outputs": []
    },
    {
      "cell_type": "markdown",
      "source": [
        "2. What is the difference between string and variable?"
      ],
      "metadata": {
        "id": "fqb3uNW9W1oV"
      }
    },
    {
      "cell_type": "markdown",
      "source": [
        "answer:- string can hold only text or char inside the \"\" and variable can hold any value we also know that variable name is memory loaction name"
      ],
      "metadata": {
        "id": "w64UV1tZW6Bk"
      }
    },
    {
      "cell_type": "code",
      "source": [],
      "metadata": {
        "id": "Fl1o73W2W46f"
      },
      "execution_count": null,
      "outputs": []
    },
    {
      "cell_type": "markdown",
      "source": [
        "3. Describe three different data types."
      ],
      "metadata": {
        "id": "Sz8fCClNX1Hq"
      }
    },
    {
      "cell_type": "markdown",
      "source": [
        "answer:- numeric data types:- int int value can represent by int class it contains a positive or negitve value\n",
        "float value can represent by float class it contains a positive or negtive value its hold a floating values\n",
        "complex value can represent by complex class it contain numeric dvalue as well as imgnri value img value in python denoted by j\n",
        "\n",
        "list:- list is datatype in python that hold a multiple value in one array value can be int,float,complex,string etc list name is a location of memory addreess\n",
        "\n",
        "boolean:- boolean is datatype in python that hold a True or False value its alwys give the result in form of true and false"
      ],
      "metadata": {
        "id": "ZyB64Z-bX6i6"
      }
    },
    {
      "cell_type": "code",
      "source": [],
      "metadata": {
        "id": "sg5Ge-BFX5ZA"
      },
      "execution_count": null,
      "outputs": []
    },
    {
      "cell_type": "markdown",
      "source": [
        "4. What is an expression made up of? What do all expressions do?"
      ],
      "metadata": {
        "id": "2iRC_a3HagOe"
      }
    },
    {
      "cell_type": "markdown",
      "source": [
        "answer:- an expression is a combination of value ,variable and operator\n",
        "value:- value can be interger , float ,null\n",
        "variable :-variable refers to value\n",
        "operator :- perform some operation between two value we use operator\n",
        " expression give the value in single digit"
      ],
      "metadata": {
        "id": "TktMWzRPahOW"
      }
    },
    {
      "cell_type": "code",
      "source": [],
      "metadata": {
        "id": "OD1YVv1jbIgw"
      },
      "execution_count": null,
      "outputs": []
    },
    {
      "cell_type": "markdown",
      "source": [
        "5. This assignment statements, like spam = 10. What is the difference between an\n",
        "expression and a statement?"
      ],
      "metadata": {
        "id": "gVXcyMgRbift"
      }
    },
    {
      "cell_type": "markdown",
      "source": [
        "answer:- expression :- exression is combination of value ,variable and operator that convert all this think into single form\n",
        "statement :- statment is an instruction.python interpreter can follow those instruction in python assignment instruction,conditional and loops statements etc example of statement"
      ],
      "metadata": {
        "id": "FYLGslOXbto0"
      }
    },
    {
      "cell_type": "code",
      "source": [],
      "metadata": {
        "colab": {
          "base_uri": "https://localhost:8080/"
        },
        "id": "wWunwXLA1r11",
        "outputId": "74d152f8-36fd-4f33-b0fd-01a8d85927d0"
      },
      "execution_count": null,
      "outputs": [
        {
          "output_type": "execute_result",
          "data": {
            "text/plain": [
              "23"
            ]
          },
          "metadata": {},
          "execution_count": 1
        }
      ]
    },
    {
      "cell_type": "code",
      "source": [],
      "metadata": {
        "colab": {
          "base_uri": "https://localhost:8080/"
        },
        "id": "k_DmiUb-19aW",
        "outputId": "4ee26503-67d9-4e3e-a97f-bdba4c8fe03b"
      },
      "execution_count": null,
      "outputs": [
        {
          "output_type": "execute_result",
          "data": {
            "text/plain": [
              "22"
            ]
          },
          "metadata": {},
          "execution_count": 2
        }
      ]
    },
    {
      "cell_type": "markdown",
      "source": [
        "6. After running the following code, what does the variable bacon contain?\n",
        "bacon = 22\n",
        "bacon + 1"
      ],
      "metadata": {
        "id": "0zX4r0441vif"
      }
    },
    {
      "cell_type": "markdown",
      "source": [
        "answer:- bacon =22\n",
        "bacon+1\n",
        "then the variable of bacon contain 22 interger value"
      ],
      "metadata": {
        "id": "KWncdv-c1wkX"
      }
    },
    {
      "cell_type": "code",
      "source": [],
      "metadata": {
        "id": "neRqV2812NkO"
      },
      "execution_count": null,
      "outputs": []
    },
    {
      "cell_type": "markdown",
      "source": [
        "7. What should the values of the following two terms be?\n",
        "&#39;spam&#39; + &#39;spamspam&#39;\n",
        "&#39;spam&#39; *3"
      ],
      "metadata": {
        "id": "CqIgohRR2SWa"
      }
    },
    {
      "cell_type": "markdown",
      "source": [
        "answer:-   \"spam\"+\"spamspam\" = spamspamspam\n",
        "    \"spam\"*3 = \"spamspamspam\""
      ],
      "metadata": {
        "id": "MGq_awS52iZT"
      }
    },
    {
      "cell_type": "code",
      "source": [],
      "metadata": {
        "id": "cSOKSMPm2hir"
      },
      "execution_count": null,
      "outputs": []
    },
    {
      "cell_type": "code",
      "source": [
        "'spam' + 'spamspam'"
      ],
      "metadata": {
        "colab": {
          "base_uri": "https://localhost:8080/",
          "height": 36
        },
        "id": "4j9-QVuD2URs",
        "outputId": "2afb0481-d675-40b6-d560-5bc5d8d1de1f"
      },
      "execution_count": null,
      "outputs": [
        {
          "output_type": "execute_result",
          "data": {
            "text/plain": [
              "'spamspamspam'"
            ],
            "application/vnd.google.colaboratory.intrinsic+json": {
              "type": "string"
            }
          },
          "metadata": {},
          "execution_count": 3
        }
      ]
    },
    {
      "cell_type": "code",
      "source": [
        "'spam' *3"
      ],
      "metadata": {
        "colab": {
          "base_uri": "https://localhost:8080/",
          "height": 36
        },
        "id": "NVIu9mG52cml",
        "outputId": "084bbdd2-3881-40ab-e761-ec5e5e612b0b"
      },
      "execution_count": null,
      "outputs": [
        {
          "output_type": "execute_result",
          "data": {
            "text/plain": [
              "'spamspamspam'"
            ],
            "application/vnd.google.colaboratory.intrinsic+json": {
              "type": "string"
            }
          },
          "metadata": {},
          "execution_count": 4
        }
      ]
    },
    {
      "cell_type": "code",
      "source": [],
      "metadata": {
        "id": "VkoYCM872fLd"
      },
      "execution_count": null,
      "outputs": []
    },
    {
      "cell_type": "markdown",
      "source": [
        "8. Why is eggs a valid variable name while 100 is invalid?"
      ],
      "metadata": {
        "id": "6Zo1VvUK259_"
      }
    },
    {
      "cell_type": "markdown",
      "source": [
        "answer:- becasuse in python and other programming language there is some rules to crete variabe those rules are applicable\n",
        "types of rules those are apply when variable creating\n",
        "a. variable always start with alphabets\n",
        "b.variable can start with underscore\n",
        "c.variable can contain numric value but variable does not start with numeric values\n"
      ],
      "metadata": {
        "id": "UQVwUIQR3A2T"
      }
    },
    {
      "cell_type": "code",
      "source": [],
      "metadata": {
        "id": "6DtUEoN62_7U"
      },
      "execution_count": null,
      "outputs": []
    },
    {
      "cell_type": "markdown",
      "source": [
        "9. What three functions can be used to get the integer, floating-point number, or string\n",
        "version of a value?"
      ],
      "metadata": {
        "id": "LkOb5aiE4SnZ"
      }
    },
    {
      "cell_type": "markdown",
      "source": [
        "answer:-  The int(), float(), and str() functions will evaluate to the integer, floating-point number, and string versions of the value passed to them."
      ],
      "metadata": {
        "id": "DuVoTn4A4T7-"
      }
    },
    {
      "cell_type": "code",
      "source": [],
      "metadata": {
        "id": "xmkHNDsh4TPf"
      },
      "execution_count": null,
      "outputs": []
    },
    {
      "cell_type": "markdown",
      "source": [
        "10. Why does this expression cause an error? How can you fix it?\n",
        "&#39;I have eaten &#39; + 99 + &#39; burritos.&#39;"
      ],
      "metadata": {
        "id": "XVggpP2B44pg"
      }
    },
    {
      "cell_type": "markdown",
      "source": [
        "answer :- there nametype exception generate becasuse string and integer are concating those give error ,we can string typecasing through str() function solver this error git solution\n",
        "\n",
        " 'I have eaten ' + str(99) + ' burritos.'"
      ],
      "metadata": {
        "id": "2lVt0CkV48RA"
      }
    },
    {
      "cell_type": "code",
      "source": [
        " 'I have eaten ' + str(99) + ' burritos.'"
      ],
      "metadata": {
        "colab": {
          "base_uri": "https://localhost:8080/",
          "height": 36
        },
        "id": "ZNJU_3Jg45Wf",
        "outputId": "bad9725f-9784-40ee-cdaf-bbcf510fe23e"
      },
      "execution_count": null,
      "outputs": [
        {
          "output_type": "execute_result",
          "data": {
            "text/plain": [
              "'I have eaten 99 burritos.'"
            ],
            "application/vnd.google.colaboratory.intrinsic+json": {
              "type": "string"
            }
          },
          "metadata": {},
          "execution_count": 5
        }
      ]
    },
    {
      "cell_type": "code",
      "source": [],
      "metadata": {
        "id": "Z3_Wzyx-5ipf"
      },
      "execution_count": null,
      "outputs": []
    }
  ]
}