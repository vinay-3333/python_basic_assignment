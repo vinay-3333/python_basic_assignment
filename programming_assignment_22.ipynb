{
  "nbformat": 4,
  "nbformat_minor": 0,
  "metadata": {
    "colab": {
      "provenance": []
    },
    "kernelspec": {
      "name": "python3",
      "display_name": "Python 3"
    },
    "language_info": {
      "name": "python"
    }
  },
  "cells": [
    {
      "cell_type": "code",
      "execution_count": null,
      "metadata": {
        "id": "Ys7SLW-JeSLO"
      },
      "outputs": [],
      "source": []
    },
    {
      "cell_type": "markdown",
      "source": [
        "Question1\n",
        "Create a function that takes three parameters where:\n",
        " x is the start of the range (inclusive).\n",
        " y is the end of the range (inclusive).\n",
        " n is the divisor to be checked against.\n",
        "Return an ordered list with numbers in the range that are divisible by the third parameter n.\n",
        "Return an empty list if there are no numbers that are divisible by n.\n",
        "Examples\n",
        "list_operation(1, 10, 3) ➞ [3, 6, 9]\n",
        "list_operation(7, 9, 2) ➞ [8]\n",
        "list_operation(15, 20, 7) ➞ []\n",
        "answer:-\n",
        "def list_operation(x, y, n):\n",
        "    # Initialize an empty list to store the result\n",
        "    result = []\n",
        "    \n",
        "    # Iterate through the range from x to y (inclusive)\n",
        "    for num in range(x, y + 1):\n",
        "        # Check if num is divisible by n (remainder is 0)\n",
        "        if num % n == 0:\n",
        "            result.append(num)\n",
        "    \n",
        "    return result\n",
        "\n",
        "# Test cases\n",
        "print(list_operation(1, 10, 3))  # Output: [3, 6, 9]\n",
        "print(list_operation(7, 9, 2))   # Output: [8]\n",
        "print(list_operation(15, 20, 7)) # Output: []\n"
      ],
      "metadata": {
        "id": "ZDZlQj2rehEN"
      }
    },
    {
      "cell_type": "code",
      "source": [],
      "metadata": {
        "id": "4H9IFqJlem8-"
      },
      "execution_count": null,
      "outputs": []
    },
    {
      "cell_type": "markdown",
      "source": [
        "Question2\n",
        "Create a function that takes in two lists and returns True if the second list follows the first list\n",
        "by one element, and False otherwise. In other words, determine if the second list is the first\n",
        "list shifted to the right by 1.\n",
        "Examples\n",
        "simon_says([1, 2], [5, 1]) ➞ True\n",
        "simon_says([1, 2], [5, 5]) ➞ False\n",
        "simon_says([1, 2, 3, 4, 5], [0, 1, 2, 3, 4]) ➞ True\n",
        "simon_says([1, 2, 3, 4, 5], [5, 5, 1, 2, 3]) ➞ False\n",
        "Notes\n",
        " Both input lists will be of the same length, and will have a minimum length of 2.\n",
        " The values of the 0-indexed element in the second list and the n-1th indexed element\n",
        "in the first list do not matter.\n",
        "answer:-\n",
        "\n",
        "def simon_says(list1, list2):\n",
        "    # Check if the second list is a rotation of the first list by one element\n",
        "    return list1[:-1] == list2[1:]\n",
        "\n",
        "# Test cases\n",
        "print(simon_says([1, 2], [5, 1]))               # Output: True\n",
        "print(simon_says([1, 2], [5, 5]))               # Output: False\n",
        "print(simon_says([1, 2, 3, 4, 5], [0, 1, 2, 3, 4]))  # Output: True\n",
        "print(simon_says([1, 2, 3, 4, 5], [5, 5, 1, 2, 3]))  # Output: False\n"
      ],
      "metadata": {
        "id": "Ivg2t0QieqQc"
      }
    },
    {
      "cell_type": "code",
      "source": [],
      "metadata": {
        "id": "NtlzQ3eoeyNl"
      },
      "execution_count": null,
      "outputs": []
    },
    {
      "cell_type": "markdown",
      "source": [
        "Question3\n",
        "A group of friends have decided to start a secret society. The name will be the first letter of\n",
        "each of their names, sorted in alphabetical order.\n",
        "Create a function that takes in a list of names and returns the name of the secret society.\n",
        "\n",
        "Examples\n",
        "society_name([&quot;Adam&quot;, &quot;Sarah&quot;, &quot;Malcolm&quot;]) ➞ &quot;AMS&quot;\n",
        "society_name([&quot;Harry&quot;, &quot;Newt&quot;, &quot;Luna&quot;, &quot;Cho&quot;]) ➞ &quot;CHLN&quot;\n",
        "society_name([&quot;Phoebe&quot;, &quot;Chandler&quot;, &quot;Rachel&quot;, &quot;Ross&quot;, &quot;Monica&quot;, &quot;Joey&quot;])\n",
        "answer:-\n",
        "def society_name(names):\n",
        "    # Extract the first letter of each name, convert them to uppercase, and sort them\n",
        "    secret_name = ''.join(sorted([name[0].upper() for name in names]))\n",
        "    \n",
        "    return secret_name\n",
        "\n",
        "# Test cases\n",
        "print(society_name([\"Adam\", \"Sarah\", \"Malcolm\"]))  # Output: \"AMS\"\n",
        "print(society_name([\"Harry\", \"Newt\", \"Luna\", \"Cho\"]))  # Output: \"CHLN\"\n",
        "print(society_name([\"Phoebe\", \"Chandler\", \"Rachel\", \"Ross\", \"Monica\", \"Joey\"]))  # Output: \"CJMPRR\"\n"
      ],
      "metadata": {
        "id": "UWQ0IG0oe1CU"
      }
    },
    {
      "cell_type": "code",
      "source": [],
      "metadata": {
        "id": "21x8y-4GfAcl"
      },
      "execution_count": null,
      "outputs": []
    },
    {
      "cell_type": "markdown",
      "source": [
        "Question4\n",
        "An isogram is a word that has no duplicate letters. Create a function that takes a string and\n",
        "returns either True or False depending on whether or not it&#39;s an &quot;isogram&quot;.\n",
        "Examples\n",
        "is_isogram(&quot;Algorism&quot;) ➞ True\n",
        "is_isogram(&quot;PasSword&quot;) ➞ False\n",
        "# Not case sensitive.\n",
        "is_isogram(&quot;Consecutive&quot;) ➞ False\n",
        "Notes\n",
        " Ignore letter case (should not be case sensitive).\n",
        " All test cases contain valid one word strings.\n",
        "answer:-\n",
        "def is_isogram(word):\n",
        "    # Convert the word to lowercase to make it case-insensitive\n",
        "    word = word.lower()\n",
        "    \n",
        "    # Create a set to store unique letters\n",
        "    unique_letters = set()\n",
        "    \n",
        "    # Iterate through each letter in the word\n",
        "    for letter in word:\n",
        "        # If the letter is already in the set, it's not an isogram\n",
        "        if letter in unique_letters:\n",
        "            return False\n",
        "        else:\n",
        "            unique_letters.add(letter)\n",
        "    \n",
        "    # If no duplicates were found, it's an isogram\n",
        "    return True\n",
        "\n",
        "# Test cases\n",
        "print(is_isogram(\"Algorism\"))       # Output: True\n",
        "print(is_isogram(\"PasSword\"))       # Output: False\n",
        "print(is_isogram(\"Consecutive\"))    # Output: False\n"
      ],
      "metadata": {
        "id": "8AGMDvCOfC5t"
      }
    },
    {
      "cell_type": "code",
      "source": [],
      "metadata": {
        "id": "9NBZy2IgfIGu"
      },
      "execution_count": null,
      "outputs": []
    },
    {
      "cell_type": "markdown",
      "source": [
        "Question5\n",
        "Create a function that takes a string and returns True or False, depending on whether the\n",
        "characters are in order or not.\n",
        "Examples\n",
        "is_in_order(&quot;abc&quot;) ➞ True\n",
        "is_in_order(&quot;edabit&quot;) ➞ False\n",
        "is_in_order(&quot;123&quot;) ➞ True\n",
        "is_in_order(&quot;xyzz&quot;) ➞ True\n",
        "Notes\n",
        "You don&#39;t have to handle empty strings.\n",
        "answer:-\n",
        "def is_in_order(s):\n",
        "    # Check if the string is equal to its sorted version\n",
        "    return s == ''.join(sorted(s))\n",
        "\n",
        "# Test cases\n",
        "print(is_in_order(\"abc\"))    # Output: True\n",
        "print(is_in_order(\"edabit\")) # Output: False\n",
        "print(is_in_order(\"123\"))    # Output: True\n",
        "print(is_in_order(\"xyzz\"))   # Output: True\n"
      ],
      "metadata": {
        "id": "JB741NLAfIik"
      }
    }
  ]
}