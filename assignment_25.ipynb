{
  "nbformat": 4,
  "nbformat_minor": 0,
  "metadata": {
    "colab": {
      "provenance": []
    },
    "kernelspec": {
      "name": "python3",
      "display_name": "Python 3"
    },
    "language_info": {
      "name": "python"
    }
  },
  "cells": [
    {
      "cell_type": "code",
      "execution_count": null,
      "metadata": {
        "id": "xQ3Qbzu4_V06"
      },
      "outputs": [],
      "source": []
    },
    {
      "cell_type": "markdown",
      "source": [
        "1) . What is the difference between enclosing a list comprehension in square brackets and\n",
        "parentheses?\n",
        "answer:-\n",
        "\n",
        "The main difference between enclosing a list comprehension in square brackets and parentheses is that square brackets create a list, while parentheses create a generator expression.\n",
        "\n",
        "List comprehensions are a concise way to create lists in Python. They are enclosed in square brackets ([]) and consist of an expression, followed by a for loop and one or more conditional statements (optional). The list comprehension evaluates the expression for each element in the for loop and adds the result to the list if it satisfies the conditional statements.\n",
        "\n",
        "Generator expressions are similar to list comprehensions, but they produce a generator instead of a list. Generators are efficient because they produce the elements of the sequence one at a time, rather than creating an entire list in memory. Generator expressions are enclosed in parentheses (())."
      ],
      "metadata": {
        "id": "oTSs5ztj_YjN"
      }
    },
    {
      "cell_type": "code",
      "source": [],
      "metadata": {
        "id": "4ELJVadWAJoV"
      },
      "execution_count": null,
      "outputs": []
    },
    {
      "cell_type": "markdown",
      "source": [
        "2) What is the relationship between generators and iterators?\n",
        "answer:-\n",
        "\n",
        "A generator is a special type of iterator. All generators are iterators, but not all iterators are generators.\n",
        "\n",
        "An iterator is an object that can be iterated over. This means that you can use a for loop to iterate over the elements of the iterator. To be an iterator, an object must implement the __iter__() and __next__() methods.\n",
        "\n",
        "A generator is a function that returns an iterator. Generators are implemented using the yield keyword. When a generator function is called, it returns an iterator object. The iterator object can then be used to iterate over the elements of the sequence.\n",
        "\n",
        "The main difference between generators and iterators is that generators are more efficient. Generators produce the elements of the sequence one at a time, rather than creating an entire list in memory. This makes generators ideal for working with large sequences of data."
      ],
      "metadata": {
        "id": "sr7nHWX8AVPG"
      }
    },
    {
      "cell_type": "code",
      "source": [],
      "metadata": {
        "id": "sgo3wY2oA1DX"
      },
      "execution_count": null,
      "outputs": []
    },
    {
      "cell_type": "markdown",
      "source": [
        "3) What are the signs that a function is a generator function?\n",
        "answer:-\n",
        "The function contains the yield keyword. The yield keyword is used to pause the execution of the function and return a value. The function will then resume execution when the next value is needed.\n",
        "The function returns an iterator. An iterator is an object that can be iterated over, meaning that you can use a for loop to iterate over the elements of the iterator. To be an iterator, an object must implement the __iter__() and __next__() methods."
      ],
      "metadata": {
        "id": "gtHws0MmA29G"
      }
    },
    {
      "cell_type": "code",
      "source": [],
      "metadata": {
        "id": "m9yMCld2BEEb"
      },
      "execution_count": null,
      "outputs": []
    },
    {
      "cell_type": "markdown",
      "source": [
        "4) What is the purpose of a yield statement?\n",
        "answer:-\n",
        "\n",
        "The yield statement is a keyword in Python that is used to create generators. A generator is a special type of function that returns an iterator. Iterators are objects that can be iterated over, meaning that you can use a for loop to iterate over the elements of the iterator.\n",
        "\n",
        "The yield statement allows a generator function to pause its execution and return a value. The function will then resume execution when the next value is needed. This makes generator functions very efficient for working with large sequences of data, because they do not need to create an entire list of values in memory at once."
      ],
      "metadata": {
        "id": "4gnveTXYBEtl"
      }
    },
    {
      "cell_type": "code",
      "source": [],
      "metadata": {
        "id": "BV6i0C_cBbbv"
      },
      "execution_count": null,
      "outputs": []
    },
    {
      "cell_type": "markdown",
      "source": [
        "5) What is the relationship between map calls and list comprehensions? Make a comparison and\n",
        "contrast between the two.\n",
        "answer:-\n",
        "Map calls and list comprehensions are both ways to iterate over a sequence and apply a function to each element of the sequence. However, there are some key differences between the two.\n",
        "\n",
        "Map calls\n",
        "\n",
        "Map calls are functions that take two arguments: a function and a sequence. The map call applies the function to each element of the sequence and returns a new sequence with the results.\n",
        "\n",
        "\n",
        "List comprehensions\n",
        "\n",
        "List comprehensions are a concise way to create lists in Python. They are enclosed in square brackets ([]) and consist of an expression, followed by a for loop and one or more conditional statements (optional). The list comprehension evaluates the expression for each element in the for loop and adds the result to the list if it satisfies the conditional statements\n",
        "\n",
        "Comparison and contrast\n",
        "\n",
        "The main difference between map calls and list comprehensions is that map calls return iterators, while list comprehensions return lists. This means that map calls are more efficient for working with large sequences of data, because they do not need to create an entire list of results in memory at once.\n",
        "\n",
        "Another difference is that list comprehensions can be used to create lists with conditional statements. This means that you can use list comprehensions to filter the elements of a sequence or to create lists with different types of elements."
      ],
      "metadata": {
        "id": "plwRPQGnBeY_"
      }
    },
    {
      "cell_type": "code",
      "source": [],
      "metadata": {
        "id": "Dv18c9XxCMNx"
      },
      "execution_count": null,
      "outputs": []
    }
  ]
}