{
  "nbformat": 4,
  "nbformat_minor": 0,
  "metadata": {
    "colab": {
      "provenance": []
    },
    "kernelspec": {
      "name": "python3",
      "display_name": "Python 3"
    },
    "language_info": {
      "name": "python"
    }
  },
  "cells": [
    {
      "cell_type": "code",
      "execution_count": null,
      "metadata": {
        "id": "zlCVrjEhMvTA"
      },
      "outputs": [],
      "source": []
    },
    {
      "cell_type": "markdown",
      "source": [
        "1. Write a Python program to find words which are greater than given length k?\n",
        "answer:-\n",
        "def find_words_greater_than_length_k(words, k):\n",
        "  greater_than_k_length_words = []\n",
        "  for word in words:\n",
        "    if len(word) > k:\n",
        "      greater_than_k_length_words.append(word)\n",
        "  return greater_than_k_length_words\n",
        "\n",
        "words = [\"hello\", \"world\", \"I\", \"am\", \"Bard\"]\n",
        "k = 3\n",
        "\n",
        "greater_than_k_length_words = find_words_greater_than_length_k(words, k)\n",
        "\n",
        "print(\"The words in the given list that are greater than the given length are:\", greater_than_k_length_words)\n"
      ],
      "metadata": {
        "id": "P32kO0CnM481"
      }
    },
    {
      "cell_type": "code",
      "source": [],
      "metadata": {
        "id": "WXUwswx3NIHM"
      },
      "execution_count": null,
      "outputs": []
    },
    {
      "cell_type": "markdown",
      "source": [
        "2. Write a Python program for removing i-th character from a string?\n",
        "answer:-\n",
        "def remove_ith_character_from_string(string, i):\n",
        "\n",
        "  new_string = \"\"\n",
        "  for j in range(len(string)):\n",
        "    if j != i:\n",
        "      new_string += string[j]\n",
        "  return new_string\n",
        "\n",
        "string = \"hello\"\n",
        "i = 2\n",
        "\n",
        "new_string = remove_ith_character_from_string(string, i)\n",
        "\n",
        "print(\"The string with the i-th character removed is:\", new_string)\n"
      ],
      "metadata": {
        "id": "zsoL5lb-NK3E"
      }
    },
    {
      "cell_type": "code",
      "source": [],
      "metadata": {
        "id": "I2ay0PxgNYz8"
      },
      "execution_count": null,
      "outputs": []
    },
    {
      "cell_type": "markdown",
      "source": [
        "3. Write a Python program to split and join a string?\n",
        "answer:-\n",
        "def split_and_join_string(string, delimiter):\n",
        "\n",
        "  split_string = string.split(delimiter)\n",
        "  joined_string = delimiter.join(split_string)\n",
        "  return joined_string\n",
        "string = \"hello,world\"\n",
        "delimiter = \",\"\n",
        "\n",
        "joined_string = split_and_join_string(string, delimiter)\n",
        "\n",
        "print(\"The joined string is:\", joined_string)\n"
      ],
      "metadata": {
        "id": "9vHDGxdoNZyD"
      }
    },
    {
      "cell_type": "markdown",
      "source": [
        "4. Write a Python to check if a given string is binary string or not?\n",
        "answer:-\n",
        "def is_binary_string(string):\n",
        "\n",
        "  for character in string:\n",
        "    if character not in [\"0\", \"1\"]:\n",
        "      return False\n",
        "  return True\n",
        "\n",
        "string = \"10101010\"\n",
        "\n",
        "is_binary_string = is_binary_string(string)\n",
        "\n",
        "print(\"Is the string a binary string:\", is_binary_string)\n"
      ],
      "metadata": {
        "id": "YXED-LHJNy3U"
      }
    },
    {
      "cell_type": "code",
      "source": [],
      "metadata": {
        "id": "DmVMDtapOF8D"
      },
      "execution_count": null,
      "outputs": []
    },
    {
      "cell_type": "markdown",
      "source": [
        "5. Write a Python program to find uncommon words from two Strings?\n",
        "answer:-\n",
        "def find_uncommon_words(string1, string2):\n",
        "\n",
        "  set1 = set(string1.split())\n",
        "  set2 = set(string2.split())\n",
        "\n",
        "  uncommon_words = list(set1.difference(set2))\n",
        "\n",
        "  return uncommon_words\n",
        "\n",
        "\n",
        "string1 = \"This is a sample string\"\n",
        "string2 = \"This is another sample string\"\n",
        "\n",
        "uncommon_words = find_uncommon_words(string1, string2)\n",
        "\n",
        "print(\"The uncommon words between the two strings are:\", uncommon_words)\n"
      ],
      "metadata": {
        "id": "yzaU2GuxOHy0"
      }
    },
    {
      "cell_type": "markdown",
      "source": [
        "6. Write a Python to find all duplicate characters in string?\n",
        "answer:-\n",
        "def find_duplicate_characters(string):\n",
        "\n",
        "  duplicate_characters = set()\n",
        "\n",
        "  character_counts = {}\n",
        "  for character in string:\n",
        "    if character in character_counts:\n",
        "      character_counts[character] += 1\n",
        "    else:\n",
        "      character_counts[character] = 1\n",
        "\n",
        "  for character, count in character_counts.items():\n",
        "    if count > 1:\n",
        "      duplicate_characters.add(character)\n",
        "\n",
        "  return duplicate_characters\n",
        "\n",
        "\n",
        "string = \"This is a sample string\"\n",
        "\n",
        "duplicate_characters = find_duplicate_characters(string)\n",
        "\n",
        "print(\"The duplicate characters in the string are:\", duplicate_characters)\n"
      ],
      "metadata": {
        "id": "GGL8zvauOWZE"
      }
    },
    {
      "cell_type": "code",
      "source": [],
      "metadata": {
        "id": "Nq0MtdJOOtMW"
      },
      "execution_count": null,
      "outputs": []
    },
    {
      "cell_type": "markdown",
      "source": [
        "7. Write a Python Program to check if a string contains any special character?\n",
        "answer:-\n",
        "def has_special_characters(string):\n",
        "\n",
        "  special_characters = set(\"!@#$%^&*()[]{};:,<.>/?\\|`~-=_+\")\n",
        "\n",
        "  for character in string:\n",
        "    if character in special_characters:\n",
        "      return True\n",
        "\n",
        "  return False\n",
        "\n",
        "string = \"This is a sample string\"\n",
        "\n",
        "has_special_characters = has_special_characters(string)\n",
        "\n",
        "print(\"Does the string contain any special characters:\", has_special_characters)\n"
      ],
      "metadata": {
        "id": "k2uSWoq7OvBE"
      }
    },
    {
      "cell_type": "code",
      "source": [],
      "metadata": {
        "id": "qMHaKDsvPK0l"
      },
      "execution_count": null,
      "outputs": []
    }
  ]
}