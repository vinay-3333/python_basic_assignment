{
  "nbformat": 4,
  "nbformat_minor": 0,
  "metadata": {
    "colab": {
      "provenance": []
    },
    "kernelspec": {
      "name": "python3",
      "display_name": "Python 3"
    },
    "language_info": {
      "name": "python"
    }
  },
  "cells": [
    {
      "cell_type": "code",
      "execution_count": 2,
      "metadata": {
        "colab": {
          "base_uri": "https://localhost:8080/"
        },
        "id": "eA1WEvs0ICiv",
        "outputId": "ad24c0aa-9892-4590-b1ea-8eb7d865255b"
      },
      "outputs": [
        {
          "output_type": "execute_result",
          "data": {
            "text/plain": [
              "15"
            ]
          },
          "metadata": {},
          "execution_count": 2
        }
      ],
      "source": [
        "def array_sum(a):\n",
        "  sum=0\n",
        "  for i in a:\n",
        "    sum+=i\n",
        "  return sum\n",
        "a=[1,2,3,4,5]\n",
        "array_sum(a)"
      ]
    },
    {
      "cell_type": "markdown",
      "source": [
        "1. Write a Python Program to find sum of array?\n",
        "answer:-\n",
        "def array_sum(a):\n",
        "  sum=0\n",
        "  for i in a:\n",
        "    sum+=i\n",
        "  return sum\n",
        "a=[1,2,3,4,5]\n",
        "array_sum(a)"
      ],
      "metadata": {
        "id": "paEcK07lIJEe"
      }
    },
    {
      "cell_type": "code",
      "source": [
        "def array_in_large_num(a):\n",
        "  lrg_num = 0\n",
        "  for i in a:\n",
        "    if (lrg_num < i):\n",
        "      lrg_num =i\n",
        "  return lrg_num\n",
        "\n",
        "a=[1,2,3,4,5]\n",
        "array_in_large_num(a)\n"
      ],
      "metadata": {
        "colab": {
          "base_uri": "https://localhost:8080/"
        },
        "id": "r4XliGARIiak",
        "outputId": "7c24449b-4ced-4191-9d4e-e9d86e7a097f"
      },
      "execution_count": 5,
      "outputs": [
        {
          "output_type": "execute_result",
          "data": {
            "text/plain": [
              "5"
            ]
          },
          "metadata": {},
          "execution_count": 5
        }
      ]
    },
    {
      "cell_type": "markdown",
      "source": [
        "2. Write a Python Program to find largest element in an array?\n",
        "answer:-\n",
        "def array_in_large_num(a):\n",
        "  lrg_num = 0\n",
        "  for i in a:\n",
        "    if (lrg_num < i):\n",
        "      lrg_num =i\n",
        "  return lrg_num\n",
        "\n",
        "a=[1,2,3,4,5]\n",
        "array_in_large_num(a)"
      ],
      "metadata": {
        "id": "MVPiCBucIlJO"
      }
    },
    {
      "cell_type": "code",
      "source": [
        "def rotation_array(a,size):\n",
        "  tem_array =[]\n",
        "  for i in range(size,len(a)):\n",
        "    tem_array.append(a[i])\n",
        "  for i in range(size):\n",
        "    tem_array.append(a[i])\n",
        "  return tem_array\n",
        "a=[1,2,3,4,5]\n",
        "rotation_array(a,2)\n"
      ],
      "metadata": {
        "colab": {
          "base_uri": "https://localhost:8080/"
        },
        "id": "pJvRBXnXJUbP",
        "outputId": "3288d564-45a0-4b95-e546-619d58b2f4e5"
      },
      "execution_count": 8,
      "outputs": [
        {
          "output_type": "execute_result",
          "data": {
            "text/plain": [
              "[3, 4, 5, 1, 2]"
            ]
          },
          "metadata": {},
          "execution_count": 8
        }
      ]
    },
    {
      "cell_type": "markdown",
      "source": [
        "3. Write a Python Program for array rotation?\n",
        "answer:-\n",
        "def rotation_array(a,size):\n",
        "  tem_array =[]\n",
        "  for i in range(size,len(a)):\n",
        "    tem_array.append(a[i])\n",
        "  for i in range(size):\n",
        "    tem_array.append(a[i])\n",
        "  return tem_array\n",
        "a=[1,2,3,4,5]\n",
        "rotation_array(a,2)"
      ],
      "metadata": {
        "id": "a08Vo0LAJXvO"
      }
    },
    {
      "cell_type": "code",
      "source": [],
      "metadata": {
        "id": "QCDLHMdxLYCV"
      },
      "execution_count": null,
      "outputs": []
    },
    {
      "cell_type": "markdown",
      "source": [
        "4. Write a Python Program to Split the array and add the first part to the end?\n",
        "answer:-\n",
        "def rotation_array(a,size):\n",
        "  tem_array =[]\n",
        "  for i in range(size,len(a)):\n",
        "    tem_array.append(a[i])\n",
        "  for i in range(size):\n",
        "    tem_array.append(a[i])\n",
        "  return tem_array\n",
        "a=[1,2,3,4,5]\n",
        "rotation_array(a,2)"
      ],
      "metadata": {
        "id": "tJfGJkrTLco9"
      }
    },
    {
      "cell_type": "code",
      "source": [],
      "metadata": {
        "id": "lpO_0Z-aL46E"
      },
      "execution_count": null,
      "outputs": []
    },
    {
      "cell_type": "markdown",
      "source": [
        "5. Write a Python Program to check if given array is Monotonic?\n",
        "answer:-\n",
        "def is_monotonic(array):\n",
        "  if len(array) <= 1:\n",
        "    return True\n",
        "\n",
        "  is_increasing = True\n",
        "  is_decreasing = True\n",
        "\n",
        "  for i in range(len(array) - 1):\n",
        "    if array[i] > array[i + 1]:\n",
        "      is_increasing = False\n",
        "    elif array[i] < array[i + 1]:\n",
        "      is_decreasing = False\n",
        "\n",
        "  return is_increasing or is_decreasing\n",
        "array = [1, 2, 3, 4, 5]\n",
        "\n",
        "is_monotonic = is_monotonic(array)\n",
        "\n",
        "print(\"Is the array monotonic:\", is_monotonic)"
      ],
      "metadata": {
        "id": "BB-Zf1DZL7Ns"
      }
    },
    {
      "cell_type": "code",
      "source": [],
      "metadata": {
        "id": "RA5Nujt9MZcn"
      },
      "execution_count": null,
      "outputs": []
    }
  ]
}