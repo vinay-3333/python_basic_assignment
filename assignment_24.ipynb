{
  "nbformat": 4,
  "nbformat_minor": 0,
  "metadata": {
    "colab": {
      "provenance": []
    },
    "kernelspec": {
      "name": "python3",
      "display_name": "Python 3"
    },
    "language_info": {
      "name": "python"
    }
  },
  "cells": [
    {
      "cell_type": "code",
      "execution_count": null,
      "metadata": {
        "id": "XlWF6ycc484C"
      },
      "outputs": [],
      "source": []
    },
    {
      "cell_type": "markdown",
      "source": [
        "1. What is the relationship between def statements and lambda expressions ?\n",
        "answer:-\n",
        "def statement and lambda expressions both are used to define function\n",
        "->def function are used to define named function and lambda function are used to define unnamed function (anonymons function)\n",
        "->def statement used before must be define before and lambda expression we immedetly define and use it"
      ],
      "metadata": {
        "id": "bRR7eyJ05GAt"
      }
    },
    {
      "cell_type": "code",
      "source": [],
      "metadata": {
        "id": "gIdPvSG-6WvB"
      },
      "execution_count": null,
      "outputs": []
    },
    {
      "cell_type": "markdown",
      "source": [
        "2. What is the benefit of lambda?\n",
        "answer:-\n",
        "->we define the function those are unnamed\n",
        "->we define and use immdetly\n",
        "->lambda expression are more readable\n",
        "->lambda expression write once use more times"
      ],
      "metadata": {
        "id": "wV6XDSKJ6fc9"
      }
    },
    {
      "cell_type": "code",
      "source": [],
      "metadata": {
        "id": "j4DEzXYI7OxF"
      },
      "execution_count": null,
      "outputs": []
    },
    {
      "cell_type": "markdown",
      "source": [
        "3. Compare and contrast map, filter, and reduce.\n",
        "answer:-\n",
        "-->map() function returns a map object(which is an iterator) of the results after applying the given function to each item of a given iterable (list, tuple etc.)\n",
        "map(fun, iter)\n",
        "fun: It is a function to which map passes each element of given iterable.\n",
        "iter: It is iterable which is to be mapped.\n",
        "\n",
        "-->The filter() method filters the given sequence with the help of a function that tests each element in the sequence to be true or not.\n",
        "\n",
        "\n",
        "-->The reduce(fun,seq) function is used to apply a particular function passed in its argument to all of the list elements mentioned in the sequence passed along.This function is defined in “functools” module."
      ],
      "metadata": {
        "id": "AOaCSHRH7QkV"
      }
    },
    {
      "cell_type": "code",
      "source": [],
      "metadata": {
        "id": "e9dUhn3s9WgJ"
      },
      "execution_count": null,
      "outputs": []
    },
    {
      "cell_type": "markdown",
      "source": [
        "4. What are function annotations, and how are they used?\n",
        "answer:-\n",
        "\n",
        "\n",
        "1\n",
        "Function annotations are arbitrary Python expressions that are associated with various parts of functions. These expressions are evaluated at compile time and have no life in Python's runtime environment. Python does not attach any meaning to these annotations. They take life when interpreted by third party libraries, for example, mypy.\n",
        "\n",
        "Function annotations can be used to:\n",
        "\n",
        "Document the types of function parameters and return values. This can help to improve code readability and maintainability.\n",
        "Provide type hints to type checkers, such as mypy. This can help to catch type errors early on, before they cause problems at runtime.\n",
        "Generate documentation for functions"
      ],
      "metadata": {
        "id": "bKZbOBAX9Y02"
      }
    },
    {
      "cell_type": "code",
      "source": [],
      "metadata": {
        "id": "da5NMghY9tw6"
      },
      "execution_count": null,
      "outputs": []
    },
    {
      "cell_type": "markdown",
      "source": [
        "5. What are recursive functions, and how are they used?\n",
        "answer:-\n",
        "A recursive function is a function that calls itself directly or indirectly. This means that the function definition contains a reference to itself. Recursive functions can be used to solve a variety of problems, such as finding factorials, traversing trees, and searching graphs.\n",
        "\n",
        "One way to think about recursive functions is to break them down into two parts: a base case and a recursive case. The base case is the simplest case of the problem that can be solved without recursion. The recursive case is the case where the problem is broken down into smaller subproblems of the same type, and the function is called recursively to solve these subproblems."
      ],
      "metadata": {
        "id": "rYtT4POU9v4d"
      }
    },
    {
      "cell_type": "code",
      "source": [],
      "metadata": {
        "id": "wCYDYXWd-HLl"
      },
      "execution_count": null,
      "outputs": []
    },
    {
      "cell_type": "markdown",
      "source": [
        "6. What are some general design guidelines for coding functions?\n",
        "answer:-\n",
        "Make your functions small and focused. A good function should do one thing and do it well. Avoid writing functions that are too large or that try to do too many things.\n",
        "Use meaningful function names. The name of a function should tell you what the function does. Avoid using generic names like do_something() or process_data().\n",
        "Document your functions. Use comments to document the inputs, outputs, and side effects of your functions. This will help you and other developers to understand how to use your functions.\n",
        "Use type hints. Type hints can help to improve the readability and maintainability of your code. They can also help to catch type errors early on, before they cause problems at runtime.\n",
        "Test your functions. Write unit tests to test your functions and make sure that they are working as expected."
      ],
      "metadata": {
        "id": "R8me3et7-J7v"
      }
    },
    {
      "cell_type": "code",
      "source": [],
      "metadata": {
        "id": "KiEywfCA-gMu"
      },
      "execution_count": null,
      "outputs": []
    },
    {
      "cell_type": "markdown",
      "source": [
        "7. Name three or more ways that functions can communicate results to a caller.\n",
        "answer:-\n",
        "->Return value: This is the most common way for a function to communicate results to a caller. The function returns a value, and the caller can then use that value in their code\n",
        "->Output parameters: Output parameters are parameters that are passed to a function and are updated by the function. The caller can then use the updated values of the output parameters to get the results of the function. For example, the following function swaps the values of two variables:\n",
        "->Exceptions: Exceptions are a way for functions to signal errors to the caller. When a function raises an exception, the execution of the function is aborted and control is transferred back to the caller. The caller can then handle the exception as needed. For example, the following function raises a ValueError exception if the input number is negative:"
      ],
      "metadata": {
        "id": "fGd2vpoE-go9"
      }
    },
    {
      "cell_type": "code",
      "source": [],
      "metadata": {
        "id": "dKKDzHEh_AsH"
      },
      "execution_count": null,
      "outputs": []
    }
  ]
}