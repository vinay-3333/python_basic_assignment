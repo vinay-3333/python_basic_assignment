{
  "nbformat": 4,
  "nbformat_minor": 0,
  "metadata": {
    "colab": {
      "provenance": []
    },
    "kernelspec": {
      "name": "python3",
      "display_name": "Python 3"
    },
    "language_info": {
      "name": "python"
    }
  },
  "cells": [
    {
      "cell_type": "code",
      "execution_count": null,
      "metadata": {
        "id": "PGvBdVWZcYJJ"
      },
      "outputs": [],
      "source": []
    },
    {
      "cell_type": "markdown",
      "source": [
        "1. What is the result of the code, and why?\n",
        "def func(a, b=6, c=8):\n",
        "  print(a, b, c)\n",
        "func(1, 2)\n",
        "answer:-\n",
        "result is a =1, b = 2,c =8\n",
        "because in function a value is not defined b value is 6 and c value is 8 when we called func we pass value a =1 and b =2"
      ],
      "metadata": {
        "id": "oZ0DyzQ_chYg"
      }
    },
    {
      "cell_type": "code",
      "source": [],
      "metadata": {
        "id": "ubapmSEqc-qY"
      },
      "execution_count": null,
      "outputs": []
    },
    {
      "cell_type": "markdown",
      "source": [
        "2. What is the result of this code, and why?\n",
        "def func(a, b, c=5):\n",
        "  print(a, b, c)\n",
        "func(1, c=3, b=2)\n",
        "answer:-\n",
        "result is a =1,b=2,c=3\n",
        "because when we defined function we are already pass a default value then we called function we are pass all the value of variable"
      ],
      "metadata": {
        "id": "we-mTGIwdAaI"
      }
    },
    {
      "cell_type": "markdown",
      "source": [
        "3. How about this code: what is its result, and why?\n",
        "def func(a, *pargs):\n",
        "  print(a, pargs)\n",
        "func(1, 2, 3)\n",
        "answer:-\n",
        "This line of code defines a function called func(). The function takes two arguments: a and pargs. The argument a is required, but the argument pargs is optional.\n",
        "\n",
        "The *pargs argument is used to capture any extra arguments that are passed to the function. The variable pargs is then a tuple that contains all of the extra arguments."
      ],
      "metadata": {
        "id": "FMKMIl49dG6w"
      }
    },
    {
      "cell_type": "markdown",
      "source": [
        "4. What does this code print, and why?\n",
        "def func(a, **kargs):\n",
        "  print(a, kargs)\n",
        "func(a=1, c=3, b=2)\n",
        "answer:-\n",
        "func() define take value a and key and value pair in multiple item\n",
        "when called we pass value a and keyand vlaue pair varibale kargs"
      ],
      "metadata": {
        "id": "fzGG_d34drbY"
      }
    },
    {
      "cell_type": "code",
      "source": [
        "def func(a, b, c): a = 2; b[0] = 'x'; c['a'] ='y'\n",
        "l=1; m=[1]; n={'a':0}\n",
        "func(l, m, n)\n",
        "\n",
        "l, m, n"
      ],
      "metadata": {
        "colab": {
          "base_uri": "https://localhost:8080/"
        },
        "id": "3PmB_mm0dHNI",
        "outputId": "7c208d6d-acf6-4d64-eb8d-89ccd57b7dc9"
      },
      "execution_count": 4,
      "outputs": [
        {
          "output_type": "execute_result",
          "data": {
            "text/plain": [
              "(1, ['x'], {'a': 'y'})"
            ]
          },
          "metadata": {},
          "execution_count": 4
        }
      ]
    },
    {
      "cell_type": "markdown",
      "source": [
        "6. what is the result of this, and explain?\n",
        "def func(a, b, c): a = 2; b[0] = 'x'; c['a'] ='y'\n",
        "l=1; m=[1]; n={'a':0}\n",
        "func(l, m, n)\n",
        "\n",
        "l, m, n\n",
        "answer:-\n",
        "\n",
        "The output of the code snippet you provided is:\n",
        "\n",
        "1 ['x'] {'a': 'y'}\n",
        "This is because the function func() modifies the values of the arguments b and c, but it does not modify the value of the argument a.\n",
        "\n",
        "The argument b is a list, and the argument c is a dictionary. When a function is passed a mutable object as an argument, the function is passed a reference to the object. This means that any changes that the function makes to the object will be reflected in the original object.\n",
        "\n",
        "In the code snippet you provided, the function func() modifies the first element of the list b and the value of the key a in the dictionary c. Therefore, when the function func() returns, the list m will contain the element 'x' and the dictionary n will contain the key-value pair {'a': 'y'}.\n",
        "\n",
        "The argument a is an integer, and integers are immutable objects. This means that the function func() cannot modify the value of the argument a. Therefore, when the function func() returns, the variable l will still contain the value 1."
      ],
      "metadata": {
        "id": "NIloxorHexw5"
      }
    },
    {
      "cell_type": "code",
      "source": [],
      "metadata": {
        "id": "3SqYkIkvdL-a"
      },
      "execution_count": 3,
      "outputs": []
    }
  ]
}