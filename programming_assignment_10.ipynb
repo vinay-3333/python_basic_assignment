{
  "nbformat": 4,
  "nbformat_minor": 0,
  "metadata": {
    "colab": {
      "provenance": []
    },
    "kernelspec": {
      "name": "python3",
      "display_name": "Python 3"
    },
    "language_info": {
      "name": "python"
    }
  },
  "cells": [
    {
      "cell_type": "code",
      "execution_count": 1,
      "metadata": {
        "colab": {
          "base_uri": "https://localhost:8080/"
        },
        "id": "MmQo8lcBtox2",
        "outputId": "f2a992f4-170d-49c3-fd84-a9a36441b5c3"
      },
      "outputs": [
        {
          "output_type": "execute_result",
          "data": {
            "text/plain": [
              "15"
            ]
          },
          "metadata": {},
          "execution_count": 1
        }
      ],
      "source": [
        "def sum_list(a):\n",
        "  sum=0\n",
        "  for i in a:\n",
        "    sum+=i\n",
        "  return sum\n",
        "a=[1,2,3,4,5]\n",
        "sum_list(a)"
      ]
    },
    {
      "cell_type": "markdown",
      "source": [
        "1. Write a Python program to find sum of elements in list?\n",
        "answer:-\n",
        "\n",
        "def sum_list(a):\n",
        "  sum=0\n",
        "  for i in a:\n",
        "    sum+=i\n",
        "  return sum\n",
        "a=[1,2,3,4,5]\n",
        "sum_list(a)"
      ],
      "metadata": {
        "id": "V-n1hwO5ttDD"
      }
    },
    {
      "cell_type": "markdown",
      "source": [
        "2. Write a Python program to Multiply all numbers in the list?\n",
        "answer:-\n",
        "def sum_list(a):\n",
        "  sum=0\n",
        "  for i in a:\n",
        "    sum*=i\n",
        "  return sum\n",
        "a=[1,2,3,4,5]\n",
        "sum_list(a)"
      ],
      "metadata": {
        "id": "azqvsoU1uDJk"
      }
    },
    {
      "cell_type": "code",
      "source": [
        "def small_num(a):\n",
        "  big = a[0]\n",
        "  for i in range(len(a)):\n",
        "    if big>a[i]:\n",
        "      big=a[i]\n",
        "  return big\n",
        "a=[4,2,3,1,5]\n",
        "small_num(a)"
      ],
      "metadata": {
        "colab": {
          "base_uri": "https://localhost:8080/"
        },
        "id": "9paZFS_SuKFU",
        "outputId": "b9e4178a-9106-485d-b376-2b4c1f0883ca"
      },
      "execution_count": 6,
      "outputs": [
        {
          "output_type": "execute_result",
          "data": {
            "text/plain": [
              "1"
            ]
          },
          "metadata": {},
          "execution_count": 6
        }
      ]
    },
    {
      "cell_type": "markdown",
      "source": [
        "3. Write a Python program to find smallest number in a list?\n",
        "answer:-\n",
        "def small_num(a):\n",
        "  big = a[0]\n",
        "  for i in range(len(a)):\n",
        "    if big>a[i]:\n",
        "      big=a[i]\n",
        "  return big\n",
        "a=[4,2,3,1,5]\n",
        "small_num(a)"
      ],
      "metadata": {
        "id": "O4TwVopxuMBj"
      }
    },
    {
      "cell_type": "code",
      "source": [
        "def small_num(a):\n",
        "  big = a[0]\n",
        "  for i in range(len(a)):\n",
        "    if big<a[i]:\n",
        "      big=a[i]\n",
        "  return big\n",
        "a=[4,2,3,1,5]\n",
        "small_num(a)"
      ],
      "metadata": {
        "colab": {
          "base_uri": "https://localhost:8080/"
        },
        "id": "flvaxjM4vp8c",
        "outputId": "b8eaeff9-5cfb-4107-994a-46c14dbf2183"
      },
      "execution_count": 9,
      "outputs": [
        {
          "output_type": "execute_result",
          "data": {
            "text/plain": [
              "5"
            ]
          },
          "metadata": {},
          "execution_count": 9
        }
      ]
    },
    {
      "cell_type": "markdown",
      "source": [
        "4. Write a Python program to find largest number in a list?\n",
        "answer:-\n",
        "def small_num(a):\n",
        "  big = a[0]\n",
        "  for i in range(len(a)):\n",
        "    if big<a[i]:\n",
        "      big=a[i]\n",
        "  return big\n",
        "a=[4,2,3,1,5]\n",
        "small_num(a)"
      ],
      "metadata": {
        "id": "oMIenksuvsVL"
      }
    },
    {
      "cell_type": "markdown",
      "source": [
        "5. Write a Python program to find second largest number in a list?\n",
        "answser:-\n",
        "def find_second_largest(numbers):\n",
        "    if len(numbers) < 2:\n",
        "        return \"List should have at least two elements\"\n",
        "    \n",
        "    # Sort the list in descending order\n",
        "    numbers.sort(reverse=True)\n",
        "    \n",
        "    # The second largest number will be at index 1 (0-based index)\n",
        "    second_largest = numbers[1]\n",
        "    \n",
        "    return second_largest\n",
        "\n",
        "# Example usage:\n",
        "numbers = [10, 5, 8, 20, 15]\n",
        "result = find_second_largest(numbers)\n",
        "print(\"The second largest number is:\", result)\n"
      ],
      "metadata": {
        "id": "kdhaOKR9v_wb"
      }
    },
    {
      "cell_type": "code",
      "source": [
        "def small_num(a):\n",
        "  big = a[0]\n",
        "  for i in range(len(a)):\n",
        "      if big<a[i]:\n",
        "        big=a[i]\n",
        "  return big\n",
        "a=[4,2,5,1,6]\n",
        "small_num(a)\n"
      ],
      "metadata": {
        "colab": {
          "base_uri": "https://localhost:8080/"
        },
        "id": "4REH4JriwDN7",
        "outputId": "cc476368-c126-4f7a-e1cc-2eb213b986bd"
      },
      "execution_count": 15,
      "outputs": [
        {
          "output_type": "execute_result",
          "data": {
            "text/plain": [
              "1"
            ]
          },
          "metadata": {},
          "execution_count": 15
        }
      ]
    },
    {
      "cell_type": "markdown",
      "source": [
        "\n",
        "6. Write a Python program to find N largest elements from a list?\n",
        "\n",
        "import heapq\n",
        "\n",
        "def find_n_largest(numbers, n):\n",
        "    if len(numbers) < n:\n",
        "        return \"List does not have enough elements\"\n",
        "    \n",
        "    # Use heapq to find the N largest elements\n",
        "    largest_elements = heapq.nlargest(n, numbers)\n",
        "    \n",
        "    return largest_elements\n",
        "\n",
        "# Example usage:\n",
        "numbers = [10, 5, 8, 20, 15, 30, 25]\n",
        "n = 3  # Change this value to find a different number of largest elements\n",
        "result = find_n_largest(numbers, n)\n",
        "print(f\"The {n} largest elements are:\", result)\n"
      ],
      "metadata": {
        "id": "EgZs9wXgx7Fr"
      }
    },
    {
      "cell_type": "code",
      "source": [
        "def even_list(a):\n",
        "  for i in a:\n",
        "    if i%2==0:\n",
        "      print(i)\n",
        "a=[1,2,3,4,5,6]\n",
        "even_list(a)"
      ],
      "metadata": {
        "colab": {
          "base_uri": "https://localhost:8080/"
        },
        "id": "99loBGxHwPfk",
        "outputId": "fdea882a-a01a-4456-bd39-76c611924051"
      },
      "execution_count": 16,
      "outputs": [
        {
          "output_type": "stream",
          "name": "stdout",
          "text": [
            "2\n",
            "4\n",
            "6\n"
          ]
        }
      ]
    },
    {
      "cell_type": "markdown",
      "source": [
        "7. Write a Python program to print even numbers in a list?\n",
        "answer:-\n",
        "def even_list(a):\n",
        "  for i in a:\n",
        "    if i%2==0:\n",
        "      print(i)\n",
        "a=[1,2,3,4,5,6]\n",
        "even_list(a)"
      ],
      "metadata": {
        "id": "uaZMdMFJyK6r"
      }
    },
    {
      "cell_type": "code",
      "source": [],
      "metadata": {
        "id": "Cmaw4asGyfSc"
      },
      "execution_count": null,
      "outputs": []
    },
    {
      "cell_type": "markdown",
      "source": [
        "8. Write a Python program to print odd numbers in a List?\n",
        "answer:-\n",
        "def even_list(a):\n",
        "  for i in a:\n",
        "    if i%2!=0:\n",
        "      print(i)\n",
        "a=[1,2,3,4,5,6]\n",
        "even_list(a)"
      ],
      "metadata": {
        "id": "OskWxoabyhqT"
      }
    },
    {
      "cell_type": "code",
      "source": [],
      "metadata": {
        "id": "LX2XZH_zymL6"
      },
      "execution_count": null,
      "outputs": []
    },
    {
      "cell_type": "markdown",
      "source": [
        "9. Write a Python program to Remove empty List from List?\n",
        "answer:-\n",
        "def remove_empty_lists(input_list):\n",
        "    # Use a list comprehension to filter out non-empty lists\n",
        "    result = [lst for lst in input_list if lst]\n",
        "    return result\n",
        "\n",
        "# Example usage:\n",
        "list_of_lists = [[1, 2, 3], [], [4, 5], [], [], [6]]\n",
        "filtered_list = remove_empty_lists(list_of_lists)\n",
        "print(\"List after removing empty lists:\", filtered_list)\n"
      ],
      "metadata": {
        "id": "3yD4zaY3yrGr"
      }
    },
    {
      "cell_type": "code",
      "source": [],
      "metadata": {
        "id": "JpT2TMNBywaM"
      },
      "execution_count": null,
      "outputs": []
    },
    {
      "cell_type": "markdown",
      "source": [
        "10. Write a Python program to Cloning or Copying a list?\n",
        "answer:-\n",
        "import copy\n",
        "\n",
        "def clone_list(original_list):\n",
        "    cloned_list = copy.copy(original_list)\n",
        "    return cloned_list\n",
        "\n",
        "# Example usage:\n",
        "original_list = [1, 2, 3, 4, 5]\n",
        "cloned_list = clone_list(original_list)\n",
        "print(\"Original List:\", original_list)\n",
        "print(\"Cloned List:\", cloned_list)\n"
      ],
      "metadata": {
        "id": "9OmtZr5Oyx7T"
      }
    },
    {
      "cell_type": "code",
      "source": [],
      "metadata": {
        "id": "abQDOC56y64z"
      },
      "execution_count": null,
      "outputs": []
    },
    {
      "cell_type": "markdown",
      "source": [
        "11. Write a Python program to Count occurrences of an element in a list?\n",
        "answer:-\n",
        "def count_occurrences(input_list, element):\n",
        "    # Use the count() method to count occurrences of the element\n",
        "    count = input_list.count(element)\n",
        "    return count\n",
        "\n",
        "# Example usage:\n",
        "my_list = [1, 2, 3, 4, 2, 2, 5, 6, 2]\n",
        "element_to_count = 2\n",
        "occurrences = count_occurrences(my_list, element_to_count)\n",
        "print(f\"The element {element_to_count} appears {occurrences} times in the list.\")\n"
      ],
      "metadata": {
        "id": "jH3Km1zsy92j"
      }
    }
  ]
}