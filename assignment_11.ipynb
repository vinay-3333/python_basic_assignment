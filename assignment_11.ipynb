{
  "nbformat": 4,
  "nbformat_minor": 0,
  "metadata": {
    "colab": {
      "provenance": []
    },
    "kernelspec": {
      "name": "python3",
      "display_name": "Python 3"
    },
    "language_info": {
      "name": "python"
    }
  },
  "cells": [
    {
      "cell_type": "code",
      "execution_count": null,
      "metadata": {
        "id": "auVKELQJFG0U"
      },
      "outputs": [],
      "source": []
    },
    {
      "cell_type": "code",
      "source": [],
      "metadata": {
        "id": "n1VSwN0kKsZT"
      },
      "execution_count": null,
      "outputs": []
    },
    {
      "cell_type": "markdown",
      "source": [
        "1. Create an assert statement that throws an AssertionError if the variable spam is a negative\n",
        "integer.\n",
        "answer:-\n",
        "assert spam >= 0, \"spam must be a non-negative integer\"\n",
        "assert take two arguments first is condition and error message if condition is fail those assertionerror message show"
      ],
      "metadata": {
        "id": "H94VLhPwFKsk"
      }
    },
    {
      "cell_type": "code",
      "source": [],
      "metadata": {
        "id": "93u7y0K6FslW"
      },
      "execution_count": null,
      "outputs": []
    },
    {
      "cell_type": "markdown",
      "source": [
        "2. Write an assert statement that triggers an AssertionError if the variables eggs and bacon contain\n",
        "strings that are the same as each other, even if their cases are different (that is, hello and hello are\n",
        "considered the same, and goodbye and 'GOODbye' are also considered the s\n",
        "answer:-\n",
        "\n",
        "Sure, here is an assert statement that triggers an AssertionError if the variables eggs and bacon contain strings that are the same as each other, even if their cases are different:\n",
        "\n",
        "Python\n",
        "assert eggs.lower() != bacon.lower(), \"The eggs and bacon variables are the same! \"\n",
        "Use code with caution. Learn more\n",
        "The assert statement takes two arguments: the condition and the error message. The condition is a Boolean expression that must be true for the assertion to pass. The error message is a string that will be printed if the assertion fails.\n",
        "\n",
        "In this case, the condition is eggs.lower() != bacon.lower(). This means that the assertion will pass if the strings eggs and bacon are not the same, even if their cases are different. If the strings are the same, the assertion will fail and an AssertionError will be raised.\n",
        "\n"
      ],
      "metadata": {
        "id": "3HF5LituFtIp"
      }
    },
    {
      "cell_type": "code",
      "source": [],
      "metadata": {
        "id": "aI7N5boJKzwK"
      },
      "execution_count": null,
      "outputs": []
    },
    {
      "cell_type": "markdown",
      "source": [
        "3. Create an assert statement that throws an AssertionError every time.\n",
        "answer:-\n",
        "assert False, \"This assertion will always fail\"\n",
        "The assert statement takes two arguments: the condition and the error message. The condition is a Boolean expression that must be true for the assertion to pass. The error message is a string that will be printed if the assertion fails."
      ],
      "metadata": {
        "id": "Ql3c1HZ0K0MR"
      }
    },
    {
      "cell_type": "code",
      "source": [],
      "metadata": {
        "id": "Ah7AGPsALX7a"
      },
      "execution_count": null,
      "outputs": []
    },
    {
      "cell_type": "markdown",
      "source": [
        "4. What are the two lines that must be present in your software in order to call logging.debug()?\n",
        "answer:-\n",
        "import logging\n",
        "logging.basicConfig(level=logging.DEBUG)\n",
        "\n",
        "first lines import logging module\n",
        "second line create configration and set level"
      ],
      "metadata": {
        "id": "_TP7VmXXLaJH"
      }
    },
    {
      "cell_type": "code",
      "source": [],
      "metadata": {
        "id": "LAWduY6nL7Jj"
      },
      "execution_count": null,
      "outputs": []
    },
    {
      "cell_type": "markdown",
      "source": [
        "5. What are the two lines that your program must have in order to have logging.debug() send a\n",
        "logging message to a file named programLog.txt?\n",
        "answer:-\n",
        "import logging\n",
        "logging.basicConfig(filename='programLog.txt', level=logging.DEBUG)\n",
        "\n",
        "first line import logging module\n",
        "second line create basic configration and create a file and set level"
      ],
      "metadata": {
        "id": "1clQClXrL9FY"
      }
    },
    {
      "cell_type": "code",
      "source": [],
      "metadata": {
        "id": "EnkJmWI-MWD5"
      },
      "execution_count": null,
      "outputs": []
    },
    {
      "cell_type": "markdown",
      "source": [
        "6. What are the five levels of logging?\n",
        "answer:-\n",
        "DEBUG - Detailed information, typically of interest only when diagnosing problems.\n",
        "INFO - Confirmation that things are working as expected.\n",
        "WARNING - Indicates that something unexpected has happened or a problem is about to happen.\n",
        "ERROR - An error has occurred. The software was unable to perform some function.\n",
        "CRITICAL - A serious error has occurred. The program itself may shut down or not be able to continue running properly."
      ],
      "metadata": {
        "id": "OAiw9h91MYWR"
      }
    },
    {
      "cell_type": "code",
      "source": [],
      "metadata": {
        "id": "LcMqeFNPMv1T"
      },
      "execution_count": null,
      "outputs": []
    },
    {
      "cell_type": "markdown",
      "source": [
        "7. What line of code would you add to your software to disable all logging messages?\n",
        "answer:-\n",
        "logging.disable(logging.NOTSET)\n",
        "logging.disable take one argument that is level level is logging.NOTSET it is highest level that ignore all logging message"
      ],
      "metadata": {
        "id": "9R5ABKLeMyEp"
      }
    },
    {
      "cell_type": "code",
      "source": [],
      "metadata": {
        "id": "AFzDiFw9Ne26"
      },
      "execution_count": null,
      "outputs": []
    },
    {
      "cell_type": "markdown",
      "source": [
        "8.Why is using logging messages better than using print() to display the same message?\n",
        "answer:-\n",
        "Logging messages can be filtered. You can choose to only display logging messages of a certain level, such as DEBUG, INFO, WARNING, ERROR, or CRITICAL. This can be useful for debugging your code or for tracking the progress of your program.\n",
        "Logging messages can be saved to a file. This can be useful for storing a record of your program's activity or for debugging problems that occur when your program is not running in the interactive interpreter.\n",
        "Logging messages can be formatted. You can control the format of the logging messages, such as the date and time, the level of the message, and the name of the function where the message was generated. This can make it easier to read and understand the logging messages.\n",
        "Logging messages are more portable. The logging module is part of the Python standard library, so it is available on all platforms that support Python. This means that your logging messages will be portable and can be used on any platform.\n",
        "In contrast, the print() function does not have any of these features. The print() function always displays the message to the console, and it cannot be filtered, saved to a file, or formatted."
      ],
      "metadata": {
        "id": "4bEzb_RmNg5B"
      }
    },
    {
      "cell_type": "code",
      "source": [],
      "metadata": {
        "id": "Tb0vqlZzOLnL"
      },
      "execution_count": null,
      "outputs": []
    },
    {
      "cell_type": "markdown",
      "source": [
        "9. What are the differences between the Step Over, Step In, and Step Out buttons in the debugger?\n",
        "answer:-\n",
        "Step Over:- executes the current line of code and then skips to the next line. If the current line of code contains a function call, the function call will be executed, but the debugger will not step into the function.\n",
        "Step In:- executes the current line of code and then steps into the next function call. This means that the debugger will execute the function call line by line.\n",
        "Step Out:- executes the current line of code and then steps out of the current function. This means that the debugger will return to the line of code that called the function."
      ],
      "metadata": {
        "id": "J8ZzYNXrOMQA"
      }
    },
    {
      "cell_type": "code",
      "source": [],
      "metadata": {
        "id": "SX_fAFaaPQwS"
      },
      "execution_count": null,
      "outputs": []
    },
    {
      "cell_type": "markdown",
      "source": [
        "10.After you click Continue, when will the debugger stop ?\n",
        "answer:-\n",
        "\n",
        "When you click Continue in the debugger, it will stop when it reaches the end of the program or when it encounters an error.\n",
        "\n",
        "The debugger will also stop if you set a breakpoint. A breakpoint is a line of code that tells the debugger to stop execution. You can set a breakpoint by clicking on the line of code where you want the debugger to stop.\n",
        "\n",
        "Here are some of the things that can happen when you click Continue in the debugger:\n",
        "\n",
        "The program will run to completion.\n",
        "The program will stop at the next breakpoint.\n",
        "The program will stop at an error.\n",
        "The program will stop at a line of code that you have marked as a watchpoint. A watchpoint is a line of code that you want the debugger to stop at when a certain variable changes value."
      ],
      "metadata": {
        "id": "3vwvNBVEPUWq"
      }
    },
    {
      "cell_type": "code",
      "source": [],
      "metadata": {
        "id": "jF_Eb3t8QqcB"
      },
      "execution_count": null,
      "outputs": []
    },
    {
      "cell_type": "markdown",
      "source": [
        "11. What is the concept of a breakpoint?\n",
        "answer:-\n",
        "Sure. In software development, a breakpoint is a line of code that tells the debugger to stop execution. This allows you to inspect the values of variables and the state of the program at that point.\n",
        "\n",
        "Breakpoints can be set in most programming languages. To set a breakpoint, you typically need to place the cursor on the line of code where you want the debugger to stop and then press a keyboard shortcut. The keyboard shortcut varies depending on the programming language and the debugger you are using.\n",
        "\n",
        "Once a breakpoint is set, the debugger will stop execution of the program when it reaches that line of code. You can then use the debugger to inspect the values of variables and the state of the program. This can be helpful for debugging your code or for understanding how your program works.\n",
        "\n",
        "Here are some of the things you can do when the debugger stops at a breakpoint:\n",
        "\n",
        "Examine the values of variables.\n",
        "Step through the code line by line.\n",
        "Run the code until the next breakpoint.\n",
        "Continue running the code until it reaches the end or encounters an error."
      ],
      "metadata": {
        "id": "-pol_KSaQuJm"
      }
    },
    {
      "cell_type": "code",
      "source": [],
      "metadata": {
        "id": "1YICSFOMQ9iP"
      },
      "execution_count": null,
      "outputs": []
    }
  ]
}