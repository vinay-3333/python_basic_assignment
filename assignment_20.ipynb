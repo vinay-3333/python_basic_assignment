{
  "nbformat": 4,
  "nbformat_minor": 0,
  "metadata": {
    "colab": {
      "provenance": []
    },
    "kernelspec": {
      "name": "python3",
      "display_name": "Python 3"
    },
    "language_info": {
      "name": "python"
    }
  },
  "cells": [
    {
      "cell_type": "code",
      "execution_count": null,
      "metadata": {
        "id": "vF9SlnSlMMYq"
      },
      "outputs": [],
      "source": []
    },
    {
      "cell_type": "markdown",
      "source": [
        "1. Set the variable test1 to the string 'This is a test of the emergency text system,' and save test1 to a\n",
        "file named test.txt.\n",
        "answer:-\n",
        "test1 = 'This is a test of the emergency text system,'\n",
        "with open(\"test.txt\",\"w\") as f:\n",
        "  f.write(test1)\n"
      ],
      "metadata": {
        "id": "gl6VrEybMl6k"
      }
    },
    {
      "cell_type": "code",
      "source": [],
      "metadata": {
        "id": "PaF-YqqfNH3e"
      },
      "execution_count": null,
      "outputs": []
    },
    {
      "cell_type": "markdown",
      "source": [
        "2. Read the contents of the file test.txt into the variable test2. Is there a difference between test 1\n",
        "and test 2?\n",
        "answer:-\n",
        "with open(\"test.txt\",\"r\") as f:\n",
        "  test2 = f.read()"
      ],
      "metadata": {
        "id": "-BbGUvDSNJ6M"
      }
    },
    {
      "cell_type": "code",
      "source": [],
      "metadata": {
        "id": "OMae2jklNics"
      },
      "execution_count": null,
      "outputs": []
    },
    {
      "cell_type": "markdown",
      "source": [
        "3. Create a CSV file called books.csv by using these lines:\n",
        "title,author,year\n",
        "The Weirdstone of Brisingamen,Alan Garner,1960\n",
        "Perdido Street Station,China Miéville,2000\n",
        "Thud!,Terry Pratchett,2005\n",
        "The Spellman Files,Lisa Lutz,2007\n",
        "Small Gods,Terry Pratchett,1992\n",
        "answer:-\n",
        "import pandas as pd\n",
        "\n",
        "data ={The Weirdstone of Brisingamen,Alan Garner,1960\n",
        "Perdido Street Station,China Miéville,2000\n",
        "Thud!,Terry Pratchett,2005\n",
        "The Spellman Files,Lisa Lutz,2007\n",
        "Small Gods,Terry Pratchett,1992}\n",
        "df = pd.DataFrame(data,column=[\"title\",\"author\",\"year\"])\n",
        "df.to_csv(\"book.csv\",index=False)"
      ],
      "metadata": {
        "id": "LyP4Sel3Nk9s"
      }
    },
    {
      "cell_type": "code",
      "source": [],
      "metadata": {
        "id": "ib4ZY-0DOeLs"
      },
      "execution_count": null,
      "outputs": []
    },
    {
      "cell_type": "markdown",
      "source": [
        "4. Use the sqlite3 module to create a SQLite database called books.db, and a table called books with\n",
        "these fields: title (text), author (text), and year (integer).\n",
        "answer:-\n",
        "import sqlite3\n",
        "\n",
        "conn = sqlite3.connect(books.db)\n",
        "cur = conn.cursor()\n",
        "cur.execute(\"\"\"create table if not exits book (\n",
        "  title text,author text , year interger)\"\"\")\n",
        "cur.close()\n",
        "conn.close()\n",
        "\n"
      ],
      "metadata": {
        "id": "u6OZWIbCOh27"
      }
    },
    {
      "cell_type": "code",
      "source": [],
      "metadata": {
        "id": "sZ486B9fP8aM"
      },
      "execution_count": null,
      "outputs": []
    },
    {
      "cell_type": "markdown",
      "source": [
        "5. Read books.csv and insert its data into the book table.\n",
        "answer:-\n",
        "import sqlite3\n",
        "\n",
        "conn = sqlite3.connect(\"book.db\")\n",
        "cur = conn.cursor()\n",
        "cur.execute(\"\"\"select * from book\"\"\")\n",
        "for row in cur.fetchall():\n",
        "  print(row)"
      ],
      "metadata": {
        "id": "bLu8pCo1P-bL"
      }
    },
    {
      "cell_type": "markdown",
      "source": [
        "6. Select and print the title column from the book table in alphabetical order..\n",
        "answer:-\n",
        "\n",
        "import sqlite3\n",
        "conn = sqlite3.connect(\"book.db\")\n",
        "cur = conn.cursor()\n",
        "cur.execute(\"\"\"select * from book order by title asc\"\"\")\n",
        "\n",
        "for row in cur.fetchall():\n",
        "  print(row[0])\n",
        "cur.close()\n",
        "conn.close()\n"
      ],
      "metadata": {
        "id": "tGMS4LK1Q7FW"
      }
    },
    {
      "cell_type": "code",
      "source": [],
      "metadata": {
        "id": "6MrdX--7Roqk"
      },
      "execution_count": 1,
      "outputs": []
    },
    {
      "cell_type": "markdown",
      "source": [
        "7. From the book table, select and print all columns in the order of publication.\n",
        "answer:-\n",
        "import sqlite3\n",
        "\n",
        "# Connect to the database\n",
        "conn = sqlite3.connect('books.db')\n",
        "\n",
        "# Create a cursor\n",
        "cur = conn.cursor()\n",
        "\n",
        "# Execute the query\n",
        "cur.execute(\"\"\"SELECT * FROM books ORDER BY year ASC\"\"\")\n",
        "\n",
        "# Print the results\n",
        "for row in cur.fetchall():\n",
        "  print(row)\n",
        "\n",
        "# Close the cursor and connection\n",
        "cur.close()\n",
        "conn.close()"
      ],
      "metadata": {
        "id": "LIfHJ5oUUn7P"
      }
    },
    {
      "cell_type": "code",
      "source": [],
      "metadata": {
        "id": "a5nj7ivmRpQu"
      },
      "execution_count": null,
      "outputs": []
    },
    {
      "cell_type": "markdown",
      "source": [
        "8. Use the sqlalchemy module to connect to the sqlite3 database books.db that you just made in\n",
        "exercise 6.\n",
        "answer:-\n",
        "from sqlalchemy import create_engine\n",
        "\n",
        "# Create the engine\n",
        "engine = create_engine('sqlite:///books.db')\n",
        "\n",
        "# Connect to the database\n",
        "connection = engine.connect()"
      ],
      "metadata": {
        "id": "qdYwgaYfU2BX"
      }
    },
    {
      "cell_type": "code",
      "source": [],
      "metadata": {
        "id": "RgO3NK78VQcH"
      },
      "execution_count": null,
      "outputs": []
    },
    {
      "cell_type": "markdown",
      "source": [
        "9. Install the Redis server and the Python redis library (pip install redis) on your computer. Create a\n",
        "Redis hash called test with the fields count (1) and name (&#39;Fester Bestertester&#39;). Print all the fields for\n",
        "test.\n",
        "answer:-\n",
        "import redis\n",
        "\n",
        "# Connect to the Redis server\n",
        "r = redis.Redis()\n",
        "\n",
        "# Create the test hash\n",
        "r.hset('test', {'count': 1, 'name': 'Fester Bestertester'})\n",
        "\n",
        "# Print all the fields for test\n",
        "print(r.hgetall('test'))"
      ],
      "metadata": {
        "id": "UP4Tjz1IVTiw"
      }
    },
    {
      "cell_type": "code",
      "source": [],
      "metadata": {
        "id": "HjYmxHoVVpSv"
      },
      "execution_count": null,
      "outputs": []
    },
    {
      "cell_type": "markdown",
      "source": [
        "10. Increment the count field of test and print it.\n",
        "answer:-\n",
        "import redis\n",
        "\n",
        "# Connect to the Redis server\n",
        "r = redis.Redis()\n",
        "\n",
        "# Increment the count field\n",
        "r.hincrby('test', 'count', 1)\n",
        "\n",
        "# Print the count field\n",
        "print(r.hget('test', 'count'))"
      ],
      "metadata": {
        "id": "0xy7ddA8VrPe"
      }
    },
    {
      "cell_type": "code",
      "source": [],
      "metadata": {
        "id": "FI-1estfV5LH"
      },
      "execution_count": null,
      "outputs": []
    }
  ]
}