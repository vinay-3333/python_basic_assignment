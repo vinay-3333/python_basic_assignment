{
  "nbformat": 4,
  "nbformat_minor": 0,
  "metadata": {
    "colab": {
      "provenance": []
    },
    "kernelspec": {
      "name": "python3",
      "display_name": "Python 3"
    },
    "language_info": {
      "name": "python"
    }
  },
  "cells": [
    {
      "cell_type": "code",
      "execution_count": 3,
      "metadata": {
        "colab": {
          "base_uri": "https://localhost:8080/"
        },
        "id": "XFSv8tgPPXlr",
        "outputId": "98ff2e7a-282a-4e1e-9bcc-506957769f2b"
      },
      "outputs": [
        {
          "output_type": "execute_result",
          "data": {
            "text/plain": [
              "21"
            ]
          },
          "metadata": {},
          "execution_count": 3
        }
      ],
      "source": [
        "dictionary = {\n",
        "  \"key1\": [1, 2],\n",
        "  \"key2\": [3, 4],\n",
        "  \"key3\": [5, 6],\n",
        "}\n",
        "def extact_value(dictionary):\n",
        "  add_values = 0\n",
        "  for values in dictionary.values():\n",
        "    for value in values:\n",
        "      add_values+=value\n",
        "  return add_values\n",
        "extact_value(dictionary)"
      ]
    },
    {
      "cell_type": "markdown",
      "source": [
        "1. Write a Python program to Extract Unique values dictionary values?\n",
        "answer:-\n",
        "dictionary = {\n",
        "  \"key1\": [\"value1\", \"value2\"],\n",
        "  \"key2\": [\"value3\", \"value4\"],\n",
        "  \"key3\": [\"value5\", \"value6\"],\n",
        "}\n",
        "def extact_value(dictionary):\n",
        "  add_values = set()\n",
        "  for values in dictionary.values():\n",
        "    for value in values:\n",
        "      add_values.add(value)\n",
        "  return add_values\n",
        "extact_value(dictionary)\n"
      ],
      "metadata": {
        "id": "cw3iqEA6ScJl"
      }
    },
    {
      "cell_type": "code",
      "source": [
        "dictionary = {\n",
        "  \"key4\": [1, 2],\n",
        "  \"key5\": [3, 4],\n",
        "  \"key6\": [5, 6],\n",
        "}\n",
        "dictionary2 = {\n",
        "  \"key1\": [\"value1\", \"value2\"],\n",
        "  \"key2\": [\"value3\", \"value4\"],\n",
        "  \"key3\": [\"value5\", \"value6\"],\n",
        "}\n",
        "def marge_dict(dictionary,dictionary2):\n",
        "  marge ={}\n",
        "  for key,value in dictionary.items():\n",
        "    marge[key]=value\n",
        "  for key,value in dictionary2.items():\n",
        "    marge[key]=value\n",
        "  return marge\n",
        "marge_dict(dictionary,dictionary2)\n"
      ],
      "metadata": {
        "colab": {
          "base_uri": "https://localhost:8080/"
        },
        "id": "KiWhkHllUSYd",
        "outputId": "44746f32-5a20-48cb-887c-14a8fcec6e07"
      },
      "execution_count": 9,
      "outputs": [
        {
          "output_type": "execute_result",
          "data": {
            "text/plain": [
              "{'key4': [1, 2],\n",
              " 'key5': [3, 4],\n",
              " 'key6': [5, 6],\n",
              " 'key1': ['value1', 'value2'],\n",
              " 'key2': ['value3', 'value4'],\n",
              " 'key3': ['value5', 'value6']}"
            ]
          },
          "metadata": {},
          "execution_count": 9
        }
      ]
    },
    {
      "cell_type": "markdown",
      "source": [
        "2. Write a Python program to find the sum of all items in a dictionary?\n",
        "answer:-\n",
        "dictionary = {\n",
        "  \"key1\": [1, 2],\n",
        "  \"key2\": [3, 4],\n",
        "  \"key3\": [5, 6],\n",
        "}\n",
        "def extact_value(dictionary):\n",
        "  add_values = 0\n",
        "  for values in dictionary.values():\n",
        "    for value in values:\n",
        "      add_values+=value\n",
        "  return add_values\n",
        "extact_value(dictionary)"
      ],
      "metadata": {
        "id": "WLLZkiAsUVc0"
      }
    },
    {
      "cell_type": "code",
      "source": [],
      "metadata": {
        "id": "R3dbRsv_U8yc"
      },
      "execution_count": null,
      "outputs": []
    },
    {
      "cell_type": "markdown",
      "source": [
        "3. Write a Python program to Merging two Dictionaries?\n",
        "answer:-\n",
        "dictionary = {\n",
        "  \"key4\": [1, 2],\n",
        "  \"key5\": [3, 4],\n",
        "  \"key6\": [5, 6],\n",
        "}\n",
        "dictionary2 = {\n",
        "  \"key1\": [\"value1\", \"value2\"],\n",
        "  \"key2\": [\"value3\", \"value4\"],\n",
        "  \"key3\": [\"value5\", \"value6\"],\n",
        "}\n",
        "def marge_dict(dictionary,dictionary2):\n",
        "  marge ={}\n",
        "  for key,value in dictionary.items():\n",
        "    marge[key]=value\n",
        "  for key,value in dictionary2.items():\n",
        "    marge[key]=value\n",
        "  return marge\n",
        "marge_dict(dictionary,dictionary2)\n"
      ],
      "metadata": {
        "id": "p2ODVBFeVJUt"
      }
    },
    {
      "cell_type": "code",
      "source": [],
      "metadata": {
        "id": "J3pkU26NXYlD"
      },
      "execution_count": null,
      "outputs": []
    },
    {
      "cell_type": "markdown",
      "source": [
        "4. Write a Python program to convert key-values list to flat dictionary?\n",
        "answer:-\n",
        "def convert_key_values_list_to_flat_dictionary(key_values_list):\n",
        "\n",
        "  flat_dictionary = {}\n",
        "\n",
        "  for key, value in key_values_list:\n",
        "    flat_dictionary[key] = value\n",
        "\n",
        "  return flat_dictionary\n",
        "key_values_list = [\n",
        "  (\"key1\", \"value1\"),\n",
        "  (\"key2\", \"value2\"),\n",
        "  (\"key3\", \"value3\"),\n",
        "]\n",
        "\n",
        "flat_dictionary = convert_key_values_list_to_flat_dictionary(key_values_list)\n",
        "\n",
        "print(\"The flat dictionary is:\", flat_dictionary)\n"
      ],
      "metadata": {
        "id": "h5MNJKZRXcXs"
      }
    },
    {
      "cell_type": "code",
      "source": [],
      "metadata": {
        "id": "pI7CdLd7XzoE"
      },
      "execution_count": null,
      "outputs": []
    },
    {
      "cell_type": "markdown",
      "source": [
        "5. Write a Python program to insertion at the beginning in OrderedDict?\n",
        "answer:-\n",
        "from collections import OrderedDict\n",
        "\n",
        "def insert_at_beginning_in_ordereddict(ordereddict, key, value):\n",
        "\n",
        "\n",
        "  new_item = OrderedDict([(key, value)])\n",
        "  ordereddict.move_to_end(key, last=False)\n",
        "  ordereddict.update(new_item)\n",
        "  return ordereddict\n",
        "ordereddict = OrderedDict([\n",
        "  (\"key1\", \"value1\"),\n",
        "  (\"key2\", \"value2\"),\n",
        "  (\"key3\", \"value3\"),\n",
        "])\n",
        "\n",
        "ordereddict = insert_at_beginning_in_ordereddict(ordereddict, \"key0\", \"value0\")\n",
        "\n",
        "print(\"The updated OrderedDict is:\", ordereddict)\n"
      ],
      "metadata": {
        "id": "bTsev0R2X0zz"
      }
    },
    {
      "cell_type": "code",
      "source": [],
      "metadata": {
        "id": "4wtneTVGYLSD"
      },
      "execution_count": null,
      "outputs": []
    },
    {
      "cell_type": "markdown",
      "source": [
        "6. Write a Python program to check order of character in string using OrderedDict()?\n",
        "answer:-\n",
        "from collections import OrderedDict\n",
        "\n",
        "def check_order_of_characters_in_string_using_ordereddict(string):\n",
        "  \"\"\"Checks the order of characters in a string using an OrderedDict.\n",
        "\n",
        "  Args:\n",
        "    string: A string representing the string to check the order of characters in.\n",
        "\n",
        "  Returns:\n",
        "    A boolean value indicating whether the characters in the string are in order or not.\n",
        "  \"\"\"\n",
        "\n",
        "  ordereddict = OrderedDict(string)\n",
        "  previous_character = None\n",
        "  for character in ordereddict:\n",
        "    if previous_character is not None and character < previous_character:\n",
        "      return False\n",
        "    previous_character = character\n",
        "\n",
        "  return True\n",
        "\n",
        "# Example usage:\n",
        "\n",
        "string = \"abcde\"\n",
        "\n",
        "is_in_order = check_order_of_characters_in_string_using_ordereddict(string)\n",
        "\n",
        "print(\"Is the string in order:\", is_in_order)\n"
      ],
      "metadata": {
        "id": "AqROSyKcYOvk"
      }
    },
    {
      "cell_type": "code",
      "source": [],
      "metadata": {
        "id": "xoWJYg-CYeh1"
      },
      "execution_count": null,
      "outputs": []
    },
    {
      "cell_type": "markdown",
      "source": [
        "7. Write a Python program to sort Python Dictionaries by Key or Value?\n",
        "answer:-\n",
        "def sort_dictionary_by_key(dictionary):\n",
        "  \"\"\"Sorts a dictionary by key.\n",
        "\n",
        "  Args:\n",
        "    dictionary: A dictionary representing the dictionary to sort.\n",
        "\n",
        "  Returns:\n",
        "    A dictionary representing the sorted dictionary by key.\n",
        "  \"\"\"\n",
        "\n",
        "  sorted_keys = sorted(dictionary.keys())\n",
        "  sorted_dictionary = {key: dictionary[key] for key in sorted_keys}\n",
        "  return sorted_dictionary\n",
        "\n",
        "# Example usage:\n",
        "\n",
        "dictionary = {\"a\": 1, \"b\": 2, \"c\": 3}\n",
        "\n",
        "sorted_dictionary = sort_dictionary_by_key(dictionary)\n",
        "\n",
        "print(\"The sorted dictionary by key is:\", sorted_dictionary)\n"
      ],
      "metadata": {
        "id": "ucxPnf9rYhO0"
      }
    }
  ]
}