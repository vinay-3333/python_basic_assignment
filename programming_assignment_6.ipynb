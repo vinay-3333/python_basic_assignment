{
  "nbformat": 4,
  "nbformat_minor": 0,
  "metadata": {
    "colab": {
      "provenance": []
    },
    "kernelspec": {
      "name": "python3",
      "display_name": "Python 3"
    },
    "language_info": {
      "name": "python"
    }
  },
  "cells": [
    {
      "cell_type": "code",
      "execution_count": 12,
      "metadata": {
        "colab": {
          "base_uri": "https://localhost:8080/"
        },
        "id": "y8xSfyRX_92w",
        "outputId": "16a8699b-d534-45bb-fbf1-6715394832d3"
      },
      "outputs": [
        {
          "output_type": "execute_result",
          "data": {
            "text/plain": [
              "8"
            ]
          },
          "metadata": {},
          "execution_count": 12
        }
      ],
      "source": [
        "def fibonacci(a):\n",
        "  if a <0:\n",
        "    raise ValueError(\"wrong input\")\n",
        "  elif a == 1 or a == 0:\n",
        "    return 1\n",
        "  else:\n",
        "    return fibonacci(a-1) + fibonacci(a-2)\n",
        "fibonacci(5)"
      ]
    },
    {
      "cell_type": "markdown",
      "source": [
        "1. Write a Python Program to Display Fibonacci Sequence Using Recursion?\n",
        "answer:-\n",
        "def fibonacci(a):\n",
        "  if a <0:\n",
        "    raise ValueError(\"wrong input\")\n",
        "  elif a == 1 or a == 0:\n",
        "    return 1\n",
        "  else:\n",
        "    return fibonacci(a-1) + fibonacci(a-2)\n",
        "def display(a):\n",
        "  for i in range(a):\n",
        "    print(fibonacci(i))\n",
        "display(10)"
      ],
      "metadata": {
        "id": "YZB43fAnAF3s"
      }
    },
    {
      "cell_type": "markdown",
      "source": [
        "2. Write a Python Program to Find Factorial of Number Using Recursion?\n",
        "answer:-\n",
        "def factorial(n):\n",
        "  if n < 0:\n",
        "    raise ValueError(\"Factorial is not defined for negative numbers.\")\n",
        "  elif n == 0 or n == 1:\n",
        "    return 1\n",
        "  else:\n",
        "    return n * factorial(n - 1)\n",
        "print(factorial(5))\n",
        "print(factorial(10))"
      ],
      "metadata": {
        "id": "cW-oO_vbDZcj"
      }
    },
    {
      "cell_type": "markdown",
      "source": [],
      "metadata": {
        "id": "ozAqFJE9F8kJ"
      }
    },
    {
      "cell_type": "markdown",
      "source": [
        "3. Write a Python Program to calculate your Body Mass Index?\n",
        "answer:-\n",
        "def calculate_bmi(weight, height):\n",
        "  bmi = weight / (height ** 2)\n",
        "  return bmi\n",
        "weight = 70\n",
        "height = 1.7\n",
        "\n",
        "bmi = calculate_bmi(weight, height)\n",
        "\n",
        "print(\"Your BMI is:\", bmi)"
      ],
      "metadata": {
        "id": "B0FjvVtVGZiY"
      }
    },
    {
      "cell_type": "code",
      "source": [],
      "metadata": {
        "id": "uhH0XVS_Gwo1"
      },
      "execution_count": null,
      "outputs": []
    },
    {
      "cell_type": "markdown",
      "source": [
        "4. Write a Python Program to calculate the natural logarithm of any number?\n",
        "answer:-\n",
        "import numpy as np\n",
        "\n",
        "def calculate_natural_logarithm(number):\n",
        "  if number <= 0:\n",
        "    raise ValueError(\"The natural logarithm is not defined for non-positive numbers.\")\n",
        "\n",
        "  return np.log(number)\n",
        "\n",
        "number = 10\n",
        "\n",
        "natural_logarithm = calculate_natural_logarithm(number)\n",
        "\n",
        "print(\"The natural logarithm of\", number, \"is\", natural_logarithm)"
      ],
      "metadata": {
        "id": "mOCN1I7XGzIB"
      }
    },
    {
      "cell_type": "code",
      "source": [],
      "metadata": {
        "colab": {
          "base_uri": "https://localhost:8080/"
        },
        "id": "Md653bLDHGJK",
        "outputId": "82d22710-23d7-470d-f5d7-a4ab3fb2b285"
      },
      "execution_count": 15,
      "outputs": [
        {
          "output_type": "execute_result",
          "data": {
            "text/plain": [
              "36"
            ]
          },
          "metadata": {},
          "execution_count": 15
        }
      ]
    },
    {
      "cell_type": "markdown",
      "source": [
        "5. Write a Python Program for cube sum of first n natural numbers?\n",
        "answer:-\n",
        "def cube_sum(a):\n",
        "  sum =0\n",
        "  for i in range(1,a+1):\n",
        "    sum+=i**3\n",
        "  return sum\n",
        "cube_sum(3)"
      ],
      "metadata": {
        "id": "TlqOcFdTHLeK"
      }
    }
  ]
}