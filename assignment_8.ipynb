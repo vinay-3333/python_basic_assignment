{
  "nbformat": 4,
  "nbformat_minor": 0,
  "metadata": {
    "colab": {
      "provenance": []
    },
    "kernelspec": {
      "name": "python3",
      "display_name": "Python 3"
    },
    "language_info": {
      "name": "python"
    }
  },
  "cells": [
    {
      "cell_type": "code",
      "execution_count": null,
      "metadata": {
        "id": "DCWnzPYztRd9"
      },
      "outputs": [],
      "source": []
    },
    {
      "cell_type": "markdown",
      "source": [
        "1. Is the Python Standard Library included with PyInputPlus?\n",
        "\n",
        "answer:-\n",
        "\n",
        "No, PyInputPlus is not included with the Python Standard Library. It is a third-party module that can be installed separately using pip.\n",
        "\n",
        "The Python Standard Library is a collection of modules that are included with the Python programming language. These modules provide basic functionality for things like file I/O, string manipulation, and data structures.\n",
        "\n",
        "PyInputPlus is a module that provides additional functionality for taking user input. It includes functions for validating user input, prompting users for input, and presenting menus to users.\n",
        "\n"
      ],
      "metadata": {
        "id": "BJKOXHTixFcH"
      }
    },
    {
      "cell_type": "code",
      "source": [],
      "metadata": {
        "id": "9BUSS266xqv0"
      },
      "execution_count": null,
      "outputs": []
    },
    {
      "cell_type": "markdown",
      "source": [
        "2. Why is PyInputPlus commonly imported with import pyinputplus as pypi?\n",
        "answer:-\n",
        "Here are some other reasons why you might want to use an alias when importing a module:\n",
        "\n",
        "To make the module's functions easier to remember.\n",
        "To make the module's functions easier to type.\n",
        "To avoid naming conflicts with other modules.\n",
        "To make your code more readable.\n"
      ],
      "metadata": {
        "id": "PgZ4LefUxrUq"
      }
    },
    {
      "cell_type": "code",
      "source": [],
      "metadata": {
        "id": "izLJbWQCyfAg"
      },
      "execution_count": null,
      "outputs": []
    },
    {
      "cell_type": "markdown",
      "source": [
        "3. How do you distinguish between inputInt() and inputFloat()?\n",
        "answer:-\n",
        "The inputInt() and inputFloat() functions from the PyInputPlus module are both used to get numeric input from the user. However, there are some key differences between the two functions:\n",
        "\n",
        "inputInt() only accepts integer values, while inputFloat() accepts both integer and floating-point values.\n",
        "inputInt() raises a ValueError exception if the user enters a non-integer value, while inputFloat() simply converts the non-integer value to a floating-point number.\n"
      ],
      "metadata": {
        "id": "JENTU0NYyfmL"
      }
    },
    {
      "cell_type": "code",
      "source": [],
      "metadata": {
        "id": "_tW1P_MRy044"
      },
      "execution_count": null,
      "outputs": []
    },
    {
      "cell_type": "markdown",
      "source": [
        "4. Using PyInputPlus, how do you ensure that the user enters a whole number between 0 and 99?\n",
        "\n",
        "answer:-\n",
        "\n",
        "Sure, you can use the inputInt() function from the PyInputPlus module to ensure that the user enters a whole number between 0 and 99. The inputInt() function takes two arguments: the prompt that will be displayed to the user, and the minimum and maximum values that the user is allowed to enter.\n"
      ],
      "metadata": {
        "id": "YfwkiK6_y4oq"
      }
    },
    {
      "cell_type": "code",
      "source": [],
      "metadata": {
        "id": "fAp25N4DzG6Y"
      },
      "execution_count": null,
      "outputs": []
    },
    {
      "cell_type": "markdown",
      "source": [
        "5. What is transferred to the keyword arguments allowRegexes and blockRegexes?\n",
        "\n",
        "answer:-\n",
        "\n",
        "The allowRegexes and blockRegexes keyword arguments are used to control the validation of user input in the PyInputPlus module. The allowRegexes argument specifies a list of regular expressions that the user's input must match. The blockRegexes argument specifies a list of regular expressions that the user's input must not match.\n",
        "\n",
        "For example, the following code ensures that the user enters a string that only contains letters:\n",
        "\n",
        "Python\n",
        "import pyinputplus as pyip\n",
        "\n",
        "string = pyip.inputStr(prompt=\"Enter a string of letters: \", allowRegexes=[r\"^[a-zA-Z]+$\"])"
      ],
      "metadata": {
        "id": "JLeo9b09zJxW"
      }
    },
    {
      "cell_type": "code",
      "source": [],
      "metadata": {
        "id": "Iu2apYGczc44"
      },
      "execution_count": null,
      "outputs": []
    },
    {
      "cell_type": "markdown",
      "source": [
        "6. If a blank input is entered three times, what does inputStr(limit=3) do?\n",
        "\n",
        "answer:-\n",
        "\n",
        "If a blank input is entered three times, the inputStr(limit=3) function from the PyInputPlus module will raise a RetryLimitException exception. This exception is raised when the user has exceeded the number of allowed attempts to enter a valid input.\n",
        "\n",
        "The inputStr(limit=3) function takes one argument: the maximum number of attempts that the user is allowed to make. If the user exceeds the specified limit, the function will raise a RetryLimitException exception and the program will terminate."
      ],
      "metadata": {
        "id": "rB2dQFZNzfq4"
      }
    },
    {
      "cell_type": "code",
      "source": [],
      "metadata": {
        "id": "mk7gPSuUz2ZR"
      },
      "execution_count": null,
      "outputs": []
    },
    {
      "cell_type": "markdown",
      "source": [
        "7. If blank input is entered three times, what does inputStr(limit=3, default='hello') do?\n",
        "\n",
        "answer:-\n",
        "If blank input is entered three times, the inputStr(limit=3, default='hello') function from the PyInputPlus module will return the default value, which is 'hello'. This is because the default keyword argument specifies the value that will be returned if the user enters a blank string.\n",
        "\n",
        "The inputStr(limit=3, default='hello') function takes two arguments: the maximum number of attempts that the user is allowed to make, and the default value that will be returned if the user enters a blank string. If the user exceeds the specified limit, the function will return the default value and the program will not terminate.\n",
        "\n",
        "For example, the following code will prompt the user to enter a string three times. If the user enters a blank string three times, the function will return the default value, which is 'hello':\n",
        "\n",
        "Python\n",
        "import pyinputplus as pyip\n",
        "\n",
        "string = pyip.inputStr(limit=3, default='hello', prompt=\"Enter a string: \")\n",
        "\n",
        "print(\"You entered the string: {}\".format(string))\n",
        "Use code with caution. Learn more\n",
        "In this example, the function will first prompt the user to enter a string. If the user enters a blank string, the function will prompt the user again. This will continue until the user enters a non-blank string or until the user has exceeded the limit of three attempts. If the user exceeds the limit, the function will return the default value, which is 'hello'.\n",
        "\n",
        "\n"
      ],
      "metadata": {
        "id": "cg3T0AjSz5X4"
      }
    },
    {
      "cell_type": "code",
      "source": [],
      "metadata": {
        "id": "qQwRw1Zq0Q_B"
      },
      "execution_count": null,
      "outputs": []
    }
  ]
}