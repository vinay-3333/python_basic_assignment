{
  "nbformat": 4,
  "nbformat_minor": 0,
  "metadata": {
    "colab": {
      "provenance": []
    },
    "kernelspec": {
      "name": "python3",
      "display_name": "Python 3"
    },
    "language_info": {
      "name": "python"
    }
  },
  "cells": [
    {
      "cell_type": "code",
      "execution_count": null,
      "metadata": {
        "id": "1Xc4BoI8-C7A"
      },
      "outputs": [],
      "source": []
    },
    {
      "cell_type": "markdown",
      "source": [
        "1. How do you distinguish between shutil.copy() and shutil.copytree()?\n",
        "answer:-\n",
        "shutil.copy() function in python copy one file one loaction to another\n",
        "shutil.copytree() function in python copy entire dicteries its function copy all file and subdirectirers"
      ],
      "metadata": {
        "id": "kbLxBEO0-RWq"
      }
    },
    {
      "cell_type": "code",
      "source": [],
      "metadata": {
        "id": "XuOOyJt3_KpT"
      },
      "execution_count": null,
      "outputs": []
    },
    {
      "cell_type": "markdown",
      "source": [
        "2. What function is used to rename files??\n",
        "answer:-\n",
        "we are import os module in this module we have os.rename() this function rename file aand directiers name its take two argument old file name and new file name\n",
        "\n",
        "import os\n",
        "os.rename(\"old_file.txt\",\"new_file.txt\")"
      ],
      "metadata": {
        "id": "HLjfcQZx_LLD"
      }
    },
    {
      "cell_type": "code",
      "source": [],
      "metadata": {
        "id": "Jxahp3ap_1OE"
      },
      "execution_count": null,
      "outputs": []
    },
    {
      "cell_type": "markdown",
      "source": [
        "3. What is the difference between the delete functions in the send2trash and shutil modules?\n",
        "answer:-\n",
        "send2trash and shutil both module in python both have delete function delete file and directiores\n",
        "send2trash in delete function delete file and directories and move into directly into recycle bin and shutil in delete function delete file and directories permanently"
      ],
      "metadata": {
        "id": "Nb-7EpPo_3j8"
      }
    },
    {
      "cell_type": "code",
      "source": [],
      "metadata": {
        "id": "5JAS_0dUA8fF"
      },
      "execution_count": null,
      "outputs": []
    },
    {
      "cell_type": "markdown",
      "source": [
        "4.ZipFile objects have a close() method just like File objects’ close() method. What ZipFile method is\n",
        "equivalent to File objects’ open() method?\n",
        "answer:-\n",
        "ZipFile.open() method are equivalent to File.open() its open a file its take two arguments file name and the mode r for reading w for writing a for appending"
      ],
      "metadata": {
        "id": "5t1WKKeuA_uc"
      }
    },
    {
      "cell_type": "code",
      "source": [],
      "metadata": {
        "id": "n_LHnIJHCaiu"
      },
      "execution_count": null,
      "outputs": []
    },
    {
      "cell_type": "markdown",
      "source": [
        "5. Create a programme that searches a folder tree for files with a certain file extension (such as .pdf\n",
        "or .jpg). Copy these files from whatever location they are in to a new folder.\n",
        "answer:-\n",
        "import os\n",
        "import shutil\n",
        "\n",
        "def search_and_copy(root_dir, file_extension):\n",
        "    for dirpath, dirnames, filenames in os.walk(root_dir):\n",
        "        for filename in filenames:\n",
        "            if filename.endswith(file_extension):\n",
        "                new_file_path = os.path.join(root_dir, file_extension)\n",
        "                shutil.copy(os.path.join(dirpath, filename), new_file_path)\n",
        "\n",
        "if __name__ == '__main__':\n",
        "    root_dir = '/path/to/folder/tree'\n",
        "    file_extension = '.pdf'\n",
        "    search_and_copy(root_dir, file_extension)\n",
        "\n",
        "\n",
        "This program first imports the os and shutil modules. The os module provides functions for interacting with the operating system, and the shutil module provides functions for copying and moving files.\n",
        "\n",
        "The search_and_copy() function takes two arguments: the root directory and the file extension. The function first iterates over all the directories and subdirectories in the root directory. For each file it finds, it checks if the file ends with the specified file extension. If it does, the function copies the file to a new folder with the same name as the file extension.\n",
        "\n",
        "The if __name__ == '__main__' statement is a special statement in Python that is used to execute the code inside the block only if the file is being executed as a script. This is useful to prevent the code from being executed when the file is imported into another program.\n",
        "\n",
        "To use this program, you would first need to specify the path to the folder tree that you want to search. You would then need to specify the file extension that you want to search for. For example, if you wanted to search for all PDF files in the folder tree, you would set the file_extension variable to '.pdf'.\n",
        "\n"
      ],
      "metadata": {
        "id": "d9getoPiCbBz"
      }
    },
    {
      "cell_type": "code",
      "source": [],
      "metadata": {
        "id": "qIyhPBMgDnPE"
      },
      "execution_count": null,
      "outputs": []
    }
  ]
}