{
  "nbformat": 4,
  "nbformat_minor": 0,
  "metadata": {
    "colab": {
      "provenance": []
    },
    "kernelspec": {
      "name": "python3",
      "display_name": "Python 3"
    },
    "language_info": {
      "name": "python"
    }
  },
  "cells": [
    {
      "cell_type": "code",
      "execution_count": null,
      "metadata": {
        "id": "H7uduOJMIaLM"
      },
      "outputs": [],
      "source": []
    },
    {
      "cell_type": "markdown",
      "source": [
        "1. Create a zoo.py file first. Define the hours() function, which prints the string 'Open 9-5 daily'.\n",
        "Then, use the interactive interpreter to import the zoo module and call its hours() function.\n",
        "answer:-\n",
        "def hours():\n",
        "  print(\"open 9-5 daily\")\n",
        "\n",
        "\n",
        "\n",
        "import zoo\n",
        "zoo.hours()"
      ],
      "metadata": {
        "id": "xwKbZsrpI3z-"
      }
    },
    {
      "cell_type": "code",
      "source": [],
      "metadata": {
        "id": "_9fj_naIJkH3"
      },
      "execution_count": null,
      "outputs": []
    },
    {
      "cell_type": "markdown",
      "source": [
        "2. In the interactive interpreter, import the zoo module as menagerie and call its hours() function.\n",
        "answer:-\n",
        "import zoo as menagerie\n",
        "\n",
        "menagerie.hours()"
      ],
      "metadata": {
        "id": "j91b6-YPJnK2"
      }
    },
    {
      "cell_type": "code",
      "source": [],
      "metadata": {
        "id": "3RCLRmH_J7EV"
      },
      "execution_count": null,
      "outputs": []
    },
    {
      "cell_type": "markdown",
      "source": [
        "3. Using the interpreter, explicitly import and call the hours() function from zoo.\n",
        "answer:-\n",
        "from zoo import hours\n",
        "hours()"
      ],
      "metadata": {
        "id": "HYdtvdpOJ9AI"
      }
    },
    {
      "cell_type": "code",
      "source": [],
      "metadata": {
        "id": "lqvJABuMKYBw"
      },
      "execution_count": null,
      "outputs": []
    },
    {
      "cell_type": "markdown",
      "source": [
        "4. Import the hours() function as info and call it.\n",
        "answer:-\n",
        "from zoo import hours as info\n",
        "info()"
      ],
      "metadata": {
        "id": "H6ta7eaHKZtW"
      }
    },
    {
      "cell_type": "code",
      "source": [],
      "metadata": {
        "id": "N17ODSwRKm5g"
      },
      "execution_count": null,
      "outputs": []
    },
    {
      "cell_type": "markdown",
      "source": [
        "5. Create a plain dictionary with the key-value pairs 'a': 1, 'b': 2, and 'c': 3, and print it out.\n",
        "answer:-\n",
        "my_dict = {'a':1,'b':2,'c':3}\n",
        "print(my_dict}"
      ],
      "metadata": {
        "id": "toaAfTYyKpK4"
      }
    },
    {
      "cell_type": "code",
      "source": [],
      "metadata": {
        "id": "44APTzJNLNKY"
      },
      "execution_count": null,
      "outputs": []
    },
    {
      "cell_type": "markdown",
      "source": [
        "6.Make an OrderedDict called fancy from the same pairs listed in 5 and print it. Did it print in the\n",
        "same order as plain?\n",
        "answer:-\n",
        "from collections import OrderedDict\n",
        "\n",
        "fancy = OrderedDict([('a', 1), ('b', 2), ('c', 3)])\n",
        "\n",
        "print(fancy)"
      ],
      "metadata": {
        "id": "_Jzk8i_YLPD3"
      }
    },
    {
      "cell_type": "code",
      "source": [],
      "metadata": {
        "id": "osrQJon3LddX"
      },
      "execution_count": null,
      "outputs": []
    },
    {
      "cell_type": "markdown",
      "source": [
        "7. Make a default dictionary called dict_of_lists and pass it the argument list. Make the list\n",
        "dict_of_lists['a'] and append the value 'something for a' to it in one assignment. Print\n",
        "dict_of_lists['a'].\n",
        "answer:-\n",
        "from collections import defaultdict\n",
        "\n",
        "dict_of_lists = defaultdict(list)\n",
        "dict_of_lists['a'].append(\"something for a\")\n",
        "print(dict_of_lists)"
      ],
      "metadata": {
        "id": "ZGxMV96GLfjW"
      }
    },
    {
      "cell_type": "code",
      "source": [],
      "metadata": {
        "id": "nyIkEo-LMllC"
      },
      "execution_count": null,
      "outputs": []
    }
  ]
}