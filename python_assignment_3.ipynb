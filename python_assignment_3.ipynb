{
  "nbformat": 4,
  "nbformat_minor": 0,
  "metadata": {
    "colab": {
      "provenance": []
    },
    "kernelspec": {
      "name": "python3",
      "display_name": "Python 3"
    },
    "language_info": {
      "name": "python"
    }
  },
  "cells": [
    {
      "cell_type": "code",
      "execution_count": null,
      "metadata": {
        "id": "SWinUpfxuWrJ"
      },
      "outputs": [],
      "source": []
    },
    {
      "cell_type": "markdown",
      "source": [
        "1. Why are functions advantageous to have in your programs?"
      ],
      "metadata": {
        "id": "mwLF3KflvO-d"
      }
    },
    {
      "cell_type": "markdown",
      "source": [
        "answer:-\n",
        "1.Reusebility:-function provide access we write anywhere and access in same or different file is is also called code reuseiblity\n",
        "2.modularlization:- modularlization means we devide our code into small part so we can understand ,debug,test etc its easily\n",
        "3.readability:-all the sourse code devide into small part so we easily read, find error ,more efficiently make code\n"
      ],
      "metadata": {
        "id": "SmxpOOx4vQRs"
      }
    },
    {
      "cell_type": "code",
      "source": [],
      "metadata": {
        "id": "wonnAy8Iw5jH"
      },
      "execution_count": null,
      "outputs": []
    },
    {
      "cell_type": "markdown",
      "source": [
        "2. When does the code in a function run: when it&#39;s specified or when it&#39;s called?"
      ],
      "metadata": {
        "id": "1xPf5DnEw8pm"
      }
    },
    {
      "cell_type": "markdown",
      "source": [
        "answer:-\n",
        "when we called a function that's time function run other wise it is blueprint of function when we called function python interpreter provide a memory for function variable and when function finished all the work python interpreter relised all the memory those function are occupied at run time\n",
        "when function is only define but we can  not called  those only blueprint it can not occupied memory"
      ],
      "metadata": {
        "id": "_PilK9Yfw_K8"
      }
    },
    {
      "cell_type": "code",
      "source": [],
      "metadata": {
        "id": "tSSj13yvw-Ve"
      },
      "execution_count": null,
      "outputs": []
    },
    {
      "cell_type": "markdown",
      "source": [
        "3. What statement creates a function?"
      ],
      "metadata": {
        "id": "YVhLN3YIy3Wc"
      }
    },
    {
      "cell_type": "markdown",
      "source": [
        "answer:-\n",
        "1.def keyword use for function creation\n",
        "2.then function_name we provide\n",
        "3.then we can  also pass arguments\n",
        "4.when we create a fucntion inside the class we always pass pointer in function those pointer points to class\n",
        "5.function body we create inside the function body we write all the instruction"
      ],
      "metadata": {
        "id": "fSV9qGzNy4Ld"
      }
    },
    {
      "cell_type": "code",
      "source": [],
      "metadata": {
        "id": "cQdnRjivzu__"
      },
      "execution_count": null,
      "outputs": []
    },
    {
      "cell_type": "markdown",
      "source": [
        "4. What is the difference between a function and a function call?"
      ],
      "metadata": {
        "id": "gUKZzDkx0F1n"
      }
    },
    {
      "cell_type": "markdown",
      "source": [
        "answer:-\n",
        "fucntion is blueprint of instruction ,it is only defination of function it can not occupied memory when we define\n",
        "function call is execution of all the instruction inside the function it can occopied memory when we execute"
      ],
      "metadata": {
        "id": "joLHqJxy0Hyt"
      }
    },
    {
      "cell_type": "code",
      "source": [],
      "metadata": {
        "id": "rt3USkxK0Gx4"
      },
      "execution_count": null,
      "outputs": []
    },
    {
      "cell_type": "markdown",
      "source": [
        "5. How many global scopes are there in a Python program? How many local scopes?\n"
      ],
      "metadata": {
        "id": "L5WhwFv8Aylz"
      }
    },
    {
      "cell_type": "markdown",
      "source": [
        "answer:-\n",
        "global scope:- in python programming only one global scope is there global scope is top most of the function and class that global variable also imported from other module\n",
        "local scope:- in python programming many local scope is avaliable is local scope in side the function in those local variable access inside the function only"
      ],
      "metadata": {
        "id": "X1NKuj8ND9kU"
      }
    },
    {
      "cell_type": "code",
      "source": [],
      "metadata": {
        "id": "iP1ugIJ-EwF1"
      },
      "execution_count": null,
      "outputs": []
    },
    {
      "cell_type": "markdown",
      "source": [
        "6. What happens to variables in a local scope when the function call returns?"
      ],
      "metadata": {
        "id": "L9h15VIZEyMR"
      }
    },
    {
      "cell_type": "markdown",
      "source": [
        "answer:-when function return and executed all the instruction then  inside all the local variable those occupied memory relised or destroyed and global variable when outer most function or class all the instruction when done that time relised all the memory   "
      ],
      "metadata": {
        "id": "kw65klsXEzOc"
      }
    },
    {
      "cell_type": "code",
      "source": [],
      "metadata": {
        "id": "v4OJ8ohiFzFu"
      },
      "execution_count": null,
      "outputs": []
    },
    {
      "cell_type": "markdown",
      "source": [
        "7. What is the concept of a return value? Is it possible to have a return value in an expression?"
      ],
      "metadata": {
        "id": "-744fk2aF185"
      }
    },
    {
      "cell_type": "markdown",
      "source": [
        "answer:- return value when function can execute all instruction then result are return in form of int float list dictionary string etc ,in python programming we use return keyword for return the value in python programming we can return a multiplay values and we can also return as expression"
      ],
      "metadata": {
        "id": "WL8yBHe8GRvs"
      }
    },
    {
      "cell_type": "markdown",
      "source": [],
      "metadata": {
        "id": "4lRAADaeF22x"
      }
    },
    {
      "cell_type": "markdown",
      "source": [
        "8. If a function does not have a return statement, what is the return value of a call to that function?"
      ],
      "metadata": {
        "id": "o8mXOjRZHQMQ"
      }
    },
    {
      "cell_type": "markdown",
      "source": [
        "answer:- when a fucntion does not have return anyvalue those only give none value and we can consider as zero or empty string"
      ],
      "metadata": {
        "id": "Z6G7pXPxHd3I"
      }
    },
    {
      "cell_type": "code",
      "source": [],
      "metadata": {
        "id": "Xn7kKADsH6O1"
      },
      "execution_count": null,
      "outputs": []
    },
    {
      "cell_type": "markdown",
      "source": [
        "9. How do you make a function variable refer to the global variable?"
      ],
      "metadata": {
        "id": "fSDBqHuHH6yc"
      }
    },
    {
      "cell_type": "markdown",
      "source": [
        "answer:- we make a function variable refer to the global variable using global keyword  ,global keyword those provide functionlity to those variable we can access anywhere"
      ],
      "metadata": {
        "id": "y6Gtj_iXIMQl"
      }
    },
    {
      "cell_type": "code",
      "source": [],
      "metadata": {
        "id": "H-XNFMFGIoMe"
      },
      "execution_count": null,
      "outputs": []
    },
    {
      "cell_type": "markdown",
      "source": [
        "10. What is the data type of None?"
      ],
      "metadata": {
        "id": "0vVr_oj-IqoN"
      }
    },
    {
      "cell_type": "markdown",
      "source": [
        "answer:- the datatype of none is nonetype it is special in python we can also consider as empty string or zero when we nothing return any value"
      ],
      "metadata": {
        "id": "ZnCP5yjPIrRQ"
      }
    },
    {
      "cell_type": "code",
      "source": [],
      "metadata": {
        "id": "-mazzKQKJIku"
      },
      "execution_count": null,
      "outputs": []
    },
    {
      "cell_type": "markdown",
      "source": [
        "11. What does the sentence import areallyourpetsnamederic do?\n"
      ],
      "metadata": {
        "id": "948c_BYXJLaw"
      }
    },
    {
      "cell_type": "markdown",
      "source": [
        "answer:- the sentence import areallyyourpetsnamederic import module name areallyyourpetnamederic in side the module a python code ,import keyword to we can all the functionality of those module and class and function are access inside the class"
      ],
      "metadata": {
        "id": "yg7pkLhCJm_1"
      }
    },
    {
      "cell_type": "code",
      "source": [],
      "metadata": {
        "id": "pGPVRvx8KKXP"
      },
      "execution_count": null,
      "outputs": []
    },
    {
      "cell_type": "markdown",
      "source": [
        "12. If you had a bacon() feature in a spam module, what would you call it after importing spam?"
      ],
      "metadata": {
        "id": "dIBmbiG0LIV_"
      }
    },
    {
      "cell_type": "markdown",
      "source": [
        "answer:- if you have a bacon() feature in a spam module when we import spam bacon() feature are accessable inside the file when we access bacon() feture we provoide modulename then dot notation then bacon() feature then we use"
      ],
      "metadata": {
        "id": "DFAthg2xLs_T"
      }
    },
    {
      "cell_type": "code",
      "source": [],
      "metadata": {
        "id": "chYpb78vMPq6"
      },
      "execution_count": null,
      "outputs": []
    },
    {
      "cell_type": "markdown",
      "source": [
        "13. What can you do to save a programme from crashing if it encounters an error?"
      ],
      "metadata": {
        "id": "cly5H49KMRmE"
      }
    },
    {
      "cell_type": "markdown",
      "source": [
        "answer:- when program save to crashing if we use try and except block ,try block all the all source are execute inside the try block if any erorr are occoured in try block those are gone directly to except block except block handle all the error normal flow of program can not distub"
      ],
      "metadata": {
        "id": "wwcQM2Q5M6Xq"
      }
    },
    {
      "cell_type": "code",
      "source": [],
      "metadata": {
        "id": "TtQ0tsSdN2_K"
      },
      "execution_count": null,
      "outputs": []
    },
    {
      "cell_type": "markdown",
      "source": [
        "14. What is the purpose of the try clause? What is the purpose of the except clause?"
      ],
      "metadata": {
        "id": "kUMAjal4N4z6"
      }
    },
    {
      "cell_type": "markdown",
      "source": [
        "answer:- try block we can put all the code inside the try block those occured error when error is occured except block handle all the error do not stop normal flow of program we can use multiple except block with try keyword"
      ],
      "metadata": {
        "id": "6XcEt-5gN6mw"
      }
    },
    {
      "cell_type": "code",
      "source": [],
      "metadata": {
        "id": "flVSOilcOhay"
      },
      "execution_count": null,
      "outputs": []
    }
  ]
}