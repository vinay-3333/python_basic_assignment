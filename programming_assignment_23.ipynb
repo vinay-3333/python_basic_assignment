{
  "nbformat": 4,
  "nbformat_minor": 0,
  "metadata": {
    "colab": {
      "provenance": []
    },
    "kernelspec": {
      "name": "python3",
      "display_name": "Python 3"
    },
    "language_info": {
      "name": "python"
    }
  },
  "cells": [
    {
      "cell_type": "code",
      "execution_count": 6,
      "metadata": {
        "colab": {
          "base_uri": "https://localhost:8080/"
        },
        "id": "87MUAGojScLv",
        "outputId": "358d33b1-49fc-40e1-cee1-ce6ebe1e426c"
      },
      "outputs": [
        {
          "output_type": "stream",
          "name": "stdout",
          "text": [
            "True\n",
            "False\n",
            "True\n",
            "False\n",
            "True\n"
          ]
        }
      ],
      "source": [
        "def is_symmetrical(a):\n",
        "  num_str = str(a)\n",
        "  reverse_num = num_str[::-1]\n",
        "  if num_str == reverse_num:\n",
        "    return True\n",
        "  else:\n",
        "    return False\n",
        "print(is_symmetrical(7227))\n",
        "print(is_symmetrical(12567))\n",
        "print(is_symmetrical(44444444))\n",
        "print(is_symmetrical(9939))\n",
        "print(is_symmetrical(1112111))"
      ]
    },
    {
      "cell_type": "markdown",
      "source": [
        "Question 1\n",
        "Create a function that takes a number as an argument and returns True or False depending\n",
        "on whether the number is symmetrical or not. A number is symmetrical when it is the same as\n",
        "its reverse.\n",
        "Examples\n",
        "is_symmetrical(7227) ➞ True\n",
        "is_symmetrical(12567) ➞ False\n",
        "is_symmetrical(44444444) ➞ True\n",
        "is_symmetrical(9939) ➞ False\n",
        "is_symmetrical(1112111) ➞ True\n",
        "answer:-\n",
        "def is_symmetrical(a):\n",
        "  num_str = str(a)\n",
        "  reverse_num = num_str[::-1]\n",
        "  if num_str == reverse_num:\n",
        "    return True\n",
        "  else:\n",
        "    return False\n",
        "print(is_symmetrical(7227))\n",
        "print(is_symmetrical(12567))\n",
        "print(is_symmetrical(44444444))\n",
        "print(is_symmetrical(9939))\n",
        "print(is_symmetrical(1112111))"
      ],
      "metadata": {
        "id": "35Cf6kL8Sv82"
      }
    },
    {
      "cell_type": "code",
      "source": [
        "def multiply_nums(a):\n",
        "  replcaee = a.split(',')\n",
        "  # print(replcaee)\n",
        "  multi=1\n",
        "  for i in replcaee:\n",
        "    multi*=int(i)\n",
        "  return multi\n",
        "print(multiply_nums('2, 3'))\n",
        "print(multiply_nums('1, 2, 3, 4'))\n",
        "print(multiply_nums('54, 75, 453, 0'))\n",
        "print(multiply_nums('10, -2'))\n"
      ],
      "metadata": {
        "colab": {
          "base_uri": "https://localhost:8080/"
        },
        "id": "_ON-6h4MV3Nf",
        "outputId": "a890fa5b-c76d-46db-f0e6-ec2aca022547"
      },
      "execution_count": 13,
      "outputs": [
        {
          "output_type": "stream",
          "name": "stdout",
          "text": [
            "6\n",
            "24\n",
            "0\n",
            "-20\n"
          ]
        }
      ]
    },
    {
      "cell_type": "markdown",
      "source": [
        "Question 2\n",
        "Given a string of numbers separated by a comma and space, return the product of the\n",
        "numbers.\n",
        "Examples\n",
        "multiply_nums(&quot;2, 3&quot;) ➞ 6\n",
        "multiply_nums(&quot;1, 2, 3, 4&quot;) ➞ 24\n",
        "multiply_nums(&quot;54, 75, 453, 0&quot;) ➞ 0\n",
        "multiply_nums(&quot;10, -2&quot;) ➞ -20\n",
        "answer:-\n",
        "def multiply_nums(a):\n",
        "  replcaee = a.split(',')\n",
        "  # print(replcaee)\n",
        "  multi=1\n",
        "  for i in replcaee:\n",
        "    multi*=int(i)\n",
        "  return multi\n",
        "print(multiply_nums('2, 3'))\n",
        "print(multiply_nums('1, 2, 3, 4'))\n",
        "print(multiply_nums('54, 75, 453, 0'))\n",
        "print(multiply_nums('10, -2'))\n"
      ],
      "metadata": {
        "id": "AVnEbk_fYOtV"
      }
    },
    {
      "cell_type": "code",
      "source": [],
      "metadata": {
        "id": "mzS5yyZwYSIv"
      },
      "execution_count": null,
      "outputs": []
    },
    {
      "cell_type": "markdown",
      "source": [
        "Create a function that squares every digit of a number.\n",
        "Examples\n",
        "square_digits(9119) ➞ 811181\n",
        "square_digits(2483) ➞ 416649\n",
        "square_digits(3212) ➞ 9414\n",
        "Notes\n",
        "The function receives an integer and must return an integer.\n",
        "answer:-\n",
        "def square_digits(number):\n",
        "    # Convert the number to a string\n",
        "    num_str = str(number)\n",
        "    \n",
        "    # Initialize an empty string to store the squared digits\n",
        "    squared_str = ''\n",
        "    \n",
        "    # Loop through each digit in the string\n",
        "    for digit in num_str:\n",
        "        # Square the digit and append it to the squared string\n",
        "        squared_str += str(int(digit) ** 2)\n",
        "    \n",
        "    # Convert the squared string back to an integer\n",
        "    squared_number = int(squared_str)\n",
        "    \n",
        "    return squared_number\n",
        "\n",
        "# Test cases\n",
        "print(square_digits(9119))  # 811181\n",
        "print(square_digits(2483))  # 416649\n",
        "print(square_digits(3212))  # 9414\n",
        "\n"
      ],
      "metadata": {
        "id": "1BbOjGs6YW2U"
      }
    },
    {
      "cell_type": "code",
      "source": [],
      "metadata": {
        "id": "UJk9x0jYYc5d"
      },
      "execution_count": null,
      "outputs": []
    },
    {
      "cell_type": "markdown",
      "source": [
        "Question 4\n",
        "Create a function that sorts a list and removes all duplicate items from it.\n",
        "Examples\n",
        "setify([1, 3, 3, 5, 5]) ➞ [1, 3, 5]\n",
        "setify([4, 4, 4, 4]) ➞ [4]\n",
        "setify([5, 7, 8, 9, 10, 15]) ➞ [5, 7, 8, 9, 10, 15]\n",
        "setify([3, 3, 3, 2, 1]) ➞ [1, 2, 3]\n",
        "answer:-\n",
        "def setify(lst):\n",
        "    # Convert the list to a set to remove duplicates\n",
        "    unique_set = set(lst)\n",
        "    \n",
        "    # Convert the set back to a sorted list\n",
        "    sorted_list = sorted(unique_set)\n",
        "    \n",
        "    return sorted_list\n",
        "\n",
        "# Test cases\n",
        "print(setify([1, 3, 3, 5, 5]))            # [1, 3, 5]\n",
        "print(setify([4, 4, 4, 4]))               # [4]\n",
        "print(setify([5, 7, 8, 9, 10, 15]))       # [5, 7, 8, 9, 10, 15]\n",
        "print(setify([3, 3, 3, 2, 1]))            # [1, 2, 3]\n"
      ],
      "metadata": {
        "id": "0CB17mL_YgkU"
      }
    },
    {
      "cell_type": "code",
      "source": [],
      "metadata": {
        "id": "JtXBz1O0Ylsv"
      },
      "execution_count": null,
      "outputs": []
    },
    {
      "cell_type": "markdown",
      "source": [
        "Question 5\n",
        "Create a function that returns the mean of all digits.\n",
        "Examples\n",
        "mean(42) ➞ 3\n",
        "mean(12345) ➞ 3\n",
        "mean(666) ➞ 6\n",
        "Notes\n",
        " The mean of all digits is the sum of digits / how many digits there are (e.g. mean of digits in\n",
        "512 is (5+1+2)/3(number of digits) = 8/3=2).\n",
        "answer:-\n",
        "def mean(number):\n",
        "    # Convert the number to a string to iterate through its digits\n",
        "    num_str = str(number)\n",
        "    \n",
        "    # Initialize variables to store the sum of digits and the number of digits\n",
        "    digit_sum = 0\n",
        "    num_digits = len(num_str)\n",
        "    \n",
        "    # Loop through each digit in the string\n",
        "    for digit in num_str:\n",
        "        digit_sum += int(digit)\n",
        "    \n",
        "    # Calculate the mean by dividing the sum of digits by the number of digits\n",
        "    mean_value = digit_sum / num_digits\n",
        "    \n",
        "    return mean_value\n",
        "\n",
        "# Test cases\n",
        "print(mean(42))      # 3.0\n",
        "print(mean(12345))   # 3.0\n",
        "print(mean(666))     # 6.0\n"
      ],
      "metadata": {
        "id": "MFrcIYc8YoNN"
      }
    },
    {
      "cell_type": "code",
      "source": [],
      "metadata": {
        "id": "cvrnVjKJYyDR"
      },
      "execution_count": null,
      "outputs": []
    }
  ]
}