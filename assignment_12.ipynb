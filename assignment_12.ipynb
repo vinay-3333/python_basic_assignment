{
  "nbformat": 4,
  "nbformat_minor": 0,
  "metadata": {
    "colab": {
      "provenance": []
    },
    "kernelspec": {
      "name": "python3",
      "display_name": "Python 3"
    },
    "language_info": {
      "name": "python"
    }
  },
  "cells": [
    {
      "cell_type": "code",
      "execution_count": null,
      "metadata": {
        "id": "lPR4mSxYm3co"
      },
      "outputs": [],
      "source": []
    },
    {
      "cell_type": "markdown",
      "source": [
        "1. In what modes should the PdfFileReader() and PdfFileWriter() File objects will be opened?\n",
        "answer:-\n",
        "we are import PyPDF2\n",
        "-->then PdfFileReader() should open file in read- binary mode we pass first argument \"rb\" this mean read in binary mode and second argument is open() pdf file is binary file can not read text mode\n",
        "-->PdfFileWrite() should opened in write-binary mode its take 'wb' mode this mode means write in binary mode PdfFileWrite() write in pdf file\n"
      ],
      "metadata": {
        "id": "EQoJRIoYm-zA"
      }
    },
    {
      "cell_type": "code",
      "source": [],
      "metadata": {
        "id": "VrTUzpyxox66"
      },
      "execution_count": null,
      "outputs": []
    },
    {
      "cell_type": "markdown",
      "source": [
        "2. From a PdfFileReader object, how do you get a Page object for page 5?\n",
        "answer:-\n",
        "from a PdfFileReader() object you get a page object for page 5 we use getpage() method its take number of argument that show a page number"
      ],
      "metadata": {
        "id": "jyOBHUeyozyw"
      }
    },
    {
      "cell_type": "code",
      "source": [],
      "metadata": {
        "id": "9HxMB_Jmpgrh"
      },
      "execution_count": null,
      "outputs": []
    },
    {
      "cell_type": "markdown",
      "source": [
        "3. What PdfFileReader variable stores the number of pages in the PDF document?\n",
        "answer:-\n",
        "the numpages variable in the PdfFileReader object store the numbers of pages in pdf documents"
      ],
      "metadata": {
        "id": "RGnPhp4ypihC"
      }
    },
    {
      "cell_type": "code",
      "source": [],
      "metadata": {
        "id": "MQiBauRQqPWp"
      },
      "execution_count": null,
      "outputs": []
    },
    {
      "cell_type": "markdown",
      "source": [
        "4. If a PdfFileReader object’s PDF is encrypted with the password swordfish, what must you do\n",
        "before you can obtain Page objects from it?\n",
        "answer:-\n",
        "PdfFileReader object pdf is encrypted with the password swordfish we must you do before you can obtain page object from it we use decrypt() method its take a password argument and return the password is correct"
      ],
      "metadata": {
        "id": "pAgElnReqSZA"
      }
    },
    {
      "cell_type": "code",
      "source": [],
      "metadata": {
        "id": "LyolTeJ2rCea"
      },
      "execution_count": null,
      "outputs": []
    },
    {
      "cell_type": "markdown",
      "source": [
        "6. What is the difference between a Run object and a Paragraph object?\n",
        "answer:-\n",
        "the difference between a Run object and paragraph object in PyPDF2 object Run objects represents the contigious run of text with same style\n",
        "paragraph object group of object that are run that are same part of same paragraph"
      ],
      "metadata": {
        "id": "0hbnE6AarEHB"
      }
    },
    {
      "cell_type": "code",
      "source": [],
      "metadata": {
        "id": "xlpTw2RJr-s5"
      },
      "execution_count": null,
      "outputs": []
    },
    {
      "cell_type": "markdown",
      "source": [
        "7. How do you obtain a list of Paragraph objects for a Document object that’s stored in a variable\n",
        "named doc?\n",
        "answer:-\n",
        "\n",
        "To obtain a list of Paragraph objects for a Document object that’s stored in a variable named doc, you can use the getParagraphs() method. The getParagraphs() method returns a list of Paragraph objects for the document."
      ],
      "metadata": {
        "id": "0TR5LonUsBqg"
      }
    },
    {
      "cell_type": "code",
      "source": [],
      "metadata": {
        "id": "eFoQfR4NsR6E"
      },
      "execution_count": null,
      "outputs": []
    },
    {
      "cell_type": "markdown",
      "source": [
        "8. What type of object has bold, underline, italic, strike, and outline variables?\n",
        "answer:-\n",
        "The object that has bold, underline, italic, strike, and outline variables is the Run object. A Run object represents a contiguous range of text in a paragraph. It has a number of properties that control the formatting of the text, including the bold, underline, italic, strike, and outline properties."
      ],
      "metadata": {
        "id": "y5XXd1_7sTxR"
      }
    },
    {
      "cell_type": "code",
      "source": [],
      "metadata": {
        "id": "n2Vrss9-skUp"
      },
      "execution_count": null,
      "outputs": []
    },
    {
      "cell_type": "markdown",
      "source": [
        "9. What is the difference between False, True, and None for the bold variable?\n",
        "answer:-\n",
        "\n",
        "The values False, True, and None have different meanings for the bold variable in Python.\n",
        "\n",
        "False means that the text is not bold.\n",
        "True means that the text is bold.\n",
        "None means that the text inherits its boldness from the style of the paragraph."
      ],
      "metadata": {
        "id": "derr70tTsmcK"
      }
    },
    {
      "cell_type": "code",
      "source": [],
      "metadata": {
        "id": "lrwfbyfFs0Qq"
      },
      "execution_count": null,
      "outputs": []
    },
    {
      "cell_type": "markdown",
      "source": [
        "10. How do you create a Document object for a new Word document?\n",
        "answer:-\n",
        "from docx import Document we are import\n",
        "document = Document() we create an object\n",
        "Document() object create a empty document and we put inside text ,image etc"
      ],
      "metadata": {
        "id": "NiFTyrKzs4gT"
      }
    },
    {
      "cell_type": "code",
      "source": [],
      "metadata": {
        "id": "deG_KXt-tqNc"
      },
      "execution_count": null,
      "outputs": []
    },
    {
      "cell_type": "markdown",
      "source": [
        "11. How do you add a paragraph with the text 'Hello, there!' to a Document object stored in a\n",
        "variable named doc?\n",
        "answer:-\n",
        "from docx import Document\n",
        "\n",
        "doc = Document()\n",
        "\n",
        "doc.add_paragraph(\"Hello, there!\")\n",
        "\n",
        "doc.save(\"new_document.docx\")"
      ],
      "metadata": {
        "id": "3enUAWUptsca"
      }
    },
    {
      "cell_type": "code",
      "source": [],
      "metadata": {
        "id": "wuunsHXpuBOh"
      },
      "execution_count": null,
      "outputs": []
    },
    {
      "cell_type": "markdown",
      "source": [
        "12. What integers represent the levels of headings available in Word documents?\n",
        "answer:-\n",
        "\n",
        "In Word documents, the levels of headings are represented by integers from 0 to 9. The integer 0 represents the title style, which is used for the top of the document. Integers 1 to 4 are for various heading levels, with 1 being the main heading and 4 the lowest subheading.\n",
        "\n",
        "Here is a table that shows the different levels of headings and their corresponding integers:\n",
        "\n",
        "Heading Level\tInteger\n",
        "Title\t0\n",
        "Heading 1\t1\n",
        "Heading 2\t2\n",
        "Heading 3\t3\n",
        "Heading 4\t4\n",
        "Heading 5\t5\n",
        "Heading 6\t6\n",
        "Heading 7\t7\n",
        "Heading 8\t8\n",
        "Heading 9\t9\n",
        "You can use these integers to add headings to your Word documents using the add_heading() method of the Document object. For example, the following code will add a heading with the text \"This is a heading\" at level 1:\n",
        "\n",
        "Python\n",
        "from docx import Document\n",
        "\n",
        "doc = Document()\n",
        "\n",
        "doc.add_heading(\"This is a heading\", 1)\n",
        "\n",
        "doc.save(\"new_document.docx\")\n"
      ],
      "metadata": {
        "id": "4_usDv5wuDno"
      }
    },
    {
      "cell_type": "code",
      "source": [],
      "metadata": {
        "id": "5ebEh5t9uRxy"
      },
      "execution_count": null,
      "outputs": []
    }
  ]
}