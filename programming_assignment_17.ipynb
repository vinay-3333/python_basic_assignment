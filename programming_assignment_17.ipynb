{
  "nbformat": 4,
  "nbformat_minor": 0,
  "metadata": {
    "colab": {
      "provenance": []
    },
    "kernelspec": {
      "name": "python3",
      "display_name": "Python 3"
    },
    "language_info": {
      "name": "python"
    }
  },
  "cells": [
    {
      "cell_type": "code",
      "execution_count": 5,
      "metadata": {
        "colab": {
          "base_uri": "https://localhost:8080/"
        },
        "id": "9srKol49FR-h",
        "outputId": "6cd6cfa3-9650-4f8f-a9f4-09c4bfdf4d56"
      },
      "outputs": [
        {
          "output_type": "stream",
          "name": "stdout",
          "text": [
            "0\n",
            "30\n",
            "18\n"
          ]
        }
      ],
      "source": [
        "def divide_byc(a,b,c):\n",
        "  sum=0\n",
        "  for i in range(a,b+1):\n",
        "    if i%c==0:\n",
        "      sum+=i\n",
        "  return sum\n",
        "print(divide_byc(1,10,20))\n",
        "print(divide_byc(1,10,2))\n",
        "print(divide_byc(1,10,3))\n"
      ]
    },
    {
      "cell_type": "code",
      "source": [],
      "metadata": {
        "id": "1bH8dbnzHVMK"
      },
      "execution_count": null,
      "outputs": []
    },
    {
      "cell_type": "markdown",
      "source": [
        "Question1. Create a function that takes three arguments a, b, c and returns the sum of the\n",
        "numbers that are evenly divided by c from the range a, b inclusive.\n",
        "Examples\n",
        "evenly_divisible(1, 10, 20) ➞ 0\n",
        "# No number between 1 and 10 can be evenly divided by 20.\n",
        "evenly_divisible(1, 10, 2) ➞ 30\n",
        "# 2 + 4 + 6 + 8 + 10 = 30\n",
        "evenly_divisible(1, 10, 3) ➞ 18\n",
        "# 3 + 6 + 9 = 18\n",
        "answer:-\n",
        "def divide_byc(a,b,c):\n",
        "  sum=0\n",
        "  for i in range(a,b+1):\n",
        "    if i%c==0:\n",
        "      sum+=i\n",
        "  return sum\n",
        "print(divide_byc(1,10,20))\n",
        "print(divide_byc(1,10,2))\n",
        "print(divide_byc(1,10,3))"
      ],
      "metadata": {
        "id": "L0Kf-ZdCFYLA"
      }
    },
    {
      "cell_type": "markdown",
      "source": [
        "Question2. Create a function that returns True if a given inequality expression is correct and\n",
        "False otherwise.\n",
        "Examples\n",
        "correct_signs(&quot;3 &lt; 7 &lt; 11&quot;) ➞ True\n",
        "correct_signs(&quot;13 &gt; 44 &gt; 33 &gt; 1&quot;) ➞ False\n",
        "correct_signs(&quot;1 &lt; 2 &lt; 6 &lt; 9 &gt; 3&quot;) ➞ True\n",
        "answer:-\n",
        "def correct_signs(inequality_expression):\n",
        "  \"\"\"Returns True if a given inequality expression is correct and False otherwise.\n",
        "\n",
        "  Args:\n",
        "    inequality_expression: A string representing the inequality expression.\n",
        "\n",
        "  Returns:\n",
        "    A boolean value indicating whether the inequality expression is correct.\n",
        "  \"\"\"\n",
        "\n",
        "  # Split the inequality expression into a list of tokens.\n",
        "  tokens = inequality_expression.split()\n",
        "\n",
        "  # Check if the number of tokens is odd.\n",
        "  if len(tokens) % 2 != 1:\n",
        "    return False\n",
        "\n",
        "  # Iterate over the tokens, comparing each pair of adjacent tokens.\n",
        "  for i in range(0, len(tokens), 2):\n",
        "    # Get the two adjacent tokens.\n",
        "    token1 = tokens[i]\n",
        "    token2 = tokens[i + 1]\n",
        "\n",
        "    # Check if the two tokens are numbers.\n",
        "    if not token1.isdigit() or not token2.isdigit():\n",
        "      return False\n",
        "\n",
        "    # Convert the two tokens to integers.\n",
        "    number1 = int(token1)\n",
        "    number2 = int(token2)\n",
        "\n",
        "    # Check if the inequality sign is correct.\n",
        "    if token1 == \"<\":\n",
        "      if number1 >= number2:\n",
        "        return False\n",
        "    elif token1 == \">\":\n",
        "      if number1 <= number2:\n",
        "        return False\n",
        "\n",
        "  # If we reach this point, then all of the inequality signs are correct.\n",
        "  return True\n"
      ],
      "metadata": {
        "id": "KyjfzjozHbYc"
      }
    },
    {
      "cell_type": "markdown",
      "source": [
        "Question3. Create a function that replaces all the vowels in a string with a specified character.\n",
        "Examples\n",
        "replace_vowels(&quot;the aardvark&quot;, &quot;#&quot;) ➞ &quot;th# ##rdv#rk&quot;\n",
        "replace_vowels(&quot;minnie mouse&quot;, &quot;?&quot;) ➞ &quot;m?nn?? m??s?&quot;\n",
        "replace_vowels(&quot;shakespeare&quot;, &quot;*&quot;) ➞ &quot;sh*k*sp**r*&quot;\n",
        "answer:-\n",
        "def replace_vowels(a,b):\n",
        "  vowels = ['a','e','i','o','u']\n",
        "  for i in a:\n",
        "    if i in vowels:\n",
        "       c = a.replace(i,b)\n",
        "  return c\n",
        "\n",
        "  \n",
        "replace_vowels('the aardvark', '#')\n",
        "replace_vowels('minnie mouse', '?')\n",
        "replace_vowels('shakespeare', '*')"
      ],
      "metadata": {
        "id": "qAN9ed80MvYx"
      }
    },
    {
      "cell_type": "code",
      "source": [
        "def factorial(a):\n",
        "  if a==0:\n",
        "    return 1\n",
        "  else:\n",
        "    return a * factorial(a-1)\n",
        "print(factorial(5))\n",
        "print(factorial(3))\n",
        "print(factorial(1))\n",
        "print(factorial(0))"
      ],
      "metadata": {
        "colab": {
          "base_uri": "https://localhost:8080/"
        },
        "id": "oor8I19BHqfA",
        "outputId": "a532ce81-4fa3-4d5b-ad4a-86dbe203e482"
      },
      "execution_count": 26,
      "outputs": [
        {
          "output_type": "stream",
          "name": "stdout",
          "text": [
            "120\n",
            "6\n",
            "1\n",
            "1\n"
          ]
        }
      ]
    },
    {
      "cell_type": "markdown",
      "source": [
        "Question4. Write a function that calculates the factorial of a number recursively.\n",
        "Examples\n",
        "factorial(5) ➞ 120\n",
        "factorial(3) ➞ 6\n",
        "factorial(1) ➞ 1\n",
        "factorial(0) ➞ 1\n",
        "answer:-\n",
        "def factorial(a):\n",
        "  if a==0:\n",
        "    return 1\n",
        "  else:\n",
        "    return a * factorial(a-1)\n",
        "print(factorial(5))\n",
        "print(factorial(3))\n",
        "print(factorial(1))\n",
        "print(factorial(0))"
      ],
      "metadata": {
        "id": "RB7joWkxM17R"
      }
    },
    {
      "cell_type": "code",
      "source": [
        "\n",
        "\n",
        "\n",
        "\n"
      ],
      "metadata": {
        "id": "v5NzI6ZTH52V"
      },
      "execution_count": 26,
      "outputs": []
    },
    {
      "cell_type": "code",
      "source": [
        "|"
      ],
      "metadata": {
        "id": "ozDAINrLL_zI"
      },
      "execution_count": null,
      "outputs": []
    },
    {
      "cell_type": "markdown",
      "source": [
        "Question 5\n",
        "Hamming distance is the number of characters that differ between two strings.\n",
        "To illustrate:\n",
        "String1: &quot;abcbba&quot;\n",
        "String2: &quot;abcbda&quot;\n",
        "Hamming Distance: 1 - &quot;b&quot; vs. &quot;d&quot; is the only difference.\n",
        "Create a function that computes the hamming distance between two strings.\n",
        "Examples\n",
        "hamming_distance(&quot;abcde&quot;, &quot;bcdef&quot;) ➞ 5\n",
        "hamming_distance(&quot;abcde&quot;, &quot;abcde&quot;) ➞ 0\n",
        "hamming_distance(&quot;strong&quot;, &quot;strung&quot;) ➞ 1\n",
        "answer:-\n",
        "def hamming_distance(str1, str2):\n",
        "  \"\"\"Computes the Hamming distance between two strings.\n",
        "\n",
        "  Args:\n",
        "    str1: A string representing the first string.\n",
        "    str2: A string representing the second string.\n",
        "\n",
        "  Returns:\n",
        "    An integer representing the Hamming distance between the two strings.\n",
        "  \"\"\"\n",
        "\n",
        "  if len(str1) != len(str2):\n",
        "    return -1\n",
        "\n",
        "  distance = 0\n",
        "  for i in range(len(str1)):\n",
        "    if str1[i] != str2[i]:\n",
        "      distance += 1\n",
        "\n",
        "  return distance\n",
        "\n"
      ],
      "metadata": {
        "id": "Usde3t2pORl3"
      }
    },
    {
      "cell_type": "code",
      "source": [],
      "metadata": {
        "id": "4XeSldGBOffP"
      },
      "execution_count": null,
      "outputs": []
    }
  ]
}