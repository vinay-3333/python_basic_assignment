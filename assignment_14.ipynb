{
  "nbformat": 4,
  "nbformat_minor": 0,
  "metadata": {
    "colab": {
      "provenance": []
    },
    "kernelspec": {
      "name": "python3",
      "display_name": "Python 3"
    },
    "language_info": {
      "name": "python"
    }
  },
  "cells": [
    {
      "cell_type": "code",
      "execution_count": null,
      "metadata": {
        "id": "w7VudDUFnTDP"
      },
      "outputs": [],
      "source": []
    },
    {
      "cell_type": "markdown",
      "source": [
        "1. What does RGBA stand for?\n",
        "answer:-\n",
        "RGBA stands for Red, Green, Blue, and Alpha. It is a color model that uses four values to represent a color: red, green, blue, and alpha. The alpha value specifies the opacity of the color, from 0 (fully transparent) to 1 (fully opaque).\n",
        "\n"
      ],
      "metadata": {
        "id": "2DoA-r6vnYu5"
      }
    },
    {
      "cell_type": "code",
      "source": [],
      "metadata": {
        "id": "xMh3A-5bnoNC"
      },
      "execution_count": null,
      "outputs": []
    },
    {
      "cell_type": "markdown",
      "source": [
        "2. From the Pillow module, how do you get the RGBA value of any images?\n",
        "answer:-\n",
        "\n",
        "To get the RGBA value of any image from the Pillow module, you can use the following steps:\n",
        "\n",
        "Import the Pillow module.\n",
        "Open the image file.\n",
        "Get the image data as a sequence of tuples. Each tuple will contain the red, green, blue, and alpha values for a single pixel.\n",
        "Iterate over the image data and print the RGBA values for each pixel.\n",
        "Here is an example of how to do this in Python:\n",
        "\n",
        "Python\n",
        "import PIL.Image\n",
        "\n",
        "# Open the image file\n",
        "image = PIL.Image.open(\"image.png\")\n",
        "\n",
        "# Get the image data as a sequence of tuples\n",
        "image_data = image.getdata()\n",
        "\n",
        "# Iterate over the image data and print the RGBA values for each pixel\n",
        "for pixel in image_data:\n",
        "    print(pixel)"
      ],
      "metadata": {
        "id": "upAyKyuNnqGJ"
      }
    },
    {
      "cell_type": "code",
      "source": [],
      "metadata": {
        "id": "g785yR2doKn7"
      },
      "execution_count": null,
      "outputs": []
    },
    {
      "cell_type": "markdown",
      "source": [
        "3. What is a box tuple, and how does it work?\n",
        "answer:-\n",
        "\n",
        "A box tuple is a data structure in Tarantool that is used to store a collection of values. It is similar to a Lua table, but it has some important differences.\n",
        "\n",
        "A box tuple is immutable, which means that its contents cannot be changed after it is created.\n",
        "A box tuple has a fixed size, which is determined when it is created.\n",
        "A box tuple can only store values of a single type.\n"
      ],
      "metadata": {
        "id": "Bbd_QadhoMuq"
      }
    },
    {
      "cell_type": "code",
      "source": [],
      "metadata": {
        "id": "0OGQIRdJoaKa"
      },
      "execution_count": null,
      "outputs": []
    },
    {
      "cell_type": "markdown",
      "source": [
        "4. Use your image and load in notebook then, How can you find out the width and height of an\n",
        "Image object?\n",
        "answer:-\n",
        "o find the width and height of an Image object in a notebook, you can use the following steps:\n",
        "\n",
        "Import the Pillow module.\n",
        "Load the image file.\n",
        "Get the width and height of the image object using the width and height properties.\n",
        "Here is an example of how to do this in Python:\n",
        "\n",
        "Python\n",
        "import PIL.Image\n",
        "\n",
        "# Load the image file\n",
        "image = PIL.Image.open(\"image.png\")\n",
        "\n",
        "# Get the width and height of the image object\n",
        "width = image.width\n",
        "height = image.height\n",
        "\n",
        "# Print the width and height of the image object\n",
        "print(\"Width:\", width)\n",
        "print(\"Height:\", height)"
      ],
      "metadata": {
        "id": "XgNf1Qb6ocMB"
      }
    },
    {
      "cell_type": "code",
      "source": [],
      "metadata": {
        "id": "bFAF77swoqAS"
      },
      "execution_count": null,
      "outputs": []
    },
    {
      "cell_type": "markdown",
      "source": [
        "5. What method would you call to get Image object for a 100×100 image, excluding the lower-left\n",
        "quarter of it?\n",
        "answer:-\n",
        "\n",
        "To get an Image object for a 100×100 image, excluding the lower-left quarter of it, you can use the crop() method of the Image object. The crop() method takes four arguments, which are the left, upper, right, and lower pixel coordinates of the cropping rectangle, respectively.\n",
        "\n",
        "In this case, you want to crop the image to exclude the lower-left quarter, so you would use the following arguments for the crop() method:\n",
        "\n",
        "(0, 50, 50, 100)\n",
        "This means that the cropping rectangle will start at the pixel with coordinates (0, 50), and it will end at the pixel with coordinates (50, 100). The cropped image will have a width of 50 pixels and a height of 50 pixels.\n",
        "\n",
        "Here is an example of how to do this in Python:\n",
        "\n",
        "Python\n",
        "import PIL.Image\n",
        "\n",
        "# Create a 100×100 image\n",
        "image = PIL.Image.new(\"RGB\", (100, 100))\n",
        "\n",
        "# Crop the image to exclude the lower-left quarter\n",
        "cropped_image = image.crop((0, 50, 50, 100))\n",
        "\n",
        "# Display the cropped image\n",
        "cropped_image.show()"
      ],
      "metadata": {
        "id": "BW-USloDosVK"
      }
    },
    {
      "cell_type": "code",
      "source": [],
      "metadata": {
        "id": "Hv52EuT2pAIK"
      },
      "execution_count": null,
      "outputs": []
    },
    {
      "cell_type": "markdown",
      "source": [
        "6. After making changes to an Image object, how could you save it as an image file?\n",
        "answer:-\n",
        "\n",
        "Sure, I can help you with that.\n",
        "\n",
        "To save an Image object as an image file, you can use the save() method of the Image object. The save() method takes two arguments, which are the filename and the format of the image file.\n",
        "\n",
        "The filename is the path to the file where you want to save the image. The format is the type of image file you want to save. The most common image formats are JPEG, PNG, and GIF.\n",
        "\n",
        "Here is an example of how to do this in Python:\n",
        "\n",
        "Python\n",
        "import PIL.Image\n",
        "\n",
        "# Create a 100×100 image\n",
        "image = PIL.Image.new(\"RGB\", (100, 100))\n",
        "\n",
        "# Make some changes to the image\n",
        "image.rotate(45)\n",
        "image.resize((50, 50))\n",
        "\n",
        "# Save the image as a JPEG file\n",
        "image.save(\"image.jpg\")\n"
      ],
      "metadata": {
        "id": "yIamesGwpAuJ"
      }
    },
    {
      "cell_type": "code",
      "source": [],
      "metadata": {
        "id": "fKMKUPEqpWOz"
      },
      "execution_count": null,
      "outputs": []
    },
    {
      "cell_type": "markdown",
      "source": [
        "7. What module contains Pillow’s shape-drawing code?\n",
        "answer:-\n",
        "\n",
        "The Pillow module contains Pillow's shape-drawing code in the ImageDraw module. The ImageDraw module provides methods for drawing shapes, such as lines, rectangles, circles, and ellipses, on images.\n",
        "\n",
        "To use the ImageDraw module, you first need to create an ImageDraw object. You can do this by calling the ImageDraw.new() method. The ImageDraw.new() method takes two arguments, which are the image object and the mode. The image object is the image where you want to draw the shapes. The mode is the color mode of the image. The most common color modes are RGB and RGBA.\n",
        "\n",
        "Once you have created an ImageDraw object, you can use the methods in the ImageDraw module to draw shapes on the image. For example, the following code draws a red line on an image:\n",
        "\n",
        "Python\n",
        "import PIL.Image\n",
        "from PIL import ImageDraw\n",
        "\n",
        "# Create an image object\n",
        "image = PIL.Image.new(\"RGB\", (100, 100))\n",
        "\n",
        "# Create an ImageDraw object\n",
        "draw = ImageDraw.new(image)\n",
        "\n",
        "# Draw a red line\n",
        "draw.line((0, 0), (100, 100), \"red\")\n",
        "\n",
        "# Save the image\n",
        "image.save(\"image.png\")"
      ],
      "metadata": {
        "id": "EOBROVD-pWvi"
      }
    },
    {
      "cell_type": "code",
      "source": [],
      "metadata": {
        "id": "xOJb6vrEpkEj"
      },
      "execution_count": null,
      "outputs": []
    },
    {
      "cell_type": "markdown",
      "source": [
        "8. Image objects do not have drawing methods. What kind of object does? How do you get this kind\n",
        "of object?\n",
        "answer:-\n",
        "That's right, Image objects do not have drawing methods. The kind of object that has drawing methods is called an ImageDraw object. You can get an ImageDraw object by calling the ImageDraw.new() method. The ImageDraw.new() method takes two arguments, which are the image object and the mode. The image object is the image where you want to draw the shapes. The mode is the color mode of the image. The most common color modes are RGB and RGBA.\n",
        "\n",
        "Here is an example of how to get an ImageDraw object:\n",
        "\n",
        "Python\n",
        "import PIL.Image\n",
        "from PIL import ImageDraw\n",
        "\n",
        "# Create an image object\n",
        "image = PIL.Image.new(\"RGB\", (100, 100))\n",
        "\n",
        "# Get an ImageDraw object\n",
        "draw = ImageDraw.new(image)"
      ],
      "metadata": {
        "id": "u-O_ssGspknp"
      }
    },
    {
      "cell_type": "code",
      "source": [],
      "metadata": {
        "id": "Nu1doZrwpwIz"
      },
      "execution_count": null,
      "outputs": []
    }
  ]
}