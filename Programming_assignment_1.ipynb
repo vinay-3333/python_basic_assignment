{
  "nbformat": 4,
  "nbformat_minor": 0,
  "metadata": {
    "colab": {
      "provenance": []
    },
    "kernelspec": {
      "name": "python3",
      "display_name": "Python 3"
    },
    "language_info": {
      "name": "python"
    }
  },
  "cells": [
    {
      "cell_type": "code",
      "execution_count": null,
      "metadata": {
        "id": "IC4obtX8hjYJ"
      },
      "outputs": [],
      "source": []
    },
    {
      "cell_type": "markdown",
      "source": [
        "1. Write a Python program to print 'Hello Python'?\n",
        "answer:-\n",
        "print(\"Hello Python\")"
      ],
      "metadata": {
        "id": "M-MhHlI3iJa4"
      }
    },
    {
      "cell_type": "code",
      "source": [],
      "metadata": {
        "id": "wuFljX34iVuI"
      },
      "execution_count": null,
      "outputs": []
    },
    {
      "cell_type": "markdown",
      "source": [
        "2. Write a Python program to do arithmetical operations addition and division.?\n",
        "answer:-\n",
        "a =10\n",
        "b =5\n",
        "addition = a+b\n",
        "division = a/b\n",
        "print(addition)\n",
        "print(division)"
      ],
      "metadata": {
        "id": "HhdG12HJiWLg"
      }
    },
    {
      "cell_type": "code",
      "source": [],
      "metadata": {
        "id": "o8E9coprio4A"
      },
      "execution_count": null,
      "outputs": []
    },
    {
      "cell_type": "markdown",
      "source": [
        "3. Write a Python program to find the area of a triangle?\n",
        "answer:-\n",
        "breath = 10\n",
        "height = 5\n",
        "area = 1/2*breath *height\n",
        "print(area)"
      ],
      "metadata": {
        "id": "HZfLd89Tiquw"
      }
    },
    {
      "cell_type": "code",
      "source": [
        "a = 0\n",
        "b = 10\n",
        "c = 15\n",
        "a = b\n",
        "b = c\n",
        "c = a\n",
        "print(a,b,c)"
      ],
      "metadata": {
        "colab": {
          "base_uri": "https://localhost:8080/"
        },
        "id": "hfRxnZfxi6-o",
        "outputId": "c8080643-4251-4f47-ff1b-da1e0a5bb37e"
      },
      "execution_count": 1,
      "outputs": [
        {
          "output_type": "stream",
          "name": "stdout",
          "text": [
            "10 15 10\n"
          ]
        }
      ]
    },
    {
      "cell_type": "markdown",
      "source": [
        "4. Write a Python program to swap two variables?\n",
        "answer:-\n",
        "we create temp. variable and assign values and we can  also use swap method\n",
        "a = 0\n",
        "b = 10\n",
        "c = 15\n",
        "a = b\n",
        "b = c\n",
        "c = a\n",
        "print(a,b,c)\n"
      ],
      "metadata": {
        "id": "0zcJSVNIi86f"
      }
    },
    {
      "cell_type": "code",
      "source": [],
      "metadata": {
        "id": "GNMxhpgAjkII"
      },
      "execution_count": 2,
      "outputs": []
    },
    {
      "cell_type": "markdown",
      "source": [
        "5. Write a Python program to generate a random number?\n",
        "answer:-\n",
        "import numpy as np\n",
        "random_number = np.random.randint(1,10)\n",
        "print(random_number)"
      ],
      "metadata": {
        "id": "dhhfe2TNjnpA"
      }
    },
    {
      "cell_type": "code",
      "source": [],
      "metadata": {
        "id": "t1NWjtBBkok6"
      },
      "execution_count": null,
      "outputs": []
    }
  ]
}