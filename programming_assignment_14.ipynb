{
  "nbformat": 4,
  "nbformat_minor": 0,
  "metadata": {
    "colab": {
      "provenance": []
    },
    "kernelspec": {
      "name": "python3",
      "display_name": "Python 3"
    },
    "language_info": {
      "name": "python"
    }
  },
  "cells": [
    {
      "cell_type": "code",
      "execution_count": 3,
      "metadata": {
        "id": "ke5s69W2buLI"
      },
      "outputs": [],
      "source": [
        "\n"
      ]
    },
    {
      "cell_type": "markdown",
      "source": [
        "Question 1:\n",
        "Define a class with a generator which can iterate the numbers, which are divisible by\n",
        "7, between a given range 0 and n.\n",
        "answer:-\n",
        "class DivisibleBy7Generator:\n",
        "  def __init__(self, n):\n",
        "    self.n = n\n",
        "    self.current_number = 0\n",
        "\n",
        "  def __iter__(self):\n",
        "    return self\n",
        "\n",
        "  def __next__(self):\n",
        "    if self.current_number >= self.n:\n",
        "      raise StopIteration\n",
        "\n",
        "    # Find the next number divisible by 7.\n",
        "    while self.current_number % 7 != 0:\n",
        "      self.current_number += 1\n",
        "\n",
        "    # Yield the number.\n",
        "    yield self.current_number\n",
        "\n",
        "    # Increment the current number.\n",
        "    self.current_number += 1\n",
        "\n",
        "|"
      ],
      "metadata": {
        "id": "DihFVMK_b2f-"
      }
    },
    {
      "cell_type": "code",
      "source": [],
      "metadata": {
        "id": "uVq4UrDHdpfA"
      },
      "execution_count": null,
      "outputs": []
    },
    {
      "cell_type": "markdown",
      "source": [
        "Question 2:\n",
        "Write a program to compute the frequency of the words from the input. The output\n",
        "should output after sorting the key alphanumerically.\n",
        "Suppose the following input is supplied to the program:\n",
        "New to Python or choosing between Python 2 and Python 3? Read Python 2 or\n",
        "Python 3.\n",
        "Then, the output should be:\n",
        "2:2\n",
        "3.:1\n",
        "3?:1\n",
        "New:1\n",
        "Python:5\n",
        "Read:1\n",
        "and:1\n",
        "between:1\n",
        "choosing:1\n",
        "or:2\n",
        "to:1\n",
        "answer:-\n",
        "def compute_word_frequency(text):\n",
        "  \"\"\"Computes the frequency of the words from the given text.\n",
        "\n",
        "  Args:\n",
        "    text: A string representing the text to compute the word frequency from.\n",
        "\n",
        "  Returns:\n",
        "    A dictionary mapping words to their frequencies.\n",
        "  \"\"\"\n",
        "\n",
        "  word_frequency = {}\n",
        "  for word in text.split():\n",
        "    if word not in word_frequency:\n",
        "      word_frequency[word] = 0\n",
        "    word_frequency[word] += 1\n",
        "\n",
        "  return word_frequency\n",
        "\n",
        "def sort_word_frequency(word_frequency):\n",
        "  \"\"\"Sorts the given word frequency dictionary by key alphanumerically.\n",
        "\n",
        "  Args:\n",
        "    word_frequency: A dictionary mapping words to their frequencies.\n",
        "\n",
        "  Returns:\n",
        "    A list of tuples, where each tuple contains a word and its frequency.\n",
        "  \"\"\"\n",
        "\n",
        "  sorted_word_frequency = []\n",
        "  for word, frequency in word_frequency.items():\n",
        "    sorted_word_frequency.append((word, frequency))\n",
        "\n",
        "  sorted_word_frequency.sort()\n",
        "  return sorted_word_frequency\n",
        "\n",
        "def print_word_frequency(sorted_word_frequency):\n",
        "  \"\"\"Prints the given sorted word frequency list.\n",
        "\n",
        "  Args:\n",
        "    sorted_word_frequency: A list of tuples, where each tuple contains a word and its frequency.\n",
        "  \"\"\"\n",
        "\n",
        "  for word, frequency in sorted_word_frequency:\n",
        "    print(f\"{frequency}:{word}\")\n",
        "\n",
        "# Get the input text.\n",
        "input_text = \"New to Python or choosing between Python 2 and Python 3? Read Python 2 or Python 3.\"\n",
        "\n",
        "# Compute the word frequency.\n",
        "word_frequency = compute_word_frequency(input_text)\n",
        "\n",
        "# Sort the word frequency.\n",
        "sorted_word_frequency = sort_word_frequency(word_frequency)\n",
        "\n",
        "# Print the word frequency.\n",
        "print_word_frequency(sorted_word_frequency)\n"
      ],
      "metadata": {
        "id": "a2h3l4JzecYe"
      }
    },
    {
      "cell_type": "code",
      "source": [],
      "metadata": {
        "id": "G7BittizekoP"
      },
      "execution_count": null,
      "outputs": []
    },
    {
      "cell_type": "markdown",
      "source": [
        "Question 3:\n",
        "\n",
        "Define a class Person and its two child classes: Male and Female. All classes have a\n",
        "method &quot;getGender&quot; which can print &quot;Male&quot; for Male class and &quot;Female&quot; for Female\n",
        "class.\n",
        "answer:-\n",
        "class Person:\n",
        "  def getGender(self):\n",
        "    pass\n",
        "\n",
        "class Male(Person):\n",
        "  def getGender(self):\n",
        "    print(\"Male\")\n",
        "\n",
        "class Female(Person):\n",
        "  def getGender(self):\n",
        "    print(\"Female\")\n",
        "\n",
        "# Create an instance of the Male class.\n",
        "male = Male()\n",
        "\n",
        "# Call the getGender() method.\n",
        "male.getGender()\n",
        "\n",
        "# Create an instance of the Female class.\n",
        "female = Female()\n",
        "\n",
        "# Call the getGender() method.\n",
        "female.getGender()\n"
      ],
      "metadata": {
        "id": "nsJ9h_JHepJt"
      }
    },
    {
      "cell_type": "code",
      "source": [],
      "metadata": {
        "id": "Rvzbv-V9e4Zs"
      },
      "execution_count": null,
      "outputs": []
    },
    {
      "cell_type": "markdown",
      "source": [
        "Question 4:\n",
        "Please write a program to generate all sentences where subject is in [&quot;I&quot;, &quot;You&quot;] and\n",
        "verb is in [&quot;Play&quot;, &quot;Love&quot;] and the object is in [&quot;Hockey&quot;,&quot;Football&quot;].\n",
        "answer:-\n",
        "subjects = [\"I\", \"You\"]\n",
        "verbs = [\"Play\", \"Love\"]\n",
        "objects = [\"Hockey\", \"Football\"]\n",
        "\n",
        "sentences = []\n",
        "for subject in subjects:\n",
        "  for verb in verbs:\n",
        "    for object in objects:\n",
        "      sentence = f\"{subject} {verb} {object}\"\n",
        "      sentences.append(sentence)\n",
        "\n",
        "print(sentences)\n"
      ],
      "metadata": {
        "id": "DwhSiXlKe7XF"
      }
    },
    {
      "cell_type": "code",
      "source": [],
      "metadata": {
        "id": "10fQxOKPfEHo"
      },
      "execution_count": null,
      "outputs": []
    },
    {
      "cell_type": "markdown",
      "source": [
        "Question 5:\n",
        "Please write a program to compress and decompress the string &quot;hello world!hello\n",
        "world!hello world!hello world!&quot;.\n",
        "answer:-\n",
        "import zlib\n",
        "\n",
        "def compress(string):\n",
        "  \"\"\"Compresses the given string using the zlib library.\n",
        "\n",
        "  Args:\n",
        "    string: A string representing the string to compress.\n",
        "\n",
        "  Returns:\n",
        "    A bytes object representing the compressed string.\n",
        "  \"\"\"\n",
        "\n",
        "  compressed_string = zlib.compress(string.encode())\n",
        "  return compressed_string\n",
        "\n",
        "def decompress(compressed_string):\n",
        "  \"\"\"Decompresses the given compressed string using the zlib library.\n",
        "\n",
        "  Args:\n",
        "    compressed_string: A bytes object representing the compressed string to decompress.\n",
        "\n",
        "  Returns:\n",
        "    A string representing the decompressed string.\n",
        "  \"\"\"\n",
        "\n",
        "  decompressed_string = zlib.decompress(compressed_string).decode()\n",
        "  return decompressed_string\n",
        "\n",
        "# Compress the string.\n",
        "compressed_string = compress(\"hello world!hello world!hello world!hello world!\")\n",
        "\n",
        "# Decompress the string.\n",
        "decompressed_string = decompress(compressed_string)\n",
        "\n",
        "# Print the compressed and decompressed strings.\n",
        "print(\"Compressed string:\", compressed_string)\n",
        "print(\"Decompressed string:\", decompressed_string)\n"
      ],
      "metadata": {
        "id": "G-u1J1DzfG6T"
      }
    },
    {
      "cell_type": "code",
      "source": [],
      "metadata": {
        "id": "9sS89_bQfPlT"
      },
      "execution_count": null,
      "outputs": []
    },
    {
      "cell_type": "markdown",
      "source": [
        "Question 6:\n",
        "Please write a binary search function which searches an item in a sorted list. The\n",
        "function should return the index of element to be searched in the list.\n",
        "answer:-\n",
        "def binary_search(list, item):\n",
        "  \"\"\"Searches for an item in a sorted list using the binary search algorithm.\n",
        "\n",
        "  Args:\n",
        "    list: A sorted list representing the list to search in.\n",
        "    item: The item to search for.\n",
        "\n",
        "  Returns:\n",
        "    The index of the item in the list, or -1 if the item is not in the list.\n",
        "  \"\"\"\n",
        "\n",
        "  low = 0\n",
        "  high = len(list) - 1\n",
        "\n",
        "  while low <= high:\n",
        "    mid = (low + high) // 2\n",
        "    if list[mid] == item:\n",
        "      return mid\n",
        "    elif list[mid] < item:\n",
        "      low = mid + 1\n",
        "    else:\n",
        "      high = mid - 1\n",
        "\n",
        "  return -1\n",
        "\n",
        "# Example usage:\n",
        "\n",
        "list = [1, 3, 5, 7, 9]\n",
        "item = 5\n",
        "\n",
        "index = binary_search(list, item)\n",
        "\n",
        "if index != -1:\n",
        "  print(\"The item is at index\", index)\n",
        "else:\n",
        "  print(\"The item is not in the list\")\n"
      ],
      "metadata": {
        "id": "DHjHuEu9fRyM"
      }
    },
    {
      "cell_type": "code",
      "source": [],
      "metadata": {
        "id": "2NSgBOX5fauA"
      },
      "execution_count": null,
      "outputs": []
    }
  ]
}