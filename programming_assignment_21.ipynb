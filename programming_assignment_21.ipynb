{
  "nbformat": 4,
  "nbformat_minor": 0,
  "metadata": {
    "colab": {
      "provenance": []
    },
    "kernelspec": {
      "name": "python3",
      "display_name": "Python 3"
    },
    "language_info": {
      "name": "python"
    }
  },
  "cells": [
    {
      "cell_type": "code",
      "execution_count": 5,
      "metadata": {
        "colab": {
          "base_uri": "https://localhost:8080/"
        },
        "id": "RfC1TNULXn9D",
        "outputId": "cf200bed-167f-4d49-c5df-bd247abf4630"
      },
      "outputs": [
        {
          "output_type": "stream",
          "name": "stdout",
          "text": [
            "[6, 7, 8, 9, 1]\n",
            "[6, 3, 23, 17, 10]\n",
            "[10, 20, 42, 6]\n",
            "No list has been selected\n"
          ]
        }
      ],
      "source": [
        "def next_in_line(a,b):\n",
        "  if len(a)>0:\n",
        "    a.pop(0)\n",
        "    a.append(b)\n",
        "  else:\n",
        "    return 'No list has been selected'\n",
        "  return a\n",
        "print(next_in_line([5, 6, 7, 8, 9], 1))\n",
        "print(next_in_line([7, 6, 3, 23, 17], 10))\n",
        "print(next_in_line([1, 10, 20, 42 ], 6))\n",
        "print(next_in_line([], 6))\n"
      ]
    },
    {
      "cell_type": "markdown",
      "source": [
        "Question1\n",
        "Write a function that takes a list and a number as arguments. Add the number to the end of\n",
        "the list, then remove the first element of the list. The function should then return the updated\n",
        "list.\n",
        "Examples\n",
        "next_in_line([5, 6, 7, 8, 9], 1) ➞ [6, 7, 8, 9, 1]\n",
        "next_in_line([7, 6, 3, 23, 17], 10) ➞ [6, 3, 23, 17, 10]\n",
        "next_in_line([1, 10, 20, 42 ], 6) ➞ [10, 20, 42, 6]\n",
        "next_in_line([], 6) ➞ &quot;No list has been selected&quot;\n",
        "answer:-\n",
        "def next_in_line(a,b):\n",
        "  if len(a)>0:\n",
        "    a.pop(0)\n",
        "    a.append(b)\n",
        "  else:\n",
        "    return 'No list has been selected'\n",
        "  return a\n",
        "print(next_in_line([5, 6, 7, 8, 9], 1))\n",
        "print(next_in_line([7, 6, 3, 23, 17], 10))\n",
        "print(next_in_line([1, 10, 20, 42 ], 6))\n",
        "print(next_in_line([], 6))\n"
      ],
      "metadata": {
        "id": "YV-DuQqqXu_d"
      }
    },
    {
      "cell_type": "code",
      "source": [
        "def get_budgets(a):\n",
        "   sum=0\n",
        "   for i in a:\n",
        "    sum+=i['budget']\n",
        "   return sum\n",
        "\n",
        "\n",
        "get_budgets([\n",
        "{ 'name': 'John', 'age': 21, 'budget': 23000 },\n",
        "{ 'name': 'Steve', 'age': 32, 'budget': 40000 },\n",
        "{ 'name': 'Martin', 'age': 16, 'budget': 2700 }\n",
        "])\n",
        "get_budgets([\n",
        "{ 'name': 'John', 'age': 21, 'budget': 29000 },\n",
        "{ 'name': 'Steve', 'age': 32, 'budget': 32000 },\n",
        "{ 'name': 'Martin', 'age': 16, 'budget': 1600 }\n",
        "])"
      ],
      "metadata": {
        "colab": {
          "base_uri": "https://localhost:8080/"
        },
        "id": "vcJPnfsgZ6rt",
        "outputId": "ee68af4f-3614-4257-cf54-7537c31feba4"
      },
      "execution_count": 17,
      "outputs": [
        {
          "output_type": "execute_result",
          "data": {
            "text/plain": [
              "62600"
            ]
          },
          "metadata": {},
          "execution_count": 17
        }
      ]
    },
    {
      "cell_type": "code",
      "source": [],
      "metadata": {
        "id": "shTqTB7Gdg6V"
      },
      "execution_count": null,
      "outputs": []
    },
    {
      "cell_type": "markdown",
      "source": [
        "Question2\n",
        "Create the function that takes a list of dictionaries and returns the sum of people&#39;s budgets.\n",
        "Examples\n",
        "get_budgets([\n",
        "{ &quot;name&quot;: &quot;John&quot;, &quot;age&quot;: 21, &quot;budget&quot;: 23000 },\n",
        "{ &quot;name&quot;: &quot;Steve&quot;, &quot;age&quot;: 32, &quot;budget&quot;: 40000 },\n",
        "{ &quot;name&quot;: &quot;Martin&quot;, &quot;age&quot;: 16, &quot;budget&quot;: 2700 }\n",
        "]) ➞ 65700\n",
        "get_budgets([\n",
        "{ &quot;name&quot;: &quot;John&quot;, &quot;age&quot;: 21, &quot;budget&quot;: 29000 },\n",
        "{ &quot;name&quot;: &quot;Steve&quot;, &quot;age&quot;: 32, &quot;budget&quot;: 32000 },\n",
        "{ &quot;name&quot;: &quot;Martin&quot;, &quot;age&quot;: 16, &quot;budget&quot;: 1600 }\n",
        "]) ➞ 62600\n",
        "answer:-\n",
        "def get_budgets(a):\n",
        "   sum=0\n",
        "   for i in a:\n",
        "    sum+=i['budget']\n",
        "   return sum\n",
        "\n",
        "\n",
        "get_budgets([\n",
        "{ 'name': 'John', 'age': 21, 'budget': 23000 },\n",
        "{ 'name': 'Steve', 'age': 32, 'budget': 40000 },\n",
        "{ 'name': 'Martin', 'age': 16, 'budget': 2700 }\n",
        "])\n",
        "get_budgets([\n",
        "{ 'name': 'John', 'age': 21, 'budget': 29000 },\n",
        "{ 'name': 'Steve', 'age': 32, 'budget': 32000 },\n",
        "{ 'name': 'Martin', 'age': 16, 'budget': 1600 }\n",
        "])"
      ],
      "metadata": {
        "id": "LVpmOX13aEJ-"
      }
    },
    {
      "cell_type": "code",
      "source": [],
      "metadata": {
        "id": "7zHkIqKeb-03"
      },
      "execution_count": null,
      "outputs": []
    },
    {
      "cell_type": "markdown",
      "source": [
        "Question3\n",
        "Create a function that takes a string and returns a string with its letters in alphabetical order.\n",
        "Examples\n",
        "alphabet_soup(&quot;hello&quot;) ➞ &quot;ehllo&quot;\n",
        "alphabet_soup(&quot;edabit&quot;) ➞ &quot;abdeit&quot;\n",
        "alphabet_soup(&quot;hacker&quot;) ➞ &quot;acehkr&quot;\n",
        "alphabet_soup(&quot;geek&quot;) ➞ &quot;eegk&quot;\n",
        "alphabet_soup(&quot;javascript&quot;) ➞ &quot;aacijprstv&quot;\n",
        "answer:-\n",
        "def alphabet_soup(input_str):\n",
        "    # Convert the string to a list of characters, sort them, and join them back into a string\n",
        "    sorted_str = ''.join(sorted(input_str))\n",
        "    return sorted_str\n",
        "\n",
        "# Test cases\n",
        "print(alphabet_soup(\"hello\"))      # Output: \"ehllo\"\n",
        "print(alphabet_soup(\"edabit\"))     # Output: \"abdeit\"\n",
        "print(alphabet_soup(\"hacker\"))     # Output: \"acehkr\"\n",
        "print(alphabet_soup(\"geek\"))       # Output: \"eegk\"\n",
        "print(alphabet_soup(\"javascript\")) # Output: \"aacijprstv\"\n"
      ],
      "metadata": {
        "id": "PX8CNUqjdsXV"
      }
    },
    {
      "cell_type": "code",
      "source": [],
      "metadata": {
        "id": "mx2T9n1vdyVc"
      },
      "execution_count": null,
      "outputs": []
    },
    {
      "cell_type": "markdown",
      "source": [
        "Question4\n",
        "Suppose that you invest $10,000 for 10 years at an interest rate of 6% compounded monthly.\n",
        "What will be the value of your investment at the end of the 10 year period?\n",
        "Create a function that accepts the principal p, the term in years t, the interest rate r, and the\n",
        "number of compounding periods per year n. The function returns the value at the end of term\n",
        "rounded to the nearest cent.\n",
        "For the example above:\n",
        "compound_interest(10000, 10, 0.06, 12) ➞ 18193.97\n",
        "Note that the interest rate is given as a decimal and n=12 because with monthly compounding\n",
        "there are 12 periods per year. Compounding can also be done annually, quarterly, weekly, or\n",
        "daily.\n",
        "Examples\n",
        "compound_interest(100, 1, 0.05, 1) ➞ 105.0\n",
        "compound_interest(3500, 15, 0.1, 4) ➞ 15399.26\n",
        "compound_interest(100000, 20, 0.15, 365) ➞ 2007316.26\n",
        "answer:-\n",
        "def compound_interest(p, t, r, n):\n",
        "    # Calculate the final amount\n",
        "    A = p * (1 + (r / n)) ** (n * t)\n",
        "    \n",
        "    # Round the result to the nearest cent (2 decimal places)\n",
        "    A_rounded = round(A, 2)\n",
        "    \n",
        "    return A_rounded\n",
        "\n",
        "# Test cases\n",
        "print(compound_interest(10000, 10, 0.06, 12))    # Output: 18193.97\n",
        "print(compound_interest(100, 1, 0.05, 1))       # Output: 105.0\n",
        "print(compound_interest(3500, 15, 0.1, 4))      # Output: 15399.26\n",
        "print(compound_interest(100000, 20, 0.15, 365))  # Output: 2007316.26\n"
      ],
      "metadata": {
        "id": "kIouNczfd3bd"
      }
    },
    {
      "cell_type": "code",
      "source": [],
      "metadata": {
        "id": "TuLj7ztvd_ct"
      },
      "execution_count": null,
      "outputs": []
    },
    {
      "cell_type": "markdown",
      "source": [
        "Question5\n",
        "Write a function that takes a list of elements and returns only the integers.\n",
        "Examples\n",
        "return_only_integer([9, 2, &quot;space&quot;, &quot;car&quot;, &quot;lion&quot;, 16]) ➞ [9, 2, 16]\n",
        "return_only_integer([&quot;hello&quot;, 81, &quot;basketball&quot;, 123, &quot;fox&quot;]) ➞ [81, 123]\n",
        "return_only_integer([10, &quot;121&quot;, 56, 20, &quot;car&quot;, 3, &quot;lion&quot;]) ➞ [10, 56, 20,\n",
        "3]\n",
        "return_only_integer([&quot;String&quot;, True, 3.3, 1]) ➞ [1]\n",
        "answer:-\n",
        "def return_only_integer(lst):\n",
        "    # Initialize an empty list to store the integers\n",
        "    integers = []\n",
        "    \n",
        "    # Iterate through the elements in the input list\n",
        "    for element in lst:\n",
        "        # Check if the element is an integer\n",
        "        if isinstance(element, int):\n",
        "            integers.append(element)\n",
        "    \n",
        "    return integers\n",
        "\n",
        "# Test cases\n",
        "print(return_only_integer([9, 2, \"space\", \"car\", \"lion\", 16]))  # Output: [9, 2, 16]\n",
        "print(return_only_integer([\"hello\", 81, \"basketball\", 123, \"fox\"]))  # Output: [81, 123]\n",
        "print(return_only_integer([10, \"121\", 56, 20, \"car\", 3, \"lion\"]))  # Output: [10, 56, 20, 3]\n",
        "print(return_only_integer([\"String\", True, 3.3, 1]))  # Output: [1]\n"
      ],
      "metadata": {
        "id": "5u3uJzVIeDMt"
      }
    },
    {
      "cell_type": "code",
      "source": [],
      "metadata": {
        "id": "9l8f2xI_eK4N"
      },
      "execution_count": null,
      "outputs": []
    }
  ]
}