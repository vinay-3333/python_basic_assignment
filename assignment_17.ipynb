{
  "nbformat": 4,
  "nbformat_minor": 0,
  "metadata": {
    "colab": {
      "provenance": []
    },
    "kernelspec": {
      "name": "python3",
      "display_name": "Python 3"
    },
    "language_info": {
      "name": "python"
    }
  },
  "cells": [
    {
      "cell_type": "code",
      "execution_count": null,
      "metadata": {
        "id": "wvfqLl1JHhzP"
      },
      "outputs": [],
      "source": []
    },
    {
      "cell_type": "markdown",
      "source": [
        "1. Assign the value 7 to the variable guess_me. Then, write the conditional tests (if, else, and elif) to\n",
        "print the string &#39;too low&#39; if guess_me is less than 7, &#39;too high&#39; if greater than 7, and &#39;just right&#39; if equal\n",
        "to 7.\n",
        "answer:-\n",
        "guess_me = 7\n",
        "\n",
        "if guess_me < 7:\n",
        "  print('too low')\n",
        "elif guess_me > 7:\n",
        "  print('too high')\n",
        "else:\n",
        "  print('just right')\n"
      ],
      "metadata": {
        "id": "qRDstMf2HlMO"
      }
    },
    {
      "cell_type": "code",
      "source": [],
      "metadata": {
        "id": "JWs2BZG4Hql5"
      },
      "execution_count": null,
      "outputs": []
    },
    {
      "cell_type": "markdown",
      "source": [
        "2. Assign the value 7 to the variable guess_me and the value 1 to the variable start. Write a while\n",
        "loop that compares start with guess_me. Print too low if start is less than guess me. If start equals\n",
        "guess_me, print &#39;found it!&#39; and exit the loop. If start is greater than guess_me, print &#39;oops&#39; and exit\n",
        "the loop. Increment start at the end of the loop.\n",
        "answer:-\n",
        "guess_me = 7\n",
        "start = 1\n",
        "\n",
        "while start != guess_me:\n",
        "  if start < guess_me:\n",
        "    print('too low')\n",
        "  elif start > guess_me:\n",
        "    print('oops')\n",
        "  start += 1\n",
        "\n",
        "print('found it!')"
      ],
      "metadata": {
        "id": "suF9zRxGHrDX"
      }
    },
    {
      "cell_type": "code",
      "source": [],
      "metadata": {
        "id": "TKBxPZOZIFxp"
      },
      "execution_count": null,
      "outputs": []
    },
    {
      "cell_type": "markdown",
      "source": [
        "3. Print the following values of the list [3, 2, 1, 0] using a for loop.\n",
        "answer:-\n",
        "list1 = [3, 2, 1, 0]\n",
        "\n",
        "for i in list1:\n",
        "  print(i)"
      ],
      "metadata": {
        "id": "0fXh4v4gIGLn"
      }
    },
    {
      "cell_type": "code",
      "source": [],
      "metadata": {
        "id": "UVSdTfCuIN0I"
      },
      "execution_count": null,
      "outputs": []
    },
    {
      "cell_type": "markdown",
      "source": [
        "4. Use a list comprehension to make a list of the even numbers in range(10)\n",
        "answer:-\n",
        "even_numbers = [x for x in range(10) if x % 2 == 0]"
      ],
      "metadata": {
        "id": "BoGnCPF5IOO-"
      }
    },
    {
      "cell_type": "code",
      "source": [],
      "metadata": {
        "id": "LiXBX-7JIbu4"
      },
      "execution_count": null,
      "outputs": []
    },
    {
      "cell_type": "markdown",
      "source": [
        "5. Use a dictionary comprehension to create the dictionary squares. Use range(10) to return the\n",
        "keys, and use the square of each key as its value.\n",
        "answer:-\n",
        "squares = {x: x**2 for x in range(10)}"
      ],
      "metadata": {
        "id": "cDvtK0-8IcGu"
      }
    },
    {
      "cell_type": "code",
      "source": [],
      "metadata": {
        "id": "A97zdKNnIpLw"
      },
      "execution_count": null,
      "outputs": []
    },
    {
      "cell_type": "markdown",
      "source": [
        "6. Construct the set odd from the odd numbers in the range using a set comprehension (10).\n",
        "answer:-\n",
        "odd = {x for x in range(10) if x % 2 != 0}"
      ],
      "metadata": {
        "id": "rEJx58PTIpqu"
      }
    },
    {
      "cell_type": "code",
      "source": [],
      "metadata": {
        "id": "VijzC8Z0I1pZ"
      },
      "execution_count": null,
      "outputs": []
    },
    {
      "cell_type": "markdown",
      "source": [
        "7. Use a generator comprehension to return the string &#39;Got &#39; and a number for the numbers in\n",
        "range(10). Iterate through this by using a for loop.\n",
        "answer:-\n",
        "def generator_comprehension(n):\n",
        "  \"\"\"Yields the string 'Got ' and a number for the numbers in range(n).\"\"\"\n",
        "  for i in range(n):\n",
        "    yield f'Got {i}'\n",
        "\n",
        "# Iterate through the generator comprehension using a for loop\n",
        "for item in generator_comprehension(10):\n",
        "  print(item)"
      ],
      "metadata": {
        "id": "F3yHFgJmI4CP"
      }
    },
    {
      "cell_type": "code",
      "source": [],
      "metadata": {
        "id": "IbiJbwhxJM4R"
      },
      "execution_count": null,
      "outputs": []
    },
    {
      "cell_type": "markdown",
      "source": [
        "8. Define a function called good that returns the list [&#39;Harry&#39;, &#39;Ron&#39;, &#39;Hermione&#39;].\n",
        "answer:-\n",
        "def good():\n",
        "  \"\"\"Returns the list ['Harry', 'Ron', 'Hermione'].\"\"\"\n",
        "  return ['Harry', 'Ron', 'Hermione']"
      ],
      "metadata": {
        "id": "tB07YWXLJRQP"
      }
    },
    {
      "cell_type": "code",
      "source": [],
      "metadata": {
        "id": "NDnvx1A-JbK4"
      },
      "execution_count": null,
      "outputs": []
    },
    {
      "cell_type": "markdown",
      "source": [
        "9. Define a generator function called get_odds that returns the odd numbers from range(10). Use a\n",
        "for loop to find and print the third value returned.\n",
        "answer:-\n",
        "def get_odds():\n",
        "  \"\"\"Returns the odd numbers from range(10).\"\"\"\n",
        "  for i in range(10):\n",
        "    if i % 2 != 0:\n",
        "      yield i\n",
        "\n",
        "# Find and print the third value returned by the generator function\n",
        "for i, value in enumerate(get_odds()):\n",
        "  if i == 2:\n",
        "    print(value)"
      ],
      "metadata": {
        "id": "Kihae1f1Jbjv"
      }
    },
    {
      "cell_type": "code",
      "source": [],
      "metadata": {
        "id": "6VxLW8xlJ0hB"
      },
      "execution_count": null,
      "outputs": []
    },
    {
      "cell_type": "markdown",
      "source": [
        "10. Define an exception called OopsException. Raise this exception to see what happens. Then write\n",
        "the code to catch this exception and print &#39;Caught an oops&#39;.\n",
        "answer:-\n",
        "class OopsException(Exception):\n",
        "  pass\n",
        "\n",
        "def raise_oops_exception():\n",
        "  raise OopsException()\n",
        "\n",
        "try:\n",
        "  raise_oops_exception()\n",
        "except OopsException:\n",
        "  print('Caught an oops')"
      ],
      "metadata": {
        "id": "nddZ5IDnJ28f"
      }
    },
    {
      "cell_type": "code",
      "source": [],
      "metadata": {
        "id": "4xWBdhECKDrp"
      },
      "execution_count": null,
      "outputs": []
    },
    {
      "cell_type": "markdown",
      "source": [
        "11. Use zip() to make a dictionary called movies that pairs these lists: titles = [&#39;Creature of Habit&#39;,\n",
        "&#39;Crewel Fate&#39;] and plots = [&#39;A nun turns into a monster&#39;, &#39;A haunted yarn shop&#39;].\n",
        "answer:-\n",
        "titles = ['Creature of Habit', 'Crewel Fate']\n",
        "plots = ['A nun turns into a monster', 'A haunted yarn shop']\n",
        "\n",
        "movies = dict(zip(titles, plots))\n",
        "\n",
        "print(movies)"
      ],
      "metadata": {
        "id": "AoX9jNH-KGYX"
      }
    },
    {
      "cell_type": "code",
      "source": [],
      "metadata": {
        "id": "O0ntdtiwKWUY"
      },
      "execution_count": null,
      "outputs": []
    }
  ]
}